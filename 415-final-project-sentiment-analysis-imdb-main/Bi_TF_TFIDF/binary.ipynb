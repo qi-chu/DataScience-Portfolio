{
 "cells": [
  {
   "cell_type": "code",
   "execution_count": 1,
   "id": "a157b761",
   "metadata": {},
   "outputs": [
    {
     "name": "stderr",
     "output_type": "stream",
     "text": [
      "/usr/local/lib/python3.8/dist-packages/gensim/similarities/__init__.py:15: UserWarning: The gensim.similarities.levenshtein submodule is disabled, because the optional Levenshtein package <https://pypi.org/project/python-Levenshtein/> is unavailable. Install Levenhstein (e.g. `pip install python-Levenshtein`) to suppress this warning.\n",
      "  warnings.warn(msg)\n"
     ]
    }
   ],
   "source": [
    "import pandas as pd\n",
    "import os\n",
    "from os.path import isfile, join\n",
    "import time\n",
    "import re\n",
    "import numpy as np\n",
    "import pandas as pd\n",
    "import re\n",
    "import pickle\n",
    "import pandas as pd\n",
    "import itertools\n",
    "from collections import Counter\n",
    "import numpy as np\n",
    "from nltk import word_tokenize\n",
    "from nltk.corpus import stopwords\n",
    "from gensim.models import word2vec\n",
    "from sklearn.linear_model import LogisticRegression\n",
    "import os\n",
    "import string"
   ]
  },
  {
   "cell_type": "code",
   "execution_count": 2,
   "id": "48f177a7",
   "metadata": {},
   "outputs": [],
   "source": [
    "import pickle\n",
    "LG = pickle.load(open('lg.sav', 'rb'))"
   ]
  },
  {
   "cell_type": "code",
   "execution_count": 3,
   "id": "884ad2e2",
   "metadata": {},
   "outputs": [],
   "source": [
    "import tarfile\n",
    "fname = \"aclImdb_v1.tar.gz\"\n",
    "if fname.endswith(\"tar.gz\"):\n",
    "    tar = tarfile.open(fname, \"r:gz\")\n",
    "    tar.extractall()\n",
    "    tar.close()"
   ]
  },
  {
   "cell_type": "code",
   "execution_count": 4,
   "id": "c85c2b7f",
   "metadata": {},
   "outputs": [
    {
     "data": {
      "text/plain": [
       "['binary_f.csv',\n",
       " 'IMDB.ipynb',\n",
       " 'aclImdb_v1.tar.gz',\n",
       " 'lg.sav',\n",
       " '.ipynb_checkpoints',\n",
       " 'aclImdb']"
      ]
     },
     "execution_count": 4,
     "metadata": {},
     "output_type": "execute_result"
    }
   ],
   "source": [
    "os.getcwd()\n",
    "os.listdir()"
   ]
  },
  {
   "cell_type": "code",
   "execution_count": 3,
   "id": "6c3d8c93",
   "metadata": {},
   "outputs": [],
   "source": [
    "filePath = [ \"./aclImdb/test/\", \"./aclImdb/train/\"]\n",
    "tag = [ \"neg/\",\"pos/\"]\n",
    "for i in filePath:\n",
    "    for j in tag:\n",
    "        start = time.time()\n",
    "        path = i+j\n",
    "        onlyfiles = [f for f in os.listdir(path) if isfile(join(path, f))]\n",
    "# onlyfiles"
   ]
  },
  {
   "cell_type": "code",
   "execution_count": 4,
   "id": "fd09ebd1",
   "metadata": {},
   "outputs": [],
   "source": [
    "Xtrain = []\n",
    "ytrain = [1] * len(onlyfiles)\n",
    "filedir = \"./aclImdb/train/pos/\"\n",
    "for file in onlyfiles:\n",
    "    path = filedir + file\n",
    "    rating = re.findall(\"[0-9]+_([0-9]+).txt\", file)[0]\n",
    "    with open(path, \"r\") as f:\n",
    "        contents = f.read()\n",
    "        Xtrain.append([contents, rating])"
   ]
  },
  {
   "cell_type": "code",
   "execution_count": 5,
   "id": "94925335",
   "metadata": {},
   "outputs": [
    {
     "data": {
      "text/html": [
       "<div>\n",
       "<style scoped>\n",
       "    .dataframe tbody tr th:only-of-type {\n",
       "        vertical-align: middle;\n",
       "    }\n",
       "\n",
       "    .dataframe tbody tr th {\n",
       "        vertical-align: top;\n",
       "    }\n",
       "\n",
       "    .dataframe thead th {\n",
       "        text-align: right;\n",
       "    }\n",
       "</style>\n",
       "<table border=\"1\" class=\"dataframe\">\n",
       "  <thead>\n",
       "    <tr style=\"text-align: right;\">\n",
       "      <th></th>\n",
       "      <th>text</th>\n",
       "      <th>rating</th>\n",
       "      <th>label</th>\n",
       "    </tr>\n",
       "  </thead>\n",
       "  <tbody>\n",
       "    <tr>\n",
       "      <th>0</th>\n",
       "      <td>The very first image of the movie shows a moun...</td>\n",
       "      <td>8</td>\n",
       "      <td>1</td>\n",
       "    </tr>\n",
       "    <tr>\n",
       "      <th>1</th>\n",
       "      <td>I saw the The Bourne Ultimatum last summer wit...</td>\n",
       "      <td>9</td>\n",
       "      <td>1</td>\n",
       "    </tr>\n",
       "    <tr>\n",
       "      <th>2</th>\n",
       "      <td>This show is so incredibly hilarious that I co...</td>\n",
       "      <td>10</td>\n",
       "      <td>1</td>\n",
       "    </tr>\n",
       "    <tr>\n",
       "      <th>3</th>\n",
       "      <td>Rod Serling was, of course, a genius and his w...</td>\n",
       "      <td>8</td>\n",
       "      <td>1</td>\n",
       "    </tr>\n",
       "    <tr>\n",
       "      <th>4</th>\n",
       "      <td>Sure, the plot isn't Oldboy. It seems the only...</td>\n",
       "      <td>9</td>\n",
       "      <td>1</td>\n",
       "    </tr>\n",
       "  </tbody>\n",
       "</table>\n",
       "</div>"
      ],
      "text/plain": [
       "                                                text rating  label\n",
       "0  The very first image of the movie shows a moun...      8      1\n",
       "1  I saw the The Bourne Ultimatum last summer wit...      9      1\n",
       "2  This show is so incredibly hilarious that I co...     10      1\n",
       "3  Rod Serling was, of course, a genius and his w...      8      1\n",
       "4  Sure, the plot isn't Oldboy. It seems the only...      9      1"
      ]
     },
     "execution_count": 5,
     "metadata": {},
     "output_type": "execute_result"
    }
   ],
   "source": [
    "train = pd.DataFrame(Xtrain, columns = [\"text\", 'rating'])\n",
    "train['label'] = ytrain\n",
    "train.head()"
   ]
  },
  {
   "cell_type": "code",
   "execution_count": 6,
   "id": "283fc958",
   "metadata": {},
   "outputs": [
    {
     "name": "stdout",
     "output_type": "stream",
     "text": [
      "Detect 12500 files at the current path:'./aclImdb/test/pos/', time: 0.0888s.\n",
      "Detect 12500 files at the current path:'./aclImdb/test/neg/', time: 0.0815s.\n",
      "Detect 12500 files at the current path:'./aclImdb/train/pos/', time: 0.0816s.\n",
      "Detect 12500 files at the current path:'./aclImdb/train/neg/', time: 0.0816s.\n"
     ]
    }
   ],
   "source": [
    "filePath = [ \"./aclImdb/test/\", \"./aclImdb/train/\"]\n",
    "tag = [ \"pos/\",\"neg/\"]\n",
    "for i in filePath:\n",
    "    for j in tag:\n",
    "        start = time.time()\n",
    "        path = i+j\n",
    "        onlyfiles = [f for f in os.listdir(path) if isfile(join(path, f))]\n",
    "        end = time.time()\n",
    "        print(f\"Detect {len(onlyfiles)} files at the current path:'{path}', time: {round(end-start, 4)}s.\")\n",
    "# onlyfiles"
   ]
  },
  {
   "cell_type": "code",
   "execution_count": 7,
   "id": "d58f7ffc",
   "metadata": {},
   "outputs": [
    {
     "name": "stdout",
     "output_type": "stream",
     "text": [
      "Time :0.3875s.\n"
     ]
    }
   ],
   "source": [
    "Xtrain = []\n",
    "ytrain = [0] * len(onlyfiles)\n",
    "filedir = \"./aclImdb/train/neg/\"\n",
    "start = time.time()\n",
    "for file in onlyfiles:\n",
    "    path = filedir + file\n",
    "    rating = re.findall(\"[0-9]+_([0-9]+).txt\", file)[0]\n",
    "    with open(path, \"r\") as f:\n",
    "        contents = f.read()\n",
    "        Xtrain.append([contents, rating])\n",
    "end = time.time()\n",
    "print(\"Time :{}s.\".format(round(end- start, 4)))"
   ]
  },
  {
   "cell_type": "code",
   "execution_count": 8,
   "id": "3b30deef",
   "metadata": {},
   "outputs": [
    {
     "data": {
      "text/html": [
       "<div>\n",
       "<style scoped>\n",
       "    .dataframe tbody tr th:only-of-type {\n",
       "        vertical-align: middle;\n",
       "    }\n",
       "\n",
       "    .dataframe tbody tr th {\n",
       "        vertical-align: top;\n",
       "    }\n",
       "\n",
       "    .dataframe thead th {\n",
       "        text-align: right;\n",
       "    }\n",
       "</style>\n",
       "<table border=\"1\" class=\"dataframe\">\n",
       "  <thead>\n",
       "    <tr style=\"text-align: right;\">\n",
       "      <th></th>\n",
       "      <th>text</th>\n",
       "      <th>rating</th>\n",
       "      <th>label</th>\n",
       "    </tr>\n",
       "  </thead>\n",
       "  <tbody>\n",
       "    <tr>\n",
       "      <th>0</th>\n",
       "      <td>....ripoff of a dozen better films. Particular...</td>\n",
       "      <td>1</td>\n",
       "      <td>0</td>\n",
       "    </tr>\n",
       "    <tr>\n",
       "      <th>1</th>\n",
       "      <td>'P' (or Club-P) should really be called 'L' fo...</td>\n",
       "      <td>3</td>\n",
       "      <td>0</td>\n",
       "    </tr>\n",
       "    <tr>\n",
       "      <th>2</th>\n",
       "      <td>When his in-laws are viciously murdered by a g...</td>\n",
       "      <td>2</td>\n",
       "      <td>0</td>\n",
       "    </tr>\n",
       "    <tr>\n",
       "      <th>3</th>\n",
       "      <td>Otto Preminger directs this light as a feather...</td>\n",
       "      <td>4</td>\n",
       "      <td>0</td>\n",
       "    </tr>\n",
       "    <tr>\n",
       "      <th>4</th>\n",
       "      <td>About 4 years ago, I liked this movie. I would...</td>\n",
       "      <td>4</td>\n",
       "      <td>0</td>\n",
       "    </tr>\n",
       "  </tbody>\n",
       "</table>\n",
       "</div>"
      ],
      "text/plain": [
       "                                                text rating  label\n",
       "0  ....ripoff of a dozen better films. Particular...      1      0\n",
       "1  'P' (or Club-P) should really be called 'L' fo...      3      0\n",
       "2  When his in-laws are viciously murdered by a g...      2      0\n",
       "3  Otto Preminger directs this light as a feather...      4      0\n",
       "4  About 4 years ago, I liked this movie. I would...      4      0"
      ]
     },
     "execution_count": 8,
     "metadata": {},
     "output_type": "execute_result"
    }
   ],
   "source": [
    "train_neg = pd.DataFrame(Xtrain, columns = [\"text\", 'rating'])\n",
    "train_neg['label'] = ytrain\n",
    "train_neg.head()"
   ]
  },
  {
   "cell_type": "code",
   "execution_count": 9,
   "id": "a1bbbc91",
   "metadata": {},
   "outputs": [],
   "source": [
    "train_total = pd.concat([train,train_neg]).reset_index()\n",
    "train_total = preprocess_df(train_total)"
   ]
  },
  {
   "cell_type": "code",
   "execution_count": 2,
   "id": "7f4f7ec0",
   "metadata": {},
   "outputs": [
    {
     "name": "stderr",
     "output_type": "stream",
     "text": [
      "[nltk_data] Downloading package punkt to /home/jovyan/nltk_data...\n",
      "[nltk_data]   Package punkt is already up-to-date!\n",
      "[nltk_data] Downloading package stopwords to /home/jovyan/nltk_data...\n",
      "[nltk_data]   Package stopwords is already up-to-date!\n"
     ]
    }
   ],
   "source": [
    "import nltk\n",
    "nltk.download('punkt') # downloads a model\n",
    "nltk.download('stopwords') # <--- this is new\n",
    "from nltk.corpus import stopwords\n",
    "stop = set(stopwords.words('english'))\n",
    "from nltk.stem import PorterStemmer \n",
    "\n",
    "ps = PorterStemmer() \n",
    "\n",
    "# return a list of tokens\n",
    "def pre_processing_by_nltk(doc, stemming = True, need_sent = False):\n",
    "    # step 1: get sentences \n",
    "    #sentences = re.sub(r'[^\\w\\s]', ' ', doc)\n",
    "    #sentences = sent_tokenize(sentences)\n",
    "    # step 2: get tokens\n",
    "    #tokens = []\n",
    "    #for sent in sentences:\n",
    "    words = word_tokenize(doc)\n",
    "        # step 3 (optional): stemming\n",
    "    if stemming:\n",
    "        words = [ps.stem(word) for word in words]\n",
    "#     if need_sent:\n",
    "#         tokens.append(words)\n",
    "#     else:\n",
    "#         tokens += words\n",
    "    return [w.lower() for w in words]"
   ]
  },
  {
   "cell_type": "code",
   "execution_count": 14,
   "id": "2bdac15d",
   "metadata": {},
   "outputs": [],
   "source": [
    "def preprocess_df(df):\n",
    "    # get English stopwords\n",
    "    stop_words = set(stopwords.words('english'))\n",
    "    stop_words.add('would')\n",
    "    # prepare translation table to translate punctuation to space\n",
    "    translator = str.maketrans(string.punctuation, ' ' * len(string.punctuation))\n",
    "    preprocessed_sentences = []\n",
    "    for i, row in df.iterrows():\n",
    "        sent = row[\"text\"]\n",
    "        sent_nopuncts = sent.translate(translator)\n",
    "        words_list = sent_nopuncts.strip().split()\n",
    "        filtered_words = [ps.stem(word) for word in words_list if word not in stop_words and len(word) != 1] # also skip space from above translation\n",
    "        preprocessed_sentences.append(\" \".join(filtered_words))\n",
    "    df[\"text\"] = preprocessed_sentences\n",
    "    return df"
   ]
  },
  {
   "cell_type": "code",
   "execution_count": 26,
   "id": "49d8e7b9",
   "metadata": {},
   "outputs": [
    {
     "name": "stdout",
     "output_type": "stream",
     "text": [
      "Detect 12500 files at the current path:'./aclImdb/test/pos/', time: 0.1043s.\n"
     ]
    }
   ],
   "source": [
    "filePath = [ \"./aclImdb/test/\"]\n",
    "tag = [ \"pos/\"]\n",
    "for i in filePath:\n",
    "    for j in tag:\n",
    "        start = time.time()\n",
    "        path = i+j\n",
    "        onlyfiles = [f for f in os.listdir(path) if isfile(join(path, f))]\n",
    "        end = time.time()\n",
    "        print(f\"Detect {len(onlyfiles)} files at the current path:'{path}', time: {round(end-start, 4)}s.\")\n",
    "# onlyfiles"
   ]
  },
  {
   "cell_type": "code",
   "execution_count": 27,
   "id": "e23d354b",
   "metadata": {},
   "outputs": [
    {
     "name": "stdout",
     "output_type": "stream",
     "text": [
      "Time :0.5295s.\n"
     ]
    }
   ],
   "source": [
    "Xtest = []\n",
    "ytest = [1] * len(onlyfiles)\n",
    "filedir = \"./aclImdb/test/pos/\"\n",
    "start = time.time()\n",
    "for file in onlyfiles:\n",
    "    path = filedir + file\n",
    "    rating = re.findall(\"[0-9]+_([0-9]+).txt\", file)[0]\n",
    "    with open(path, \"r\") as f:\n",
    "        contents = f.read()\n",
    "        Xtest.append([contents, rating])\n",
    "end = time.time()\n",
    "print(\"Time :{}s.\".format(round(end- start, 4)))"
   ]
  },
  {
   "cell_type": "code",
   "execution_count": 28,
   "id": "a833e953",
   "metadata": {},
   "outputs": [
    {
     "data": {
      "text/html": [
       "<div>\n",
       "<style scoped>\n",
       "    .dataframe tbody tr th:only-of-type {\n",
       "        vertical-align: middle;\n",
       "    }\n",
       "\n",
       "    .dataframe tbody tr th {\n",
       "        vertical-align: top;\n",
       "    }\n",
       "\n",
       "    .dataframe thead th {\n",
       "        text-align: right;\n",
       "    }\n",
       "</style>\n",
       "<table border=\"1\" class=\"dataframe\">\n",
       "  <thead>\n",
       "    <tr style=\"text-align: right;\">\n",
       "      <th></th>\n",
       "      <th>text</th>\n",
       "      <th>rating</th>\n",
       "      <th>label</th>\n",
       "    </tr>\n",
       "  </thead>\n",
       "  <tbody>\n",
       "    <tr>\n",
       "      <th>0</th>\n",
       "      <td>You think the police are always right.&lt;br /&gt;&lt;b...</td>\n",
       "      <td>9</td>\n",
       "      <td>1</td>\n",
       "    </tr>\n",
       "    <tr>\n",
       "      <th>1</th>\n",
       "      <td>The film is about the battle of Stalingrad. Fo...</td>\n",
       "      <td>8</td>\n",
       "      <td>1</td>\n",
       "    </tr>\n",
       "    <tr>\n",
       "      <th>2</th>\n",
       "      <td>This is my favorite love story it has every el...</td>\n",
       "      <td>10</td>\n",
       "      <td>1</td>\n",
       "    </tr>\n",
       "    <tr>\n",
       "      <th>3</th>\n",
       "      <td>The movie shows many feelings and emotions tha...</td>\n",
       "      <td>10</td>\n",
       "      <td>1</td>\n",
       "    </tr>\n",
       "    <tr>\n",
       "      <th>4</th>\n",
       "      <td>I'm surprised with the amount of negative revi...</td>\n",
       "      <td>8</td>\n",
       "      <td>1</td>\n",
       "    </tr>\n",
       "  </tbody>\n",
       "</table>\n",
       "</div>"
      ],
      "text/plain": [
       "                                                text rating  label\n",
       "0  You think the police are always right.<br /><b...      9      1\n",
       "1  The film is about the battle of Stalingrad. Fo...      8      1\n",
       "2  This is my favorite love story it has every el...     10      1\n",
       "3  The movie shows many feelings and emotions tha...     10      1\n",
       "4  I'm surprised with the amount of negative revi...      8      1"
      ]
     },
     "execution_count": 28,
     "metadata": {},
     "output_type": "execute_result"
    }
   ],
   "source": [
    "test_pos = pd.DataFrame(Xtest, columns = [\"text\", 'rating'])\n",
    "test_pos['label'] = ytest\n",
    "test_pos.head()"
   ]
  },
  {
   "cell_type": "code",
   "execution_count": 29,
   "id": "5482a7f8",
   "metadata": {},
   "outputs": [
    {
     "name": "stdout",
     "output_type": "stream",
     "text": [
      "Detect 12500 files at the current path:'./aclImdb/test/neg/', time: 0.0971s.\n"
     ]
    }
   ],
   "source": [
    "filePath = [ \"./aclImdb/test/\"]\n",
    "tag = [ \"neg/\"]\n",
    "for i in filePath:\n",
    "    for j in tag:\n",
    "        start = time.time()\n",
    "        path = i+j\n",
    "        onlyfiles = [f for f in os.listdir(path) if isfile(join(path, f))]\n",
    "        end = time.time()\n",
    "        print(f\"Detect {len(onlyfiles)} files at the current path:'{path}', time: {round(end-start, 4)}s.\")\n",
    "# onlyfiles"
   ]
  },
  {
   "cell_type": "code",
   "execution_count": 30,
   "id": "ba08d5c8",
   "metadata": {},
   "outputs": [
    {
     "name": "stdout",
     "output_type": "stream",
     "text": [
      "Time :0.3425s.\n"
     ]
    }
   ],
   "source": [
    "Xtest = []\n",
    "ytest = [0] * len(onlyfiles)\n",
    "filedir = \"./aclImdb/test/neg/\"\n",
    "start = time.time()\n",
    "for file in onlyfiles:\n",
    "    path = filedir + file\n",
    "    rating = re.findall(\"[0-9]+_([0-9]+).txt\", file)[0]\n",
    "    with open(path, \"r\") as f:\n",
    "        contents = f.read()\n",
    "        Xtest.append([contents, rating])\n",
    "end = time.time()\n",
    "print(\"Time :{}s.\".format(round(end- start, 4)))"
   ]
  },
  {
   "cell_type": "code",
   "execution_count": 31,
   "id": "57a1991c",
   "metadata": {},
   "outputs": [
    {
     "data": {
      "text/html": [
       "<div>\n",
       "<style scoped>\n",
       "    .dataframe tbody tr th:only-of-type {\n",
       "        vertical-align: middle;\n",
       "    }\n",
       "\n",
       "    .dataframe tbody tr th {\n",
       "        vertical-align: top;\n",
       "    }\n",
       "\n",
       "    .dataframe thead th {\n",
       "        text-align: right;\n",
       "    }\n",
       "</style>\n",
       "<table border=\"1\" class=\"dataframe\">\n",
       "  <thead>\n",
       "    <tr style=\"text-align: right;\">\n",
       "      <th></th>\n",
       "      <th>text</th>\n",
       "      <th>rating</th>\n",
       "      <th>label</th>\n",
       "    </tr>\n",
       "  </thead>\n",
       "  <tbody>\n",
       "    <tr>\n",
       "      <th>0</th>\n",
       "      <td>What a silly movie. While it looks nice, it do...</td>\n",
       "      <td>4</td>\n",
       "      <td>0</td>\n",
       "    </tr>\n",
       "    <tr>\n",
       "      <th>1</th>\n",
       "      <td>If you never have read the book and never inte...</td>\n",
       "      <td>1</td>\n",
       "      <td>0</td>\n",
       "    </tr>\n",
       "    <tr>\n",
       "      <th>2</th>\n",
       "      <td>An American family moves to the countryside of...</td>\n",
       "      <td>4</td>\n",
       "      <td>0</td>\n",
       "    </tr>\n",
       "    <tr>\n",
       "      <th>3</th>\n",
       "      <td>As to be expected, there's a pretty good reaso...</td>\n",
       "      <td>2</td>\n",
       "      <td>0</td>\n",
       "    </tr>\n",
       "    <tr>\n",
       "      <th>4</th>\n",
       "      <td>OK, we got JP from Grandma's Boy and Chuck fro...</td>\n",
       "      <td>3</td>\n",
       "      <td>0</td>\n",
       "    </tr>\n",
       "  </tbody>\n",
       "</table>\n",
       "</div>"
      ],
      "text/plain": [
       "                                                text rating  label\n",
       "0  What a silly movie. While it looks nice, it do...      4      0\n",
       "1  If you never have read the book and never inte...      1      0\n",
       "2  An American family moves to the countryside of...      4      0\n",
       "3  As to be expected, there's a pretty good reaso...      2      0\n",
       "4  OK, we got JP from Grandma's Boy and Chuck fro...      3      0"
      ]
     },
     "execution_count": 31,
     "metadata": {},
     "output_type": "execute_result"
    }
   ],
   "source": [
    "test_neg = pd.DataFrame(Xtest, columns = [\"text\", 'rating'])\n",
    "test_neg['label'] = ytest\n",
    "test_neg.head()"
   ]
  },
  {
   "cell_type": "code",
   "execution_count": 32,
   "id": "2137400a",
   "metadata": {},
   "outputs": [],
   "source": [
    "test_total = pd.concat([test_pos,test_neg])\n",
    "test_total = test_total.sample(frac=1)\n",
    "test_total = preprocess_df(test_total)\n",
    "test_total.to_csv('test_processed.csv')"
   ]
  },
  {
   "cell_type": "markdown",
   "id": "7ffd305e",
   "metadata": {},
   "source": [
    "### Save the processed train and test dataframe for faster access"
   ]
  },
  {
   "cell_type": "code",
   "execution_count": 16,
   "id": "0e7f59c0",
   "metadata": {},
   "outputs": [],
   "source": [
    "train_total.to_csv('train_processed.csv')\n",
    "test_total.to_csv('test_processed.csv')"
   ]
  },
  {
   "cell_type": "code",
   "execution_count": 17,
   "id": "d154cbda",
   "metadata": {},
   "outputs": [],
   "source": [
    "tagged_data = [word_tokenize(_d) for i, _d in enumerate(train_total[\"text\"])]"
   ]
  },
  {
   "cell_type": "code",
   "execution_count": 18,
   "id": "8784bf4e",
   "metadata": {},
   "outputs": [],
   "source": [
    "from collections import defaultdict\n",
    "freq = defaultdict(int)\n",
    "for doc in tagged_data:\n",
    "    for token in doc:\n",
    "        freq[token] += 1"
   ]
  },
  {
   "cell_type": "code",
   "execution_count": 16,
   "id": "d9fb7803",
   "metadata": {},
   "outputs": [],
   "source": [
    "#dict(sorted(freq.items(), key=lambda item: item[1],reverse = True))"
   ]
  },
  {
   "cell_type": "markdown",
   "id": "3811a826",
   "metadata": {},
   "source": [
    "### apply manual cutoff to select term with frequency between 30 and 25000"
   ]
  },
  {
   "cell_type": "code",
   "execution_count": 19,
   "id": "d03935a8",
   "metadata": {},
   "outputs": [],
   "source": [
    "freq_copy = freq.copy()\n",
    "for key, value in freq_copy.items():\n",
    "    if value < 30 or value > 25000 :\n",
    "        del freq[key]"
   ]
  },
  {
   "cell_type": "code",
   "execution_count": 20,
   "id": "bbf353d8",
   "metadata": {},
   "outputs": [
    {
     "data": {
      "text/plain": [
       "7911"
      ]
     },
     "execution_count": 20,
     "metadata": {},
     "output_type": "execute_result"
    }
   ],
   "source": [
    "len(freq.keys())"
   ]
  },
  {
   "cell_type": "code",
   "execution_count": 22,
   "id": "277738aa",
   "metadata": {},
   "outputs": [],
   "source": [
    "from math import log\n",
    "IDF, vocab = dict(), dict()\n",
    "for token in freq:\n",
    "    vocab[token] = len(vocab) #create a fix index of all words\n",
    "    IDF[token] = log(1 + len(train_total) / freq[token]) #"
   ]
  },
  {
   "cell_type": "code",
   "execution_count": 23,
   "id": "a45b31f7",
   "metadata": {},
   "outputs": [],
   "source": [
    "def vocabEXIST(doc,freqdic):\n",
    "    tokens = doc.split(' ')\n",
    "    #tokens = pre_processing_by_nltk(doc)\n",
    "    x= [0]*len(freqdic.keys())\n",
    "    cor = list(freqdic.keys())\n",
    "    for i in range(len(freqdic.keys())):\n",
    "        if cor[i] in tokens:\n",
    "            x[i] = 1\n",
    "    return x"
   ]
  },
  {
   "cell_type": "code",
   "execution_count": 24,
   "id": "a10a3194",
   "metadata": {},
   "outputs": [],
   "source": [
    "train_total = train_total.sample(frac=1)"
   ]
  },
  {
   "cell_type": "code",
   "execution_count": 28,
   "id": "7e03f5bb",
   "metadata": {},
   "outputs": [
    {
     "name": "stdout",
     "output_type": "stream",
     "text": [
      "1000\n"
     ]
    }
   ],
   "source": [
    "X_train_1 = []\n",
    "X_test_1 = []\n",
    "for doc in train_total['text']: #create a feature vector \n",
    "    X_train_1.append(vocabEXIST(doc, freq))\n",
    "    if len(X_train_1) == 10000:\n",
    "        print(1000)"
   ]
  },
  {
   "cell_type": "code",
   "execution_count": 32,
   "id": "efaa54f4",
   "metadata": {},
   "outputs": [],
   "source": [
    "df = pd.DataFrame(X_train_1)\n",
    "df.to_csv('binary_f.csv',index = False)"
   ]
  },
  {
   "cell_type": "code",
   "execution_count": 39,
   "id": "15c28318",
   "metadata": {},
   "outputs": [],
   "source": [
    "from sklearn.linear_model import LogisticRegression\n",
    "M1 = LogisticRegression(random_state=0,max_iter=1000000,solver = 'sag').fit(X_train_1,train_total['label'])"
   ]
  },
  {
   "cell_type": "code",
   "execution_count": 40,
   "id": "d2807772",
   "metadata": {},
   "outputs": [],
   "source": [
    "filename = 'lg.sav'\n",
    "pickle.dump(M1, open(filename, 'wb'))"
   ]
  },
  {
   "cell_type": "code",
   "execution_count": 34,
   "id": "b397fb1f",
   "metadata": {},
   "outputs": [
    {
     "name": "stdout",
     "output_type": "stream",
     "text": [
      "100\n",
      "1000\n",
      "1000\n"
     ]
    }
   ],
   "source": [
    "X_test_1 = []\n",
    "\n",
    "for doc in test_total['text']: #create a feature vector \n",
    "    X_test_1.append(vocabEXIST(doc, freq))\n",
    "    if len(X_test_1) == 100:\n",
    "        print(100)\n",
    "    if len(X_test_1) == 1000:\n",
    "        print(1000)\n",
    "    if len(X_test_1) == 10000:\n",
    "        print(1000)"
   ]
  },
  {
   "cell_type": "code",
   "execution_count": 35,
   "id": "ce5ee90e",
   "metadata": {},
   "outputs": [],
   "source": [
    "predict_y1 = LG.predict(X_test_1)"
   ]
  },
  {
   "cell_type": "code",
   "execution_count": 36,
   "id": "05f2b5f1",
   "metadata": {},
   "outputs": [
    {
     "name": "stdout",
     "output_type": "stream",
     "text": [
      "macro F1 is  0.8551197626282191 micr F1 is  0.85512\n"
     ]
    }
   ],
   "source": [
    "import sklearn\n",
    "macro_f1_1 = sklearn.metrics.f1_score(test_total['label'], predict_y1,average='macro')\n",
    "micro_f1_1 = sklearn.metrics.f1_score(test_total['label'], predict_y1,average='micro')\n",
    "print('macro F1 is ',macro_f1_1, 'micr F1 is ',micro_f1_1)"
   ]
  },
  {
   "cell_type": "code",
   "execution_count": 37,
   "id": "519e8c45",
   "metadata": {},
   "outputs": [
    {
     "name": "stdout",
     "output_type": "stream",
     "text": [
      "AUC F1 is  0.9266428096000001\n"
     ]
    }
   ],
   "source": [
    "auc = sklearn.metrics.roc_auc_score(test_total['label'], LG.predict_proba(X_test_1)[:, 1])\n",
    "print('AUC F1 is ',auc)"
   ]
  },
  {
   "cell_type": "code",
   "execution_count": 38,
   "id": "5eb5702b",
   "metadata": {},
   "outputs": [
    {
     "data": {
      "text/plain": [
       "0.9266428096000001"
      ]
     },
     "execution_count": 38,
     "metadata": {},
     "output_type": "execute_result"
    }
   ],
   "source": [
    "auc"
   ]
  },
  {
   "cell_type": "code",
   "execution_count": 50,
   "id": "d2c22126",
   "metadata": {},
   "outputs": [],
   "source": [
    "from sklearn.metrics import accuracy_score\n",
    "from sklearn.metrics import f1_score\n",
    "from sklearn.metrics import roc_auc_score\n",
    "from sklearn.metrics import roc_curve\n",
    "import matplotlib.pyplot as plt\n",
    "\n",
    "def evaluate(ytest, ypred, name):\n",
    "    ypred_label = np.argmax(ypred, axis = 1)\n",
    "    ypred_proba = ypred[:,1]\n",
    "    accu = accuracy_score(ytest, ypred_label)\n",
    "    f1 = f1_score(ytest, ypred_label)\n",
    "    AUC = roc_auc_score(ytest, ypred_proba)\n",
    "    fpr, tpr, _ = roc_curve(ytest, ypred_proba)\n",
    "    \n",
    "    lw = 2\n",
    "    plt.figure(figsize = (6,6))\n",
    "    plt.plot(fpr, tpr, lw = lw, label=\"ROC curve of model {}, AUC = ({:0.2f})\".format(name, AUC))\n",
    "    plt.plot([0, 1], [0, 1], \"k--\", lw=lw)\n",
    "    plt.xlim([0.0, 1.0])\n",
    "    plt.ylim([0.0, 1.05])\n",
    "    plt.xlabel(\"False Positive Rate\")\n",
    "    plt.ylabel(\"True Positive Rate\")\n",
    "    plt.title(\"ROC Curve\")\n",
    "    plt.legend(loc=\"lower right\")\n",
    "    plt.show()\n",
    "    \n",
    "    df = pd.DataFrame()\n",
    "    df = df.assign(\n",
    "        model = [name],\n",
    "        accuracy = [accu],\n",
    "        f1_score = [f1],\n",
    "        AUC = [AUC]\n",
    "    )\n",
    "    print(df)\n",
    "    return df"
   ]
  },
  {
   "cell_type": "code",
   "execution_count": 43,
   "id": "3b1b3b5c",
   "metadata": {},
   "outputs": [],
   "source": [
    "df_b_result = pd.DataFrame(\n",
    "    {'label': test_total['label'],\n",
    "     'predict': LG.predict_proba(X_test_1)[:, 1]})"
   ]
  },
  {
   "cell_type": "code",
   "execution_count": 51,
   "id": "1f896674",
   "metadata": {},
   "outputs": [
    {
     "data": {
      "image/png": "[encoded data removed]",
      "text/plain": [
       "<Figure size 432x432 with 1 Axes>"
      ]
     },
     "metadata": {
      "needs_background": "light"
     },
     "output_type": "display_data"
    },
    {
     "name": "stdout",
     "output_type": "stream",
     "text": [
      "      model  accuracy  f1_score       AUC\n",
      "0  logistic   0.85512  0.854934  0.926643\n"
     ]
    }
   ],
   "source": [
    "df_b_result.to_csv('bi_df.csv')\n",
    "df_b = evaluate(test_total['label'],LG.predict_proba(X_test_1),'binary_logit')"
   ]
  }
 ],
 "metadata": {
  "kernelspec": {
   "display_name": "Python 3",
   "language": "python",
   "name": "python3"
  },
  "language_info": {
   "codemirror_mode": {
    "name": "ipython",
    "version": 3
   },
   "file_extension": ".py",
   "mimetype": "text/x-python",
   "name": "python",
   "nbconvert_exporter": "python",
   "pygments_lexer": "ipython3",
   "version": "3.8.5"
  }
 },
 "nbformat": 4,
 "nbformat_minor": 5
}
