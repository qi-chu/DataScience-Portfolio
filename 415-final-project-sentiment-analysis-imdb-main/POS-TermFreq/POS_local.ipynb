{
 "cells": [
  {
   "cell_type": "code",
   "execution_count": 18,
   "id": "4928a7a9-1d4a-4070-afc1-a81d6f81b228",
   "metadata": {},
   "outputs": [
    {
     "name": "stderr",
     "output_type": "stream",
     "text": [
      "[nltk_data] Downloading package averaged_perceptron_tagger to\n",
      "[nltk_data]     /home/jovyan/nltk_data...\n",
      "[nltk_data]   Package averaged_perceptron_tagger is already up-to-\n",
      "[nltk_data]       date!\n"
     ]
    }
   ],
   "source": [
    "import pandas as pd\n",
    "import os\n",
    "from os.path import isfile, join\n",
    "import time\n",
    "import re\n",
    "import numpy as np\n",
    "from tqdm.notebook import tqdm\n",
    "import pickle\n",
    "import pandas as pd\n",
    "import itertools\n",
    "from collections import Counter\n",
    "import numpy as np\n",
    "import nltk\n",
    "from nltk import word_tokenize\n",
    "from nltk.corpus import stopwords\n",
    "from sklearn.linear_model import LogisticRegression\n",
    "from gensim.models import word2vec\n",
    "import os\n",
    "import string\n",
    "import spacy\n",
    "import nltk\n",
    "nltk.download('averaged_perceptron_tagger')\n",
    "from nltk import pos_tag\n",
    "from scipy.sparse import csr_matrix\n",
    "from vaderSentiment.vaderSentiment import SentimentIntensityAnalyzer\n",
    "sentiment_analyzer = SentimentIntensityAnalyzer()"
   ]
  },
  {
   "cell_type": "code",
   "execution_count": 17,
   "id": "1eb7d838-f83e-48c0-93f4-0cf62b6d1868",
   "metadata": {
    "collapsed": true,
    "jupyter": {
     "outputs_hidden": true
    },
    "tags": []
   },
   "outputs": [
    {
     "name": "stdout",
     "output_type": "stream",
     "text": [
      "Requirement already satisfied: nltk in /opt/conda/lib/python3.9/site-packages (3.7)\n",
      "Requirement already satisfied: regex>=2021.8.3 in /opt/conda/lib/python3.9/site-packages (from nltk) (2022.3.2)\n",
      "Requirement already satisfied: click in /opt/conda/lib/python3.9/site-packages (from nltk) (8.0.4)\n",
      "Requirement already satisfied: tqdm in /opt/conda/lib/python3.9/site-packages (from nltk) (4.63.0)\n",
      "Requirement already satisfied: joblib in /opt/conda/lib/python3.9/site-packages (from nltk) (1.1.0)\n",
      "Collecting vaderSentiment\n",
      "  Using cached vaderSentiment-3.3.2-py2.py3-none-any.whl (125 kB)\n",
      "Requirement already satisfied: requests in /opt/conda/lib/python3.9/site-packages (from vaderSentiment) (2.27.1)\n",
      "Requirement already satisfied: urllib3<1.27,>=1.21.1 in /opt/conda/lib/python3.9/site-packages (from requests->vaderSentiment) (1.26.8)\n",
      "Requirement already satisfied: idna<4,>=2.5 in /opt/conda/lib/python3.9/site-packages (from requests->vaderSentiment) (3.3)\n",
      "Requirement already satisfied: certifi>=2017.4.17 in /opt/conda/lib/python3.9/site-packages (from requests->vaderSentiment) (2021.10.8)\n",
      "Requirement already satisfied: charset-normalizer~=2.0.0 in /opt/conda/lib/python3.9/site-packages (from requests->vaderSentiment) (2.0.12)\n",
      "Installing collected packages: vaderSentiment\n",
      "Successfully installed vaderSentiment-3.3.2\n",
      "Requirement already satisfied: gensim in /opt/conda/lib/python3.9/site-packages (4.1.2)\n",
      "Requirement already satisfied: numpy>=1.17.0 in /opt/conda/lib/python3.9/site-packages (from gensim) (1.21.5)\n",
      "Requirement already satisfied: scipy>=0.18.1 in /opt/conda/lib/python3.9/site-packages (from gensim) (1.8.0)\n",
      "Requirement already satisfied: smart-open>=1.8.1 in /opt/conda/lib/python3.9/site-packages (from gensim) (5.2.1)\n"
     ]
    }
   ],
   "source": [
    "!pip3 install nltk\n",
    "!pip3 install vaderSentiment\n",
    "!pip3 install gensim"
   ]
  },
  {
   "cell_type": "code",
   "execution_count": 9,
   "id": "361ec39c-b618-461a-85a1-1ceb201eeb3b",
   "metadata": {
    "tags": []
   },
   "outputs": [],
   "source": [
    "from sklearn.linear_model import LogisticRegression"
   ]
  },
  {
   "cell_type": "code",
   "execution_count": 21,
   "id": "99b9fc0e-d6e9-488f-aca6-a4379189612c",
   "metadata": {},
   "outputs": [],
   "source": [
    "from sklearn.metrics import roc_auc_score, auc, f1_score, accuracy_score, roc_curve"
   ]
  },
  {
   "cell_type": "markdown",
   "id": "843232cf-fe2a-4867-ae09-136467d673c6",
   "metadata": {},
   "source": [
    "### Load Data"
   ]
  },
  {
   "cell_type": "code",
   "execution_count": 11,
   "id": "95494945-bede-4c2b-8921-b653892d2156",
   "metadata": {},
   "outputs": [
    {
     "data": {
      "text/plain": [
       "'/home/jovyan/Documents/Master/Winter/MGTA 415/Project/415-final-project-sentiment-analysis-imdb/POS-TermFreq'"
      ]
     },
     "execution_count": 11,
     "metadata": {},
     "output_type": "execute_result"
    }
   ],
   "source": [
    "os.getcwd()"
   ]
  },
  {
   "cell_type": "code",
   "execution_count": 3,
   "id": "7f44b6dc-7edc-4a29-928c-3938f01edb7c",
   "metadata": {},
   "outputs": [
    {
     "data": {
      "text/plain": [
       "['.DS_Store',\n",
       " '.ipynb_checkpoints',\n",
       " 'Automated_Phrase_Mining_from_Massive_Text_Corpora.pdf',\n",
       " 'IMDB.ipynb',\n",
       " 'Reference',\n",
       " 'acl2020-templates',\n",
       " 'aclImdb',\n",
       " 'aclImdb_v1.tar.gz',\n",
       " 'fake_news_train_clean.csv']"
      ]
     },
     "execution_count": 3,
     "metadata": {},
     "output_type": "execute_result"
    }
   ],
   "source": [
    "os.listdir()"
   ]
  },
  {
   "cell_type": "code",
   "execution_count": 5,
   "id": "e791c935-5617-4f46-a90a-74e34f44726a",
   "metadata": {},
   "outputs": [
    {
     "name": "stdout",
     "output_type": "stream",
     "text": [
      "Detect 12500 files at the current path:'./aclImdb/train/pos/', time: 11.9585s.\n",
      "Detect 12500 files at the current path:'./aclImdb/train/neg/', time: 10.1574s.\n",
      "Detect 12500 files at the current path:'./aclImdb/test/pos/', time: 10.813s.\n",
      "Detect 12500 files at the current path:'./aclImdb/test/neg/', time: 11.4046s.\n"
     ]
    }
   ],
   "source": [
    "filePath = [\"./aclImdb/train/\", \"./aclImdb/test/\"]\n",
    "'/Users/ryola/Documents/Master/Winter/MGTA\\ 415/Project/aclImdb/test'\n",
    "tag = [\"pos/\", \"neg/\"]\n",
    "for i in filePath:\n",
    "    for j in tag:\n",
    "        start = time.time()\n",
    "        path = i+j\n",
    "        onlyfiles = [f for f in os.listdir(path) if isfile(join(path, f))]\n",
    "        end = time.time()\n",
    "        print(f\"Detect {len(onlyfiles)} files at the current path:'{path}', time: {round(end-start, 4)}s.\")\n",
    "# onlyfiles"
   ]
  },
  {
   "cell_type": "code",
   "execution_count": 5,
   "id": "21fa8dcf-8dda-4e61-a9b0-31fbb3e0aca4",
   "metadata": {},
   "outputs": [
    {
     "data": {
      "text/plain": [
       "'/home/jovyan/Documents/Master/Winter/MGTA 415/Project/415-final-project-sentiment-analysis-imdb/POS-TermFreq'"
      ]
     },
     "execution_count": 5,
     "metadata": {},
     "output_type": "execute_result"
    }
   ],
   "source": [
    "os.getcwd()"
   ]
  },
  {
   "cell_type": "code",
   "execution_count": 8,
   "id": "9b457b94-ad63-49f6-b743-f6ee9324fe66",
   "metadata": {},
   "outputs": [
    {
     "name": "stdout",
     "output_type": "stream",
     "text": [
      "CPU times: user 1.22 s, sys: 1.84 s, total: 3.05 s\n",
      "Wall time: 22.1 s\n"
     ]
    }
   ],
   "source": [
    "%%time\n",
    "testPosPath = '/home/jovyan/Documents/Master/Winter/MGTA 415/Project/aclImdb/test/pos/'\n",
    "testNegPath = '/home/jovyan/Documents/Master/Winter/MGTA 415/Project/aclImdb/test/neg/'\n",
    "testfiles = [f for f in os.listdir(testPosPath) if isfile(join(testPosPath, f))]\n",
    "testfiles += [f for f in os.listdir(testNegPath) if isfile(join(testNegPath, f))]"
   ]
  },
  {
   "cell_type": "code",
   "execution_count": 11,
   "id": "6338254b-ae1a-46ed-821a-3c024a462f1d",
   "metadata": {},
   "outputs": [
    {
     "name": "stdout",
     "output_type": "stream",
     "text": [
      "CPU times: user 2.91 s, sys: 9.7 s, total: 12.6 s\n",
      "Wall time: 1min\n"
     ]
    }
   ],
   "source": [
    "%%time\n",
    "Xtest = []\n",
    "ytest = [1] * 12500 + [0] * 12500\n",
    "# filedir = \"./aclImdb/test/neg/\"\n",
    "start = time.time()\n",
    "for i in range(len(testfiles)):\n",
    "    file = testfiles[i]\n",
    "    if i < 12500:\n",
    "        filedir = \"/home/jovyan/Documents/Master/Winter/MGTA 415/Project/aclImdb/test/pos/\"\n",
    "    else:\n",
    "        filedir = \"/home/jovyan/Documents/Master/Winter/MGTA 415/Project/aclImdb/test/neg/\"\n",
    "    path = filedir + file\n",
    "    rating = re.findall(\"[0-9]+_([0-9]+).txt\", file)[0]\n",
    "    with open(path, \"r\") as f:\n",
    "        contents = f.read()\n",
    "        Xtest.append([contents, rating])\n",
    "end = time.time()\n",
    "# print(\"Time :{}s.\".format(round(end- start, 4)))"
   ]
  },
  {
   "cell_type": "code",
   "execution_count": 12,
   "id": "0eb222c7-171b-4ad8-9d15-70945af228e5",
   "metadata": {},
   "outputs": [
    {
     "name": "stdout",
     "output_type": "stream",
     "text": [
      "(25000, 3)\n"
     ]
    },
    {
     "data": {
      "text/html": [
       "<div>\n",
       "<style scoped>\n",
       "    .dataframe tbody tr th:only-of-type {\n",
       "        vertical-align: middle;\n",
       "    }\n",
       "\n",
       "    .dataframe tbody tr th {\n",
       "        vertical-align: top;\n",
       "    }\n",
       "\n",
       "    .dataframe thead th {\n",
       "        text-align: right;\n",
       "    }\n",
       "</style>\n",
       "<table border=\"1\" class=\"dataframe\">\n",
       "  <thead>\n",
       "    <tr style=\"text-align: right;\">\n",
       "      <th></th>\n",
       "      <th>text</th>\n",
       "      <th>rating</th>\n",
       "      <th>label</th>\n",
       "    </tr>\n",
       "  </thead>\n",
       "  <tbody>\n",
       "    <tr>\n",
       "      <th>0</th>\n",
       "      <td>I went and saw this movie last night after bei...</td>\n",
       "      <td>10</td>\n",
       "      <td>1</td>\n",
       "    </tr>\n",
       "    <tr>\n",
       "      <th>1</th>\n",
       "      <td>Actor turned director Bill Paxton follows up h...</td>\n",
       "      <td>7</td>\n",
       "      <td>1</td>\n",
       "    </tr>\n",
       "    <tr>\n",
       "      <th>2</th>\n",
       "      <td>As a recreational golfer with some knowledge o...</td>\n",
       "      <td>9</td>\n",
       "      <td>1</td>\n",
       "    </tr>\n",
       "    <tr>\n",
       "      <th>3</th>\n",
       "      <td>I saw this film in a sneak preview, and it is ...</td>\n",
       "      <td>8</td>\n",
       "      <td>1</td>\n",
       "    </tr>\n",
       "    <tr>\n",
       "      <th>4</th>\n",
       "      <td>Bill Paxton has taken the true story of the 19...</td>\n",
       "      <td>8</td>\n",
       "      <td>1</td>\n",
       "    </tr>\n",
       "  </tbody>\n",
       "</table>\n",
       "</div>"
      ],
      "text/plain": [
       "                                                text rating  label\n",
       "0  I went and saw this movie last night after bei...     10      1\n",
       "1  Actor turned director Bill Paxton follows up h...      7      1\n",
       "2  As a recreational golfer with some knowledge o...      9      1\n",
       "3  I saw this film in a sneak preview, and it is ...      8      1\n",
       "4  Bill Paxton has taken the true story of the 19...      8      1"
      ]
     },
     "execution_count": 12,
     "metadata": {},
     "output_type": "execute_result"
    }
   ],
   "source": [
    "test = pd.DataFrame(Xtest, columns = [\"text\", 'rating'])\n",
    "test['label'] = ytest\n",
    "print(test.shape)\n",
    "test.head()"
   ]
  },
  {
   "cell_type": "code",
   "execution_count": 26,
   "id": "b21340ac-5015-429c-a3ad-852ae6cf9e6f",
   "metadata": {},
   "outputs": [
    {
     "name": "stdout",
     "output_type": "stream",
     "text": [
      "CPU times: user 3.71 s, sys: 0 ns, total: 3.71 s\n",
      "Wall time: 23.4 s\n"
     ]
    }
   ],
   "source": [
    "%%time\n",
    "trainPosPath = '/home/jovyan/Documents/Master/Winter/MGTA 415/Project/aclImdb/train/pos/'\n",
    "trainNegPath = '/home/jovyan/Documents/Master/Winter/MGTA 415/Project/aclImdb/train/neg/'\n",
    "trainfiles = [f for f in os.listdir(trainPosPath) if isfile(join(trainPosPath, f))]\n",
    "trainfiles += [f for f in os.listdir(trainNegPath) if isfile(join(trainNegPath, f))]"
   ]
  },
  {
   "cell_type": "code",
   "execution_count": 30,
   "id": "d88503b9-ea00-49ec-91e6-454e8e9ccf37",
   "metadata": {},
   "outputs": [
    {
     "name": "stdout",
     "output_type": "stream",
     "text": [
      "Time :64.0791s.\n",
      "CPU times: user 6 s, sys: 6.7 s, total: 12.7 s\n",
      "Wall time: 1min 4s\n"
     ]
    }
   ],
   "source": [
    "%%time\n",
    "Xtrain = []\n",
    "ytrain = [1] * 12500 + [0] * 12500\n",
    "# filedir = \"./aclImdb/test/neg/\"\n",
    "start = time.time()\n",
    "for i in range(len(trainfiles)):\n",
    "    file = trainfiles[i]\n",
    "    if i < 12500:\n",
    "        filedir = \"/home/jovyan/Documents/Master/Winter/MGTA 415/Project/aclImdb/train/pos/\"\n",
    "    else:\n",
    "        filedir = \"/home/jovyan/Documents/Master/Winter/MGTA 415/Project/aclImdb/train/neg/\"\n",
    "    path = filedir + file\n",
    "    rating = re.findall(\"[0-9]+_([0-9]+).txt\", file)[0]\n",
    "    with open(path, \"r\") as f:\n",
    "        contents = f.read()\n",
    "        Xtrain.append([contents, rating])\n",
    "end = time.time()\n",
    "print(\"Time :{}s.\".format(round(end- start, 4)))"
   ]
  },
  {
   "cell_type": "code",
   "execution_count": 31,
   "id": "c738c5ec-57d9-447d-82b4-c091e4f9ef46",
   "metadata": {},
   "outputs": [
    {
     "name": "stdout",
     "output_type": "stream",
     "text": [
      "(25000, 3)\n"
     ]
    },
    {
     "data": {
      "text/html": [
       "<div>\n",
       "<style scoped>\n",
       "    .dataframe tbody tr th:only-of-type {\n",
       "        vertical-align: middle;\n",
       "    }\n",
       "\n",
       "    .dataframe tbody tr th {\n",
       "        vertical-align: top;\n",
       "    }\n",
       "\n",
       "    .dataframe thead th {\n",
       "        text-align: right;\n",
       "    }\n",
       "</style>\n",
       "<table border=\"1\" class=\"dataframe\">\n",
       "  <thead>\n",
       "    <tr style=\"text-align: right;\">\n",
       "      <th></th>\n",
       "      <th>text</th>\n",
       "      <th>rating</th>\n",
       "      <th>label</th>\n",
       "    </tr>\n",
       "  </thead>\n",
       "  <tbody>\n",
       "    <tr>\n",
       "      <th>0</th>\n",
       "      <td>Bromwell High is a cartoon comedy. It ran at t...</td>\n",
       "      <td>9</td>\n",
       "      <td>1</td>\n",
       "    </tr>\n",
       "    <tr>\n",
       "      <th>1</th>\n",
       "      <td>Homelessness (or Houselessness as George Carli...</td>\n",
       "      <td>8</td>\n",
       "      <td>1</td>\n",
       "    </tr>\n",
       "    <tr>\n",
       "      <th>2</th>\n",
       "      <td>Brilliant over-acting by Lesley Ann Warren. Be...</td>\n",
       "      <td>10</td>\n",
       "      <td>1</td>\n",
       "    </tr>\n",
       "    <tr>\n",
       "      <th>3</th>\n",
       "      <td>This is easily the most underrated film inn th...</td>\n",
       "      <td>7</td>\n",
       "      <td>1</td>\n",
       "    </tr>\n",
       "    <tr>\n",
       "      <th>4</th>\n",
       "      <td>This is not the typical Mel Brooks film. It wa...</td>\n",
       "      <td>8</td>\n",
       "      <td>1</td>\n",
       "    </tr>\n",
       "  </tbody>\n",
       "</table>\n",
       "</div>"
      ],
      "text/plain": [
       "                                                text rating  label\n",
       "0  Bromwell High is a cartoon comedy. It ran at t...      9      1\n",
       "1  Homelessness (or Houselessness as George Carli...      8      1\n",
       "2  Brilliant over-acting by Lesley Ann Warren. Be...     10      1\n",
       "3  This is easily the most underrated film inn th...      7      1\n",
       "4  This is not the typical Mel Brooks film. It wa...      8      1"
      ]
     },
     "execution_count": 31,
     "metadata": {},
     "output_type": "execute_result"
    }
   ],
   "source": [
    "train = pd.DataFrame(Xtrain, columns = [\"text\", 'rating'])\n",
    "train['label'] = ytrain\n",
    "print(train.shape)\n",
    "train.head()"
   ]
  },
  {
   "cell_type": "markdown",
   "id": "f5a7c119-bfcc-49d6-b9c4-ac55074f0f91",
   "metadata": {},
   "source": [
    "### Basic Info About Train Set"
   ]
  },
  {
   "cell_type": "code",
   "execution_count": 32,
   "id": "e7e44a4d-8c2d-456c-ad37-877235118051",
   "metadata": {},
   "outputs": [
    {
     "data": {
      "text/plain": [
       "['Bromwell High is a cartoon comedy. It ran at the same time as some other programs about school life, such as \"Teachers\". My 35 years in the teaching profession lead me to believe that Bromwell High\\'s satire is much closer to reality than is \"Teachers\". The scramble to survive financially, the insightful students who can see right through their pathetic teachers\\' pomp, the pettiness of the whole situation, all remind me of the schools I knew and their students. When I saw the episode in which a student repeatedly tried to burn down the school, I immediately recalled ......... at .......... High. A classic line: INSPECTOR: I\\'m here to sack one of your teachers. STUDENT: Welcome to Bromwell High. I expect that many adults of my age think that Bromwell High is far fetched. What a pity that it isn\\'t!',\n",
       " '9']"
      ]
     },
     "execution_count": 32,
     "metadata": {},
     "output_type": "execute_result"
    }
   ],
   "source": [
    "Xtrain[0]"
   ]
  },
  {
   "cell_type": "code",
   "execution_count": 33,
   "id": "2987a318-e247-4ccc-b2a5-f2fcd75f091d",
   "metadata": {},
   "outputs": [
    {
     "name": "stdout",
     "output_type": "stream",
     "text": [
      "(25000,) 233.7872\n"
     ]
    }
   ],
   "source": [
    "doc_lens = []\n",
    "for doc in Xtrain:\n",
    "    l = len(doc[0].split())\n",
    "    doc_lens.append(l)\n",
    "lens = np.array(doc_lens)\n",
    "print(lens.shape, lens.mean())"
   ]
  },
  {
   "cell_type": "code",
   "execution_count": 34,
   "id": "fbab982b-9d78-4ea8-ba12-489ffe70a112",
   "metadata": {},
   "outputs": [
    {
     "name": "stdout",
     "output_type": "stream",
     "text": [
      "2470 10\n"
     ]
    }
   ],
   "source": [
    "print(lens.max(), lens.min())"
   ]
  },
  {
   "cell_type": "code",
   "execution_count": 37,
   "id": "b107223e-bc93-4ce7-8fc4-e9c5072883f4",
   "metadata": {},
   "outputs": [
    {
     "data": {
      "text/plain": [
       "(237.0, 231.0)"
      ]
     },
     "execution_count": 37,
     "metadata": {},
     "output_type": "execute_result"
    }
   ],
   "source": [
    "# avg doc lengths for pos & neg samples\n",
    "lens[:12500].mean().round(), lens[12500:].mean().round()"
   ]
  },
  {
   "cell_type": "code",
   "execution_count": 51,
   "id": "f09212d5-9ef2-48eb-9c56-ad55bbf3af2c",
   "metadata": {},
   "outputs": [
    {
     "data": {
      "image/png": "[encoded data removed]",
      "text/plain": [
       "<Figure size 1152x288 with 1 Axes>"
      ]
     },
     "metadata": {
      "needs_background": "light"
     },
     "output_type": "display_data"
    }
   ],
   "source": [
    "import seaborn as sns\n",
    "import matplotlib.pyplot as plt\n",
    "plt.figure(figsize = (16,4))\n",
    "plt.title(\"Raw Corpus Length Histogram\")\n",
    "_ = plt.hist(lens, bins='auto')\n",
    "plt.savefig('data/raw_corpus_length_hist')\n",
    "plt.show()"
   ]
  },
  {
   "cell_type": "markdown",
   "id": "42531078-3922-4a6e-9cf2-6aca108a50a8",
   "metadata": {},
   "source": [
    "### Baseline using VADER"
   ]
  },
  {
   "cell_type": "code",
   "execution_count": 13,
   "id": "2cae65e0-beff-40bf-a9f2-7cc4c0862c9f",
   "metadata": {},
   "outputs": [],
   "source": [
    "def get_polarity_label(sentence):\n",
    "    score = sentiment_analyzer.polarity_scores(sentence)\n",
    "    neg, neu, pos = score['neg'], score['neu'], score['pos']\n",
    "    if pos >= neg: #and pos > neu:\n",
    "        return 1 #'positive'\n",
    "    else:\n",
    "    #if neg > pos and neg > neu:\n",
    "        return 0 #'negative'\n",
    "    # return 'neutral'\n",
    "# get_polarity_label('I feel good')"
   ]
  },
  {
   "cell_type": "code",
   "execution_count": 19,
   "id": "30db7eb5-71a5-4a0a-a6a2-b5a9818ce493",
   "metadata": {},
   "outputs": [
    {
     "data": {
      "text/plain": [
       "0.67668"
      ]
     },
     "execution_count": 19,
     "metadata": {},
     "output_type": "execute_result"
    }
   ],
   "source": [
    "test['vader'] = test.text.apply(lambda x: get_polarity_label(x))\n",
    "test.vader.mean()"
   ]
  },
  {
   "cell_type": "code",
   "execution_count": 22,
   "id": "6321299e-62a3-43e3-b810-e05ee26b2ec8",
   "metadata": {},
   "outputs": [
    {
     "data": {
      "text/plain": [
       "(0.69292, 0.7390284529353776)"
      ]
     },
     "execution_count": 22,
     "metadata": {},
     "output_type": "execute_result"
    }
   ],
   "source": [
    "accuracy_score(test.label, test.vader), f1_score(test.label, test.vader)"
   ]
  },
  {
   "cell_type": "code",
   "execution_count": 24,
   "id": "353f5be0-5358-4d60-87ec-9d49718c2df3",
   "metadata": {},
   "outputs": [],
   "source": [
    "test[['label', 'vader']].to_csv(\"../data/res/vader.csv\", index = False)"
   ]
  },
  {
   "cell_type": "markdown",
   "id": "74427194-dd36-4950-a701-b9fca6a0ac64",
   "metadata": {},
   "source": [
    "### Preprocess"
   ]
  },
  {
   "cell_type": "code",
   "execution_count": 20,
   "id": "6f26e2bf-a08f-4d0f-a10b-bb5dd69dbf3c",
   "metadata": {},
   "outputs": [],
   "source": [
    "def preprocess_df(df, col = \"text\", target_col = 'clean_text'):\n",
    "    # get English stopwords\n",
    "    stop_words = set(stopwords.words('english'))\n",
    "    stop_words.add('would')\n",
    "    # prepare translation table to translate punctuation to space\n",
    "    translator = str.maketrans(string.punctuation, ' ' * len(string.punctuation))\n",
    "    preprocessed_sentences = []\n",
    "    for i, row in df.iterrows():\n",
    "        sent = row[col]\n",
    "        sent_nopuncts = sent.translate(translator)\n",
    "        words_list = sent_nopuncts.strip().split()\n",
    "        filtered_words = [word for word in words_list if word not in stop_words and len(word) != 1] # also skip space from above translation\n",
    "        preprocessed_sentences.append(\" \".join(filtered_words))\n",
    "    df[target_col] = preprocessed_sentences\n",
    "    return df"
   ]
  },
  {
   "cell_type": "code",
   "execution_count": 29,
   "id": "3c370d04-570f-46ba-b282-82d9c4a97427",
   "metadata": {},
   "outputs": [],
   "source": [
    "train = preprocess_df(train)\n",
    "test = preprocess_df(test)"
   ]
  },
  {
   "cell_type": "code",
   "execution_count": 32,
   "id": "6de9af70-098f-4477-93dc-14e4b6ac2358",
   "metadata": {},
   "outputs": [
    {
     "name": "stderr",
     "output_type": "stream",
     "text": [
      "[nltk_data] Downloading package stopwords to /home/jovyan/nltk_data...\n",
      "[nltk_data]   Package stopwords is already up-to-date!\n"
     ]
    }
   ],
   "source": [
    "import en_core_web_sm\n",
    "import re\n",
    "nlp_processor = en_core_web_sm.load()\n",
    "nltk.download('stopwords') # <--- this is new\n",
    "from nltk.corpus import stopwords\n",
    "stop = set(stopwords.words('english'))\n",
    "def pre_processing_by_spacy(doc, lemma = True, need_sent = False):\n",
    "    doc_class = nlp_processor(doc)\n",
    "    tokens = []\n",
    "    # step 1: get sentences\n",
    "    for sent in doc_class.sents:\n",
    "        # step 2: get tokens\n",
    "        # step 3 (optional): lemma\n",
    "        if lemma:\n",
    "            words = [token.lemma_ for token in sent]\n",
    "        else:\n",
    "            words = [token.text for token in sent]\n",
    "        if need_sent:\n",
    "            tokens.append(words)\n",
    "        else:\n",
    "            tokens += words\n",
    "            \n",
    "    raw_corpus = re.sub(r'[^\\w\\s]', ' ', ' '.join(tokens)).split()\n",
    "    corpus = [w.lower() for w in raw_corpus if w.lower() not in stop]\n",
    "    \n",
    "    return corpus"
   ]
  },
  {
   "cell_type": "code",
   "execution_count": 33,
   "id": "b44ba383-0d90-4fcd-90a5-7e4db46edc07",
   "metadata": {},
   "outputs": [
    {
     "data": {
      "application/vnd.jupyter.widget-view+json": {
       "model_id": "98c54328c6e941c396f1f355ca2a1f62",
       "version_major": 2,
       "version_minor": 0
      },
      "text/plain": [
       "0it [00:00, ?it/s]"
      ]
     },
     "metadata": {},
     "output_type": "display_data"
    }
   ],
   "source": [
    "# tokenization -> preprocess by spacy \n",
    "tagged_data = [pre_processing_by_spacy(_d) for i, _d in tqdm(enumerate(train[\"clean_text\"]))]"
   ]
  },
  {
   "cell_type": "code",
   "execution_count": 94,
   "id": "13653680-e4c9-47d4-8aee-8e01a2dd4625",
   "metadata": {},
   "outputs": [
    {
     "data": {
      "application/vnd.jupyter.widget-view+json": {
       "model_id": "9c2dbc9c98e24a03bc4cf93eecbd7f44",
       "version_major": 2,
       "version_minor": 0
      },
      "text/plain": [
       "0it [00:00, ?it/s]"
      ]
     },
     "metadata": {},
     "output_type": "display_data"
    }
   ],
   "source": [
    "# tokenization -> preprocess by spacy \n",
    "tagged_test_data = [pre_processing_by_spacy(_d) for i, _d in tqdm(enumerate(test[\"clean_text\"]))]"
   ]
  },
  {
   "cell_type": "code",
   "execution_count": 95,
   "id": "5020ce92-3d69-40d5-91e4-1e3a7d309ae4",
   "metadata": {},
   "outputs": [
    {
     "data": {
      "application/vnd.jupyter.widget-view+json": {
       "model_id": "46bd8f01f7974256b6bb848d1322dc8c",
       "version_major": 2,
       "version_minor": 0
      },
      "text/plain": [
       "  0%|          | 0/25000 [00:00<?, ?it/s]"
      ]
     },
     "metadata": {},
     "output_type": "display_data"
    },
    {
     "data": {
      "application/vnd.jupyter.widget-view+json": {
       "model_id": "1616b1e3f83346de8d5033aea28cab1c",
       "version_major": 2,
       "version_minor": 0
      },
      "text/plain": [
       "  0%|          | 0/25000 [00:00<?, ?it/s]"
      ]
     },
     "metadata": {},
     "output_type": "display_data"
    }
   ],
   "source": [
    "# save tagged train data\n",
    "with open(\"data/tagged_train_data.txt\", \"w\") as f:\n",
    "    for s in tqdm(tagged_data):\n",
    "        f.write(str(s) +\"\\n\")\n",
    "with open(\"data/tagged_test_data.txt\", \"w\") as f:\n",
    "    for s in tqdm(tagged_test_data):\n",
    "        f.write(str(s) +\"\\n\")"
   ]
  },
  {
   "cell_type": "markdown",
   "id": "a6eae489-ab2c-4e61-b50c-6f38bad27859",
   "metadata": {
    "tags": []
   },
   "source": [
    "### Rule-based"
   ]
  },
  {
   "cell_type": "code",
   "execution_count": 100,
   "id": "6f7277f3-08c4-4a04-8da2-327d11e9a036",
   "metadata": {},
   "outputs": [
    {
     "data": {
      "application/vnd.jupyter.widget-view+json": {
       "model_id": "fafa457a1507454db787e85ed89101d2",
       "version_major": 2,
       "version_minor": 0
      },
      "text/plain": [
       "  0%|          | 0/25000 [00:00<?, ?it/s]"
      ]
     },
     "metadata": {},
     "output_type": "display_data"
    }
   ],
   "source": [
    "ypred1 = []\n",
    "for l in tqdm(tagged_test_data):\n",
    "    dct = sentiment_analyzer.polarity_scores(' '.join(l))\n",
    "    if dct['pos'] >= dct['neg']:\n",
    "        ypred1.append(1)\n",
    "    else:\n",
    "        ypred1.append(0)"
   ]
  },
  {
   "cell_type": "code",
   "execution_count": 101,
   "id": "049eed82-a221-488d-857c-8f3122602236",
   "metadata": {},
   "outputs": [
    {
     "name": "stdout",
     "output_type": "stream",
     "text": [
      "0.67156\n"
     ]
    }
   ],
   "source": [
    "print(accuracy_score(ytest, ypred1))"
   ]
  },
  {
   "cell_type": "code",
   "execution_count": 102,
   "id": "e5fcd817-e2cc-41fe-9ef0-5a57d793b4d7",
   "metadata": {},
   "outputs": [
    {
     "data": {
      "application/vnd.jupyter.widget-view+json": {
       "model_id": "862895629c254e0da76f67344115cd11",
       "version_major": 2,
       "version_minor": 0
      },
      "text/plain": [
       "  0%|          | 0/25000 [00:00<?, ?it/s]"
      ]
     },
     "metadata": {},
     "output_type": "display_data"
    }
   ],
   "source": [
    "ypred1 = []\n",
    "for l in tqdm(train.clean_text):\n",
    "    dct = sentiment_analyzer.polarity_scores(l)\n",
    "    if dct['pos'] >= dct['neg']:\n",
    "        ypred1.append(1)\n",
    "    else:\n",
    "        ypred1.append(0)"
   ]
  },
  {
   "cell_type": "code",
   "execution_count": 103,
   "id": "1d7f4e41-a378-4345-9f3e-8c80421dbfa8",
   "metadata": {},
   "outputs": [
    {
     "name": "stdout",
     "output_type": "stream",
     "text": [
      "0.67172\n"
     ]
    }
   ],
   "source": [
    "print(accuracy_score(ytest, ypred1))"
   ]
  },
  {
   "cell_type": "markdown",
   "id": "56d67122-1f8f-4803-bdd4-c9813cc7fd88",
   "metadata": {},
   "source": [
    "### Binary Encoding For Adj + Adv"
   ]
  },
  {
   "cell_type": "code",
   "execution_count": 107,
   "id": "860d0af8-e8cb-4998-807e-be4f2ff70b02",
   "metadata": {
    "tags": []
   },
   "outputs": [
    {
     "data": {
      "application/vnd.jupyter.widget-view+json": {
       "model_id": "bbab1208af134e739e63ee1739306d4e",
       "version_major": 2,
       "version_minor": 0
      },
      "text/plain": [
       "  0%|          | 0/25000 [00:00<?, ?it/s]"
      ]
     },
     "metadata": {},
     "output_type": "display_data"
    }
   ],
   "source": [
    "tagged_sents = []\n",
    "tags = ['JJ', 'JJR', 'JJS', 'RB', 'RBR', 'RBs']\n",
    "for i in tqdm(range(len(tagged_data))):\n",
    "    tagged_sents+= [w for w, tag in pos_tag(tagged_data[i]) if tag in tags]"
   ]
  },
  {
   "cell_type": "code",
   "execution_count": 108,
   "id": "fc2db4f5-ce06-4d16-ac1e-fb060a6e101a",
   "metadata": {},
   "outputs": [
    {
     "name": "stdout",
     "output_type": "stream",
     "text": [
      "Size of adj/adv vocab = 31974\n"
     ]
    }
   ],
   "source": [
    "vocab = list(set(tagged_sents))\n",
    "print(\"Size of adj/adv vocab = {}\".format(len(vocab)))"
   ]
  },
  {
   "cell_type": "code",
   "execution_count": 117,
   "id": "3502660d-1d83-46ce-9a62-294d843efb5f",
   "metadata": {},
   "outputs": [
    {
     "data": {
      "application/vnd.jupyter.widget-view+json": {
       "model_id": "4cc7876f20bd4f758366ed6a89ad6be9",
       "version_major": 2,
       "version_minor": 0
      },
      "text/plain": [
       "  0%|          | 0/25000 [00:00<?, ?it/s]"
      ]
     },
     "metadata": {},
     "output_type": "display_data"
    }
   ],
   "source": [
    "Xtrain = []\n",
    "for tokens in tqdm(tagged_data):\n",
    "    s = list(set(tokens))\n",
    "    Xtrain.append([s.count(w) for w in vocab])"
   ]
  },
  {
   "cell_type": "code",
   "execution_count": 118,
   "id": "01dad506-fc69-443b-8e95-41afb34f85ca",
   "metadata": {},
   "outputs": [
    {
     "data": {
      "application/vnd.jupyter.widget-view+json": {
       "model_id": "a14e2b8ff949498eb51402596ddb7dab",
       "version_major": 2,
       "version_minor": 0
      },
      "text/plain": [
       "  0%|          | 0/25000 [00:00<?, ?it/s]"
      ]
     },
     "metadata": {},
     "output_type": "display_data"
    }
   ],
   "source": [
    "Xtest = []\n",
    "for tokens in tqdm(tagged_test_data):\n",
    "    s = list(set(tokens))\n",
    "    Xtest.append([s.count(w) for w in vocab])"
   ]
  },
  {
   "cell_type": "code",
   "execution_count": 119,
   "id": "e72b0a2e-f35b-43a3-8521-108c318d14fb",
   "metadata": {},
   "outputs": [
    {
     "data": {
      "application/vnd.jupyter.widget-view+json": {
       "model_id": "b938a556ddfa44918b028ace27363951",
       "version_major": 2,
       "version_minor": 0
      },
      "text/plain": [
       "  0%|          | 0/25000 [00:00<?, ?it/s]"
      ]
     },
     "metadata": {},
     "output_type": "display_data"
    },
    {
     "data": {
      "application/vnd.jupyter.widget-view+json": {
       "model_id": "08737ebfbdcd456288bb986342cebb85",
       "version_major": 2,
       "version_minor": 0
      },
      "text/plain": [
       "  0%|          | 0/25000 [00:00<?, ?it/s]"
      ]
     },
     "metadata": {},
     "output_type": "display_data"
    }
   ],
   "source": [
    "# save tagged train data\n",
    "with open(\"data/Xtrain_sent_bin.txt\", \"w\") as f:\n",
    "    for s in tqdm(Xtrain):\n",
    "        f.write(str(s) +\"\\n\")\n",
    "with open(\"data/Xtest_sent_bin.txt\", \"w\") as f:\n",
    "    for s in tqdm(Xtest):\n",
    "        f.write(str(s) +\"\\n\")"
   ]
  },
  {
   "cell_type": "code",
   "execution_count": 5,
   "id": "289159bb-3568-4760-b8a2-e1230ba8a057",
   "metadata": {},
   "outputs": [
    {
     "data": {
      "application/vnd.jupyter.widget-view+json": {
       "model_id": "d1d0bbf171f540c5b11c69b3138435ec",
       "version_major": 2,
       "version_minor": 0
      },
      "text/plain": [
       "0it [00:00, ?it/s]"
      ]
     },
     "metadata": {},
     "output_type": "display_data"
    }
   ],
   "source": [
    "trans_dict = {\"[\": \"\", ',':\"\", \"]\":\"\"}\n",
    "translator = str.maketrans(trans_dict)\n",
    "ytrain = [1] * 12500 + [0] * 12500\n",
    "ytest = ytrain\n",
    "Xtrain = []\n",
    "Xtest = []\n",
    "with open(\"data/Xtrain_sent_bin.txt\", \"r\") as f:\n",
    "    for line in tqdm(f):\n",
    "        Xtrain.append(line.translate(translator).split())"
   ]
  },
  {
   "cell_type": "code",
   "execution_count": 6,
   "id": "caa25d8f-3e67-4130-b914-75d55474b62b",
   "metadata": {},
   "outputs": [
    {
     "data": {
      "application/vnd.jupyter.widget-view+json": {
       "model_id": "16beced0c1c04ea5ae54a17b468017cf",
       "version_major": 2,
       "version_minor": 0
      },
      "text/plain": [
       "0it [00:00, ?it/s]"
      ]
     },
     "metadata": {},
     "output_type": "display_data"
    }
   ],
   "source": [
    "with open(\"data/Xtest_sent_bin.txt\", \"r\") as f:\n",
    "    for line in tqdm(f):\n",
    "        Xtest.append(line.translate(translator).split())"
   ]
  },
  {
   "cell_type": "code",
   "execution_count": null,
   "id": "8c61ba6c-0737-41fe-aeb9-a0889f494d1c",
   "metadata": {
    "tags": []
   },
   "outputs": [],
   "source": [
    "%%time\n",
    "# Xtrain_ = csr_matrix(Xtrain)\n",
    "# Xtest_ = csr_matrix(Xtest)\n",
    "print(\"====START FITING REGRESSION====\")\n",
    "clf = LogisticRegression(C = 20)\n",
    "clf.fit(Xtrain, ytrain)"
   ]
  },
  {
   "cell_type": "code",
   "execution_count": null,
   "id": "03ea848c-709b-44d0-ab6f-3cd66907c925",
   "metadata": {},
   "outputs": [],
   "source": [
    "def evaluate(ytest, ypred, name):\n",
    "    accu = accuracy_score(ytest, ypred)\n",
    "    f1 = f1_score(ytest, ypred)\n",
    "    AUC = roc_auc_score(ytest, ypred)\n",
    "    fpr, tpr = roc_curve(ytest, ypred)\n",
    "    \n",
    "    lw = 2\n",
    "    plt.figure(figsize = (6,6))\n",
    "    plt.plot(fpr, tpr, lw = lw, label=\"ROC curve of model {}, AUC = ({1:0.2f})\".format(name, AUC))\n",
    "    plt.plot([0, 1], [0, 1], \"k--\", lw=lw)\n",
    "    plt.xlim([0.0, 1.0])\n",
    "    plt.ylim([0.0, 1.05])\n",
    "    plt.xlabel(\"False Positive Rate\")\n",
    "    plt.ylabel(\"True Positive Rate\")\n",
    "    plt.title(\"ROC Curve\")\n",
    "    plt.legend(loc=\"lower right\")\n",
    "    plt.show()\n",
    "    \n",
    "    df = pd.DataFrame()\n",
    "    df.assign(\n",
    "        model = name,\n",
    "        accuracy = [accu],\n",
    "        f1_score = [f1],\n",
    "        AUC = [AUC]\n",
    "    )\n",
    "    print(df)\n",
    "    return df"
   ]
  },
  {
   "cell_type": "code",
   "execution_count": null,
   "id": "935946f9-3a95-4a73-b0f9-b1042ef2bc1c",
   "metadata": {},
   "outputs": [],
   "source": [
    "ypred2 = clf.predict(Xtest)\n",
    "evaluate(ytest, ypred2)"
   ]
  },
  {
   "cell_type": "code",
   "execution_count": null,
   "id": "38ca41fe-04fc-44a5-8744-950c99eb4ca8",
   "metadata": {},
   "outputs": [],
   "source": []
  },
  {
   "cell_type": "code",
   "execution_count": null,
   "id": "91712f19-27a9-45ea-8fb0-e070b4be496f",
   "metadata": {},
   "outputs": [],
   "source": []
  },
  {
   "cell_type": "code",
   "execution_count": null,
   "id": "52d7c3be-9497-46fb-9a1b-0a9c5412f0f4",
   "metadata": {},
   "outputs": [],
   "source": []
  },
  {
   "cell_type": "code",
   "execution_count": null,
   "id": "349019fe-8845-47bf-a2b0-0d9602f66d9f",
   "metadata": {},
   "outputs": [],
   "source": []
  },
  {
   "cell_type": "code",
   "execution_count": null,
   "id": "3b296050-203a-47b0-a89c-9024ca63a08a",
   "metadata": {},
   "outputs": [],
   "source": []
  },
  {
   "cell_type": "code",
   "execution_count": null,
   "id": "faf59615-7d48-4866-a7bc-f5a675234131",
   "metadata": {},
   "outputs": [],
   "source": []
  },
  {
   "cell_type": "code",
   "execution_count": null,
   "id": "9931d8ca-ee15-4f32-8ebe-813b26728b98",
   "metadata": {},
   "outputs": [],
   "source": []
  },
  {
   "cell_type": "code",
   "execution_count": null,
   "id": "a7e5476c-f509-4245-b73c-70c1bb4e3378",
   "metadata": {},
   "outputs": [],
   "source": []
  },
  {
   "cell_type": "code",
   "execution_count": null,
   "id": "c65b487b-e736-44ec-9b22-577257af45ff",
   "metadata": {},
   "outputs": [],
   "source": []
  },
  {
   "cell_type": "code",
   "execution_count": null,
   "id": "fd4e561f-a821-40e7-9b81-54a118505cf3",
   "metadata": {},
   "outputs": [],
   "source": []
  },
  {
   "cell_type": "code",
   "execution_count": null,
   "id": "5dcde9db-5fb1-424e-8111-e07cc3842f6c",
   "metadata": {},
   "outputs": [],
   "source": []
  },
  {
   "cell_type": "code",
   "execution_count": null,
   "id": "899beec0-88bb-49b5-b832-8dd0e1617dd5",
   "metadata": {},
   "outputs": [],
   "source": []
  },
  {
   "cell_type": "code",
   "execution_count": 54,
   "id": "56f5f5e0-3f91-4cb9-b4ec-ae0695d093be",
   "metadata": {},
   "outputs": [],
   "source": [
    "sentiment_analyzer = SentimentIntensityAnalyzer()\n",
    "scores = sentiment_analyzer.lexicon"
   ]
  },
  {
   "cell_type": "code",
   "execution_count": 63,
   "id": "bccb8675-230a-4d50-a743-e083aa5374c2",
   "metadata": {},
   "outputs": [
    {
     "data": {
      "text/plain": [
       "[None]"
      ]
     },
     "execution_count": 63,
     "metadata": {},
     "output_type": "execute_result"
    }
   ],
   "source": [
    "a = scores.get(\"1\")\n",
    "[a]"
   ]
  },
  {
   "cell_type": "code",
   "execution_count": 69,
   "id": "809fa440-7da2-4a26-afc6-a29422e0a113",
   "metadata": {},
   "outputs": [
    {
     "data": {
      "application/vnd.jupyter.widget-view+json": {
       "model_id": "72a598b2c70c42af9df4b9669a1b1bd5",
       "version_major": 2,
       "version_minor": 0
      },
      "text/plain": [
       "  0%|          | 0/25000 [00:00<?, ?it/s]"
      ]
     },
     "metadata": {},
     "output_type": "display_data"
    }
   ],
   "source": [
    "tagged_adj_sent = []\n",
    "for i in tqdm(range(len(tagged_adj))):\n",
    "    l = []\n",
    "    for w in tagged_adj[i]:\n",
    "        if scores.get(w) is not None:\n",
    "            l.append(w)\n",
    "    tagged_adj_sent.append(l)"
   ]
  },
  {
   "cell_type": "code",
   "execution_count": 79,
   "id": "70290f01-8c88-4c15-8419-5a105f13ea08",
   "metadata": {},
   "outputs": [
    {
     "data": {
      "application/vnd.jupyter.widget-view+json": {
       "model_id": "e3bc5a70a2dc4f7eb21ea2f7f378910f",
       "version_major": 2,
       "version_minor": 0
      },
      "text/plain": [
       "  0%|          | 0/25000 [00:00<?, ?it/s]"
      ]
     },
     "metadata": {},
     "output_type": "display_data"
    }
   ],
   "source": [
    "tagged_adj = []\n",
    "for i in tqdm(range(len(tagged_adj_sent))):\n",
    "    tagged_adj.append([scores[w] for w in tagged_adj_sent[i]])"
   ]
  },
  {
   "cell_type": "code",
   "execution_count": 81,
   "id": "1148cdc5-7b94-4ef6-894f-d5da5cca0917",
   "metadata": {},
   "outputs": [
    {
     "name": "stderr",
     "output_type": "stream",
     "text": [
      "/tmp/ipykernel_7613/526094466.py:1: VisibleDeprecationWarning: Creating an ndarray from ragged nested sequences (which is a list-or-tuple of lists-or-tuples-or ndarrays with different lengths or shapes) is deprecated. If you meant to do this, you must specify 'dtype=object' when creating the ndarray.\n",
      "  np.array(tagged_adj)\n"
     ]
    },
    {
     "data": {
      "text/plain": [
       "array([list([-2.7]), list([2.6, 0.3, 2.6, 0.1, 2.1, -1.7, -2.4, 2.6]),\n",
       "       list([2.8, 3.2, 3.2, 1.9, -2.7, 1.9, 2.0, 2.6, 1.1]), ...,\n",
       "       list([1.3, 1.8, 1.2, 1.3, -0.7, -0.8, -1.8, 2.3, 1.1, 1.9, 2.2, 1.9, -0.7, 2.7, -1.4, -1.8, -1.0, -2.5]),\n",
       "       list([1.9, 3.1, 2.6, -1.9, -2.5, -2.5, 2.6, 0.7, -2.5, -2.0, -2.0]),\n",
       "       list([1.9, 1.9, 2.0, -1.9])], dtype=object)"
      ]
     },
     "execution_count": 81,
     "metadata": {},
     "output_type": "execute_result"
    }
   ],
   "source": [
    "np.array(tagged_adj)"
   ]
  },
  {
   "cell_type": "code",
   "execution_count": null,
   "id": "20398734-8324-4a36-8dee-342dfff3e813",
   "metadata": {},
   "outputs": [],
   "source": []
  },
  {
   "cell_type": "code",
   "execution_count": 96,
   "id": "0254b51f-77e7-407c-9c21-eb85b3551c32",
   "metadata": {},
   "outputs": [
    {
     "data": {
      "application/vnd.jupyter.widget-view+json": {
       "model_id": "80fb183420744ea3b5d1d45afaaf3d81",
       "version_major": 2,
       "version_minor": 0
      },
      "text/plain": [
       "  0%|          | 0/25000 [00:00<?, ?it/s]"
      ]
     },
     "metadata": {},
     "output_type": "display_data"
    }
   ],
   "source": [
    "ypred1 = []\n",
    "for l in tqdm(tagged_test_data):\n",
    "    dct = sentiment_analyzer.polarity_scores(' '.join(l))\n",
    "    if dct['pos'] >= dct['neg'] - 0.1:\n",
    "        ypred1.append(1)\n",
    "    else:\n",
    "        ypred1.append(0)"
   ]
  },
  {
   "cell_type": "code",
   "execution_count": 97,
   "id": "cb8db80b-92d1-462a-a87d-4846c0acb774",
   "metadata": {},
   "outputs": [
    {
     "name": "stdout",
     "output_type": "stream",
     "text": [
      "0.58008\n"
     ]
    }
   ],
   "source": [
    "print(accuracy_score(ytest, ypred1))"
   ]
  },
  {
   "cell_type": "code",
   "execution_count": null,
   "id": "0f4a5f7d-62a0-4b93-880e-d98b8a8a606b",
   "metadata": {},
   "outputs": [],
   "source": []
  }
 ],
 "metadata": {
  "kernelspec": {
   "display_name": "Python 3 (ipykernel)",
   "language": "python",
   "name": "python3"
  },
  "language_info": {
   "codemirror_mode": {
    "name": "ipython",
    "version": 3
   },
   "file_extension": ".py",
   "mimetype": "text/x-python",
   "name": "python",
   "nbconvert_exporter": "python",
   "pygments_lexer": "ipython3",
   "version": "3.9.10"
  }
 },
 "nbformat": 4,
 "nbformat_minor": 5
}
