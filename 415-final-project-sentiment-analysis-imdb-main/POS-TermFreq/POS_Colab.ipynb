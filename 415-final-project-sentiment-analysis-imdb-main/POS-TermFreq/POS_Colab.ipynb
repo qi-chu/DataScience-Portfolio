{
  "cells": [
    {
      "cell_type": "markdown",
      "source": [
        "### Import Packages"
      ],
      "metadata": {
        "id": "qq53mFRvr3K9"
      },
      "id": "qq53mFRvr3K9"
    },
    {
      "cell_type": "code",
      "execution_count": 1,
      "id": "4928a7a9-1d4a-4070-afc1-a81d6f81b228",
      "metadata": {
        "colab": {
          "base_uri": "https://localhost:8080/"
        },
        "id": "4928a7a9-1d4a-4070-afc1-a81d6f81b228",
        "outputId": "94b4c76e-6849-4670-a7a2-b30a6e05785d"
      },
      "outputs": [
        {
          "output_type": "stream",
          "name": "stdout",
          "text": [
            "[nltk_data] Downloading package averaged_perceptron_tagger to\n",
            "[nltk_data]     /root/nltk_data...\n",
            "[nltk_data]   Unzipping taggers/averaged_perceptron_tagger.zip.\n"
          ]
        }
      ],
      "source": [
        "import pandas as pd\n",
        "import os\n",
        "from os.path import isfile, join\n",
        "import time\n",
        "import re\n",
        "import numpy as np\n",
        "from tqdm.notebook import tqdm\n",
        "import pickle\n",
        "import pandas as pd\n",
        "import itertools\n",
        "from collections import Counter\n",
        "import numpy as np\n",
        "import nltk\n",
        "from nltk import word_tokenize\n",
        "from nltk.corpus import stopwords\n",
        "from sklearn.linear_model import LogisticRegression\n",
        "from gensim.models import word2vec\n",
        "import os\n",
        "import string\n",
        "import spacy\n",
        "import nltk\n",
        "nltk.download('averaged_perceptron_tagger')\n",
        "from nltk import pos_tag\n",
        "from scipy.sparse import csr_matrix\n",
        "# from vaderSentiment.vaderSentiment import SentimentIntensityAnalyzer\n",
        "# sentiment_analyzer = SentimentIntensityAnalyzer()"
      ]
    },
    {
      "cell_type": "code",
      "source": [
        "from google.colab import drive\n",
        "drive.mount('/content/drive')"
      ],
      "metadata": {
        "colab": {
          "base_uri": "https://localhost:8080/"
        },
        "id": "cJskRCusYrTo",
        "outputId": "65bb47d4-0748-4de0-839c-efb019388793"
      },
      "id": "cJskRCusYrTo",
      "execution_count": 2,
      "outputs": [
        {
          "output_type": "stream",
          "name": "stdout",
          "text": [
            "Mounted at /content/drive\n"
          ]
        }
      ]
    },
    {
      "cell_type": "code",
      "execution_count": 3,
      "id": "361ec39c-b618-461a-85a1-1ceb201eeb3b",
      "metadata": {
        "tags": [],
        "id": "361ec39c-b618-461a-85a1-1ceb201eeb3b"
      },
      "outputs": [],
      "source": [
        "from sklearn.linear_model import LogisticRegression\n",
        "from sklearn.metrics import roc_auc_score, auc, f1_score, accuracy_score, roc_curve\n",
        "from sklearn.neural_network import MLPClassifier\n",
        "import matplotlib.pyplot as plt"
      ]
    },
    {
      "cell_type": "markdown",
      "id": "843232cf-fe2a-4867-ae09-136467d673c6",
      "metadata": {
        "id": "843232cf-fe2a-4867-ae09-136467d673c6"
      },
      "source": [
        "### Load Data"
      ]
    },
    {
      "cell_type": "code",
      "execution_count": null,
      "id": "95494945-bede-4c2b-8921-b653892d2156",
      "metadata": {
        "colab": {
          "base_uri": "https://localhost:8080/",
          "height": 35
        },
        "id": "95494945-bede-4c2b-8921-b653892d2156",
        "outputId": "e64f9d0c-689a-4e9a-ad0a-a4f6e5940484"
      },
      "outputs": [
        {
          "output_type": "execute_result",
          "data": {
            "text/plain": [
              "'/content'"
            ],
            "application/vnd.google.colaboratory.intrinsic+json": {
              "type": "string"
            }
          },
          "metadata": {},
          "execution_count": 7
        }
      ],
      "source": [
        "os.getcwd()"
      ]
    },
    {
      "cell_type": "code",
      "execution_count": null,
      "id": "7f44b6dc-7edc-4a29-928c-3938f01edb7c",
      "metadata": {
        "colab": {
          "base_uri": "https://localhost:8080/"
        },
        "id": "7f44b6dc-7edc-4a29-928c-3938f01edb7c",
        "outputId": "ab6caf40-d9ab-44f9-c0fd-910381e34aeb"
      },
      "outputs": [
        {
          "output_type": "execute_result",
          "data": {
            "text/plain": [
              "['.config', 'drive', 'sample_data']"
            ]
          },
          "metadata": {},
          "execution_count": 8
        }
      ],
      "source": [
        "os.listdir()"
      ]
    },
    {
      "cell_type": "code",
      "execution_count": null,
      "id": "e791c935-5617-4f46-a90a-74e34f44726a",
      "metadata": {
        "id": "e791c935-5617-4f46-a90a-74e34f44726a",
        "outputId": "8fdbeff7-fc9d-42d9-be01-cf5b84fbedd9"
      },
      "outputs": [
        {
          "name": "stdout",
          "output_type": "stream",
          "text": [
            "Detect 12500 files at the current path:'./aclImdb/train/pos/', time: 11.9585s.\n",
            "Detect 12500 files at the current path:'./aclImdb/train/neg/', time: 10.1574s.\n",
            "Detect 12500 files at the current path:'./aclImdb/test/pos/', time: 10.813s.\n",
            "Detect 12500 files at the current path:'./aclImdb/test/neg/', time: 11.4046s.\n"
          ]
        }
      ],
      "source": [
        "filePath = [\"./aclImdb/train/\", \"./aclImdb/test/\"]\n",
        "tag = [\"pos/\", \"neg/\"]\n",
        "for i in filePath:\n",
        "    for j in tag:\n",
        "        start = time.time()\n",
        "        path = i+j\n",
        "        onlyfiles = [f for f in os.listdir(path) if isfile(join(path, f))]\n",
        "        end = time.time()\n",
        "        print(f\"Detect {len(onlyfiles)} files at the current path:'{path}', time: {round(end-start, 4)}s.\")\n",
        "# onlyfiles"
      ]
    },
    {
      "cell_type": "code",
      "execution_count": null,
      "id": "9b457b94-ad63-49f6-b743-f6ee9324fe66",
      "metadata": {
        "id": "9b457b94-ad63-49f6-b743-f6ee9324fe66"
      },
      "outputs": [],
      "source": [
        "testPosPath = './aclImdb/test/pos/'\n",
        "testNegPath = './aclImdb/test/neg/'\n",
        "testfiles = [f for f in os.listdir(testPosPath) if isfile(join(testPosPath, f))]\n",
        "testfiles += [f for f in os.listdir(testNegPath) if isfile(join(testNegPath, f))]"
      ]
    },
    {
      "cell_type": "code",
      "execution_count": null,
      "id": "6338254b-ae1a-46ed-821a-3c024a462f1d",
      "metadata": {
        "id": "6338254b-ae1a-46ed-821a-3c024a462f1d",
        "outputId": "37b3f54e-c2c4-4608-9094-e66f70377af1"
      },
      "outputs": [
        {
          "name": "stdout",
          "output_type": "stream",
          "text": [
            "Time :58.0446s.\n"
          ]
        }
      ],
      "source": [
        "Xtest = []\n",
        "ytest = [1] * 12500 + [0] * 12500\n",
        "# filedir = \"./aclImdb/test/neg/\"\n",
        "start = time.time()\n",
        "for i in range(len(testfiles)):\n",
        "    file = testfiles[i]\n",
        "    if i < 12500:\n",
        "        filedir = \"./aclImdb/test/pos/\"\n",
        "    else:\n",
        "        filedir = \"./aclImdb/test/neg/\"\n",
        "    path = filedir + file\n",
        "    rating = re.findall(\"[0-9]+_([0-9]+).txt\", file)[0]\n",
        "    with open(path, \"r\") as f:\n",
        "        contents = f.read()\n",
        "        Xtest.append([contents, rating])\n",
        "end = time.time()\n",
        "print(\"Time :{}s.\".format(round(end- start, 4)))"
      ]
    },
    {
      "cell_type": "code",
      "execution_count": null,
      "id": "0eb222c7-171b-4ad8-9d15-70945af228e5",
      "metadata": {
        "id": "0eb222c7-171b-4ad8-9d15-70945af228e5",
        "outputId": "e265b2ca-2db3-436c-9d9d-789763770c58"
      },
      "outputs": [
        {
          "name": "stdout",
          "output_type": "stream",
          "text": [
            "(25000, 3)\n"
          ]
        },
        {
          "data": {
            "text/html": [
              "<div>\n",
              "<style scoped>\n",
              "    .dataframe tbody tr th:only-of-type {\n",
              "        vertical-align: middle;\n",
              "    }\n",
              "\n",
              "    .dataframe tbody tr th {\n",
              "        vertical-align: top;\n",
              "    }\n",
              "\n",
              "    .dataframe thead th {\n",
              "        text-align: right;\n",
              "    }\n",
              "</style>\n",
              "<table border=\"1\" class=\"dataframe\">\n",
              "  <thead>\n",
              "    <tr style=\"text-align: right;\">\n",
              "      <th></th>\n",
              "      <th>text</th>\n",
              "      <th>rating</th>\n",
              "      <th>label</th>\n",
              "    </tr>\n",
              "  </thead>\n",
              "  <tbody>\n",
              "    <tr>\n",
              "      <th>0</th>\n",
              "      <td>I went and saw this movie last night after bei...</td>\n",
              "      <td>10</td>\n",
              "      <td>1</td>\n",
              "    </tr>\n",
              "    <tr>\n",
              "      <th>1</th>\n",
              "      <td>Actor turned director Bill Paxton follows up h...</td>\n",
              "      <td>7</td>\n",
              "      <td>1</td>\n",
              "    </tr>\n",
              "    <tr>\n",
              "      <th>2</th>\n",
              "      <td>As a recreational golfer with some knowledge o...</td>\n",
              "      <td>9</td>\n",
              "      <td>1</td>\n",
              "    </tr>\n",
              "    <tr>\n",
              "      <th>3</th>\n",
              "      <td>I saw this film in a sneak preview, and it is ...</td>\n",
              "      <td>8</td>\n",
              "      <td>1</td>\n",
              "    </tr>\n",
              "    <tr>\n",
              "      <th>4</th>\n",
              "      <td>Bill Paxton has taken the true story of the 19...</td>\n",
              "      <td>8</td>\n",
              "      <td>1</td>\n",
              "    </tr>\n",
              "  </tbody>\n",
              "</table>\n",
              "</div>"
            ],
            "text/plain": [
              "                                                text rating  label\n",
              "0  I went and saw this movie last night after bei...     10      1\n",
              "1  Actor turned director Bill Paxton follows up h...      7      1\n",
              "2  As a recreational golfer with some knowledge o...      9      1\n",
              "3  I saw this film in a sneak preview, and it is ...      8      1\n",
              "4  Bill Paxton has taken the true story of the 19...      8      1"
            ]
          },
          "execution_count": 28,
          "metadata": {},
          "output_type": "execute_result"
        }
      ],
      "source": [
        "test = pd.DataFrame(Xtest, columns = [\"text\", 'rating'])\n",
        "test['label'] = ytest\n",
        "print(test.shape)\n",
        "test.head()"
      ]
    },
    {
      "cell_type": "code",
      "execution_count": null,
      "id": "b21340ac-5015-429c-a3ad-852ae6cf9e6f",
      "metadata": {
        "id": "b21340ac-5015-429c-a3ad-852ae6cf9e6f"
      },
      "outputs": [],
      "source": [
        "trainPosPath = './aclImdb/train/pos/'\n",
        "trainNegPath = './aclImdb/train/neg/'\n",
        "trainfiles = [f for f in os.listdir(trainPosPath) if isfile(join(trainPosPath, f))]\n",
        "trainfiles += [f for f in os.listdir(trainNegPath) if isfile(join(trainNegPath, f))]"
      ]
    },
    {
      "cell_type": "code",
      "execution_count": null,
      "id": "d88503b9-ea00-49ec-91e6-454e8e9ccf37",
      "metadata": {
        "id": "d88503b9-ea00-49ec-91e6-454e8e9ccf37",
        "outputId": "9cb6a132-b5cd-4c8f-ae1c-696286764498"
      },
      "outputs": [
        {
          "name": "stdout",
          "output_type": "stream",
          "text": [
            "Time :60.4491s.\n"
          ]
        }
      ],
      "source": [
        "Xtrain = []\n",
        "ytrain = [1] * 12500 + [0] * 12500\n",
        "# filedir = \"./aclImdb/test/neg/\"\n",
        "start = time.time()\n",
        "for i in range(len(trainfiles)):\n",
        "    file = trainfiles[i]\n",
        "    if i < 12500:\n",
        "        filedir = \"./aclImdb/train/pos/\"\n",
        "    else:\n",
        "        filedir = \"./aclImdb/train/neg/\"\n",
        "    path = filedir + file\n",
        "    rating = re.findall(\"[0-9]+_([0-9]+).txt\", file)[0]\n",
        "    with open(path, \"r\") as f:\n",
        "        contents = f.read()\n",
        "        Xtrain.append([contents, rating])\n",
        "end = time.time()\n",
        "print(\"Time :{}s.\".format(round(end- start, 4)))"
      ]
    },
    {
      "cell_type": "code",
      "execution_count": null,
      "id": "c738c5ec-57d9-447d-82b4-c091e4f9ef46",
      "metadata": {
        "id": "c738c5ec-57d9-447d-82b4-c091e4f9ef46",
        "outputId": "3f28e5dd-0613-4d39-d769-5f090d28959b"
      },
      "outputs": [
        {
          "name": "stdout",
          "output_type": "stream",
          "text": [
            "(25000, 3)\n"
          ]
        },
        {
          "data": {
            "text/html": [
              "<div>\n",
              "<style scoped>\n",
              "    .dataframe tbody tr th:only-of-type {\n",
              "        vertical-align: middle;\n",
              "    }\n",
              "\n",
              "    .dataframe tbody tr th {\n",
              "        vertical-align: top;\n",
              "    }\n",
              "\n",
              "    .dataframe thead th {\n",
              "        text-align: right;\n",
              "    }\n",
              "</style>\n",
              "<table border=\"1\" class=\"dataframe\">\n",
              "  <thead>\n",
              "    <tr style=\"text-align: right;\">\n",
              "      <th></th>\n",
              "      <th>text</th>\n",
              "      <th>rating</th>\n",
              "      <th>label</th>\n",
              "    </tr>\n",
              "  </thead>\n",
              "  <tbody>\n",
              "    <tr>\n",
              "      <th>0</th>\n",
              "      <td>Bromwell High is a cartoon comedy. It ran at t...</td>\n",
              "      <td>9</td>\n",
              "      <td>1</td>\n",
              "    </tr>\n",
              "    <tr>\n",
              "      <th>1</th>\n",
              "      <td>Homelessness (or Houselessness as George Carli...</td>\n",
              "      <td>8</td>\n",
              "      <td>1</td>\n",
              "    </tr>\n",
              "    <tr>\n",
              "      <th>2</th>\n",
              "      <td>Brilliant over-acting by Lesley Ann Warren. Be...</td>\n",
              "      <td>10</td>\n",
              "      <td>1</td>\n",
              "    </tr>\n",
              "    <tr>\n",
              "      <th>3</th>\n",
              "      <td>This is easily the most underrated film inn th...</td>\n",
              "      <td>7</td>\n",
              "      <td>1</td>\n",
              "    </tr>\n",
              "    <tr>\n",
              "      <th>4</th>\n",
              "      <td>This is not the typical Mel Brooks film. It wa...</td>\n",
              "      <td>8</td>\n",
              "      <td>1</td>\n",
              "    </tr>\n",
              "  </tbody>\n",
              "</table>\n",
              "</div>"
            ],
            "text/plain": [
              "                                                text rating  label\n",
              "0  Bromwell High is a cartoon comedy. It ran at t...      9      1\n",
              "1  Homelessness (or Houselessness as George Carli...      8      1\n",
              "2  Brilliant over-acting by Lesley Ann Warren. Be...     10      1\n",
              "3  This is easily the most underrated film inn th...      7      1\n",
              "4  This is not the typical Mel Brooks film. It wa...      8      1"
            ]
          },
          "execution_count": 18,
          "metadata": {},
          "output_type": "execute_result"
        }
      ],
      "source": [
        "train = pd.DataFrame(Xtrain, columns = [\"text\", 'rating'])\n",
        "train['label'] = ytrain\n",
        "print(train.shape)\n",
        "train.head()"
      ]
    },
    {
      "cell_type": "markdown",
      "id": "74427194-dd36-4950-a701-b9fca6a0ac64",
      "metadata": {
        "id": "74427194-dd36-4950-a701-b9fca6a0ac64"
      },
      "source": [
        "### Preprocess"
      ]
    },
    {
      "cell_type": "code",
      "execution_count": null,
      "id": "6f26e2bf-a08f-4d0f-a10b-bb5dd69dbf3c",
      "metadata": {
        "id": "6f26e2bf-a08f-4d0f-a10b-bb5dd69dbf3c"
      },
      "outputs": [],
      "source": [
        "def preprocess_df(df, col = \"text\", target_col = 'clean_text'):\n",
        "    # get English stopwords\n",
        "    stop_words = set(stopwords.words('english'))\n",
        "    stop_words.add('would')\n",
        "    # prepare translation table to translate punctuation to space\n",
        "    translator = str.maketrans(string.punctuation, ' ' * len(string.punctuation))\n",
        "    preprocessed_sentences = []\n",
        "    for i, row in df.iterrows():\n",
        "        sent = row[col]\n",
        "        sent_nopuncts = sent.translate(translator)\n",
        "        words_list = sent_nopuncts.strip().split()\n",
        "        filtered_words = [word for word in words_list if word not in stop_words and len(word) != 1] # also skip space from above translation\n",
        "        preprocessed_sentences.append(\" \".join(filtered_words))\n",
        "    df[target_col] = preprocessed_sentences\n",
        "    return df"
      ]
    },
    {
      "cell_type": "code",
      "execution_count": null,
      "id": "3c370d04-570f-46ba-b282-82d9c4a97427",
      "metadata": {
        "id": "3c370d04-570f-46ba-b282-82d9c4a97427"
      },
      "outputs": [],
      "source": [
        "train = preprocess_df(train)\n",
        "test = preprocess_df(test)"
      ]
    },
    {
      "cell_type": "code",
      "execution_count": null,
      "id": "6de9af70-098f-4477-93dc-14e4b6ac2358",
      "metadata": {
        "id": "6de9af70-098f-4477-93dc-14e4b6ac2358",
        "outputId": "d4cb1b36-9742-43b0-d858-4c5cb107cb89"
      },
      "outputs": [
        {
          "name": "stderr",
          "output_type": "stream",
          "text": [
            "[nltk_data] Downloading package stopwords to /home/jovyan/nltk_data...\n",
            "[nltk_data]   Package stopwords is already up-to-date!\n"
          ]
        }
      ],
      "source": [
        "import en_core_web_sm\n",
        "import re\n",
        "nlp_processor = en_core_web_sm.load()\n",
        "nltk.download('stopwords') # <--- this is new\n",
        "from nltk.corpus import stopwords\n",
        "stop = set(stopwords.words('english'))\n",
        "def pre_processing_by_spacy(doc, lemma = True, need_sent = False):\n",
        "    doc_class = nlp_processor(doc)\n",
        "    tokens = []\n",
        "    # step 1: get sentences\n",
        "    for sent in doc_class.sents:\n",
        "        # step 2: get tokens\n",
        "        # step 3 (optional): lemma\n",
        "        if lemma:\n",
        "            words = [token.lemma_ for token in sent]\n",
        "        else:\n",
        "            words = [token.text for token in sent]\n",
        "        if need_sent:\n",
        "            tokens.append(words)\n",
        "        else:\n",
        "            tokens += words\n",
        "            \n",
        "    raw_corpus = re.sub(r'[^\\w\\s]', ' ', ' '.join(tokens)).split()\n",
        "    corpus = [w.lower() for w in raw_corpus if w.lower() not in stop]\n",
        "    \n",
        "    return corpus"
      ]
    },
    {
      "cell_type": "code",
      "execution_count": null,
      "id": "b44ba383-0d90-4fcd-90a5-7e4db46edc07",
      "metadata": {
        "colab": {
          "referenced_widgets": [
            "98c54328c6e941c396f1f355ca2a1f62"
          ]
        },
        "id": "b44ba383-0d90-4fcd-90a5-7e4db46edc07",
        "outputId": "2ae3f7d1-83e9-4b93-dba4-7f88a40d12fd"
      },
      "outputs": [
        {
          "data": {
            "application/vnd.jupyter.widget-view+json": {
              "model_id": "98c54328c6e941c396f1f355ca2a1f62",
              "version_major": 2,
              "version_minor": 0
            },
            "text/plain": [
              "0it [00:00, ?it/s]"
            ]
          },
          "metadata": {},
          "output_type": "display_data"
        }
      ],
      "source": [
        "# tokenization -> preprocess by spacy \n",
        "tagged_data = [pre_processing_by_spacy(_d) for i, _d in tqdm(enumerate(train[\"clean_text\"]))]"
      ]
    },
    {
      "cell_type": "code",
      "execution_count": null,
      "id": "13653680-e4c9-47d4-8aee-8e01a2dd4625",
      "metadata": {
        "colab": {
          "referenced_widgets": [
            "9c2dbc9c98e24a03bc4cf93eecbd7f44"
          ]
        },
        "id": "13653680-e4c9-47d4-8aee-8e01a2dd4625",
        "outputId": "4c8e4c37-b042-4df2-822f-99f8f0bbc31f"
      },
      "outputs": [
        {
          "data": {
            "application/vnd.jupyter.widget-view+json": {
              "model_id": "9c2dbc9c98e24a03bc4cf93eecbd7f44",
              "version_major": 2,
              "version_minor": 0
            },
            "text/plain": [
              "0it [00:00, ?it/s]"
            ]
          },
          "metadata": {},
          "output_type": "display_data"
        }
      ],
      "source": [
        "# tokenization -> preprocess by spacy \n",
        "tagged_test_data = [pre_processing_by_spacy(_d) for i, _d in tqdm(enumerate(test[\"clean_text\"]))]"
      ]
    },
    {
      "cell_type": "code",
      "execution_count": null,
      "id": "5020ce92-3d69-40d5-91e4-1e3a7d309ae4",
      "metadata": {
        "colab": {
          "referenced_widgets": [
            "46bd8f01f7974256b6bb848d1322dc8c",
            "1616b1e3f83346de8d5033aea28cab1c"
          ]
        },
        "id": "5020ce92-3d69-40d5-91e4-1e3a7d309ae4",
        "outputId": "ab906784-3ab2-4256-adf5-45412eece0b0"
      },
      "outputs": [
        {
          "data": {
            "application/vnd.jupyter.widget-view+json": {
              "model_id": "46bd8f01f7974256b6bb848d1322dc8c",
              "version_major": 2,
              "version_minor": 0
            },
            "text/plain": [
              "  0%|          | 0/25000 [00:00<?, ?it/s]"
            ]
          },
          "metadata": {},
          "output_type": "display_data"
        },
        {
          "data": {
            "application/vnd.jupyter.widget-view+json": {
              "model_id": "1616b1e3f83346de8d5033aea28cab1c",
              "version_major": 2,
              "version_minor": 0
            },
            "text/plain": [
              "  0%|          | 0/25000 [00:00<?, ?it/s]"
            ]
          },
          "metadata": {},
          "output_type": "display_data"
        }
      ],
      "source": [
        "# save tagged train data\n",
        "with open(\"data/tagged_train_data.txt\", \"w\") as f:\n",
        "    for s in tqdm(tagged_data):\n",
        "        f.write(str(s) +\"\\n\")\n",
        "with open(\"data/tagged_test_data.txt\", \"w\") as f:\n",
        "    for s in tqdm(tagged_test_data):\n",
        "        f.write(str(s) +\"\\n\")"
      ]
    },
    {
      "cell_type": "markdown",
      "source": [
        "#### Load preprocessed data\n",
        "- Format: tokenized list\n"
      ],
      "metadata": {
        "id": "NZnuLWYesbDr"
      },
      "id": "NZnuLWYesbDr"
    },
    {
      "cell_type": "code",
      "source": [
        "trans_dict = {\"[\": \"\", ',':\"\", \"]\":\"\", \"'\":\"\"}\n",
        "translator = str.maketrans(trans_dict)\n",
        "ytrain = [1] * 12500 + [0] * 12500\n",
        "ytest = ytrain\n",
        "tagged_data =[]\n",
        "tagged_test_data = []\n",
        "with open(\"/content/drive/MyDrive/Colab Notebooks/data/IMDB/tagged_train_data.txt\", \"r\") as f:\n",
        "    for line in tqdm(f):\n",
        "        tagged_data.append(line.translate(translator).split())\n",
        "with open(\"/content/drive/MyDrive/Colab Notebooks/data/IMDB/tagged_test_data.txt\", \"r\") as f:\n",
        "    for line in tqdm(f):\n",
        "        tagged_test_data.append(line.translate(translator).split())"
      ],
      "metadata": {
        "colab": {
          "base_uri": "https://localhost:8080/",
          "height": 81,
          "referenced_widgets": [
            "1ec5c8cab01b48d58fa30b9a4acc1ea8",
            "11a39416a1524fa3a59e94d36e18e81d",
            "3f21d5b791e14e819133bee7c63e511f",
            "a49d9b49df0642cd9bc2c1f202a375b0",
            "57e9d7ea1506439b9fd05f70bd537fa4",
            "7599d01673b6450187805d161d2624a5",
            "cf663710b15442118d6358a60562cfcc",
            "e892bf6f65604428b4ab1975e41cf193",
            "0456de5bfe09495fb743c1cf95d7a856",
            "e263d4907baf45ae8e1f62d6316500df",
            "c407a3dca5e447abbc28f3325e07c2fe",
            "0e32f1d636204aadb2b77432ed630a55",
            "bc9e5a67cafc4999b7ce6456f156a0d5",
            "1c1c3626f3ee40e7b716d5eb13e12001",
            "4445a87e555540c5b2647c66b752b812",
            "b28ea05a1f9c411b9c9ab212395fdbfa",
            "d0d756a3823e463bb5039d563b4fe3bd",
            "ff94a609f32a40c1beb85d85a116d259",
            "a9f39e1255924232a9f74fdd67c3d5eb",
            "bc3915a5c3b54180b397412b36b86c75",
            "025030ea27444d0f9436cc179c6b21a2",
            "6b14ae746b704d25b976b33f915514ea"
          ]
        },
        "id": "jp2-30FVrcKj",
        "outputId": "115be90f-baf7-4081-c14c-ea0849f0ad4a"
      },
      "id": "jp2-30FVrcKj",
      "execution_count": 4,
      "outputs": [
        {
          "output_type": "display_data",
          "data": {
            "text/plain": [
              "0it [00:00, ?it/s]"
            ],
            "application/vnd.jupyter.widget-view+json": {
              "version_major": 2,
              "version_minor": 0,
              "model_id": "1ec5c8cab01b48d58fa30b9a4acc1ea8"
            }
          },
          "metadata": {}
        },
        {
          "output_type": "display_data",
          "data": {
            "text/plain": [
              "0it [00:00, ?it/s]"
            ],
            "application/vnd.jupyter.widget-view+json": {
              "version_major": 2,
              "version_minor": 0,
              "model_id": "0e32f1d636204aadb2b77432ed630a55"
            }
          },
          "metadata": {}
        }
      ]
    },
    {
      "cell_type": "code",
      "source": [
        "tagged_data[0][:5]"
      ],
      "metadata": {
        "colab": {
          "base_uri": "https://localhost:8080/"
        },
        "id": "klH_ZmaWydUJ",
        "outputId": "8e26a308-9324-493e-9be1-9413dd174604"
      },
      "id": "klH_ZmaWydUJ",
      "execution_count": null,
      "outputs": [
        {
          "output_type": "execute_result",
          "data": {
            "text/plain": [
              "['bromwell', 'high', 'cartoon', 'comedy', 'run']"
            ]
          },
          "metadata": {},
          "execution_count": 19
        }
      ]
    },
    {
      "cell_type": "markdown",
      "id": "a6eae489-ab2c-4e61-b50c-6f38bad27859",
      "metadata": {
        "tags": [],
        "id": "a6eae489-ab2c-4e61-b50c-6f38bad27859"
      },
      "source": [
        "### Rule-based"
      ]
    },
    {
      "cell_type": "code",
      "execution_count": null,
      "id": "6f7277f3-08c4-4a04-8da2-327d11e9a036",
      "metadata": {
        "colab": {
          "referenced_widgets": [
            "fafa457a1507454db787e85ed89101d2"
          ]
        },
        "id": "6f7277f3-08c4-4a04-8da2-327d11e9a036",
        "outputId": "71205b77-e5fe-4cbf-f688-97c9b9a298d2"
      },
      "outputs": [
        {
          "data": {
            "application/vnd.jupyter.widget-view+json": {
              "model_id": "fafa457a1507454db787e85ed89101d2",
              "version_major": 2,
              "version_minor": 0
            },
            "text/plain": [
              "  0%|          | 0/25000 [00:00<?, ?it/s]"
            ]
          },
          "metadata": {},
          "output_type": "display_data"
        }
      ],
      "source": [
        "ypred1 = []\n",
        "for l in tqdm(tagged_test_data):\n",
        "    dct = sentiment_analyzer.polarity_scores(' '.join(l))\n",
        "    if dct['pos'] >= dct['neg']:\n",
        "        ypred1.append(1)\n",
        "    else:\n",
        "        ypred1.append(0)"
      ]
    },
    {
      "cell_type": "code",
      "execution_count": null,
      "id": "049eed82-a221-488d-857c-8f3122602236",
      "metadata": {
        "id": "049eed82-a221-488d-857c-8f3122602236",
        "outputId": "a211608b-a2eb-4fec-f4af-1fbff022ac62"
      },
      "outputs": [
        {
          "name": "stdout",
          "output_type": "stream",
          "text": [
            "0.67156\n"
          ]
        }
      ],
      "source": [
        "print(accuracy_score(ytest, ypred1))"
      ]
    },
    {
      "cell_type": "code",
      "execution_count": null,
      "id": "e5fcd817-e2cc-41fe-9ef0-5a57d793b4d7",
      "metadata": {
        "colab": {
          "referenced_widgets": [
            "862895629c254e0da76f67344115cd11"
          ]
        },
        "id": "e5fcd817-e2cc-41fe-9ef0-5a57d793b4d7",
        "outputId": "f48cf334-f9ee-45bd-b7f5-147fbb8b1720"
      },
      "outputs": [
        {
          "data": {
            "application/vnd.jupyter.widget-view+json": {
              "model_id": "862895629c254e0da76f67344115cd11",
              "version_major": 2,
              "version_minor": 0
            },
            "text/plain": [
              "  0%|          | 0/25000 [00:00<?, ?it/s]"
            ]
          },
          "metadata": {},
          "output_type": "display_data"
        }
      ],
      "source": [
        "ypred1 = []\n",
        "for l in tqdm(train.clean_text):\n",
        "    dct = sentiment_analyzer.polarity_scores(l)\n",
        "    if dct['pos'] >= dct['neg']:\n",
        "        ypred1.append(1)\n",
        "    else:\n",
        "        ypred1.append(0)"
      ]
    },
    {
      "cell_type": "code",
      "execution_count": null,
      "id": "1d7f4e41-a378-4345-9f3e-8c80421dbfa8",
      "metadata": {
        "id": "1d7f4e41-a378-4345-9f3e-8c80421dbfa8",
        "outputId": "fb83a176-eb42-4ca1-ce13-4631c0a5528f"
      },
      "outputs": [
        {
          "name": "stdout",
          "output_type": "stream",
          "text": [
            "0.67172\n"
          ]
        }
      ],
      "source": [
        "print(accuracy_score(ytest, ypred1))"
      ]
    },
    {
      "cell_type": "markdown",
      "id": "56d67122-1f8f-4803-bdd4-c9813cc7fd88",
      "metadata": {
        "id": "56d67122-1f8f-4803-bdd4-c9813cc7fd88"
      },
      "source": [
        "### Binary Encoding For Adj + Adv"
      ]
    },
    {
      "cell_type": "code",
      "execution_count": null,
      "id": "860d0af8-e8cb-4998-807e-be4f2ff70b02",
      "metadata": {
        "tags": [],
        "colab": {
          "base_uri": "https://localhost:8080/",
          "height": 49,
          "referenced_widgets": [
            "280ad189d4354a8a8cc79aa5355f463c",
            "859f047edb23460e8c561bceaf0d8154",
            "4ee0b1e4d126431a8c74fb80c800e748",
            "046fbed3f4034afba2b3b14736583d91",
            "d1840858be72412c86b51447773b4407",
            "c4ba5d98eaa54504974d9d3d4267358d",
            "01a08f3cb07847b18aba36919fa098ad",
            "1dcedbd2dbc84782be0dd625dfafd525",
            "4a8dbff390b54bfa95bb9b6e19c06dae",
            "6fee6de20f7e4131aabb27f1bd8f6b30",
            "37abcb1ef9c14eb7a1178ef8f7ffbff5"
          ]
        },
        "id": "860d0af8-e8cb-4998-807e-be4f2ff70b02",
        "outputId": "098bb3db-c43c-427f-b41a-0d819a6e571e"
      },
      "outputs": [
        {
          "output_type": "display_data",
          "data": {
            "text/plain": [
              "  0%|          | 0/25000 [00:00<?, ?it/s]"
            ],
            "application/vnd.jupyter.widget-view+json": {
              "version_major": 2,
              "version_minor": 0,
              "model_id": "280ad189d4354a8a8cc79aa5355f463c"
            }
          },
          "metadata": {}
        }
      ],
      "source": [
        "tagged_sents = []\n",
        "tags = ['JJ', 'JJR', 'JJS', 'RB', 'RBR', 'RBs']\n",
        "for i in tqdm(range(len(tagged_data))):\n",
        "    tagged_sents += [w for w, tag in pos_tag(tagged_data[i]) if tag in tags]"
      ]
    },
    {
      "cell_type": "code",
      "execution_count": null,
      "id": "fc2db4f5-ce06-4d16-ac1e-fb060a6e101a",
      "metadata": {
        "id": "fc2db4f5-ce06-4d16-ac1e-fb060a6e101a",
        "outputId": "aa5c47cd-82c6-4ded-9455-e89a03e5d2ce"
      },
      "outputs": [
        {
          "name": "stdout",
          "output_type": "stream",
          "text": [
            "Size of adj/adv vocab = 31974\n"
          ]
        }
      ],
      "source": [
        "vocab = list(set(tagged_sents))\n",
        "print(\"Size of adj/adv vocab = {}\".format(len(vocab)))"
      ]
    },
    {
      "cell_type": "code",
      "source": [
        "# A function used to build a vocabulary based on descending word frequencies \n",
        "def build_vocab(sentences):\n",
        "    # Build vocabulary\n",
        "    word_counts = Counter(sentences)\n",
        "    # Mapping from index to word\n",
        "    vocabulary_inv = [x[0] for x in word_counts.most_common()]\n",
        "    # Mapping from word to index\n",
        "    vocabulary = {x: i for i, x in enumerate(vocabulary_inv)}\n",
        "    return word_counts, vocabulary, vocabulary_inv\n",
        "word_counts, vocabulary, vocabulary_inv = build_vocab(tagged_sents)"
      ],
      "metadata": {
        "id": "0XpNLUT-xBJL"
      },
      "id": "0XpNLUT-xBJL",
      "execution_count": null,
      "outputs": []
    },
    {
      "cell_type": "code",
      "source": [
        "vocab_freqs = list(word_counts.values())\n",
        "vocab_freqs.sort(reverse = True)\n",
        "print(\"Total vocabs = {}\".format(len(vocab_freqs)))"
      ],
      "metadata": {
        "colab": {
          "base_uri": "https://localhost:8080/"
        },
        "id": "3i7DdmoFyQCN",
        "outputId": "baabf7ed-9771-47a9-fa7d-42f93245335f"
      },
      "id": "3i7DdmoFyQCN",
      "execution_count": null,
      "outputs": [
        {
          "output_type": "stream",
          "name": "stdout",
          "text": [
            "Total vocabs = 31974\n"
          ]
        }
      ]
    },
    {
      "cell_type": "code",
      "source": [
        "import matplotlib.pyplot as plt\n",
        "plt.loglog(vocab_freqs)\n",
        "plt.show()"
      ],
      "metadata": {
        "colab": {
          "base_uri": "https://localhost:8080/",
          "height": 269
        },
        "id": "zFS8Okbw0RVu",
        "outputId": "5b74f943-c3ca-4182-d14c-6fdce9b4bb6e"
      },
      "id": "zFS8Okbw0RVu",
      "execution_count": null,
      "outputs": [
        {
          "output_type": "display_data",
          "data": {
            "text/plain": [
              "<Figure size 432x288 with 1 Axes>"
            ],
            "image/png": "[encoded data removed]"
          },
          "metadata": {
            "needs_background": "light"
          }
        }
      ]
    },
    {
      "cell_type": "code",
      "source": [
        "for i in range(10):\n",
        "  size = 0\n",
        "  for j in range(1,i+1):\n",
        "    size += vocab_freqs.count(j)\n",
        "  print('Vocab size = {}, with freq >= {}'.format(31974 - size, i+1))"
      ],
      "metadata": {
        "colab": {
          "base_uri": "https://localhost:8080/"
        },
        "id": "IbYm2bXI0aBe",
        "outputId": "9321d4df-38ea-4a55-d684-c58c9dd64f83"
      },
      "id": "IbYm2bXI0aBe",
      "execution_count": null,
      "outputs": [
        {
          "output_type": "stream",
          "name": "stdout",
          "text": [
            "Vocab size = 31974, with freq >= 1\n",
            "Vocab size = 18618, with freq >= 2\n",
            "Vocab size = 14479, with freq >= 3\n",
            "Vocab size = 12180, with freq >= 4\n",
            "Vocab size = 10641, with freq >= 5\n",
            "Vocab size = 9509, with freq >= 6\n",
            "Vocab size = 8620, with freq >= 7\n",
            "Vocab size = 7927, with freq >= 8\n",
            "Vocab size = 7355, with freq >= 9\n",
            "Vocab size = 6880, with freq >= 10\n"
          ]
        }
      ]
    },
    {
      "cell_type": "code",
      "source": [
        "AllVocab = sorted(word_counts.items(), key = lambda k_v: k_v[1], reverse = True)\n",
        "selectVocabs = [word for word, freq in AllVocab if freq >= 5]\n",
        "print(\"Total Selected Vocabs = \", len(selectVocabs))"
      ],
      "metadata": {
        "colab": {
          "base_uri": "https://localhost:8080/"
        },
        "id": "Rfs3HBVe1wn-",
        "outputId": "815b933f-ed0d-481c-a2ec-c318b044bb93"
      },
      "id": "Rfs3HBVe1wn-",
      "execution_count": null,
      "outputs": [
        {
          "output_type": "stream",
          "name": "stdout",
          "text": [
            "Total Selected Vocabs =  10641\n"
          ]
        }
      ]
    },
    {
      "cell_type": "code",
      "source": [
        "Xtrain = []\n",
        "for tokens in tqdm(tagged_data):\n",
        "    s = list(set(tokens))\n",
        "    Xtrain.append([s.count(w) for w in selectVocabs])"
      ],
      "metadata": {
        "colab": {
          "base_uri": "https://localhost:8080/",
          "height": 49,
          "referenced_widgets": [
            "30c2d7ef73bc4d67845a601ff2693aea",
            "8499ec8d66684d478657cd1333b13b0c",
            "0c6de610787342dbbe363dfc8eb186ed",
            "47ecf72023cb4cca8af7812cdd652b48",
            "b2646e3a1bed4b18935af91b9d5b03ca",
            "553b373afa454f25978d48997b7a1e36",
            "303d46e0335c4b9d9634c82a4c11a846",
            "3dc27ecb441e4e4b87d4d96ee96c9f0f",
            "bab30fcf86c949fca65c0c0aab945c6e",
            "cb681ce9c63c4e2f845227ce30950fec",
            "eabea0dc74114d50a8e2ad9f5beb2ddf"
          ]
        },
        "id": "uyblncJ41vLc",
        "outputId": "856c44b8-72ad-484a-a661-7525833efbd9"
      },
      "id": "uyblncJ41vLc",
      "execution_count": null,
      "outputs": [
        {
          "output_type": "display_data",
          "data": {
            "text/plain": [
              "  0%|          | 0/25000 [00:00<?, ?it/s]"
            ],
            "application/vnd.jupyter.widget-view+json": {
              "version_major": 2,
              "version_minor": 0,
              "model_id": "30c2d7ef73bc4d67845a601ff2693aea"
            }
          },
          "metadata": {}
        }
      ]
    },
    {
      "cell_type": "code",
      "source": [
        "Xtest = []\n",
        "for tokens in tqdm(tagged_test_data):\n",
        "    s = list(set(tokens))\n",
        "    Xtest.append([s.count(w) for w in selectVocabs])"
      ],
      "metadata": {
        "colab": {
          "base_uri": "https://localhost:8080/",
          "height": 49,
          "referenced_widgets": [
            "fccd0cfe3f7c463dba2c59a4a856ce55",
            "e1e3e701e3ca4c3db535ef846c889737",
            "c3e41c93eaa64b5ea7e512a75bdf0c68",
            "a35f14cec55b4cacb49f97c0fdea289a",
            "15b0608dc4f047b4ba384b30acb1f263",
            "fc142cce66684922861090d7accb9ea3",
            "3f7d177f0c904951861810fe89eedcb8",
            "2a86f5a1bb6c43f2b9ec9efb1dd18c4e",
            "78b8ee990cdb4570a105ea0a32a332da",
            "1e05365eca1b461caa3853a6f1e23c34",
            "739de6c84d564848ad40a8ca84633584"
          ]
        },
        "id": "CTkHGCEH5NCI",
        "outputId": "048d0ed0-e37c-4359-f584-7bc7a5a48142"
      },
      "id": "CTkHGCEH5NCI",
      "execution_count": null,
      "outputs": [
        {
          "output_type": "display_data",
          "data": {
            "text/plain": [
              "  0%|          | 0/25000 [00:00<?, ?it/s]"
            ],
            "application/vnd.jupyter.widget-view+json": {
              "version_major": 2,
              "version_minor": 0,
              "model_id": "fccd0cfe3f7c463dba2c59a4a856ce55"
            }
          },
          "metadata": {}
        }
      ]
    },
    {
      "cell_type": "markdown",
      "source": [
        "#### Save Tokenized Data"
      ],
      "metadata": {
        "id": "NeVnVBc84FCn"
      },
      "id": "NeVnVBc84FCn"
    },
    {
      "cell_type": "code",
      "source": [
        "# save tagged train data\n",
        "with open(\"/content/drive/MyDrive/Colab Notebooks/data/IMDB/Xtrain_sent_bin.txt\", \"w\") as f:\n",
        "    for s in tqdm(Xtrain):\n",
        "        f.write(str(s) +\"\\n\")\n",
        "with open(\"/content/drive/MyDrive/Colab Notebooks/data/IMDB/Xtest_sent_bin.txt\", \"w\") as f:\n",
        "    for s in tqdm(Xtest):\n",
        "        f.write(str(s) +\"\\n\")"
      ],
      "metadata": {
        "colab": {
          "base_uri": "https://localhost:8080/",
          "height": 81,
          "referenced_widgets": [
            "0f0ebe89c27b4d0dbd4131d07289aab0",
            "ffbe729b039848e1aea21b09cbaa3b23",
            "181fdd24f06b404684598a731b5a95ed",
            "1c1e4046f7204a4d97be8afd3b12f10a",
            "5709fc8dc6134ea28b60977fa7e80249",
            "71bb4893f38d43829b679f1e26d3d9c7",
            "39c40116341045bd8841f1c1bf1a03e8",
            "31eecf85983e48058ce65c7de995af04",
            "eba8ec677bf1443cab49e01473f00e92",
            "5f453c2de74d48d5ba4502c07558faa5",
            "6873a30d01a14209aeee9b88ebce7ced",
            "7887ef8c485645eda487d46748e238c7",
            "131427084dad490b8f38794f0f497a9a",
            "8bbc13a39953495e988f0d395440a455",
            "5303286e2cfa4536949087c244e7ad9f",
            "e62381d6ff8e4f9caba4270eb00454cf",
            "c8c9e6fd390741bf990b3c6ae3f9dfe2",
            "e30014326b8f4f1190f106035a629cb7",
            "f245c4e32d954405ba718fe9658454e6",
            "cb75c19bd28a49559961c3f91cbc1bf7",
            "612f6d5a64944933b192fa5a17a7b005",
            "580661bed70a438fb2ec82a568efb151"
          ]
        },
        "id": "5kGdCa_xG7WD",
        "outputId": "b1d975ef-b26d-4815-bf5f-ef761313edf5"
      },
      "id": "5kGdCa_xG7WD",
      "execution_count": 87,
      "outputs": [
        {
          "output_type": "display_data",
          "data": {
            "text/plain": [
              "  0%|          | 0/25000 [00:00<?, ?it/s]"
            ],
            "application/vnd.jupyter.widget-view+json": {
              "version_major": 2,
              "version_minor": 0,
              "model_id": "0f0ebe89c27b4d0dbd4131d07289aab0"
            }
          },
          "metadata": {}
        },
        {
          "output_type": "display_data",
          "data": {
            "text/plain": [
              "  0%|          | 0/25000 [00:00<?, ?it/s]"
            ],
            "application/vnd.jupyter.widget-view+json": {
              "version_major": 2,
              "version_minor": 0,
              "model_id": "7887ef8c485645eda487d46748e238c7"
            }
          },
          "metadata": {}
        }
      ]
    },
    {
      "cell_type": "markdown",
      "source": [
        "#### Read Tokenized Data"
      ],
      "metadata": {
        "id": "ICK4pAlX4Kty"
      },
      "id": "ICK4pAlX4Kty"
    },
    {
      "cell_type": "code",
      "source": [
        "trans_dict = {\"[\": \"\", ',':\"\", \"]\":\"\", \"'\":\"\"}\n",
        "translator = str.maketrans(trans_dict)\n",
        "ytrain = [1] * 12500 + [0] * 12500\n",
        "ytest = ytrain\n",
        "Xtrain =[]\n",
        "Xtest = []\n",
        "with open(\"/content/drive/MyDrive/Colab Notebooks/data/IMDB/Xtrain_sent_bin.txt\", \"r\") as f:\n",
        "    for line in tqdm(f):\n",
        "        Xtrain.append(list(map(int, line.translate(translator).split())))"
      ],
      "metadata": {
        "colab": {
          "base_uri": "https://localhost:8080/",
          "height": 49,
          "referenced_widgets": [
            "ed317cf35fd141dfa5f5929f2ca39298",
            "57ce61fac47a4bb19abd1ceefa8b9cd7",
            "526833d410ed488cba6100d9f9c2e65e",
            "cf8e131e0cdc43f2a45b0bda74d0d6aa",
            "aab1694c2ddc4f908fcd14b98d9614b0",
            "d7947604aeec46f2b10cff83b2bc706b",
            "8dc60346217f443f8f79f8be2d0c3508",
            "85c3829b0e9144f683fd7d4994544044",
            "c01a094f5589464bbe57561935d22aa9",
            "d52c1425865a4ed9b824461b736768a9",
            "8c2d8927ac2845068c03730d3cb2424f"
          ]
        },
        "id": "Gk7N-cdjJBXz",
        "outputId": "0ee1785c-b0d7-4a04-c504-ee250d827f54"
      },
      "id": "Gk7N-cdjJBXz",
      "execution_count": 5,
      "outputs": [
        {
          "output_type": "display_data",
          "data": {
            "text/plain": [
              "0it [00:00, ?it/s]"
            ],
            "application/vnd.jupyter.widget-view+json": {
              "version_major": 2,
              "version_minor": 0,
              "model_id": "ed317cf35fd141dfa5f5929f2ca39298"
            }
          },
          "metadata": {}
        }
      ]
    },
    {
      "cell_type": "code",
      "source": [
        "ytest = ytrain\n",
        "Xtest = []\n",
        "with open(\"/content/drive/MyDrive/Colab Notebooks/data/IMDB/Xtest_sent_bin.txt\", \"r\") as f:\n",
        "    for line in tqdm(f):\n",
        "        Xtest.append(list(map(int, line.translate(translator).split())))"
      ],
      "metadata": {
        "colab": {
          "base_uri": "https://localhost:8080/",
          "height": 49,
          "referenced_widgets": [
            "e944762918e24b4c914768c1baf56bb0",
            "6e59df3fe16a445a80fedd19744e3957",
            "0ef7f21148024276a6824389ad3daf17",
            "aa20a27c6c474738a1d71e212a98944c",
            "3235d55d55604a4791e48a344d128b63",
            "a103ceb37e2b4b9ebfe1df5534b8bb16",
            "ad1f39d658f2426db85f124aac7cbc98",
            "19a38d5724ea4d8bb78651125216306d",
            "085e5c048e7a45d883f94ea7ab7ef30a",
            "b9c0e4f3f7d6412c895c33291cecb481",
            "a06c572ce7904381b043da6428c60200"
          ]
        },
        "id": "fEbdjdvlbcmV",
        "outputId": "9ff68884-f589-46f7-ec04-d93c25885ec8"
      },
      "id": "fEbdjdvlbcmV",
      "execution_count": 6,
      "outputs": [
        {
          "output_type": "display_data",
          "data": {
            "text/plain": [
              "0it [00:00, ?it/s]"
            ],
            "application/vnd.jupyter.widget-view+json": {
              "version_major": 2,
              "version_minor": 0,
              "model_id": "e944762918e24b4c914768c1baf56bb0"
            }
          },
          "metadata": {}
        }
      ]
    },
    {
      "cell_type": "code",
      "execution_count": 7,
      "id": "03ea848c-709b-44d0-ab6f-3cd66907c925",
      "metadata": {
        "id": "03ea848c-709b-44d0-ab6f-3cd66907c925"
      },
      "outputs": [],
      "source": [
        "# evaluate function\n",
        "def evaluate(ytest, ypred, name):\n",
        "    ypred_label = np.argmax(ypred, axis = 1)\n",
        "    ypred_proba = ypred[:,1]\n",
        "    accu = accuracy_score(ytest, ypred_label)\n",
        "    f1 = f1_score(ytest, ypred_label)\n",
        "    AUC = roc_auc_score(ytest, ypred_proba)\n",
        "    fpr, tpr, _ = roc_curve(ytest, ypred_proba)\n",
        "    \n",
        "    lw = 2\n",
        "    plt.figure(figsize = (6,6))\n",
        "    plt.plot(fpr, tpr, lw = lw, label=\"ROC curve of model {}, AUC = ({:0.2f})\".format(name, AUC))\n",
        "    plt.plot([0, 1], [0, 1], \"k--\", lw=lw)\n",
        "    plt.xlim([0.0, 1.0])\n",
        "    plt.ylim([0.0, 1.05])\n",
        "    plt.xlabel(\"False Positive Rate\")\n",
        "    plt.ylabel(\"True Positive Rate\")\n",
        "    plt.title(\"ROC Curve\")\n",
        "    plt.legend(loc=\"lower right\")\n",
        "    plt.show()\n",
        "    \n",
        "    df = pd.DataFrame()\n",
        "    df = df.assign(\n",
        "        model = [name],\n",
        "        accuracy = [accu],\n",
        "        f1_score = [f1],\n",
        "        AUC = [AUC]\n",
        "    )\n",
        "    print(df)\n",
        "    return df"
      ]
    },
    {
      "cell_type": "code",
      "source": [
        "# shuffle data\n",
        "train_ids = list(range(25000))\n",
        "test_ids = list(range(25000))\n",
        "import random\n",
        "random.seed(233)\n",
        "random.shuffle(train_ids)\n",
        "random.shuffle(test_ids)\n",
        "\n",
        "Xtrain_s = []\n",
        "ytrain_s = []\n",
        "Xtest_s = []\n",
        "ytest_s = []\n",
        "for i in train_ids:\n",
        "  Xtrain_s.append(Xtrain[i])\n",
        "  ytrain_s.append(ytrain[i])\n",
        "for i in test_ids:\n",
        "  Xtest_s.append(Xtest[i])\n",
        "  ytest_s.append(ytest[i])\n",
        "  \n",
        "Xtrain_ = csr_matrix(Xtrain_s)\n",
        "Xtest_ = csr_matrix(Xtest_s)"
      ],
      "metadata": {
        "id": "1cWCEUGB4e1q"
      },
      "id": "1cWCEUGB4e1q",
      "execution_count": 8,
      "outputs": []
    },
    {
      "cell_type": "markdown",
      "source": [
        "#### Logistic Regresion"
      ],
      "metadata": {
        "id": "TaNVgbjVe4Wt"
      },
      "id": "TaNVgbjVe4Wt"
    },
    {
      "cell_type": "code",
      "execution_count": 27,
      "id": "8c61ba6c-0737-41fe-aeb9-a0889f494d1c",
      "metadata": {
        "collapsed": true,
        "jupyter": {
          "outputs_hidden": true
        },
        "tags": [],
        "colab": {
          "base_uri": "https://localhost:8080/"
        },
        "id": "8c61ba6c-0737-41fe-aeb9-a0889f494d1c",
        "outputId": "b831d25c-a282-480a-a7d4-82cf778e9b8d"
      },
      "outputs": [
        {
          "output_type": "stream",
          "name": "stdout",
          "text": [
            "CPU times: user 9.29 s, sys: 10.9 s, total: 20.2 s\n",
            "Wall time: 10.4 s\n"
          ]
        }
      ],
      "source": [
        "%%time\n",
        "clf = LogisticRegression(C = 20, max_iter = 100000000, random_state = 233)\n",
        "clf.fit(Xtrain_, ytrain_s)"
      ]
    },
    {
      "cell_type": "code",
      "execution_count": 28,
      "id": "935946f9-3a95-4a73-b0f9-b1042ef2bc1c",
      "metadata": {
        "id": "935946f9-3a95-4a73-b0f9-b1042ef2bc1c",
        "colab": {
          "base_uri": "https://localhost:8080/",
          "height": 439
        },
        "outputId": "a790afaa-069c-428f-dc49-7c5e7359fc84"
      },
      "outputs": [
        {
          "output_type": "display_data",
          "data": {
            "text/plain": [
              "<Figure size 432x432 with 1 Axes>"
            ],
            "image/png": "[encoded data removed]"
          },
          "metadata": {
            "needs_background": "light"
          }
        },
        {
          "output_type": "stream",
          "name": "stdout",
          "text": [
            "            model  accuracy  f1_score       AUC\n",
            "0  sent_bin_logit   0.82236  0.820355  0.899927\n"
          ]
        }
      ],
      "source": [
        "ypred2 = clf.predict_proba(Xtest_)\n",
        "eval1 = evaluate(ytest_s, ypred2, 'sent_bin_logit')"
      ]
    },
    {
      "cell_type": "code",
      "source": [
        "res1 = pd.DataFrame()\n",
        "res1['ytest'] = ytest_s\n",
        "res1['pred_0'] = ypred2[:,0]\n",
        "res1['pred_1'] = ypred2[:,1]\n",
        "res1.head()\n",
        "res1.to_csv(\"/content/drive/MyDrive/Colab Notebooks/data/IMDB/res_POS_logit.csv\", index = False)"
      ],
      "metadata": {
        "id": "SApbnuCC651G"
      },
      "id": "SApbnuCC651G",
      "execution_count": 29,
      "outputs": []
    },
    {
      "cell_type": "markdown",
      "source": [
        "#### Simple NN"
      ],
      "metadata": {
        "id": "cjoazI_xe-HJ"
      },
      "id": "cjoazI_xe-HJ"
    },
    {
      "cell_type": "code",
      "source": [
        "# experience rules for hidden layer design\n",
        "input_shape = len(Xtrain[0])\n",
        "n = input_shape # dim of features\n",
        "m = 2 # dim of output\n",
        "h1 = int(np.log2(n))\n",
        "h2 = int(np.sqrt(m + n)) + 3\n",
        "h3 = 2 * n + 1\n",
        "print(h1, h2, h3)"
      ],
      "metadata": {
        "colab": {
          "base_uri": "https://localhost:8080/"
        },
        "id": "tiiT4IVKElYu",
        "outputId": "d95d2465-37a3-4a43-9f60-7c74010306cf"
      },
      "id": "tiiT4IVKElYu",
      "execution_count": 30,
      "outputs": [
        {
          "output_type": "stream",
          "name": "stdout",
          "text": [
            "13 106 21283\n"
          ]
        }
      ]
    },
    {
      "cell_type": "markdown",
      "source": [
        "##### size = (h1,), solver = 'Adam'"
      ],
      "metadata": {
        "id": "uhv6-p8C6XNB"
      },
      "id": "uhv6-p8C6XNB"
    },
    {
      "cell_type": "code",
      "source": [
        "clf = MLPClassifier(\n",
        "    hidden_layer_sizes = (h1,),\n",
        "    alpha = 0.02,\n",
        "    # solver = 'sgd',\n",
        "    # early_stopping = True,\n",
        "    # validation_fraction = 0.1,\n",
        ")\n",
        "clf.fit(Xtrain_, ytrain_s)"
      ],
      "metadata": {
        "colab": {
          "base_uri": "https://localhost:8080/"
        },
        "id": "42tevBxNZlVk",
        "outputId": "480757af-ddd3-4e84-cec7-91e2aba95458"
      },
      "id": "42tevBxNZlVk",
      "execution_count": 31,
      "outputs": [
        {
          "output_type": "execute_result",
          "data": {
            "text/plain": [
              "MLPClassifier(alpha=0.02, hidden_layer_sizes=(13,))"
            ]
          },
          "metadata": {},
          "execution_count": 31
        }
      ]
    },
    {
      "cell_type": "code",
      "source": [
        "ypred3 = clf.predict_proba(Xtest_)\n",
        "eval2 = evaluate(ytest_s, ypred3, 'sent_bin_NN_13')"
      ],
      "metadata": {
        "colab": {
          "base_uri": "https://localhost:8080/",
          "height": 439
        },
        "id": "dC6U28nDammo",
        "outputId": "cffbacba-e749-4466-9775-133acf86c941"
      },
      "id": "dC6U28nDammo",
      "execution_count": 32,
      "outputs": [
        {
          "output_type": "display_data",
          "data": {
            "text/plain": [
              "<Figure size 432x432 with 1 Axes>"
            ],
            "image/png": "[encoded data removed]"
          },
          "metadata": {
            "needs_background": "light"
          }
        },
        {
          "output_type": "stream",
          "name": "stdout",
          "text": [
            "            model  accuracy  f1_score       AUC\n",
            "0  sent_bin_NN_13   0.83404  0.834179  0.910793\n"
          ]
        }
      ]
    },
    {
      "cell_type": "markdown",
      "source": [
        "##### size = (h1,), solver = 'SGD'"
      ],
      "metadata": {
        "id": "Ss8a7rmF6iL_"
      },
      "id": "Ss8a7rmF6iL_"
    },
    {
      "cell_type": "code",
      "source": [
        "clf = MLPClassifier(\n",
        "    hidden_layer_sizes = (h1),\n",
        "    alpha = 0.02,\n",
        "    solver = 'sgd',\n",
        "    # early_stopping = True,\n",
        "    # validation_fraction = 0.1,\n",
        ")\n",
        "clf.fit(Xtrain_, ytrain_s)"
      ],
      "metadata": {
        "colab": {
          "base_uri": "https://localhost:8080/"
        },
        "id": "zdCvquutcjhv",
        "outputId": "38dfe5c9-fca1-4d29-ee41-699102c204a8"
      },
      "id": "zdCvquutcjhv",
      "execution_count": 33,
      "outputs": [
        {
          "output_type": "stream",
          "name": "stderr",
          "text": [
            "/usr/local/lib/python3.7/dist-packages/sklearn/neural_network/_multilayer_perceptron.py:696: ConvergenceWarning: Stochastic Optimizer: Maximum iterations (200) reached and the optimization hasn't converged yet.\n",
            "  ConvergenceWarning,\n"
          ]
        },
        {
          "output_type": "execute_result",
          "data": {
            "text/plain": [
              "MLPClassifier(alpha=0.02, hidden_layer_sizes=13, solver='sgd')"
            ]
          },
          "metadata": {},
          "execution_count": 33
        }
      ]
    },
    {
      "cell_type": "code",
      "source": [
        "ypred4 = clf.predict_proba(Xtest_)\n",
        "eval3 = evaluate(ytest_s, ypred4, 'sent_bin_NN_13_sgd')"
      ],
      "metadata": {
        "colab": {
          "base_uri": "https://localhost:8080/",
          "height": 439
        },
        "id": "LvnpTHrOdL2I",
        "outputId": "c6ffc5bd-616d-4744-fc83-af1a206c4719"
      },
      "id": "LvnpTHrOdL2I",
      "execution_count": 34,
      "outputs": [
        {
          "output_type": "display_data",
          "data": {
            "text/plain": [
              "<Figure size 432x432 with 1 Axes>"
            ],
            "image/png": "[encoded data removed]"
          },
          "metadata": {
            "needs_background": "light"
          }
        },
        {
          "output_type": "stream",
          "name": "stdout",
          "text": [
            "                model  accuracy  f1_score       AUC\n",
            "0  sent_bin_NN_13_sgd   0.86036  0.860555  0.933688\n"
          ]
        }
      ]
    },
    {
      "cell_type": "markdown",
      "source": [
        "##### size = (h1,), solver = 'SGD', early_stopping"
      ],
      "metadata": {
        "id": "m1J4-Exx6mgh"
      },
      "id": "m1J4-Exx6mgh"
    },
    {
      "cell_type": "code",
      "source": [
        "clf = MLPClassifier(\n",
        "    random_state = 233,\n",
        "    hidden_layer_sizes = (h1),\n",
        "    alpha = 0.02,\n",
        "    solver = 'sgd',\n",
        "    max_iter = 1024,\n",
        "    early_stopping = True,\n",
        "    validation_fraction = 0.1,\n",
        ")\n",
        "clf.fit(Xtrain_, ytrain_s)"
      ],
      "metadata": {
        "colab": {
          "base_uri": "https://localhost:8080/"
        },
        "id": "aN3gyVL4dn08",
        "outputId": "85557174-9e52-4d2f-cfc6-7ae4805e24cd"
      },
      "id": "aN3gyVL4dn08",
      "execution_count": 35,
      "outputs": [
        {
          "output_type": "execute_result",
          "data": {
            "text/plain": [
              "MLPClassifier(alpha=0.02, early_stopping=True, hidden_layer_sizes=13,\n",
              "              max_iter=1024, random_state=233, solver='sgd')"
            ]
          },
          "metadata": {},
          "execution_count": 35
        }
      ]
    },
    {
      "cell_type": "code",
      "source": [
        "ypred5 = clf.predict_proba(Xtest_)\n",
        "eval4 = evaluate(ytest_s, ypred5, 'sent_bin_NN_13_sgd_')"
      ],
      "metadata": {
        "colab": {
          "base_uri": "https://localhost:8080/",
          "height": 439
        },
        "id": "aAsgKyrf8MrD",
        "outputId": "7c94d652-1760-42b0-d99e-a74418cafd27"
      },
      "id": "aAsgKyrf8MrD",
      "execution_count": 36,
      "outputs": [
        {
          "output_type": "display_data",
          "data": {
            "text/plain": [
              "<Figure size 432x432 with 1 Axes>"
            ],
            "image/png": "[encoded data removed]"
          },
          "metadata": {
            "needs_background": "light"
          }
        },
        {
          "output_type": "stream",
          "name": "stdout",
          "text": [
            "                 model  accuracy  f1_score       AUC\n",
            "0  sent_bin_NN_13_sgd_   0.86984  0.870451  0.941107\n"
          ]
        }
      ]
    },
    {
      "cell_type": "markdown",
      "source": [
        "##### size = (h2, h1,), solver = 'sgd'"
      ],
      "metadata": {
        "id": "LDdFoesj6sQA"
      },
      "id": "LDdFoesj6sQA"
    },
    {
      "cell_type": "code",
      "source": [
        "clf = MLPClassifier(\n",
        "    random_state = 233,\n",
        "    hidden_layer_sizes = (h2,h1),\n",
        "    alpha = 0.02,\n",
        "    solver = 'sgd',\n",
        "    max_iter = 1024,\n",
        "    early_stopping = True,\n",
        "    validation_fraction = 0.1,\n",
        ")\n",
        "clf.fit(Xtrain_, ytrain_s)\n",
        "ypred6 = clf.predict_proba(Xtest_)\n",
        "eval5 = evaluate(ytest_s, ypred6, 'sent_bin_NN_h2_h1')"
      ],
      "metadata": {
        "colab": {
          "base_uri": "https://localhost:8080/",
          "height": 439
        },
        "id": "UDn8KcCne_8z",
        "outputId": "cd7a9fac-aede-49f8-e06c-4b414c95b916"
      },
      "id": "UDn8KcCne_8z",
      "execution_count": 38,
      "outputs": [
        {
          "output_type": "display_data",
          "data": {
            "text/plain": [
              "<Figure size 432x432 with 1 Axes>"
            ],
            "image/png": "[encoded data removed]"
          },
          "metadata": {
            "needs_background": "light"
          }
        },
        {
          "output_type": "stream",
          "name": "stdout",
          "text": [
            "               model  accuracy  f1_score      AUC\n",
            "0  sent_bin_NN_h2_h1   0.86836  0.868281  0.94066\n"
          ]
        }
      ]
    },
    {
      "cell_type": "code",
      "source": [
        "evalAll = pd.concat([eval1, eval2, eval3, eval4, eval5])\n",
        "evalAll"
      ],
      "metadata": {
        "colab": {
          "base_uri": "https://localhost:8080/",
          "height": 206
        },
        "id": "zFKZT2xUAgLc",
        "outputId": "f3485733-0db0-426b-910a-c42ed6c9c864"
      },
      "id": "zFKZT2xUAgLc",
      "execution_count": 40,
      "outputs": [
        {
          "output_type": "execute_result",
          "data": {
            "text/plain": [
              "                 model  accuracy  f1_score       AUC\n",
              "0       sent_bin_logit   0.82236  0.820355  0.899927\n",
              "0       sent_bin_NN_13   0.83404  0.834179  0.910793\n",
              "0   sent_bin_NN_13_sgd   0.86036  0.860555  0.933688\n",
              "0  sent_bin_NN_13_sgd_   0.86984  0.870451  0.941107\n",
              "0    sent_bin_NN_h2_h1   0.86836  0.868281  0.940660"
            ],
            "text/html": [
              "\n",
              "  <div id=\"df-d5b1f388-db4d-4ca9-9f50-20a19835ade8\">\n",
              "    <div class=\"colab-df-container\">\n",
              "      <div>\n",
              "<style scoped>\n",
              "    .dataframe tbody tr th:only-of-type {\n",
              "        vertical-align: middle;\n",
              "    }\n",
              "\n",
              "    .dataframe tbody tr th {\n",
              "        vertical-align: top;\n",
              "    }\n",
              "\n",
              "    .dataframe thead th {\n",
              "        text-align: right;\n",
              "    }\n",
              "</style>\n",
              "<table border=\"1\" class=\"dataframe\">\n",
              "  <thead>\n",
              "    <tr style=\"text-align: right;\">\n",
              "      <th></th>\n",
              "      <th>model</th>\n",
              "      <th>accuracy</th>\n",
              "      <th>f1_score</th>\n",
              "      <th>AUC</th>\n",
              "    </tr>\n",
              "  </thead>\n",
              "  <tbody>\n",
              "    <tr>\n",
              "      <th>0</th>\n",
              "      <td>sent_bin_logit</td>\n",
              "      <td>0.82236</td>\n",
              "      <td>0.820355</td>\n",
              "      <td>0.899927</td>\n",
              "    </tr>\n",
              "    <tr>\n",
              "      <th>0</th>\n",
              "      <td>sent_bin_NN_13</td>\n",
              "      <td>0.83404</td>\n",
              "      <td>0.834179</td>\n",
              "      <td>0.910793</td>\n",
              "    </tr>\n",
              "    <tr>\n",
              "      <th>0</th>\n",
              "      <td>sent_bin_NN_13_sgd</td>\n",
              "      <td>0.86036</td>\n",
              "      <td>0.860555</td>\n",
              "      <td>0.933688</td>\n",
              "    </tr>\n",
              "    <tr>\n",
              "      <th>0</th>\n",
              "      <td>sent_bin_NN_13_sgd_</td>\n",
              "      <td>0.86984</td>\n",
              "      <td>0.870451</td>\n",
              "      <td>0.941107</td>\n",
              "    </tr>\n",
              "    <tr>\n",
              "      <th>0</th>\n",
              "      <td>sent_bin_NN_h2_h1</td>\n",
              "      <td>0.86836</td>\n",
              "      <td>0.868281</td>\n",
              "      <td>0.940660</td>\n",
              "    </tr>\n",
              "  </tbody>\n",
              "</table>\n",
              "</div>\n",
              "      <button class=\"colab-df-convert\" onclick=\"convertToInteractive('df-d5b1f388-db4d-4ca9-9f50-20a19835ade8')\"\n",
              "              title=\"Convert this dataframe to an interactive table.\"\n",
              "              style=\"display:none;\">\n",
              "        \n",
              "  <svg xmlns=\"http://www.w3.org/2000/svg\" height=\"24px\"viewBox=\"0 0 24 24\"\n",
              "       width=\"24px\">\n",
              "    <path d=\"M0 0h24v24H0V0z\" fill=\"none\"/>\n",
              "    <path d=\"M18.56 5.44l.94 2.06.94-2.06 2.06-.94-2.06-.94-.94-2.06-.94 2.06-2.06.94zm-11 1L8.5 8.5l.94-2.06 2.06-.94-2.06-.94L8.5 2.5l-.94 2.06-2.06.94zm10 10l.94 2.06.94-2.06 2.06-.94-2.06-.94-.94-2.06-.94 2.06-2.06.94z\"/><path d=\"M17.41 7.96l-1.37-1.37c-.4-.4-.92-.59-1.43-.59-.52 0-1.04.2-1.43.59L10.3 9.45l-7.72 7.72c-.78.78-.78 2.05 0 2.83L4 21.41c.39.39.9.59 1.41.59.51 0 1.02-.2 1.41-.59l7.78-7.78 2.81-2.81c.8-.78.8-2.07 0-2.86zM5.41 20L4 18.59l7.72-7.72 1.47 1.35L5.41 20z\"/>\n",
              "  </svg>\n",
              "      </button>\n",
              "      \n",
              "  <style>\n",
              "    .colab-df-container {\n",
              "      display:flex;\n",
              "      flex-wrap:wrap;\n",
              "      gap: 12px;\n",
              "    }\n",
              "\n",
              "    .colab-df-convert {\n",
              "      background-color: #E8F0FE;\n",
              "      border: none;\n",
              "      border-radius: 50%;\n",
              "      cursor: pointer;\n",
              "      display: none;\n",
              "      fill: #1967D2;\n",
              "      height: 32px;\n",
              "      padding: 0 0 0 0;\n",
              "      width: 32px;\n",
              "    }\n",
              "\n",
              "    .colab-df-convert:hover {\n",
              "      background-color: #E2EBFA;\n",
              "      box-shadow: 0px 1px 2px rgba(60, 64, 67, 0.3), 0px 1px 3px 1px rgba(60, 64, 67, 0.15);\n",
              "      fill: #174EA6;\n",
              "    }\n",
              "\n",
              "    [theme=dark] .colab-df-convert {\n",
              "      background-color: #3B4455;\n",
              "      fill: #D2E3FC;\n",
              "    }\n",
              "\n",
              "    [theme=dark] .colab-df-convert:hover {\n",
              "      background-color: #434B5C;\n",
              "      box-shadow: 0px 1px 3px 1px rgba(0, 0, 0, 0.15);\n",
              "      filter: drop-shadow(0px 1px 2px rgba(0, 0, 0, 0.3));\n",
              "      fill: #FFFFFF;\n",
              "    }\n",
              "  </style>\n",
              "\n",
              "      <script>\n",
              "        const buttonEl =\n",
              "          document.querySelector('#df-d5b1f388-db4d-4ca9-9f50-20a19835ade8 button.colab-df-convert');\n",
              "        buttonEl.style.display =\n",
              "          google.colab.kernel.accessAllowed ? 'block' : 'none';\n",
              "\n",
              "        async function convertToInteractive(key) {\n",
              "          const element = document.querySelector('#df-d5b1f388-db4d-4ca9-9f50-20a19835ade8');\n",
              "          const dataTable =\n",
              "            await google.colab.kernel.invokeFunction('convertToInteractive',\n",
              "                                                     [key], {});\n",
              "          if (!dataTable) return;\n",
              "\n",
              "          const docLinkHtml = 'Like what you see? Visit the ' +\n",
              "            '<a target=\"_blank\" href=https://colab.research.google.com/notebooks/data_table.ipynb>data table notebook</a>'\n",
              "            + ' to learn more about interactive tables.';\n",
              "          element.innerHTML = '';\n",
              "          dataTable['output_type'] = 'display_data';\n",
              "          await google.colab.output.renderOutput(dataTable, element);\n",
              "          const docLink = document.createElement('div');\n",
              "          docLink.innerHTML = docLinkHtml;\n",
              "          element.appendChild(docLink);\n",
              "        }\n",
              "      </script>\n",
              "    </div>\n",
              "  </div>\n",
              "  "
            ]
          },
          "metadata": {},
          "execution_count": 40
        }
      ]
    },
    {
      "cell_type": "code",
      "source": [
        "res2 = pd.DataFrame()\n",
        "res2['ytest'] = ytest_s\n",
        "res2['pred_0'] = ypred5[:,0]\n",
        "res2['pred_1'] = ypred5[:,1]\n",
        "res2.head()\n",
        "res2.to_csv(\"/content/drive/MyDrive/Colab Notebooks/data/IMDB/res_POS_NN.csv\", index = False)"
      ],
      "metadata": {
        "id": "JLzVObfCC0nC"
      },
      "id": "JLzVObfCC0nC",
      "execution_count": 41,
      "outputs": []
    },
    {
      "cell_type": "markdown",
      "source": [
        "#### Feature Selection"
      ],
      "metadata": {
        "id": "FEQVsuSTUGYi"
      },
      "id": "FEQVsuSTUGYi"
    },
    {
      "cell_type": "code",
      "source": [
        "from xgboost import XGBClassifier\n",
        "from xgboost import plot_importance"
      ],
      "metadata": {
        "id": "Za-AQhftIjJl"
      },
      "id": "Za-AQhftIjJl",
      "execution_count": 42,
      "outputs": []
    },
    {
      "cell_type": "code",
      "source": [
        "%%time\n",
        "xgb = XGBClassifier(max_depth = 8,\n",
        "                    n_estimators = 1000,\n",
        "                    seed = 233,\n",
        "                    reg_lambda = 0.01,\n",
        "                    n_jobs = -1)\n",
        "xgb.fit(Xtrain_, ytrain_s)"
      ],
      "metadata": {
        "colab": {
          "base_uri": "https://localhost:8080/"
        },
        "id": "MAR9QQgwUMsr",
        "outputId": "199ab62a-f407-447e-a7ed-0cbb21e56d28"
      },
      "id": "MAR9QQgwUMsr",
      "execution_count": 43,
      "outputs": [
        {
          "output_type": "stream",
          "name": "stdout",
          "text": [
            "CPU times: user 4min 6s, sys: 244 ms, total: 4min 7s\n",
            "Wall time: 2min 23s\n"
          ]
        }
      ]
    },
    {
      "cell_type": "code",
      "source": [
        "importance = xgb.feature_importances_"
      ],
      "metadata": {
        "id": "WXNV6d2QUWAu"
      },
      "id": "WXNV6d2QUWAu",
      "execution_count": 45,
      "outputs": []
    },
    {
      "cell_type": "code",
      "source": [
        "eval6 = evaluate(ytest_s, xgb.predict_proba(Xtest_), \"bin_sim_xgb'\")"
      ],
      "metadata": {
        "colab": {
          "base_uri": "https://localhost:8080/",
          "height": 439
        },
        "id": "lPb52vR8qCYU",
        "outputId": "49c3953e-77f0-43f0-dec5-a642e95a3a09"
      },
      "id": "lPb52vR8qCYU",
      "execution_count": 46,
      "outputs": [
        {
          "output_type": "display_data",
          "data": {
            "text/plain": [
              "<Figure size 432x432 with 1 Axes>"
            ],
            "image/png": "[encoded data removed]"
          },
          "metadata": {
            "needs_background": "light"
          }
        },
        {
          "output_type": "stream",
          "name": "stdout",
          "text": [
            "          model  accuracy  f1_score       AUC\n",
            "0  bin_sim_xgb'   0.86328  0.863901  0.937851\n"
          ]
        }
      ]
    },
    {
      "cell_type": "code",
      "source": [
        "imp_ids = [i for i, imp in enumerate(importance) if imp > 1e-5]\n",
        "len(imp_ids), max(imp_ids)"
      ],
      "metadata": {
        "colab": {
          "base_uri": "https://localhost:8080/"
        },
        "id": "i7DMh-p-ol9G",
        "outputId": "0d31ee0f-de26-4f6d-cc46-7e92d604d4f8"
      },
      "id": "i7DMh-p-ol9G",
      "execution_count": 47,
      "outputs": [
        {
          "output_type": "execute_result",
          "data": {
            "text/plain": [
              "(2668, 10635)"
            ]
          },
          "metadata": {},
          "execution_count": 47
        }
      ]
    },
    {
      "cell_type": "code",
      "source": [
        "new_Xtrain_s = []\n",
        "new_Xtest_s = []\n",
        "for i in tqdm(range(25000)):\n",
        "  new_Xtrain_s.append(list(map(Xtrain_s[i].__getitem__, imp_ids)))\n",
        "for i in tqdm(range(25000)):\n",
        "  new_Xtest_s.append(list(map(Xtest_s[i].__getitem__, imp_ids)))"
      ],
      "metadata": {
        "colab": {
          "base_uri": "https://localhost:8080/",
          "height": 81,
          "referenced_widgets": [
            "326c388c3aff4492a43f9b14844d87fe",
            "17af5433e14c4784aa5135f6704cdffa",
            "097f09a06d2240289dca501e8ac6b800",
            "b8eb90199a7947589d26fd058391d6af",
            "d74abac915084bcfa351a8b1e9b86962",
            "24bfc281ff7d4c87955f0347fc63a54a",
            "bf17a9d73a3f4aee8c94d31229b7cf06",
            "9f6ab64093d6478fa49a8b158169b4de",
            "906dabd622304f32b3e04df564b876c4",
            "d0d01665560648e9a997ccdf83d092a6",
            "ec9ef080be904784808797e5c08616f1",
            "f3828f38a30e4f23820a59e83cb8ca9c",
            "943267a96cf24cde885e7e5134d1be5e",
            "aa6bbc11bc58461b903a247716a5cb26",
            "d7d3f0284cc84a6286fa61534c8afca0",
            "e7300af5dc9d4573bc537b34ae3f8713",
            "b4df8e88d9ec435b9ab0bbc2e0ba9f89",
            "fd023d33ce2e41919b20818ab2e898bb",
            "dbb09903df4b4d4b8389dc5f2ca981af",
            "e0b651b26f0f4431945326c12cc3fe31",
            "94aa433432104104b27e6ef478742c13",
            "cbe2458d835e435d9b450b617e4f7da1"
          ]
        },
        "id": "qISHW8QFq_KB",
        "outputId": "9d89f837-3423-458d-f62f-d738efa914f0"
      },
      "id": "qISHW8QFq_KB",
      "execution_count": 48,
      "outputs": [
        {
          "output_type": "display_data",
          "data": {
            "text/plain": [
              "  0%|          | 0/25000 [00:00<?, ?it/s]"
            ],
            "application/vnd.jupyter.widget-view+json": {
              "version_major": 2,
              "version_minor": 0,
              "model_id": "326c388c3aff4492a43f9b14844d87fe"
            }
          },
          "metadata": {}
        },
        {
          "output_type": "display_data",
          "data": {
            "text/plain": [
              "  0%|          | 0/25000 [00:00<?, ?it/s]"
            ],
            "application/vnd.jupyter.widget-view+json": {
              "version_major": 2,
              "version_minor": 0,
              "model_id": "f3828f38a30e4f23820a59e83cb8ca9c"
            }
          },
          "metadata": {}
        }
      ]
    },
    {
      "cell_type": "code",
      "source": [
        "# save tagged train data\n",
        "with open(\"/content/drive/MyDrive/Colab Notebooks/data/IMDB/Xtrain_sent_bin_select.txt\", \"w\") as f:\n",
        "    for s in tqdm(new_Xtrain_s):\n",
        "        f.write(str(s) +\"\\n\")\n",
        "with open(\"/content/drive/MyDrive/Colab Notebooks/data/IMDB/Xtest_sent_bin_select.txt\", \"w\") as f:\n",
        "    for s in tqdm(new_Xtest_s):\n",
        "        f.write(str(s) +\"\\n\")"
      ],
      "metadata": {
        "colab": {
          "base_uri": "https://localhost:8080/",
          "height": 81,
          "referenced_widgets": [
            "6fd1720f137948f59d9841961f361e9d",
            "d5935dad2cc442889007ca272a02ef96",
            "f316d95b83bb492dafb3554f6cc98bbf",
            "8001ee50c2e84438a76f67ba5fc551c8",
            "529b74d8c645482c968c0a2f891497c2",
            "4bdfaee8e89042639397807a74677193",
            "38775a660999486f81c40c14cb7b8e71",
            "1f66e3c09a264916a380bbf0854a9565",
            "0f6ae8c7e8474a568751c0acb07c2ab8",
            "9c0dd83a49814d1ab7e2db28cff00f2c",
            "6a5be00c1d5641f997c9bd25676eaf92",
            "6cf442db6f284fb5b8c45de407fa1835",
            "737bd7509cd6448fa7eb967ce59da923",
            "4d10d2ae972b4bf1bf35cb37d2f6fbed",
            "0b77b9c7c3f943cdaf8f70003692966b",
            "bc3d306692bd4c5a9d135aabf566fce7",
            "3c703238b8d947b6af57c9e03a2629a4",
            "3873fe0cf0974b2e8e234e5fc17936ed",
            "73a82b3f48d24890952b972ab03c88b5",
            "083e1f2e39884cf8bd93febe028f3fed",
            "83d6124865c847cba7f7acb9e0d6e2ba",
            "3fc87de857c34791bfe2f5c7e2a1c274"
          ]
        },
        "id": "fVJaNbeWt6zx",
        "outputId": "1b4c80ae-f546-4f3c-faa9-c4e7738de473"
      },
      "id": "fVJaNbeWt6zx",
      "execution_count": 100,
      "outputs": [
        {
          "output_type": "display_data",
          "data": {
            "text/plain": [
              "  0%|          | 0/25000 [00:00<?, ?it/s]"
            ],
            "application/vnd.jupyter.widget-view+json": {
              "version_major": 2,
              "version_minor": 0,
              "model_id": "6fd1720f137948f59d9841961f361e9d"
            }
          },
          "metadata": {}
        },
        {
          "output_type": "display_data",
          "data": {
            "text/plain": [
              "  0%|          | 0/25000 [00:00<?, ?it/s]"
            ],
            "application/vnd.jupyter.widget-view+json": {
              "version_major": 2,
              "version_minor": 0,
              "model_id": "6cf442db6f284fb5b8c45de407fa1835"
            }
          },
          "metadata": {}
        }
      ]
    },
    {
      "cell_type": "code",
      "source": [
        "# test with logit\n",
        "clf = LogisticRegression(C = 20, max_iter = 100000000, random_state = 233)\n",
        "clf.fit(csr_matrix(new_Xtrain_s), ytrain_s)\n",
        "ypred_new = clf.predict_proba(csr_matrix(new_Xtest_s))\n",
        "eval7 = evaluate(ytest_s, ypred_new, 'bin_sent_select_logit')"
      ],
      "metadata": {
        "colab": {
          "base_uri": "https://localhost:8080/",
          "height": 439
        },
        "id": "O4A_nemevw3j",
        "outputId": "2dea8ca5-4614-479c-d8b9-5eb654a66130"
      },
      "id": "O4A_nemevw3j",
      "execution_count": 50,
      "outputs": [
        {
          "output_type": "display_data",
          "data": {
            "text/plain": [
              "<Figure size 432x432 with 1 Axes>"
            ],
            "image/png": "[encoded data removed]"
          },
          "metadata": {
            "needs_background": "light"
          }
        },
        {
          "output_type": "stream",
          "name": "stdout",
          "text": [
            "                   model  accuracy  f1_score       AUC\n",
            "0  bin_sent_select_logit   0.84044  0.839664  0.917172\n"
          ]
        }
      ]
    },
    {
      "cell_type": "code",
      "source": [
        "# test with NN\n",
        "clf = MLPClassifier(\n",
        "    random_state = 233,\n",
        "    hidden_layer_sizes = (h1),\n",
        "    alpha = 0.02,\n",
        "    solver = 'sgd',\n",
        "    max_iter = 1024,\n",
        "    early_stopping = True,\n",
        "    validation_fraction = 0.1,\n",
        ")\n",
        "clf.fit(csr_matrix(new_Xtrain_s), ytrain_s)\n",
        "ypred6_new = clf.predict_proba(csr_matrix(new_Xtest_s))\n",
        "eval8 = evaluate(ytest_s, ypred6_new, 'sent_bin_NN_h1_select')"
      ],
      "metadata": {
        "colab": {
          "base_uri": "https://localhost:8080/",
          "height": 439
        },
        "id": "OFTGSSCKwXCA",
        "outputId": "d4e7d86d-d27c-4980-947e-c2900ed1e1d2"
      },
      "id": "OFTGSSCKwXCA",
      "execution_count": 51,
      "outputs": [
        {
          "output_type": "display_data",
          "data": {
            "text/plain": [
              "<Figure size 432x432 with 1 Axes>"
            ],
            "image/png": "[encoded data removed]"
          },
          "metadata": {
            "needs_background": "light"
          }
        },
        {
          "output_type": "stream",
          "name": "stdout",
          "text": [
            "                   model  accuracy  f1_score       AUC\n",
            "0  sent_bin_NN_h1_select   0.86272  0.863885  0.935962\n"
          ]
        }
      ]
    },
    {
      "cell_type": "code",
      "source": [
        "res3 = pd.DataFrame()\n",
        "res3['ytest'] = ytest_s\n",
        "res3['pred_0'] = ypred_new[:,0]\n",
        "res3['pred_1'] = ypred_new[:,1]\n",
        "res3.head()\n",
        "res3.to_csv(\"/content/drive/MyDrive/Colab Notebooks/data/IMDB/res_POS_logit_select.csv\", index = False)"
      ],
      "metadata": {
        "id": "ld-aIXnbEvxL"
      },
      "id": "ld-aIXnbEvxL",
      "execution_count": 53,
      "outputs": []
    },
    {
      "cell_type": "code",
      "source": [
        "res4 = pd.DataFrame()\n",
        "res4['ytest'] = ytest_s\n",
        "res4['pred_0'] = ypred6_new[:,0]\n",
        "res4['pred_1'] = ypred6_new[:,1]\n",
        "res4.head()\n",
        "res4.to_csv(\"/content/drive/MyDrive/Colab Notebooks/data/IMDB/res_POS_NB_select.csv\", index = False)"
      ],
      "metadata": {
        "id": "aGSaHE1gFFGv"
      },
      "id": "aGSaHE1gFFGv",
      "execution_count": 54,
      "outputs": []
    },
    {
      "cell_type": "code",
      "source": [
        "evalAll = pd.concat([eval1, eval2, eval3, eval4, eval5, eval6, eval7, eval8])\n",
        "evalAll"
      ],
      "metadata": {
        "colab": {
          "base_uri": "https://localhost:8080/",
          "height": 300
        },
        "id": "BCoUM9ILxVvG",
        "outputId": "24d026ed-8f67-4427-afe7-38d4008513ca"
      },
      "id": "BCoUM9ILxVvG",
      "execution_count": 52,
      "outputs": [
        {
          "output_type": "execute_result",
          "data": {
            "text/plain": [
              "                   model  accuracy  f1_score       AUC\n",
              "0         sent_bin_logit   0.82236  0.820355  0.899927\n",
              "0         sent_bin_NN_13   0.83404  0.834179  0.910793\n",
              "0     sent_bin_NN_13_sgd   0.86036  0.860555  0.933688\n",
              "0    sent_bin_NN_13_sgd_   0.86984  0.870451  0.941107\n",
              "0      sent_bin_NN_h2_h1   0.86836  0.868281  0.940660\n",
              "0           bin_sim_xgb'   0.86328  0.863901  0.937851\n",
              "0  bin_sent_select_logit   0.84044  0.839664  0.917172\n",
              "0  sent_bin_NN_h1_select   0.86272  0.863885  0.935962"
            ],
            "text/html": [
              "\n",
              "  <div id=\"df-8d167e14-fa4c-4970-bfb9-e118774a8feb\">\n",
              "    <div class=\"colab-df-container\">\n",
              "      <div>\n",
              "<style scoped>\n",
              "    .dataframe tbody tr th:only-of-type {\n",
              "        vertical-align: middle;\n",
              "    }\n",
              "\n",
              "    .dataframe tbody tr th {\n",
              "        vertical-align: top;\n",
              "    }\n",
              "\n",
              "    .dataframe thead th {\n",
              "        text-align: right;\n",
              "    }\n",
              "</style>\n",
              "<table border=\"1\" class=\"dataframe\">\n",
              "  <thead>\n",
              "    <tr style=\"text-align: right;\">\n",
              "      <th></th>\n",
              "      <th>model</th>\n",
              "      <th>accuracy</th>\n",
              "      <th>f1_score</th>\n",
              "      <th>AUC</th>\n",
              "    </tr>\n",
              "  </thead>\n",
              "  <tbody>\n",
              "    <tr>\n",
              "      <th>0</th>\n",
              "      <td>sent_bin_logit</td>\n",
              "      <td>0.82236</td>\n",
              "      <td>0.820355</td>\n",
              "      <td>0.899927</td>\n",
              "    </tr>\n",
              "    <tr>\n",
              "      <th>0</th>\n",
              "      <td>sent_bin_NN_13</td>\n",
              "      <td>0.83404</td>\n",
              "      <td>0.834179</td>\n",
              "      <td>0.910793</td>\n",
              "    </tr>\n",
              "    <tr>\n",
              "      <th>0</th>\n",
              "      <td>sent_bin_NN_13_sgd</td>\n",
              "      <td>0.86036</td>\n",
              "      <td>0.860555</td>\n",
              "      <td>0.933688</td>\n",
              "    </tr>\n",
              "    <tr>\n",
              "      <th>0</th>\n",
              "      <td>sent_bin_NN_13_sgd_</td>\n",
              "      <td>0.86984</td>\n",
              "      <td>0.870451</td>\n",
              "      <td>0.941107</td>\n",
              "    </tr>\n",
              "    <tr>\n",
              "      <th>0</th>\n",
              "      <td>sent_bin_NN_h2_h1</td>\n",
              "      <td>0.86836</td>\n",
              "      <td>0.868281</td>\n",
              "      <td>0.940660</td>\n",
              "    </tr>\n",
              "    <tr>\n",
              "      <th>0</th>\n",
              "      <td>bin_sim_xgb'</td>\n",
              "      <td>0.86328</td>\n",
              "      <td>0.863901</td>\n",
              "      <td>0.937851</td>\n",
              "    </tr>\n",
              "    <tr>\n",
              "      <th>0</th>\n",
              "      <td>bin_sent_select_logit</td>\n",
              "      <td>0.84044</td>\n",
              "      <td>0.839664</td>\n",
              "      <td>0.917172</td>\n",
              "    </tr>\n",
              "    <tr>\n",
              "      <th>0</th>\n",
              "      <td>sent_bin_NN_h1_select</td>\n",
              "      <td>0.86272</td>\n",
              "      <td>0.863885</td>\n",
              "      <td>0.935962</td>\n",
              "    </tr>\n",
              "  </tbody>\n",
              "</table>\n",
              "</div>\n",
              "      <button class=\"colab-df-convert\" onclick=\"convertToInteractive('df-8d167e14-fa4c-4970-bfb9-e118774a8feb')\"\n",
              "              title=\"Convert this dataframe to an interactive table.\"\n",
              "              style=\"display:none;\">\n",
              "        \n",
              "  <svg xmlns=\"http://www.w3.org/2000/svg\" height=\"24px\"viewBox=\"0 0 24 24\"\n",
              "       width=\"24px\">\n",
              "    <path d=\"M0 0h24v24H0V0z\" fill=\"none\"/>\n",
              "    <path d=\"M18.56 5.44l.94 2.06.94-2.06 2.06-.94-2.06-.94-.94-2.06-.94 2.06-2.06.94zm-11 1L8.5 8.5l.94-2.06 2.06-.94-2.06-.94L8.5 2.5l-.94 2.06-2.06.94zm10 10l.94 2.06.94-2.06 2.06-.94-2.06-.94-.94-2.06-.94 2.06-2.06.94z\"/><path d=\"M17.41 7.96l-1.37-1.37c-.4-.4-.92-.59-1.43-.59-.52 0-1.04.2-1.43.59L10.3 9.45l-7.72 7.72c-.78.78-.78 2.05 0 2.83L4 21.41c.39.39.9.59 1.41.59.51 0 1.02-.2 1.41-.59l7.78-7.78 2.81-2.81c.8-.78.8-2.07 0-2.86zM5.41 20L4 18.59l7.72-7.72 1.47 1.35L5.41 20z\"/>\n",
              "  </svg>\n",
              "      </button>\n",
              "      \n",
              "  <style>\n",
              "    .colab-df-container {\n",
              "      display:flex;\n",
              "      flex-wrap:wrap;\n",
              "      gap: 12px;\n",
              "    }\n",
              "\n",
              "    .colab-df-convert {\n",
              "      background-color: #E8F0FE;\n",
              "      border: none;\n",
              "      border-radius: 50%;\n",
              "      cursor: pointer;\n",
              "      display: none;\n",
              "      fill: #1967D2;\n",
              "      height: 32px;\n",
              "      padding: 0 0 0 0;\n",
              "      width: 32px;\n",
              "    }\n",
              "\n",
              "    .colab-df-convert:hover {\n",
              "      background-color: #E2EBFA;\n",
              "      box-shadow: 0px 1px 2px rgba(60, 64, 67, 0.3), 0px 1px 3px 1px rgba(60, 64, 67, 0.15);\n",
              "      fill: #174EA6;\n",
              "    }\n",
              "\n",
              "    [theme=dark] .colab-df-convert {\n",
              "      background-color: #3B4455;\n",
              "      fill: #D2E3FC;\n",
              "    }\n",
              "\n",
              "    [theme=dark] .colab-df-convert:hover {\n",
              "      background-color: #434B5C;\n",
              "      box-shadow: 0px 1px 3px 1px rgba(0, 0, 0, 0.15);\n",
              "      filter: drop-shadow(0px 1px 2px rgba(0, 0, 0, 0.3));\n",
              "      fill: #FFFFFF;\n",
              "    }\n",
              "  </style>\n",
              "\n",
              "      <script>\n",
              "        const buttonEl =\n",
              "          document.querySelector('#df-8d167e14-fa4c-4970-bfb9-e118774a8feb button.colab-df-convert');\n",
              "        buttonEl.style.display =\n",
              "          google.colab.kernel.accessAllowed ? 'block' : 'none';\n",
              "\n",
              "        async function convertToInteractive(key) {\n",
              "          const element = document.querySelector('#df-8d167e14-fa4c-4970-bfb9-e118774a8feb');\n",
              "          const dataTable =\n",
              "            await google.colab.kernel.invokeFunction('convertToInteractive',\n",
              "                                                     [key], {});\n",
              "          if (!dataTable) return;\n",
              "\n",
              "          const docLinkHtml = 'Like what you see? Visit the ' +\n",
              "            '<a target=\"_blank\" href=https://colab.research.google.com/notebooks/data_table.ipynb>data table notebook</a>'\n",
              "            + ' to learn more about interactive tables.';\n",
              "          element.innerHTML = '';\n",
              "          dataTable['output_type'] = 'display_data';\n",
              "          await google.colab.output.renderOutput(dataTable, element);\n",
              "          const docLink = document.createElement('div');\n",
              "          docLink.innerHTML = docLinkHtml;\n",
              "          element.appendChild(docLink);\n",
              "        }\n",
              "      </script>\n",
              "    </div>\n",
              "  </div>\n",
              "  "
            ]
          },
          "metadata": {},
          "execution_count": 52
        }
      ]
    },
    {
      "cell_type": "code",
      "source": [
        "evalAll.to_csv(\"/content/drive/MyDrive/Colab Notebooks/data/IMDB/evaluation.csv\", index = False)"
      ],
      "metadata": {
        "id": "4nw_OPPKEnUy"
      },
      "id": "4nw_OPPKEnUy",
      "execution_count": 55,
      "outputs": []
    },
    {
      "cell_type": "code",
      "source": [
        ""
      ],
      "metadata": {
        "id": "7GyUxmGBFbEX"
      },
      "id": "7GyUxmGBFbEX",
      "execution_count": null,
      "outputs": []
    }
  ],
  "metadata": {
    "kernelspec": {
      "display_name": "Python 3 (ipykernel)",
      "language": "python",
      "name": "python3"
    },
    "language_info": {
      "codemirror_mode": {
        "name": "ipython",
        "version": 3
      },
      "file_extension": ".py",
      "mimetype": "text/x-python",
      "name": "python",
      "nbconvert_exporter": "python",
      "pygments_lexer": "ipython3",
      "version": "3.9.7"
    },
    "colab": {
      "name": "IMDB_Colab.ipynb",
      "provenance": [],
      "toc_visible": true
    },
    "widgets": {
      "application/vnd.jupyter.widget-state+json": {
        "280ad189d4354a8a8cc79aa5355f463c": {
          "model_module": "@jupyter-widgets/controls",
          "model_name": "HBoxModel",
          "model_module_version": "1.5.0",
          "state": {
            "_dom_classes": [],
            "_model_module": "@jupyter-widgets/controls",
            "_model_module_version": "1.5.0",
            "_model_name": "HBoxModel",
            "_view_count": null,
            "_view_module": "@jupyter-widgets/controls",
            "_view_module_version": "1.5.0",
            "_view_name": "HBoxView",
            "box_style": "",
            "children": [
              "IPY_MODEL_859f047edb23460e8c561bceaf0d8154",
              "IPY_MODEL_4ee0b1e4d126431a8c74fb80c800e748",
              "IPY_MODEL_046fbed3f4034afba2b3b14736583d91"
            ],
            "layout": "IPY_MODEL_d1840858be72412c86b51447773b4407"
          }
        },
        "859f047edb23460e8c561bceaf0d8154": {
          "model_module": "@jupyter-widgets/controls",
          "model_name": "HTMLModel",
          "model_module_version": "1.5.0",
          "state": {
            "_dom_classes": [],
            "_model_module": "@jupyter-widgets/controls",
            "_model_module_version": "1.5.0",
            "_model_name": "HTMLModel",
            "_view_count": null,
            "_view_module": "@jupyter-widgets/controls",
            "_view_module_version": "1.5.0",
            "_view_name": "HTMLView",
            "description": "",
            "description_tooltip": null,
            "layout": "IPY_MODEL_c4ba5d98eaa54504974d9d3d4267358d",
            "placeholder": "​",
            "style": "IPY_MODEL_01a08f3cb07847b18aba36919fa098ad",
            "value": "100%"
          }
        },
        "4ee0b1e4d126431a8c74fb80c800e748": {
          "model_module": "@jupyter-widgets/controls",
          "model_name": "FloatProgressModel",
          "model_module_version": "1.5.0",
          "state": {
            "_dom_classes": [],
            "_model_module": "@jupyter-widgets/controls",
            "_model_module_version": "1.5.0",
            "_model_name": "FloatProgressModel",
            "_view_count": null,
            "_view_module": "@jupyter-widgets/controls",
            "_view_module_version": "1.5.0",
            "_view_name": "ProgressView",
            "bar_style": "success",
            "description": "",
            "description_tooltip": null,
            "layout": "IPY_MODEL_1dcedbd2dbc84782be0dd625dfafd525",
            "max": 25000,
            "min": 0,
            "orientation": "horizontal",
            "style": "IPY_MODEL_4a8dbff390b54bfa95bb9b6e19c06dae",
            "value": 25000
          }
        },
        "046fbed3f4034afba2b3b14736583d91": {
          "model_module": "@jupyter-widgets/controls",
          "model_name": "HTMLModel",
          "model_module_version": "1.5.0",
          "state": {
            "_dom_classes": [],
            "_model_module": "@jupyter-widgets/controls",
            "_model_module_version": "1.5.0",
            "_model_name": "HTMLModel",
            "_view_count": null,
            "_view_module": "@jupyter-widgets/controls",
            "_view_module_version": "1.5.0",
            "_view_name": "HTMLView",
            "description": "",
            "description_tooltip": null,
            "layout": "IPY_MODEL_6fee6de20f7e4131aabb27f1bd8f6b30",
            "placeholder": "​",
            "style": "IPY_MODEL_37abcb1ef9c14eb7a1178ef8f7ffbff5",
            "value": " 25000/25000 [04:08&lt;00:00, 107.43it/s]"
          }
        },
        "d1840858be72412c86b51447773b4407": {
          "model_module": "@jupyter-widgets/base",
          "model_name": "LayoutModel",
          "model_module_version": "1.2.0",
          "state": {
            "_model_module": "@jupyter-widgets/base",
            "_model_module_version": "1.2.0",
            "_model_name": "LayoutModel",
            "_view_count": null,
            "_view_module": "@jupyter-widgets/base",
            "_view_module_version": "1.2.0",
            "_view_name": "LayoutView",
            "align_content": null,
            "align_items": null,
            "align_self": null,
            "border": null,
            "bottom": null,
            "display": null,
            "flex": null,
            "flex_flow": null,
            "grid_area": null,
            "grid_auto_columns": null,
            "grid_auto_flow": null,
            "grid_auto_rows": null,
            "grid_column": null,
            "grid_gap": null,
            "grid_row": null,
            "grid_template_areas": null,
            "grid_template_columns": null,
            "grid_template_rows": null,
            "height": null,
            "justify_content": null,
            "justify_items": null,
            "left": null,
            "margin": null,
            "max_height": null,
            "max_width": null,
            "min_height": null,
            "min_width": null,
            "object_fit": null,
            "object_position": null,
            "order": null,
            "overflow": null,
            "overflow_x": null,
            "overflow_y": null,
            "padding": null,
            "right": null,
            "top": null,
            "visibility": null,
            "width": null
          }
        },
        "c4ba5d98eaa54504974d9d3d4267358d": {
          "model_module": "@jupyter-widgets/base",
          "model_name": "LayoutModel",
          "model_module_version": "1.2.0",
          "state": {
            "_model_module": "@jupyter-widgets/base",
            "_model_module_version": "1.2.0",
            "_model_name": "LayoutModel",
            "_view_count": null,
            "_view_module": "@jupyter-widgets/base",
            "_view_module_version": "1.2.0",
            "_view_name": "LayoutView",
            "align_content": null,
            "align_items": null,
            "align_self": null,
            "border": null,
            "bottom": null,
            "display": null,
            "flex": null,
            "flex_flow": null,
            "grid_area": null,
            "grid_auto_columns": null,
            "grid_auto_flow": null,
            "grid_auto_rows": null,
            "grid_column": null,
            "grid_gap": null,
            "grid_row": null,
            "grid_template_areas": null,
            "grid_template_columns": null,
            "grid_template_rows": null,
            "height": null,
            "justify_content": null,
            "justify_items": null,
            "left": null,
            "margin": null,
            "max_height": null,
            "max_width": null,
            "min_height": null,
            "min_width": null,
            "object_fit": null,
            "object_position": null,
            "order": null,
            "overflow": null,
            "overflow_x": null,
            "overflow_y": null,
            "padding": null,
            "right": null,
            "top": null,
            "visibility": null,
            "width": null
          }
        },
        "01a08f3cb07847b18aba36919fa098ad": {
          "model_module": "@jupyter-widgets/controls",
          "model_name": "DescriptionStyleModel",
          "model_module_version": "1.5.0",
          "state": {
            "_model_module": "@jupyter-widgets/controls",
            "_model_module_version": "1.5.0",
            "_model_name": "DescriptionStyleModel",
            "_view_count": null,
            "_view_module": "@jupyter-widgets/base",
            "_view_module_version": "1.2.0",
            "_view_name": "StyleView",
            "description_width": ""
          }
        },
        "1dcedbd2dbc84782be0dd625dfafd525": {
          "model_module": "@jupyter-widgets/base",
          "model_name": "LayoutModel",
          "model_module_version": "1.2.0",
          "state": {
            "_model_module": "@jupyter-widgets/base",
            "_model_module_version": "1.2.0",
            "_model_name": "LayoutModel",
            "_view_count": null,
            "_view_module": "@jupyter-widgets/base",
            "_view_module_version": "1.2.0",
            "_view_name": "LayoutView",
            "align_content": null,
            "align_items": null,
            "align_self": null,
            "border": null,
            "bottom": null,
            "display": null,
            "flex": null,
            "flex_flow": null,
            "grid_area": null,
            "grid_auto_columns": null,
            "grid_auto_flow": null,
            "grid_auto_rows": null,
            "grid_column": null,
            "grid_gap": null,
            "grid_row": null,
            "grid_template_areas": null,
            "grid_template_columns": null,
            "grid_template_rows": null,
            "height": null,
            "justify_content": null,
            "justify_items": null,
            "left": null,
            "margin": null,
            "max_height": null,
            "max_width": null,
            "min_height": null,
            "min_width": null,
            "object_fit": null,
            "object_position": null,
            "order": null,
            "overflow": null,
            "overflow_x": null,
            "overflow_y": null,
            "padding": null,
            "right": null,
            "top": null,
            "visibility": null,
            "width": null
          }
        },
        "4a8dbff390b54bfa95bb9b6e19c06dae": {
          "model_module": "@jupyter-widgets/controls",
          "model_name": "ProgressStyleModel",
          "model_module_version": "1.5.0",
          "state": {
            "_model_module": "@jupyter-widgets/controls",
            "_model_module_version": "1.5.0",
            "_model_name": "ProgressStyleModel",
            "_view_count": null,
            "_view_module": "@jupyter-widgets/base",
            "_view_module_version": "1.2.0",
            "_view_name": "StyleView",
            "bar_color": null,
            "description_width": ""
          }
        },
        "6fee6de20f7e4131aabb27f1bd8f6b30": {
          "model_module": "@jupyter-widgets/base",
          "model_name": "LayoutModel",
          "model_module_version": "1.2.0",
          "state": {
            "_model_module": "@jupyter-widgets/base",
            "_model_module_version": "1.2.0",
            "_model_name": "LayoutModel",
            "_view_count": null,
            "_view_module": "@jupyter-widgets/base",
            "_view_module_version": "1.2.0",
            "_view_name": "LayoutView",
            "align_content": null,
            "align_items": null,
            "align_self": null,
            "border": null,
            "bottom": null,
            "display": null,
            "flex": null,
            "flex_flow": null,
            "grid_area": null,
            "grid_auto_columns": null,
            "grid_auto_flow": null,
            "grid_auto_rows": null,
            "grid_column": null,
            "grid_gap": null,
            "grid_row": null,
            "grid_template_areas": null,
            "grid_template_columns": null,
            "grid_template_rows": null,
            "height": null,
            "justify_content": null,
            "justify_items": null,
            "left": null,
            "margin": null,
            "max_height": null,
            "max_width": null,
            "min_height": null,
            "min_width": null,
            "object_fit": null,
            "object_position": null,
            "order": null,
            "overflow": null,
            "overflow_x": null,
            "overflow_y": null,
            "padding": null,
            "right": null,
            "top": null,
            "visibility": null,
            "width": null
          }
        },
        "37abcb1ef9c14eb7a1178ef8f7ffbff5": {
          "model_module": "@jupyter-widgets/controls",
          "model_name": "DescriptionStyleModel",
          "model_module_version": "1.5.0",
          "state": {
            "_model_module": "@jupyter-widgets/controls",
            "_model_module_version": "1.5.0",
            "_model_name": "DescriptionStyleModel",
            "_view_count": null,
            "_view_module": "@jupyter-widgets/base",
            "_view_module_version": "1.2.0",
            "_view_name": "StyleView",
            "description_width": ""
          }
        },
        "30c2d7ef73bc4d67845a601ff2693aea": {
          "model_module": "@jupyter-widgets/controls",
          "model_name": "HBoxModel",
          "model_module_version": "1.5.0",
          "state": {
            "_dom_classes": [],
            "_model_module": "@jupyter-widgets/controls",
            "_model_module_version": "1.5.0",
            "_model_name": "HBoxModel",
            "_view_count": null,
            "_view_module": "@jupyter-widgets/controls",
            "_view_module_version": "1.5.0",
            "_view_name": "HBoxView",
            "box_style": "",
            "children": [
              "IPY_MODEL_8499ec8d66684d478657cd1333b13b0c",
              "IPY_MODEL_0c6de610787342dbbe363dfc8eb186ed",
              "IPY_MODEL_47ecf72023cb4cca8af7812cdd652b48"
            ],
            "layout": "IPY_MODEL_b2646e3a1bed4b18935af91b9d5b03ca"
          }
        },
        "8499ec8d66684d478657cd1333b13b0c": {
          "model_module": "@jupyter-widgets/controls",
          "model_name": "HTMLModel",
          "model_module_version": "1.5.0",
          "state": {
            "_dom_classes": [],
            "_model_module": "@jupyter-widgets/controls",
            "_model_module_version": "1.5.0",
            "_model_name": "HTMLModel",
            "_view_count": null,
            "_view_module": "@jupyter-widgets/controls",
            "_view_module_version": "1.5.0",
            "_view_name": "HTMLView",
            "description": "",
            "description_tooltip": null,
            "layout": "IPY_MODEL_553b373afa454f25978d48997b7a1e36",
            "placeholder": "​",
            "style": "IPY_MODEL_303d46e0335c4b9d9634c82a4c11a846",
            "value": "100%"
          }
        },
        "0c6de610787342dbbe363dfc8eb186ed": {
          "model_module": "@jupyter-widgets/controls",
          "model_name": "FloatProgressModel",
          "model_module_version": "1.5.0",
          "state": {
            "_dom_classes": [],
            "_model_module": "@jupyter-widgets/controls",
            "_model_module_version": "1.5.0",
            "_model_name": "FloatProgressModel",
            "_view_count": null,
            "_view_module": "@jupyter-widgets/controls",
            "_view_module_version": "1.5.0",
            "_view_name": "ProgressView",
            "bar_style": "success",
            "description": "",
            "description_tooltip": null,
            "layout": "IPY_MODEL_3dc27ecb441e4e4b87d4d96ee96c9f0f",
            "max": 25000,
            "min": 0,
            "orientation": "horizontal",
            "style": "IPY_MODEL_bab30fcf86c949fca65c0c0aab945c6e",
            "value": 25000
          }
        },
        "47ecf72023cb4cca8af7812cdd652b48": {
          "model_module": "@jupyter-widgets/controls",
          "model_name": "HTMLModel",
          "model_module_version": "1.5.0",
          "state": {
            "_dom_classes": [],
            "_model_module": "@jupyter-widgets/controls",
            "_model_module_version": "1.5.0",
            "_model_name": "HTMLModel",
            "_view_count": null,
            "_view_module": "@jupyter-widgets/controls",
            "_view_module_version": "1.5.0",
            "_view_name": "HTMLView",
            "description": "",
            "description_tooltip": null,
            "layout": "IPY_MODEL_cb681ce9c63c4e2f845227ce30950fec",
            "placeholder": "​",
            "style": "IPY_MODEL_eabea0dc74114d50a8e2ad9f5beb2ddf",
            "value": " 25000/25000 [09:45&lt;00:00, 44.44it/s]"
          }
        },
        "b2646e3a1bed4b18935af91b9d5b03ca": {
          "model_module": "@jupyter-widgets/base",
          "model_name": "LayoutModel",
          "model_module_version": "1.2.0",
          "state": {
            "_model_module": "@jupyter-widgets/base",
            "_model_module_version": "1.2.0",
            "_model_name": "LayoutModel",
            "_view_count": null,
            "_view_module": "@jupyter-widgets/base",
            "_view_module_version": "1.2.0",
            "_view_name": "LayoutView",
            "align_content": null,
            "align_items": null,
            "align_self": null,
            "border": null,
            "bottom": null,
            "display": null,
            "flex": null,
            "flex_flow": null,
            "grid_area": null,
            "grid_auto_columns": null,
            "grid_auto_flow": null,
            "grid_auto_rows": null,
            "grid_column": null,
            "grid_gap": null,
            "grid_row": null,
            "grid_template_areas": null,
            "grid_template_columns": null,
            "grid_template_rows": null,
            "height": null,
            "justify_content": null,
            "justify_items": null,
            "left": null,
            "margin": null,
            "max_height": null,
            "max_width": null,
            "min_height": null,
            "min_width": null,
            "object_fit": null,
            "object_position": null,
            "order": null,
            "overflow": null,
            "overflow_x": null,
            "overflow_y": null,
            "padding": null,
            "right": null,
            "top": null,
            "visibility": null,
            "width": null
          }
        },
        "553b373afa454f25978d48997b7a1e36": {
          "model_module": "@jupyter-widgets/base",
          "model_name": "LayoutModel",
          "model_module_version": "1.2.0",
          "state": {
            "_model_module": "@jupyter-widgets/base",
            "_model_module_version": "1.2.0",
            "_model_name": "LayoutModel",
            "_view_count": null,
            "_view_module": "@jupyter-widgets/base",
            "_view_module_version": "1.2.0",
            "_view_name": "LayoutView",
            "align_content": null,
            "align_items": null,
            "align_self": null,
            "border": null,
            "bottom": null,
            "display": null,
            "flex": null,
            "flex_flow": null,
            "grid_area": null,
            "grid_auto_columns": null,
            "grid_auto_flow": null,
            "grid_auto_rows": null,
            "grid_column": null,
            "grid_gap": null,
            "grid_row": null,
            "grid_template_areas": null,
            "grid_template_columns": null,
            "grid_template_rows": null,
            "height": null,
            "justify_content": null,
            "justify_items": null,
            "left": null,
            "margin": null,
            "max_height": null,
            "max_width": null,
            "min_height": null,
            "min_width": null,
            "object_fit": null,
            "object_position": null,
            "order": null,
            "overflow": null,
            "overflow_x": null,
            "overflow_y": null,
            "padding": null,
            "right": null,
            "top": null,
            "visibility": null,
            "width": null
          }
        },
        "303d46e0335c4b9d9634c82a4c11a846": {
          "model_module": "@jupyter-widgets/controls",
          "model_name": "DescriptionStyleModel",
          "model_module_version": "1.5.0",
          "state": {
            "_model_module": "@jupyter-widgets/controls",
            "_model_module_version": "1.5.0",
            "_model_name": "DescriptionStyleModel",
            "_view_count": null,
            "_view_module": "@jupyter-widgets/base",
            "_view_module_version": "1.2.0",
            "_view_name": "StyleView",
            "description_width": ""
          }
        },
        "3dc27ecb441e4e4b87d4d96ee96c9f0f": {
          "model_module": "@jupyter-widgets/base",
          "model_name": "LayoutModel",
          "model_module_version": "1.2.0",
          "state": {
            "_model_module": "@jupyter-widgets/base",
            "_model_module_version": "1.2.0",
            "_model_name": "LayoutModel",
            "_view_count": null,
            "_view_module": "@jupyter-widgets/base",
            "_view_module_version": "1.2.0",
            "_view_name": "LayoutView",
            "align_content": null,
            "align_items": null,
            "align_self": null,
            "border": null,
            "bottom": null,
            "display": null,
            "flex": null,
            "flex_flow": null,
            "grid_area": null,
            "grid_auto_columns": null,
            "grid_auto_flow": null,
            "grid_auto_rows": null,
            "grid_column": null,
            "grid_gap": null,
            "grid_row": null,
            "grid_template_areas": null,
            "grid_template_columns": null,
            "grid_template_rows": null,
            "height": null,
            "justify_content": null,
            "justify_items": null,
            "left": null,
            "margin": null,
            "max_height": null,
            "max_width": null,
            "min_height": null,
            "min_width": null,
            "object_fit": null,
            "object_position": null,
            "order": null,
            "overflow": null,
            "overflow_x": null,
            "overflow_y": null,
            "padding": null,
            "right": null,
            "top": null,
            "visibility": null,
            "width": null
          }
        },
        "bab30fcf86c949fca65c0c0aab945c6e": {
          "model_module": "@jupyter-widgets/controls",
          "model_name": "ProgressStyleModel",
          "model_module_version": "1.5.0",
          "state": {
            "_model_module": "@jupyter-widgets/controls",
            "_model_module_version": "1.5.0",
            "_model_name": "ProgressStyleModel",
            "_view_count": null,
            "_view_module": "@jupyter-widgets/base",
            "_view_module_version": "1.2.0",
            "_view_name": "StyleView",
            "bar_color": null,
            "description_width": ""
          }
        },
        "cb681ce9c63c4e2f845227ce30950fec": {
          "model_module": "@jupyter-widgets/base",
          "model_name": "LayoutModel",
          "model_module_version": "1.2.0",
          "state": {
            "_model_module": "@jupyter-widgets/base",
            "_model_module_version": "1.2.0",
            "_model_name": "LayoutModel",
            "_view_count": null,
            "_view_module": "@jupyter-widgets/base",
            "_view_module_version": "1.2.0",
            "_view_name": "LayoutView",
            "align_content": null,
            "align_items": null,
            "align_self": null,
            "border": null,
            "bottom": null,
            "display": null,
            "flex": null,
            "flex_flow": null,
            "grid_area": null,
            "grid_auto_columns": null,
            "grid_auto_flow": null,
            "grid_auto_rows": null,
            "grid_column": null,
            "grid_gap": null,
            "grid_row": null,
            "grid_template_areas": null,
            "grid_template_columns": null,
            "grid_template_rows": null,
            "height": null,
            "justify_content": null,
            "justify_items": null,
            "left": null,
            "margin": null,
            "max_height": null,
            "max_width": null,
            "min_height": null,
            "min_width": null,
            "object_fit": null,
            "object_position": null,
            "order": null,
            "overflow": null,
            "overflow_x": null,
            "overflow_y": null,
            "padding": null,
            "right": null,
            "top": null,
            "visibility": null,
            "width": null
          }
        },
        "eabea0dc74114d50a8e2ad9f5beb2ddf": {
          "model_module": "@jupyter-widgets/controls",
          "model_name": "DescriptionStyleModel",
          "model_module_version": "1.5.0",
          "state": {
            "_model_module": "@jupyter-widgets/controls",
            "_model_module_version": "1.5.0",
            "_model_name": "DescriptionStyleModel",
            "_view_count": null,
            "_view_module": "@jupyter-widgets/base",
            "_view_module_version": "1.2.0",
            "_view_name": "StyleView",
            "description_width": ""
          }
        },
        "fccd0cfe3f7c463dba2c59a4a856ce55": {
          "model_module": "@jupyter-widgets/controls",
          "model_name": "HBoxModel",
          "model_module_version": "1.5.0",
          "state": {
            "_dom_classes": [],
            "_model_module": "@jupyter-widgets/controls",
            "_model_module_version": "1.5.0",
            "_model_name": "HBoxModel",
            "_view_count": null,
            "_view_module": "@jupyter-widgets/controls",
            "_view_module_version": "1.5.0",
            "_view_name": "HBoxView",
            "box_style": "",
            "children": [
              "IPY_MODEL_e1e3e701e3ca4c3db535ef846c889737",
              "IPY_MODEL_c3e41c93eaa64b5ea7e512a75bdf0c68",
              "IPY_MODEL_a35f14cec55b4cacb49f97c0fdea289a"
            ],
            "layout": "IPY_MODEL_15b0608dc4f047b4ba384b30acb1f263"
          }
        },
        "e1e3e701e3ca4c3db535ef846c889737": {
          "model_module": "@jupyter-widgets/controls",
          "model_name": "HTMLModel",
          "model_module_version": "1.5.0",
          "state": {
            "_dom_classes": [],
            "_model_module": "@jupyter-widgets/controls",
            "_model_module_version": "1.5.0",
            "_model_name": "HTMLModel",
            "_view_count": null,
            "_view_module": "@jupyter-widgets/controls",
            "_view_module_version": "1.5.0",
            "_view_name": "HTMLView",
            "description": "",
            "description_tooltip": null,
            "layout": "IPY_MODEL_fc142cce66684922861090d7accb9ea3",
            "placeholder": "​",
            "style": "IPY_MODEL_3f7d177f0c904951861810fe89eedcb8",
            "value": "100%"
          }
        },
        "c3e41c93eaa64b5ea7e512a75bdf0c68": {
          "model_module": "@jupyter-widgets/controls",
          "model_name": "FloatProgressModel",
          "model_module_version": "1.5.0",
          "state": {
            "_dom_classes": [],
            "_model_module": "@jupyter-widgets/controls",
            "_model_module_version": "1.5.0",
            "_model_name": "FloatProgressModel",
            "_view_count": null,
            "_view_module": "@jupyter-widgets/controls",
            "_view_module_version": "1.5.0",
            "_view_name": "ProgressView",
            "bar_style": "success",
            "description": "",
            "description_tooltip": null,
            "layout": "IPY_MODEL_2a86f5a1bb6c43f2b9ec9efb1dd18c4e",
            "max": 25000,
            "min": 0,
            "orientation": "horizontal",
            "style": "IPY_MODEL_78b8ee990cdb4570a105ea0a32a332da",
            "value": 25000
          }
        },
        "a35f14cec55b4cacb49f97c0fdea289a": {
          "model_module": "@jupyter-widgets/controls",
          "model_name": "HTMLModel",
          "model_module_version": "1.5.0",
          "state": {
            "_dom_classes": [],
            "_model_module": "@jupyter-widgets/controls",
            "_model_module_version": "1.5.0",
            "_model_name": "HTMLModel",
            "_view_count": null,
            "_view_module": "@jupyter-widgets/controls",
            "_view_module_version": "1.5.0",
            "_view_name": "HTMLView",
            "description": "",
            "description_tooltip": null,
            "layout": "IPY_MODEL_1e05365eca1b461caa3853a6f1e23c34",
            "placeholder": "​",
            "style": "IPY_MODEL_739de6c84d564848ad40a8ca84633584",
            "value": " 25000/25000 [09:26&lt;00:00, 35.68it/s]"
          }
        },
        "15b0608dc4f047b4ba384b30acb1f263": {
          "model_module": "@jupyter-widgets/base",
          "model_name": "LayoutModel",
          "model_module_version": "1.2.0",
          "state": {
            "_model_module": "@jupyter-widgets/base",
            "_model_module_version": "1.2.0",
            "_model_name": "LayoutModel",
            "_view_count": null,
            "_view_module": "@jupyter-widgets/base",
            "_view_module_version": "1.2.0",
            "_view_name": "LayoutView",
            "align_content": null,
            "align_items": null,
            "align_self": null,
            "border": null,
            "bottom": null,
            "display": null,
            "flex": null,
            "flex_flow": null,
            "grid_area": null,
            "grid_auto_columns": null,
            "grid_auto_flow": null,
            "grid_auto_rows": null,
            "grid_column": null,
            "grid_gap": null,
            "grid_row": null,
            "grid_template_areas": null,
            "grid_template_columns": null,
            "grid_template_rows": null,
            "height": null,
            "justify_content": null,
            "justify_items": null,
            "left": null,
            "margin": null,
            "max_height": null,
            "max_width": null,
            "min_height": null,
            "min_width": null,
            "object_fit": null,
            "object_position": null,
            "order": null,
            "overflow": null,
            "overflow_x": null,
            "overflow_y": null,
            "padding": null,
            "right": null,
            "top": null,
            "visibility": null,
            "width": null
          }
        },
        "fc142cce66684922861090d7accb9ea3": {
          "model_module": "@jupyter-widgets/base",
          "model_name": "LayoutModel",
          "model_module_version": "1.2.0",
          "state": {
            "_model_module": "@jupyter-widgets/base",
            "_model_module_version": "1.2.0",
            "_model_name": "LayoutModel",
            "_view_count": null,
            "_view_module": "@jupyter-widgets/base",
            "_view_module_version": "1.2.0",
            "_view_name": "LayoutView",
            "align_content": null,
            "align_items": null,
            "align_self": null,
            "border": null,
            "bottom": null,
            "display": null,
            "flex": null,
            "flex_flow": null,
            "grid_area": null,
            "grid_auto_columns": null,
            "grid_auto_flow": null,
            "grid_auto_rows": null,
            "grid_column": null,
            "grid_gap": null,
            "grid_row": null,
            "grid_template_areas": null,
            "grid_template_columns": null,
            "grid_template_rows": null,
            "height": null,
            "justify_content": null,
            "justify_items": null,
            "left": null,
            "margin": null,
            "max_height": null,
            "max_width": null,
            "min_height": null,
            "min_width": null,
            "object_fit": null,
            "object_position": null,
            "order": null,
            "overflow": null,
            "overflow_x": null,
            "overflow_y": null,
            "padding": null,
            "right": null,
            "top": null,
            "visibility": null,
            "width": null
          }
        },
        "3f7d177f0c904951861810fe89eedcb8": {
          "model_module": "@jupyter-widgets/controls",
          "model_name": "DescriptionStyleModel",
          "model_module_version": "1.5.0",
          "state": {
            "_model_module": "@jupyter-widgets/controls",
            "_model_module_version": "1.5.0",
            "_model_name": "DescriptionStyleModel",
            "_view_count": null,
            "_view_module": "@jupyter-widgets/base",
            "_view_module_version": "1.2.0",
            "_view_name": "StyleView",
            "description_width": ""
          }
        },
        "2a86f5a1bb6c43f2b9ec9efb1dd18c4e": {
          "model_module": "@jupyter-widgets/base",
          "model_name": "LayoutModel",
          "model_module_version": "1.2.0",
          "state": {
            "_model_module": "@jupyter-widgets/base",
            "_model_module_version": "1.2.0",
            "_model_name": "LayoutModel",
            "_view_count": null,
            "_view_module": "@jupyter-widgets/base",
            "_view_module_version": "1.2.0",
            "_view_name": "LayoutView",
            "align_content": null,
            "align_items": null,
            "align_self": null,
            "border": null,
            "bottom": null,
            "display": null,
            "flex": null,
            "flex_flow": null,
            "grid_area": null,
            "grid_auto_columns": null,
            "grid_auto_flow": null,
            "grid_auto_rows": null,
            "grid_column": null,
            "grid_gap": null,
            "grid_row": null,
            "grid_template_areas": null,
            "grid_template_columns": null,
            "grid_template_rows": null,
            "height": null,
            "justify_content": null,
            "justify_items": null,
            "left": null,
            "margin": null,
            "max_height": null,
            "max_width": null,
            "min_height": null,
            "min_width": null,
            "object_fit": null,
            "object_position": null,
            "order": null,
            "overflow": null,
            "overflow_x": null,
            "overflow_y": null,
            "padding": null,
            "right": null,
            "top": null,
            "visibility": null,
            "width": null
          }
        },
        "78b8ee990cdb4570a105ea0a32a332da": {
          "model_module": "@jupyter-widgets/controls",
          "model_name": "ProgressStyleModel",
          "model_module_version": "1.5.0",
          "state": {
            "_model_module": "@jupyter-widgets/controls",
            "_model_module_version": "1.5.0",
            "_model_name": "ProgressStyleModel",
            "_view_count": null,
            "_view_module": "@jupyter-widgets/base",
            "_view_module_version": "1.2.0",
            "_view_name": "StyleView",
            "bar_color": null,
            "description_width": ""
          }
        },
        "1e05365eca1b461caa3853a6f1e23c34": {
          "model_module": "@jupyter-widgets/base",
          "model_name": "LayoutModel",
          "model_module_version": "1.2.0",
          "state": {
            "_model_module": "@jupyter-widgets/base",
            "_model_module_version": "1.2.0",
            "_model_name": "LayoutModel",
            "_view_count": null,
            "_view_module": "@jupyter-widgets/base",
            "_view_module_version": "1.2.0",
            "_view_name": "LayoutView",
            "align_content": null,
            "align_items": null,
            "align_self": null,
            "border": null,
            "bottom": null,
            "display": null,
            "flex": null,
            "flex_flow": null,
            "grid_area": null,
            "grid_auto_columns": null,
            "grid_auto_flow": null,
            "grid_auto_rows": null,
            "grid_column": null,
            "grid_gap": null,
            "grid_row": null,
            "grid_template_areas": null,
            "grid_template_columns": null,
            "grid_template_rows": null,
            "height": null,
            "justify_content": null,
            "justify_items": null,
            "left": null,
            "margin": null,
            "max_height": null,
            "max_width": null,
            "min_height": null,
            "min_width": null,
            "object_fit": null,
            "object_position": null,
            "order": null,
            "overflow": null,
            "overflow_x": null,
            "overflow_y": null,
            "padding": null,
            "right": null,
            "top": null,
            "visibility": null,
            "width": null
          }
        },
        "739de6c84d564848ad40a8ca84633584": {
          "model_module": "@jupyter-widgets/controls",
          "model_name": "DescriptionStyleModel",
          "model_module_version": "1.5.0",
          "state": {
            "_model_module": "@jupyter-widgets/controls",
            "_model_module_version": "1.5.0",
            "_model_name": "DescriptionStyleModel",
            "_view_count": null,
            "_view_module": "@jupyter-widgets/base",
            "_view_module_version": "1.2.0",
            "_view_name": "StyleView",
            "description_width": ""
          }
        },
        "1ec5c8cab01b48d58fa30b9a4acc1ea8": {
          "model_module": "@jupyter-widgets/controls",
          "model_name": "HBoxModel",
          "model_module_version": "1.5.0",
          "state": {
            "_dom_classes": [],
            "_model_module": "@jupyter-widgets/controls",
            "_model_module_version": "1.5.0",
            "_model_name": "HBoxModel",
            "_view_count": null,
            "_view_module": "@jupyter-widgets/controls",
            "_view_module_version": "1.5.0",
            "_view_name": "HBoxView",
            "box_style": "",
            "children": [
              "IPY_MODEL_11a39416a1524fa3a59e94d36e18e81d",
              "IPY_MODEL_3f21d5b791e14e819133bee7c63e511f",
              "IPY_MODEL_a49d9b49df0642cd9bc2c1f202a375b0"
            ],
            "layout": "IPY_MODEL_57e9d7ea1506439b9fd05f70bd537fa4"
          }
        },
        "11a39416a1524fa3a59e94d36e18e81d": {
          "model_module": "@jupyter-widgets/controls",
          "model_name": "HTMLModel",
          "model_module_version": "1.5.0",
          "state": {
            "_dom_classes": [],
            "_model_module": "@jupyter-widgets/controls",
            "_model_module_version": "1.5.0",
            "_model_name": "HTMLModel",
            "_view_count": null,
            "_view_module": "@jupyter-widgets/controls",
            "_view_module_version": "1.5.0",
            "_view_name": "HTMLView",
            "description": "",
            "description_tooltip": null,
            "layout": "IPY_MODEL_7599d01673b6450187805d161d2624a5",
            "placeholder": "​",
            "style": "IPY_MODEL_cf663710b15442118d6358a60562cfcc",
            "value": ""
          }
        },
        "3f21d5b791e14e819133bee7c63e511f": {
          "model_module": "@jupyter-widgets/controls",
          "model_name": "FloatProgressModel",
          "model_module_version": "1.5.0",
          "state": {
            "_dom_classes": [],
            "_model_module": "@jupyter-widgets/controls",
            "_model_module_version": "1.5.0",
            "_model_name": "FloatProgressModel",
            "_view_count": null,
            "_view_module": "@jupyter-widgets/controls",
            "_view_module_version": "1.5.0",
            "_view_name": "ProgressView",
            "bar_style": "success",
            "description": "",
            "description_tooltip": null,
            "layout": "IPY_MODEL_e892bf6f65604428b4ab1975e41cf193",
            "max": 1,
            "min": 0,
            "orientation": "horizontal",
            "style": "IPY_MODEL_0456de5bfe09495fb743c1cf95d7a856",
            "value": 1
          }
        },
        "a49d9b49df0642cd9bc2c1f202a375b0": {
          "model_module": "@jupyter-widgets/controls",
          "model_name": "HTMLModel",
          "model_module_version": "1.5.0",
          "state": {
            "_dom_classes": [],
            "_model_module": "@jupyter-widgets/controls",
            "_model_module_version": "1.5.0",
            "_model_name": "HTMLModel",
            "_view_count": null,
            "_view_module": "@jupyter-widgets/controls",
            "_view_module_version": "1.5.0",
            "_view_name": "HTMLView",
            "description": "",
            "description_tooltip": null,
            "layout": "IPY_MODEL_e263d4907baf45ae8e1f62d6316500df",
            "placeholder": "​",
            "style": "IPY_MODEL_c407a3dca5e447abbc28f3325e07c2fe",
            "value": " 25000/? [00:03&lt;00:00, 9752.94it/s]"
          }
        },
        "57e9d7ea1506439b9fd05f70bd537fa4": {
          "model_module": "@jupyter-widgets/base",
          "model_name": "LayoutModel",
          "model_module_version": "1.2.0",
          "state": {
            "_model_module": "@jupyter-widgets/base",
            "_model_module_version": "1.2.0",
            "_model_name": "LayoutModel",
            "_view_count": null,
            "_view_module": "@jupyter-widgets/base",
            "_view_module_version": "1.2.0",
            "_view_name": "LayoutView",
            "align_content": null,
            "align_items": null,
            "align_self": null,
            "border": null,
            "bottom": null,
            "display": null,
            "flex": null,
            "flex_flow": null,
            "grid_area": null,
            "grid_auto_columns": null,
            "grid_auto_flow": null,
            "grid_auto_rows": null,
            "grid_column": null,
            "grid_gap": null,
            "grid_row": null,
            "grid_template_areas": null,
            "grid_template_columns": null,
            "grid_template_rows": null,
            "height": null,
            "justify_content": null,
            "justify_items": null,
            "left": null,
            "margin": null,
            "max_height": null,
            "max_width": null,
            "min_height": null,
            "min_width": null,
            "object_fit": null,
            "object_position": null,
            "order": null,
            "overflow": null,
            "overflow_x": null,
            "overflow_y": null,
            "padding": null,
            "right": null,
            "top": null,
            "visibility": null,
            "width": null
          }
        },
        "7599d01673b6450187805d161d2624a5": {
          "model_module": "@jupyter-widgets/base",
          "model_name": "LayoutModel",
          "model_module_version": "1.2.0",
          "state": {
            "_model_module": "@jupyter-widgets/base",
            "_model_module_version": "1.2.0",
            "_model_name": "LayoutModel",
            "_view_count": null,
            "_view_module": "@jupyter-widgets/base",
            "_view_module_version": "1.2.0",
            "_view_name": "LayoutView",
            "align_content": null,
            "align_items": null,
            "align_self": null,
            "border": null,
            "bottom": null,
            "display": null,
            "flex": null,
            "flex_flow": null,
            "grid_area": null,
            "grid_auto_columns": null,
            "grid_auto_flow": null,
            "grid_auto_rows": null,
            "grid_column": null,
            "grid_gap": null,
            "grid_row": null,
            "grid_template_areas": null,
            "grid_template_columns": null,
            "grid_template_rows": null,
            "height": null,
            "justify_content": null,
            "justify_items": null,
            "left": null,
            "margin": null,
            "max_height": null,
            "max_width": null,
            "min_height": null,
            "min_width": null,
            "object_fit": null,
            "object_position": null,
            "order": null,
            "overflow": null,
            "overflow_x": null,
            "overflow_y": null,
            "padding": null,
            "right": null,
            "top": null,
            "visibility": null,
            "width": null
          }
        },
        "cf663710b15442118d6358a60562cfcc": {
          "model_module": "@jupyter-widgets/controls",
          "model_name": "DescriptionStyleModel",
          "model_module_version": "1.5.0",
          "state": {
            "_model_module": "@jupyter-widgets/controls",
            "_model_module_version": "1.5.0",
            "_model_name": "DescriptionStyleModel",
            "_view_count": null,
            "_view_module": "@jupyter-widgets/base",
            "_view_module_version": "1.2.0",
            "_view_name": "StyleView",
            "description_width": ""
          }
        },
        "e892bf6f65604428b4ab1975e41cf193": {
          "model_module": "@jupyter-widgets/base",
          "model_name": "LayoutModel",
          "model_module_version": "1.2.0",
          "state": {
            "_model_module": "@jupyter-widgets/base",
            "_model_module_version": "1.2.0",
            "_model_name": "LayoutModel",
            "_view_count": null,
            "_view_module": "@jupyter-widgets/base",
            "_view_module_version": "1.2.0",
            "_view_name": "LayoutView",
            "align_content": null,
            "align_items": null,
            "align_self": null,
            "border": null,
            "bottom": null,
            "display": null,
            "flex": null,
            "flex_flow": null,
            "grid_area": null,
            "grid_auto_columns": null,
            "grid_auto_flow": null,
            "grid_auto_rows": null,
            "grid_column": null,
            "grid_gap": null,
            "grid_row": null,
            "grid_template_areas": null,
            "grid_template_columns": null,
            "grid_template_rows": null,
            "height": null,
            "justify_content": null,
            "justify_items": null,
            "left": null,
            "margin": null,
            "max_height": null,
            "max_width": null,
            "min_height": null,
            "min_width": null,
            "object_fit": null,
            "object_position": null,
            "order": null,
            "overflow": null,
            "overflow_x": null,
            "overflow_y": null,
            "padding": null,
            "right": null,
            "top": null,
            "visibility": null,
            "width": "20px"
          }
        },
        "0456de5bfe09495fb743c1cf95d7a856": {
          "model_module": "@jupyter-widgets/controls",
          "model_name": "ProgressStyleModel",
          "model_module_version": "1.5.0",
          "state": {
            "_model_module": "@jupyter-widgets/controls",
            "_model_module_version": "1.5.0",
            "_model_name": "ProgressStyleModel",
            "_view_count": null,
            "_view_module": "@jupyter-widgets/base",
            "_view_module_version": "1.2.0",
            "_view_name": "StyleView",
            "bar_color": null,
            "description_width": ""
          }
        },
        "e263d4907baf45ae8e1f62d6316500df": {
          "model_module": "@jupyter-widgets/base",
          "model_name": "LayoutModel",
          "model_module_version": "1.2.0",
          "state": {
            "_model_module": "@jupyter-widgets/base",
            "_model_module_version": "1.2.0",
            "_model_name": "LayoutModel",
            "_view_count": null,
            "_view_module": "@jupyter-widgets/base",
            "_view_module_version": "1.2.0",
            "_view_name": "LayoutView",
            "align_content": null,
            "align_items": null,
            "align_self": null,
            "border": null,
            "bottom": null,
            "display": null,
            "flex": null,
            "flex_flow": null,
            "grid_area": null,
            "grid_auto_columns": null,
            "grid_auto_flow": null,
            "grid_auto_rows": null,
            "grid_column": null,
            "grid_gap": null,
            "grid_row": null,
            "grid_template_areas": null,
            "grid_template_columns": null,
            "grid_template_rows": null,
            "height": null,
            "justify_content": null,
            "justify_items": null,
            "left": null,
            "margin": null,
            "max_height": null,
            "max_width": null,
            "min_height": null,
            "min_width": null,
            "object_fit": null,
            "object_position": null,
            "order": null,
            "overflow": null,
            "overflow_x": null,
            "overflow_y": null,
            "padding": null,
            "right": null,
            "top": null,
            "visibility": null,
            "width": null
          }
        },
        "c407a3dca5e447abbc28f3325e07c2fe": {
          "model_module": "@jupyter-widgets/controls",
          "model_name": "DescriptionStyleModel",
          "model_module_version": "1.5.0",
          "state": {
            "_model_module": "@jupyter-widgets/controls",
            "_model_module_version": "1.5.0",
            "_model_name": "DescriptionStyleModel",
            "_view_count": null,
            "_view_module": "@jupyter-widgets/base",
            "_view_module_version": "1.2.0",
            "_view_name": "StyleView",
            "description_width": ""
          }
        },
        "0e32f1d636204aadb2b77432ed630a55": {
          "model_module": "@jupyter-widgets/controls",
          "model_name": "HBoxModel",
          "model_module_version": "1.5.0",
          "state": {
            "_dom_classes": [],
            "_model_module": "@jupyter-widgets/controls",
            "_model_module_version": "1.5.0",
            "_model_name": "HBoxModel",
            "_view_count": null,
            "_view_module": "@jupyter-widgets/controls",
            "_view_module_version": "1.5.0",
            "_view_name": "HBoxView",
            "box_style": "",
            "children": [
              "IPY_MODEL_bc9e5a67cafc4999b7ce6456f156a0d5",
              "IPY_MODEL_1c1c3626f3ee40e7b716d5eb13e12001",
              "IPY_MODEL_4445a87e555540c5b2647c66b752b812"
            ],
            "layout": "IPY_MODEL_b28ea05a1f9c411b9c9ab212395fdbfa"
          }
        },
        "bc9e5a67cafc4999b7ce6456f156a0d5": {
          "model_module": "@jupyter-widgets/controls",
          "model_name": "HTMLModel",
          "model_module_version": "1.5.0",
          "state": {
            "_dom_classes": [],
            "_model_module": "@jupyter-widgets/controls",
            "_model_module_version": "1.5.0",
            "_model_name": "HTMLModel",
            "_view_count": null,
            "_view_module": "@jupyter-widgets/controls",
            "_view_module_version": "1.5.0",
            "_view_name": "HTMLView",
            "description": "",
            "description_tooltip": null,
            "layout": "IPY_MODEL_d0d756a3823e463bb5039d563b4fe3bd",
            "placeholder": "​",
            "style": "IPY_MODEL_ff94a609f32a40c1beb85d85a116d259",
            "value": ""
          }
        },
        "1c1c3626f3ee40e7b716d5eb13e12001": {
          "model_module": "@jupyter-widgets/controls",
          "model_name": "FloatProgressModel",
          "model_module_version": "1.5.0",
          "state": {
            "_dom_classes": [],
            "_model_module": "@jupyter-widgets/controls",
            "_model_module_version": "1.5.0",
            "_model_name": "FloatProgressModel",
            "_view_count": null,
            "_view_module": "@jupyter-widgets/controls",
            "_view_module_version": "1.5.0",
            "_view_name": "ProgressView",
            "bar_style": "success",
            "description": "",
            "description_tooltip": null,
            "layout": "IPY_MODEL_a9f39e1255924232a9f74fdd67c3d5eb",
            "max": 1,
            "min": 0,
            "orientation": "horizontal",
            "style": "IPY_MODEL_bc3915a5c3b54180b397412b36b86c75",
            "value": 1
          }
        },
        "4445a87e555540c5b2647c66b752b812": {
          "model_module": "@jupyter-widgets/controls",
          "model_name": "HTMLModel",
          "model_module_version": "1.5.0",
          "state": {
            "_dom_classes": [],
            "_model_module": "@jupyter-widgets/controls",
            "_model_module_version": "1.5.0",
            "_model_name": "HTMLModel",
            "_view_count": null,
            "_view_module": "@jupyter-widgets/controls",
            "_view_module_version": "1.5.0",
            "_view_name": "HTMLView",
            "description": "",
            "description_tooltip": null,
            "layout": "IPY_MODEL_025030ea27444d0f9436cc179c6b21a2",
            "placeholder": "​",
            "style": "IPY_MODEL_6b14ae746b704d25b976b33f915514ea",
            "value": " 25000/? [00:02&lt;00:00, 10084.77it/s]"
          }
        },
        "b28ea05a1f9c411b9c9ab212395fdbfa": {
          "model_module": "@jupyter-widgets/base",
          "model_name": "LayoutModel",
          "model_module_version": "1.2.0",
          "state": {
            "_model_module": "@jupyter-widgets/base",
            "_model_module_version": "1.2.0",
            "_model_name": "LayoutModel",
            "_view_count": null,
            "_view_module": "@jupyter-widgets/base",
            "_view_module_version": "1.2.0",
            "_view_name": "LayoutView",
            "align_content": null,
            "align_items": null,
            "align_self": null,
            "border": null,
            "bottom": null,
            "display": null,
            "flex": null,
            "flex_flow": null,
            "grid_area": null,
            "grid_auto_columns": null,
            "grid_auto_flow": null,
            "grid_auto_rows": null,
            "grid_column": null,
            "grid_gap": null,
            "grid_row": null,
            "grid_template_areas": null,
            "grid_template_columns": null,
            "grid_template_rows": null,
            "height": null,
            "justify_content": null,
            "justify_items": null,
            "left": null,
            "margin": null,
            "max_height": null,
            "max_width": null,
            "min_height": null,
            "min_width": null,
            "object_fit": null,
            "object_position": null,
            "order": null,
            "overflow": null,
            "overflow_x": null,
            "overflow_y": null,
            "padding": null,
            "right": null,
            "top": null,
            "visibility": null,
            "width": null
          }
        },
        "d0d756a3823e463bb5039d563b4fe3bd": {
          "model_module": "@jupyter-widgets/base",
          "model_name": "LayoutModel",
          "model_module_version": "1.2.0",
          "state": {
            "_model_module": "@jupyter-widgets/base",
            "_model_module_version": "1.2.0",
            "_model_name": "LayoutModel",
            "_view_count": null,
            "_view_module": "@jupyter-widgets/base",
            "_view_module_version": "1.2.0",
            "_view_name": "LayoutView",
            "align_content": null,
            "align_items": null,
            "align_self": null,
            "border": null,
            "bottom": null,
            "display": null,
            "flex": null,
            "flex_flow": null,
            "grid_area": null,
            "grid_auto_columns": null,
            "grid_auto_flow": null,
            "grid_auto_rows": null,
            "grid_column": null,
            "grid_gap": null,
            "grid_row": null,
            "grid_template_areas": null,
            "grid_template_columns": null,
            "grid_template_rows": null,
            "height": null,
            "justify_content": null,
            "justify_items": null,
            "left": null,
            "margin": null,
            "max_height": null,
            "max_width": null,
            "min_height": null,
            "min_width": null,
            "object_fit": null,
            "object_position": null,
            "order": null,
            "overflow": null,
            "overflow_x": null,
            "overflow_y": null,
            "padding": null,
            "right": null,
            "top": null,
            "visibility": null,
            "width": null
          }
        },
        "ff94a609f32a40c1beb85d85a116d259": {
          "model_module": "@jupyter-widgets/controls",
          "model_name": "DescriptionStyleModel",
          "model_module_version": "1.5.0",
          "state": {
            "_model_module": "@jupyter-widgets/controls",
            "_model_module_version": "1.5.0",
            "_model_name": "DescriptionStyleModel",
            "_view_count": null,
            "_view_module": "@jupyter-widgets/base",
            "_view_module_version": "1.2.0",
            "_view_name": "StyleView",
            "description_width": ""
          }
        },
        "a9f39e1255924232a9f74fdd67c3d5eb": {
          "model_module": "@jupyter-widgets/base",
          "model_name": "LayoutModel",
          "model_module_version": "1.2.0",
          "state": {
            "_model_module": "@jupyter-widgets/base",
            "_model_module_version": "1.2.0",
            "_model_name": "LayoutModel",
            "_view_count": null,
            "_view_module": "@jupyter-widgets/base",
            "_view_module_version": "1.2.0",
            "_view_name": "LayoutView",
            "align_content": null,
            "align_items": null,
            "align_self": null,
            "border": null,
            "bottom": null,
            "display": null,
            "flex": null,
            "flex_flow": null,
            "grid_area": null,
            "grid_auto_columns": null,
            "grid_auto_flow": null,
            "grid_auto_rows": null,
            "grid_column": null,
            "grid_gap": null,
            "grid_row": null,
            "grid_template_areas": null,
            "grid_template_columns": null,
            "grid_template_rows": null,
            "height": null,
            "justify_content": null,
            "justify_items": null,
            "left": null,
            "margin": null,
            "max_height": null,
            "max_width": null,
            "min_height": null,
            "min_width": null,
            "object_fit": null,
            "object_position": null,
            "order": null,
            "overflow": null,
            "overflow_x": null,
            "overflow_y": null,
            "padding": null,
            "right": null,
            "top": null,
            "visibility": null,
            "width": "20px"
          }
        },
        "bc3915a5c3b54180b397412b36b86c75": {
          "model_module": "@jupyter-widgets/controls",
          "model_name": "ProgressStyleModel",
          "model_module_version": "1.5.0",
          "state": {
            "_model_module": "@jupyter-widgets/controls",
            "_model_module_version": "1.5.0",
            "_model_name": "ProgressStyleModel",
            "_view_count": null,
            "_view_module": "@jupyter-widgets/base",
            "_view_module_version": "1.2.0",
            "_view_name": "StyleView",
            "bar_color": null,
            "description_width": ""
          }
        },
        "025030ea27444d0f9436cc179c6b21a2": {
          "model_module": "@jupyter-widgets/base",
          "model_name": "LayoutModel",
          "model_module_version": "1.2.0",
          "state": {
            "_model_module": "@jupyter-widgets/base",
            "_model_module_version": "1.2.0",
            "_model_name": "LayoutModel",
            "_view_count": null,
            "_view_module": "@jupyter-widgets/base",
            "_view_module_version": "1.2.0",
            "_view_name": "LayoutView",
            "align_content": null,
            "align_items": null,
            "align_self": null,
            "border": null,
            "bottom": null,
            "display": null,
            "flex": null,
            "flex_flow": null,
            "grid_area": null,
            "grid_auto_columns": null,
            "grid_auto_flow": null,
            "grid_auto_rows": null,
            "grid_column": null,
            "grid_gap": null,
            "grid_row": null,
            "grid_template_areas": null,
            "grid_template_columns": null,
            "grid_template_rows": null,
            "height": null,
            "justify_content": null,
            "justify_items": null,
            "left": null,
            "margin": null,
            "max_height": null,
            "max_width": null,
            "min_height": null,
            "min_width": null,
            "object_fit": null,
            "object_position": null,
            "order": null,
            "overflow": null,
            "overflow_x": null,
            "overflow_y": null,
            "padding": null,
            "right": null,
            "top": null,
            "visibility": null,
            "width": null
          }
        },
        "6b14ae746b704d25b976b33f915514ea": {
          "model_module": "@jupyter-widgets/controls",
          "model_name": "DescriptionStyleModel",
          "model_module_version": "1.5.0",
          "state": {
            "_model_module": "@jupyter-widgets/controls",
            "_model_module_version": "1.5.0",
            "_model_name": "DescriptionStyleModel",
            "_view_count": null,
            "_view_module": "@jupyter-widgets/base",
            "_view_module_version": "1.2.0",
            "_view_name": "StyleView",
            "description_width": ""
          }
        },
        "0f0ebe89c27b4d0dbd4131d07289aab0": {
          "model_module": "@jupyter-widgets/controls",
          "model_name": "HBoxModel",
          "model_module_version": "1.5.0",
          "state": {
            "_dom_classes": [],
            "_model_module": "@jupyter-widgets/controls",
            "_model_module_version": "1.5.0",
            "_model_name": "HBoxModel",
            "_view_count": null,
            "_view_module": "@jupyter-widgets/controls",
            "_view_module_version": "1.5.0",
            "_view_name": "HBoxView",
            "box_style": "",
            "children": [
              "IPY_MODEL_ffbe729b039848e1aea21b09cbaa3b23",
              "IPY_MODEL_181fdd24f06b404684598a731b5a95ed",
              "IPY_MODEL_1c1e4046f7204a4d97be8afd3b12f10a"
            ],
            "layout": "IPY_MODEL_5709fc8dc6134ea28b60977fa7e80249"
          }
        },
        "ffbe729b039848e1aea21b09cbaa3b23": {
          "model_module": "@jupyter-widgets/controls",
          "model_name": "HTMLModel",
          "model_module_version": "1.5.0",
          "state": {
            "_dom_classes": [],
            "_model_module": "@jupyter-widgets/controls",
            "_model_module_version": "1.5.0",
            "_model_name": "HTMLModel",
            "_view_count": null,
            "_view_module": "@jupyter-widgets/controls",
            "_view_module_version": "1.5.0",
            "_view_name": "HTMLView",
            "description": "",
            "description_tooltip": null,
            "layout": "IPY_MODEL_71bb4893f38d43829b679f1e26d3d9c7",
            "placeholder": "​",
            "style": "IPY_MODEL_39c40116341045bd8841f1c1bf1a03e8",
            "value": "100%"
          }
        },
        "181fdd24f06b404684598a731b5a95ed": {
          "model_module": "@jupyter-widgets/controls",
          "model_name": "FloatProgressModel",
          "model_module_version": "1.5.0",
          "state": {
            "_dom_classes": [],
            "_model_module": "@jupyter-widgets/controls",
            "_model_module_version": "1.5.0",
            "_model_name": "FloatProgressModel",
            "_view_count": null,
            "_view_module": "@jupyter-widgets/controls",
            "_view_module_version": "1.5.0",
            "_view_name": "ProgressView",
            "bar_style": "success",
            "description": "",
            "description_tooltip": null,
            "layout": "IPY_MODEL_31eecf85983e48058ce65c7de995af04",
            "max": 25000,
            "min": 0,
            "orientation": "horizontal",
            "style": "IPY_MODEL_eba8ec677bf1443cab49e01473f00e92",
            "value": 25000
          }
        },
        "1c1e4046f7204a4d97be8afd3b12f10a": {
          "model_module": "@jupyter-widgets/controls",
          "model_name": "HTMLModel",
          "model_module_version": "1.5.0",
          "state": {
            "_dom_classes": [],
            "_model_module": "@jupyter-widgets/controls",
            "_model_module_version": "1.5.0",
            "_model_name": "HTMLModel",
            "_view_count": null,
            "_view_module": "@jupyter-widgets/controls",
            "_view_module_version": "1.5.0",
            "_view_name": "HTMLView",
            "description": "",
            "description_tooltip": null,
            "layout": "IPY_MODEL_5f453c2de74d48d5ba4502c07558faa5",
            "placeholder": "​",
            "style": "IPY_MODEL_6873a30d01a14209aeee9b88ebce7ced",
            "value": " 25000/25000 [00:25&lt;00:00, 994.44it/s]"
          }
        },
        "5709fc8dc6134ea28b60977fa7e80249": {
          "model_module": "@jupyter-widgets/base",
          "model_name": "LayoutModel",
          "model_module_version": "1.2.0",
          "state": {
            "_model_module": "@jupyter-widgets/base",
            "_model_module_version": "1.2.0",
            "_model_name": "LayoutModel",
            "_view_count": null,
            "_view_module": "@jupyter-widgets/base",
            "_view_module_version": "1.2.0",
            "_view_name": "LayoutView",
            "align_content": null,
            "align_items": null,
            "align_self": null,
            "border": null,
            "bottom": null,
            "display": null,
            "flex": null,
            "flex_flow": null,
            "grid_area": null,
            "grid_auto_columns": null,
            "grid_auto_flow": null,
            "grid_auto_rows": null,
            "grid_column": null,
            "grid_gap": null,
            "grid_row": null,
            "grid_template_areas": null,
            "grid_template_columns": null,
            "grid_template_rows": null,
            "height": null,
            "justify_content": null,
            "justify_items": null,
            "left": null,
            "margin": null,
            "max_height": null,
            "max_width": null,
            "min_height": null,
            "min_width": null,
            "object_fit": null,
            "object_position": null,
            "order": null,
            "overflow": null,
            "overflow_x": null,
            "overflow_y": null,
            "padding": null,
            "right": null,
            "top": null,
            "visibility": null,
            "width": null
          }
        },
        "71bb4893f38d43829b679f1e26d3d9c7": {
          "model_module": "@jupyter-widgets/base",
          "model_name": "LayoutModel",
          "model_module_version": "1.2.0",
          "state": {
            "_model_module": "@jupyter-widgets/base",
            "_model_module_version": "1.2.0",
            "_model_name": "LayoutModel",
            "_view_count": null,
            "_view_module": "@jupyter-widgets/base",
            "_view_module_version": "1.2.0",
            "_view_name": "LayoutView",
            "align_content": null,
            "align_items": null,
            "align_self": null,
            "border": null,
            "bottom": null,
            "display": null,
            "flex": null,
            "flex_flow": null,
            "grid_area": null,
            "grid_auto_columns": null,
            "grid_auto_flow": null,
            "grid_auto_rows": null,
            "grid_column": null,
            "grid_gap": null,
            "grid_row": null,
            "grid_template_areas": null,
            "grid_template_columns": null,
            "grid_template_rows": null,
            "height": null,
            "justify_content": null,
            "justify_items": null,
            "left": null,
            "margin": null,
            "max_height": null,
            "max_width": null,
            "min_height": null,
            "min_width": null,
            "object_fit": null,
            "object_position": null,
            "order": null,
            "overflow": null,
            "overflow_x": null,
            "overflow_y": null,
            "padding": null,
            "right": null,
            "top": null,
            "visibility": null,
            "width": null
          }
        },
        "39c40116341045bd8841f1c1bf1a03e8": {
          "model_module": "@jupyter-widgets/controls",
          "model_name": "DescriptionStyleModel",
          "model_module_version": "1.5.0",
          "state": {
            "_model_module": "@jupyter-widgets/controls",
            "_model_module_version": "1.5.0",
            "_model_name": "DescriptionStyleModel",
            "_view_count": null,
            "_view_module": "@jupyter-widgets/base",
            "_view_module_version": "1.2.0",
            "_view_name": "StyleView",
            "description_width": ""
          }
        },
        "31eecf85983e48058ce65c7de995af04": {
          "model_module": "@jupyter-widgets/base",
          "model_name": "LayoutModel",
          "model_module_version": "1.2.0",
          "state": {
            "_model_module": "@jupyter-widgets/base",
            "_model_module_version": "1.2.0",
            "_model_name": "LayoutModel",
            "_view_count": null,
            "_view_module": "@jupyter-widgets/base",
            "_view_module_version": "1.2.0",
            "_view_name": "LayoutView",
            "align_content": null,
            "align_items": null,
            "align_self": null,
            "border": null,
            "bottom": null,
            "display": null,
            "flex": null,
            "flex_flow": null,
            "grid_area": null,
            "grid_auto_columns": null,
            "grid_auto_flow": null,
            "grid_auto_rows": null,
            "grid_column": null,
            "grid_gap": null,
            "grid_row": null,
            "grid_template_areas": null,
            "grid_template_columns": null,
            "grid_template_rows": null,
            "height": null,
            "justify_content": null,
            "justify_items": null,
            "left": null,
            "margin": null,
            "max_height": null,
            "max_width": null,
            "min_height": null,
            "min_width": null,
            "object_fit": null,
            "object_position": null,
            "order": null,
            "overflow": null,
            "overflow_x": null,
            "overflow_y": null,
            "padding": null,
            "right": null,
            "top": null,
            "visibility": null,
            "width": null
          }
        },
        "eba8ec677bf1443cab49e01473f00e92": {
          "model_module": "@jupyter-widgets/controls",
          "model_name": "ProgressStyleModel",
          "model_module_version": "1.5.0",
          "state": {
            "_model_module": "@jupyter-widgets/controls",
            "_model_module_version": "1.5.0",
            "_model_name": "ProgressStyleModel",
            "_view_count": null,
            "_view_module": "@jupyter-widgets/base",
            "_view_module_version": "1.2.0",
            "_view_name": "StyleView",
            "bar_color": null,
            "description_width": ""
          }
        },
        "5f453c2de74d48d5ba4502c07558faa5": {
          "model_module": "@jupyter-widgets/base",
          "model_name": "LayoutModel",
          "model_module_version": "1.2.0",
          "state": {
            "_model_module": "@jupyter-widgets/base",
            "_model_module_version": "1.2.0",
            "_model_name": "LayoutModel",
            "_view_count": null,
            "_view_module": "@jupyter-widgets/base",
            "_view_module_version": "1.2.0",
            "_view_name": "LayoutView",
            "align_content": null,
            "align_items": null,
            "align_self": null,
            "border": null,
            "bottom": null,
            "display": null,
            "flex": null,
            "flex_flow": null,
            "grid_area": null,
            "grid_auto_columns": null,
            "grid_auto_flow": null,
            "grid_auto_rows": null,
            "grid_column": null,
            "grid_gap": null,
            "grid_row": null,
            "grid_template_areas": null,
            "grid_template_columns": null,
            "grid_template_rows": null,
            "height": null,
            "justify_content": null,
            "justify_items": null,
            "left": null,
            "margin": null,
            "max_height": null,
            "max_width": null,
            "min_height": null,
            "min_width": null,
            "object_fit": null,
            "object_position": null,
            "order": null,
            "overflow": null,
            "overflow_x": null,
            "overflow_y": null,
            "padding": null,
            "right": null,
            "top": null,
            "visibility": null,
            "width": null
          }
        },
        "6873a30d01a14209aeee9b88ebce7ced": {
          "model_module": "@jupyter-widgets/controls",
          "model_name": "DescriptionStyleModel",
          "model_module_version": "1.5.0",
          "state": {
            "_model_module": "@jupyter-widgets/controls",
            "_model_module_version": "1.5.0",
            "_model_name": "DescriptionStyleModel",
            "_view_count": null,
            "_view_module": "@jupyter-widgets/base",
            "_view_module_version": "1.2.0",
            "_view_name": "StyleView",
            "description_width": ""
          }
        },
        "7887ef8c485645eda487d46748e238c7": {
          "model_module": "@jupyter-widgets/controls",
          "model_name": "HBoxModel",
          "model_module_version": "1.5.0",
          "state": {
            "_dom_classes": [],
            "_model_module": "@jupyter-widgets/controls",
            "_model_module_version": "1.5.0",
            "_model_name": "HBoxModel",
            "_view_count": null,
            "_view_module": "@jupyter-widgets/controls",
            "_view_module_version": "1.5.0",
            "_view_name": "HBoxView",
            "box_style": "",
            "children": [
              "IPY_MODEL_131427084dad490b8f38794f0f497a9a",
              "IPY_MODEL_8bbc13a39953495e988f0d395440a455",
              "IPY_MODEL_5303286e2cfa4536949087c244e7ad9f"
            ],
            "layout": "IPY_MODEL_e62381d6ff8e4f9caba4270eb00454cf"
          }
        },
        "131427084dad490b8f38794f0f497a9a": {
          "model_module": "@jupyter-widgets/controls",
          "model_name": "HTMLModel",
          "model_module_version": "1.5.0",
          "state": {
            "_dom_classes": [],
            "_model_module": "@jupyter-widgets/controls",
            "_model_module_version": "1.5.0",
            "_model_name": "HTMLModel",
            "_view_count": null,
            "_view_module": "@jupyter-widgets/controls",
            "_view_module_version": "1.5.0",
            "_view_name": "HTMLView",
            "description": "",
            "description_tooltip": null,
            "layout": "IPY_MODEL_c8c9e6fd390741bf990b3c6ae3f9dfe2",
            "placeholder": "​",
            "style": "IPY_MODEL_e30014326b8f4f1190f106035a629cb7",
            "value": "100%"
          }
        },
        "8bbc13a39953495e988f0d395440a455": {
          "model_module": "@jupyter-widgets/controls",
          "model_name": "FloatProgressModel",
          "model_module_version": "1.5.0",
          "state": {
            "_dom_classes": [],
            "_model_module": "@jupyter-widgets/controls",
            "_model_module_version": "1.5.0",
            "_model_name": "FloatProgressModel",
            "_view_count": null,
            "_view_module": "@jupyter-widgets/controls",
            "_view_module_version": "1.5.0",
            "_view_name": "ProgressView",
            "bar_style": "success",
            "description": "",
            "description_tooltip": null,
            "layout": "IPY_MODEL_f245c4e32d954405ba718fe9658454e6",
            "max": 25000,
            "min": 0,
            "orientation": "horizontal",
            "style": "IPY_MODEL_cb75c19bd28a49559961c3f91cbc1bf7",
            "value": 25000
          }
        },
        "5303286e2cfa4536949087c244e7ad9f": {
          "model_module": "@jupyter-widgets/controls",
          "model_name": "HTMLModel",
          "model_module_version": "1.5.0",
          "state": {
            "_dom_classes": [],
            "_model_module": "@jupyter-widgets/controls",
            "_model_module_version": "1.5.0",
            "_model_name": "HTMLModel",
            "_view_count": null,
            "_view_module": "@jupyter-widgets/controls",
            "_view_module_version": "1.5.0",
            "_view_name": "HTMLView",
            "description": "",
            "description_tooltip": null,
            "layout": "IPY_MODEL_612f6d5a64944933b192fa5a17a7b005",
            "placeholder": "​",
            "style": "IPY_MODEL_580661bed70a438fb2ec82a568efb151",
            "value": " 25000/25000 [00:27&lt;00:00, 960.16it/s]"
          }
        },
        "e62381d6ff8e4f9caba4270eb00454cf": {
          "model_module": "@jupyter-widgets/base",
          "model_name": "LayoutModel",
          "model_module_version": "1.2.0",
          "state": {
            "_model_module": "@jupyter-widgets/base",
            "_model_module_version": "1.2.0",
            "_model_name": "LayoutModel",
            "_view_count": null,
            "_view_module": "@jupyter-widgets/base",
            "_view_module_version": "1.2.0",
            "_view_name": "LayoutView",
            "align_content": null,
            "align_items": null,
            "align_self": null,
            "border": null,
            "bottom": null,
            "display": null,
            "flex": null,
            "flex_flow": null,
            "grid_area": null,
            "grid_auto_columns": null,
            "grid_auto_flow": null,
            "grid_auto_rows": null,
            "grid_column": null,
            "grid_gap": null,
            "grid_row": null,
            "grid_template_areas": null,
            "grid_template_columns": null,
            "grid_template_rows": null,
            "height": null,
            "justify_content": null,
            "justify_items": null,
            "left": null,
            "margin": null,
            "max_height": null,
            "max_width": null,
            "min_height": null,
            "min_width": null,
            "object_fit": null,
            "object_position": null,
            "order": null,
            "overflow": null,
            "overflow_x": null,
            "overflow_y": null,
            "padding": null,
            "right": null,
            "top": null,
            "visibility": null,
            "width": null
          }
        },
        "c8c9e6fd390741bf990b3c6ae3f9dfe2": {
          "model_module": "@jupyter-widgets/base",
          "model_name": "LayoutModel",
          "model_module_version": "1.2.0",
          "state": {
            "_model_module": "@jupyter-widgets/base",
            "_model_module_version": "1.2.0",
            "_model_name": "LayoutModel",
            "_view_count": null,
            "_view_module": "@jupyter-widgets/base",
            "_view_module_version": "1.2.0",
            "_view_name": "LayoutView",
            "align_content": null,
            "align_items": null,
            "align_self": null,
            "border": null,
            "bottom": null,
            "display": null,
            "flex": null,
            "flex_flow": null,
            "grid_area": null,
            "grid_auto_columns": null,
            "grid_auto_flow": null,
            "grid_auto_rows": null,
            "grid_column": null,
            "grid_gap": null,
            "grid_row": null,
            "grid_template_areas": null,
            "grid_template_columns": null,
            "grid_template_rows": null,
            "height": null,
            "justify_content": null,
            "justify_items": null,
            "left": null,
            "margin": null,
            "max_height": null,
            "max_width": null,
            "min_height": null,
            "min_width": null,
            "object_fit": null,
            "object_position": null,
            "order": null,
            "overflow": null,
            "overflow_x": null,
            "overflow_y": null,
            "padding": null,
            "right": null,
            "top": null,
            "visibility": null,
            "width": null
          }
        },
        "e30014326b8f4f1190f106035a629cb7": {
          "model_module": "@jupyter-widgets/controls",
          "model_name": "DescriptionStyleModel",
          "model_module_version": "1.5.0",
          "state": {
            "_model_module": "@jupyter-widgets/controls",
            "_model_module_version": "1.5.0",
            "_model_name": "DescriptionStyleModel",
            "_view_count": null,
            "_view_module": "@jupyter-widgets/base",
            "_view_module_version": "1.2.0",
            "_view_name": "StyleView",
            "description_width": ""
          }
        },
        "f245c4e32d954405ba718fe9658454e6": {
          "model_module": "@jupyter-widgets/base",
          "model_name": "LayoutModel",
          "model_module_version": "1.2.0",
          "state": {
            "_model_module": "@jupyter-widgets/base",
            "_model_module_version": "1.2.0",
            "_model_name": "LayoutModel",
            "_view_count": null,
            "_view_module": "@jupyter-widgets/base",
            "_view_module_version": "1.2.0",
            "_view_name": "LayoutView",
            "align_content": null,
            "align_items": null,
            "align_self": null,
            "border": null,
            "bottom": null,
            "display": null,
            "flex": null,
            "flex_flow": null,
            "grid_area": null,
            "grid_auto_columns": null,
            "grid_auto_flow": null,
            "grid_auto_rows": null,
            "grid_column": null,
            "grid_gap": null,
            "grid_row": null,
            "grid_template_areas": null,
            "grid_template_columns": null,
            "grid_template_rows": null,
            "height": null,
            "justify_content": null,
            "justify_items": null,
            "left": null,
            "margin": null,
            "max_height": null,
            "max_width": null,
            "min_height": null,
            "min_width": null,
            "object_fit": null,
            "object_position": null,
            "order": null,
            "overflow": null,
            "overflow_x": null,
            "overflow_y": null,
            "padding": null,
            "right": null,
            "top": null,
            "visibility": null,
            "width": null
          }
        },
        "cb75c19bd28a49559961c3f91cbc1bf7": {
          "model_module": "@jupyter-widgets/controls",
          "model_name": "ProgressStyleModel",
          "model_module_version": "1.5.0",
          "state": {
            "_model_module": "@jupyter-widgets/controls",
            "_model_module_version": "1.5.0",
            "_model_name": "ProgressStyleModel",
            "_view_count": null,
            "_view_module": "@jupyter-widgets/base",
            "_view_module_version": "1.2.0",
            "_view_name": "StyleView",
            "bar_color": null,
            "description_width": ""
          }
        },
        "612f6d5a64944933b192fa5a17a7b005": {
          "model_module": "@jupyter-widgets/base",
          "model_name": "LayoutModel",
          "model_module_version": "1.2.0",
          "state": {
            "_model_module": "@jupyter-widgets/base",
            "_model_module_version": "1.2.0",
            "_model_name": "LayoutModel",
            "_view_count": null,
            "_view_module": "@jupyter-widgets/base",
            "_view_module_version": "1.2.0",
            "_view_name": "LayoutView",
            "align_content": null,
            "align_items": null,
            "align_self": null,
            "border": null,
            "bottom": null,
            "display": null,
            "flex": null,
            "flex_flow": null,
            "grid_area": null,
            "grid_auto_columns": null,
            "grid_auto_flow": null,
            "grid_auto_rows": null,
            "grid_column": null,
            "grid_gap": null,
            "grid_row": null,
            "grid_template_areas": null,
            "grid_template_columns": null,
            "grid_template_rows": null,
            "height": null,
            "justify_content": null,
            "justify_items": null,
            "left": null,
            "margin": null,
            "max_height": null,
            "max_width": null,
            "min_height": null,
            "min_width": null,
            "object_fit": null,
            "object_position": null,
            "order": null,
            "overflow": null,
            "overflow_x": null,
            "overflow_y": null,
            "padding": null,
            "right": null,
            "top": null,
            "visibility": null,
            "width": null
          }
        },
        "580661bed70a438fb2ec82a568efb151": {
          "model_module": "@jupyter-widgets/controls",
          "model_name": "DescriptionStyleModel",
          "model_module_version": "1.5.0",
          "state": {
            "_model_module": "@jupyter-widgets/controls",
            "_model_module_version": "1.5.0",
            "_model_name": "DescriptionStyleModel",
            "_view_count": null,
            "_view_module": "@jupyter-widgets/base",
            "_view_module_version": "1.2.0",
            "_view_name": "StyleView",
            "description_width": ""
          }
        },
        "ed317cf35fd141dfa5f5929f2ca39298": {
          "model_module": "@jupyter-widgets/controls",
          "model_name": "HBoxModel",
          "model_module_version": "1.5.0",
          "state": {
            "_dom_classes": [],
            "_model_module": "@jupyter-widgets/controls",
            "_model_module_version": "1.5.0",
            "_model_name": "HBoxModel",
            "_view_count": null,
            "_view_module": "@jupyter-widgets/controls",
            "_view_module_version": "1.5.0",
            "_view_name": "HBoxView",
            "box_style": "",
            "children": [
              "IPY_MODEL_57ce61fac47a4bb19abd1ceefa8b9cd7",
              "IPY_MODEL_526833d410ed488cba6100d9f9c2e65e",
              "IPY_MODEL_cf8e131e0cdc43f2a45b0bda74d0d6aa"
            ],
            "layout": "IPY_MODEL_aab1694c2ddc4f908fcd14b98d9614b0"
          }
        },
        "57ce61fac47a4bb19abd1ceefa8b9cd7": {
          "model_module": "@jupyter-widgets/controls",
          "model_name": "HTMLModel",
          "model_module_version": "1.5.0",
          "state": {
            "_dom_classes": [],
            "_model_module": "@jupyter-widgets/controls",
            "_model_module_version": "1.5.0",
            "_model_name": "HTMLModel",
            "_view_count": null,
            "_view_module": "@jupyter-widgets/controls",
            "_view_module_version": "1.5.0",
            "_view_name": "HTMLView",
            "description": "",
            "description_tooltip": null,
            "layout": "IPY_MODEL_d7947604aeec46f2b10cff83b2bc706b",
            "placeholder": "​",
            "style": "IPY_MODEL_8dc60346217f443f8f79f8be2d0c3508",
            "value": ""
          }
        },
        "526833d410ed488cba6100d9f9c2e65e": {
          "model_module": "@jupyter-widgets/controls",
          "model_name": "FloatProgressModel",
          "model_module_version": "1.5.0",
          "state": {
            "_dom_classes": [],
            "_model_module": "@jupyter-widgets/controls",
            "_model_module_version": "1.5.0",
            "_model_name": "FloatProgressModel",
            "_view_count": null,
            "_view_module": "@jupyter-widgets/controls",
            "_view_module_version": "1.5.0",
            "_view_name": "ProgressView",
            "bar_style": "success",
            "description": "",
            "description_tooltip": null,
            "layout": "IPY_MODEL_85c3829b0e9144f683fd7d4994544044",
            "max": 1,
            "min": 0,
            "orientation": "horizontal",
            "style": "IPY_MODEL_c01a094f5589464bbe57561935d22aa9",
            "value": 1
          }
        },
        "cf8e131e0cdc43f2a45b0bda74d0d6aa": {
          "model_module": "@jupyter-widgets/controls",
          "model_name": "HTMLModel",
          "model_module_version": "1.5.0",
          "state": {
            "_dom_classes": [],
            "_model_module": "@jupyter-widgets/controls",
            "_model_module_version": "1.5.0",
            "_model_name": "HTMLModel",
            "_view_count": null,
            "_view_module": "@jupyter-widgets/controls",
            "_view_module_version": "1.5.0",
            "_view_name": "HTMLView",
            "description": "",
            "description_tooltip": null,
            "layout": "IPY_MODEL_d52c1425865a4ed9b824461b736768a9",
            "placeholder": "​",
            "style": "IPY_MODEL_8c2d8927ac2845068c03730d3cb2424f",
            "value": " 25000/? [02:12&lt;00:00, 270.04it/s]"
          }
        },
        "aab1694c2ddc4f908fcd14b98d9614b0": {
          "model_module": "@jupyter-widgets/base",
          "model_name": "LayoutModel",
          "model_module_version": "1.2.0",
          "state": {
            "_model_module": "@jupyter-widgets/base",
            "_model_module_version": "1.2.0",
            "_model_name": "LayoutModel",
            "_view_count": null,
            "_view_module": "@jupyter-widgets/base",
            "_view_module_version": "1.2.0",
            "_view_name": "LayoutView",
            "align_content": null,
            "align_items": null,
            "align_self": null,
            "border": null,
            "bottom": null,
            "display": null,
            "flex": null,
            "flex_flow": null,
            "grid_area": null,
            "grid_auto_columns": null,
            "grid_auto_flow": null,
            "grid_auto_rows": null,
            "grid_column": null,
            "grid_gap": null,
            "grid_row": null,
            "grid_template_areas": null,
            "grid_template_columns": null,
            "grid_template_rows": null,
            "height": null,
            "justify_content": null,
            "justify_items": null,
            "left": null,
            "margin": null,
            "max_height": null,
            "max_width": null,
            "min_height": null,
            "min_width": null,
            "object_fit": null,
            "object_position": null,
            "order": null,
            "overflow": null,
            "overflow_x": null,
            "overflow_y": null,
            "padding": null,
            "right": null,
            "top": null,
            "visibility": null,
            "width": null
          }
        },
        "d7947604aeec46f2b10cff83b2bc706b": {
          "model_module": "@jupyter-widgets/base",
          "model_name": "LayoutModel",
          "model_module_version": "1.2.0",
          "state": {
            "_model_module": "@jupyter-widgets/base",
            "_model_module_version": "1.2.0",
            "_model_name": "LayoutModel",
            "_view_count": null,
            "_view_module": "@jupyter-widgets/base",
            "_view_module_version": "1.2.0",
            "_view_name": "LayoutView",
            "align_content": null,
            "align_items": null,
            "align_self": null,
            "border": null,
            "bottom": null,
            "display": null,
            "flex": null,
            "flex_flow": null,
            "grid_area": null,
            "grid_auto_columns": null,
            "grid_auto_flow": null,
            "grid_auto_rows": null,
            "grid_column": null,
            "grid_gap": null,
            "grid_row": null,
            "grid_template_areas": null,
            "grid_template_columns": null,
            "grid_template_rows": null,
            "height": null,
            "justify_content": null,
            "justify_items": null,
            "left": null,
            "margin": null,
            "max_height": null,
            "max_width": null,
            "min_height": null,
            "min_width": null,
            "object_fit": null,
            "object_position": null,
            "order": null,
            "overflow": null,
            "overflow_x": null,
            "overflow_y": null,
            "padding": null,
            "right": null,
            "top": null,
            "visibility": null,
            "width": null
          }
        },
        "8dc60346217f443f8f79f8be2d0c3508": {
          "model_module": "@jupyter-widgets/controls",
          "model_name": "DescriptionStyleModel",
          "model_module_version": "1.5.0",
          "state": {
            "_model_module": "@jupyter-widgets/controls",
            "_model_module_version": "1.5.0",
            "_model_name": "DescriptionStyleModel",
            "_view_count": null,
            "_view_module": "@jupyter-widgets/base",
            "_view_module_version": "1.2.0",
            "_view_name": "StyleView",
            "description_width": ""
          }
        },
        "85c3829b0e9144f683fd7d4994544044": {
          "model_module": "@jupyter-widgets/base",
          "model_name": "LayoutModel",
          "model_module_version": "1.2.0",
          "state": {
            "_model_module": "@jupyter-widgets/base",
            "_model_module_version": "1.2.0",
            "_model_name": "LayoutModel",
            "_view_count": null,
            "_view_module": "@jupyter-widgets/base",
            "_view_module_version": "1.2.0",
            "_view_name": "LayoutView",
            "align_content": null,
            "align_items": null,
            "align_self": null,
            "border": null,
            "bottom": null,
            "display": null,
            "flex": null,
            "flex_flow": null,
            "grid_area": null,
            "grid_auto_columns": null,
            "grid_auto_flow": null,
            "grid_auto_rows": null,
            "grid_column": null,
            "grid_gap": null,
            "grid_row": null,
            "grid_template_areas": null,
            "grid_template_columns": null,
            "grid_template_rows": null,
            "height": null,
            "justify_content": null,
            "justify_items": null,
            "left": null,
            "margin": null,
            "max_height": null,
            "max_width": null,
            "min_height": null,
            "min_width": null,
            "object_fit": null,
            "object_position": null,
            "order": null,
            "overflow": null,
            "overflow_x": null,
            "overflow_y": null,
            "padding": null,
            "right": null,
            "top": null,
            "visibility": null,
            "width": "20px"
          }
        },
        "c01a094f5589464bbe57561935d22aa9": {
          "model_module": "@jupyter-widgets/controls",
          "model_name": "ProgressStyleModel",
          "model_module_version": "1.5.0",
          "state": {
            "_model_module": "@jupyter-widgets/controls",
            "_model_module_version": "1.5.0",
            "_model_name": "ProgressStyleModel",
            "_view_count": null,
            "_view_module": "@jupyter-widgets/base",
            "_view_module_version": "1.2.0",
            "_view_name": "StyleView",
            "bar_color": null,
            "description_width": ""
          }
        },
        "d52c1425865a4ed9b824461b736768a9": {
          "model_module": "@jupyter-widgets/base",
          "model_name": "LayoutModel",
          "model_module_version": "1.2.0",
          "state": {
            "_model_module": "@jupyter-widgets/base",
            "_model_module_version": "1.2.0",
            "_model_name": "LayoutModel",
            "_view_count": null,
            "_view_module": "@jupyter-widgets/base",
            "_view_module_version": "1.2.0",
            "_view_name": "LayoutView",
            "align_content": null,
            "align_items": null,
            "align_self": null,
            "border": null,
            "bottom": null,
            "display": null,
            "flex": null,
            "flex_flow": null,
            "grid_area": null,
            "grid_auto_columns": null,
            "grid_auto_flow": null,
            "grid_auto_rows": null,
            "grid_column": null,
            "grid_gap": null,
            "grid_row": null,
            "grid_template_areas": null,
            "grid_template_columns": null,
            "grid_template_rows": null,
            "height": null,
            "justify_content": null,
            "justify_items": null,
            "left": null,
            "margin": null,
            "max_height": null,
            "max_width": null,
            "min_height": null,
            "min_width": null,
            "object_fit": null,
            "object_position": null,
            "order": null,
            "overflow": null,
            "overflow_x": null,
            "overflow_y": null,
            "padding": null,
            "right": null,
            "top": null,
            "visibility": null,
            "width": null
          }
        },
        "8c2d8927ac2845068c03730d3cb2424f": {
          "model_module": "@jupyter-widgets/controls",
          "model_name": "DescriptionStyleModel",
          "model_module_version": "1.5.0",
          "state": {
            "_model_module": "@jupyter-widgets/controls",
            "_model_module_version": "1.5.0",
            "_model_name": "DescriptionStyleModel",
            "_view_count": null,
            "_view_module": "@jupyter-widgets/base",
            "_view_module_version": "1.2.0",
            "_view_name": "StyleView",
            "description_width": ""
          }
        },
        "e944762918e24b4c914768c1baf56bb0": {
          "model_module": "@jupyter-widgets/controls",
          "model_name": "HBoxModel",
          "model_module_version": "1.5.0",
          "state": {
            "_dom_classes": [],
            "_model_module": "@jupyter-widgets/controls",
            "_model_module_version": "1.5.0",
            "_model_name": "HBoxModel",
            "_view_count": null,
            "_view_module": "@jupyter-widgets/controls",
            "_view_module_version": "1.5.0",
            "_view_name": "HBoxView",
            "box_style": "",
            "children": [
              "IPY_MODEL_6e59df3fe16a445a80fedd19744e3957",
              "IPY_MODEL_0ef7f21148024276a6824389ad3daf17",
              "IPY_MODEL_aa20a27c6c474738a1d71e212a98944c"
            ],
            "layout": "IPY_MODEL_3235d55d55604a4791e48a344d128b63"
          }
        },
        "6e59df3fe16a445a80fedd19744e3957": {
          "model_module": "@jupyter-widgets/controls",
          "model_name": "HTMLModel",
          "model_module_version": "1.5.0",
          "state": {
            "_dom_classes": [],
            "_model_module": "@jupyter-widgets/controls",
            "_model_module_version": "1.5.0",
            "_model_name": "HTMLModel",
            "_view_count": null,
            "_view_module": "@jupyter-widgets/controls",
            "_view_module_version": "1.5.0",
            "_view_name": "HTMLView",
            "description": "",
            "description_tooltip": null,
            "layout": "IPY_MODEL_a103ceb37e2b4b9ebfe1df5534b8bb16",
            "placeholder": "​",
            "style": "IPY_MODEL_ad1f39d658f2426db85f124aac7cbc98",
            "value": ""
          }
        },
        "0ef7f21148024276a6824389ad3daf17": {
          "model_module": "@jupyter-widgets/controls",
          "model_name": "FloatProgressModel",
          "model_module_version": "1.5.0",
          "state": {
            "_dom_classes": [],
            "_model_module": "@jupyter-widgets/controls",
            "_model_module_version": "1.5.0",
            "_model_name": "FloatProgressModel",
            "_view_count": null,
            "_view_module": "@jupyter-widgets/controls",
            "_view_module_version": "1.5.0",
            "_view_name": "ProgressView",
            "bar_style": "success",
            "description": "",
            "description_tooltip": null,
            "layout": "IPY_MODEL_19a38d5724ea4d8bb78651125216306d",
            "max": 1,
            "min": 0,
            "orientation": "horizontal",
            "style": "IPY_MODEL_085e5c048e7a45d883f94ea7ab7ef30a",
            "value": 1
          }
        },
        "aa20a27c6c474738a1d71e212a98944c": {
          "model_module": "@jupyter-widgets/controls",
          "model_name": "HTMLModel",
          "model_module_version": "1.5.0",
          "state": {
            "_dom_classes": [],
            "_model_module": "@jupyter-widgets/controls",
            "_model_module_version": "1.5.0",
            "_model_name": "HTMLModel",
            "_view_count": null,
            "_view_module": "@jupyter-widgets/controls",
            "_view_module_version": "1.5.0",
            "_view_name": "HTMLView",
            "description": "",
            "description_tooltip": null,
            "layout": "IPY_MODEL_b9c0e4f3f7d6412c895c33291cecb481",
            "placeholder": "​",
            "style": "IPY_MODEL_a06c572ce7904381b043da6428c60200",
            "value": " 25000/? [02:05&lt;00:00, 268.84it/s]"
          }
        },
        "3235d55d55604a4791e48a344d128b63": {
          "model_module": "@jupyter-widgets/base",
          "model_name": "LayoutModel",
          "model_module_version": "1.2.0",
          "state": {
            "_model_module": "@jupyter-widgets/base",
            "_model_module_version": "1.2.0",
            "_model_name": "LayoutModel",
            "_view_count": null,
            "_view_module": "@jupyter-widgets/base",
            "_view_module_version": "1.2.0",
            "_view_name": "LayoutView",
            "align_content": null,
            "align_items": null,
            "align_self": null,
            "border": null,
            "bottom": null,
            "display": null,
            "flex": null,
            "flex_flow": null,
            "grid_area": null,
            "grid_auto_columns": null,
            "grid_auto_flow": null,
            "grid_auto_rows": null,
            "grid_column": null,
            "grid_gap": null,
            "grid_row": null,
            "grid_template_areas": null,
            "grid_template_columns": null,
            "grid_template_rows": null,
            "height": null,
            "justify_content": null,
            "justify_items": null,
            "left": null,
            "margin": null,
            "max_height": null,
            "max_width": null,
            "min_height": null,
            "min_width": null,
            "object_fit": null,
            "object_position": null,
            "order": null,
            "overflow": null,
            "overflow_x": null,
            "overflow_y": null,
            "padding": null,
            "right": null,
            "top": null,
            "visibility": null,
            "width": null
          }
        },
        "a103ceb37e2b4b9ebfe1df5534b8bb16": {
          "model_module": "@jupyter-widgets/base",
          "model_name": "LayoutModel",
          "model_module_version": "1.2.0",
          "state": {
            "_model_module": "@jupyter-widgets/base",
            "_model_module_version": "1.2.0",
            "_model_name": "LayoutModel",
            "_view_count": null,
            "_view_module": "@jupyter-widgets/base",
            "_view_module_version": "1.2.0",
            "_view_name": "LayoutView",
            "align_content": null,
            "align_items": null,
            "align_self": null,
            "border": null,
            "bottom": null,
            "display": null,
            "flex": null,
            "flex_flow": null,
            "grid_area": null,
            "grid_auto_columns": null,
            "grid_auto_flow": null,
            "grid_auto_rows": null,
            "grid_column": null,
            "grid_gap": null,
            "grid_row": null,
            "grid_template_areas": null,
            "grid_template_columns": null,
            "grid_template_rows": null,
            "height": null,
            "justify_content": null,
            "justify_items": null,
            "left": null,
            "margin": null,
            "max_height": null,
            "max_width": null,
            "min_height": null,
            "min_width": null,
            "object_fit": null,
            "object_position": null,
            "order": null,
            "overflow": null,
            "overflow_x": null,
            "overflow_y": null,
            "padding": null,
            "right": null,
            "top": null,
            "visibility": null,
            "width": null
          }
        },
        "ad1f39d658f2426db85f124aac7cbc98": {
          "model_module": "@jupyter-widgets/controls",
          "model_name": "DescriptionStyleModel",
          "model_module_version": "1.5.0",
          "state": {
            "_model_module": "@jupyter-widgets/controls",
            "_model_module_version": "1.5.0",
            "_model_name": "DescriptionStyleModel",
            "_view_count": null,
            "_view_module": "@jupyter-widgets/base",
            "_view_module_version": "1.2.0",
            "_view_name": "StyleView",
            "description_width": ""
          }
        },
        "19a38d5724ea4d8bb78651125216306d": {
          "model_module": "@jupyter-widgets/base",
          "model_name": "LayoutModel",
          "model_module_version": "1.2.0",
          "state": {
            "_model_module": "@jupyter-widgets/base",
            "_model_module_version": "1.2.0",
            "_model_name": "LayoutModel",
            "_view_count": null,
            "_view_module": "@jupyter-widgets/base",
            "_view_module_version": "1.2.0",
            "_view_name": "LayoutView",
            "align_content": null,
            "align_items": null,
            "align_self": null,
            "border": null,
            "bottom": null,
            "display": null,
            "flex": null,
            "flex_flow": null,
            "grid_area": null,
            "grid_auto_columns": null,
            "grid_auto_flow": null,
            "grid_auto_rows": null,
            "grid_column": null,
            "grid_gap": null,
            "grid_row": null,
            "grid_template_areas": null,
            "grid_template_columns": null,
            "grid_template_rows": null,
            "height": null,
            "justify_content": null,
            "justify_items": null,
            "left": null,
            "margin": null,
            "max_height": null,
            "max_width": null,
            "min_height": null,
            "min_width": null,
            "object_fit": null,
            "object_position": null,
            "order": null,
            "overflow": null,
            "overflow_x": null,
            "overflow_y": null,
            "padding": null,
            "right": null,
            "top": null,
            "visibility": null,
            "width": "20px"
          }
        },
        "085e5c048e7a45d883f94ea7ab7ef30a": {
          "model_module": "@jupyter-widgets/controls",
          "model_name": "ProgressStyleModel",
          "model_module_version": "1.5.0",
          "state": {
            "_model_module": "@jupyter-widgets/controls",
            "_model_module_version": "1.5.0",
            "_model_name": "ProgressStyleModel",
            "_view_count": null,
            "_view_module": "@jupyter-widgets/base",
            "_view_module_version": "1.2.0",
            "_view_name": "StyleView",
            "bar_color": null,
            "description_width": ""
          }
        },
        "b9c0e4f3f7d6412c895c33291cecb481": {
          "model_module": "@jupyter-widgets/base",
          "model_name": "LayoutModel",
          "model_module_version": "1.2.0",
          "state": {
            "_model_module": "@jupyter-widgets/base",
            "_model_module_version": "1.2.0",
            "_model_name": "LayoutModel",
            "_view_count": null,
            "_view_module": "@jupyter-widgets/base",
            "_view_module_version": "1.2.0",
            "_view_name": "LayoutView",
            "align_content": null,
            "align_items": null,
            "align_self": null,
            "border": null,
            "bottom": null,
            "display": null,
            "flex": null,
            "flex_flow": null,
            "grid_area": null,
            "grid_auto_columns": null,
            "grid_auto_flow": null,
            "grid_auto_rows": null,
            "grid_column": null,
            "grid_gap": null,
            "grid_row": null,
            "grid_template_areas": null,
            "grid_template_columns": null,
            "grid_template_rows": null,
            "height": null,
            "justify_content": null,
            "justify_items": null,
            "left": null,
            "margin": null,
            "max_height": null,
            "max_width": null,
            "min_height": null,
            "min_width": null,
            "object_fit": null,
            "object_position": null,
            "order": null,
            "overflow": null,
            "overflow_x": null,
            "overflow_y": null,
            "padding": null,
            "right": null,
            "top": null,
            "visibility": null,
            "width": null
          }
        },
        "a06c572ce7904381b043da6428c60200": {
          "model_module": "@jupyter-widgets/controls",
          "model_name": "DescriptionStyleModel",
          "model_module_version": "1.5.0",
          "state": {
            "_model_module": "@jupyter-widgets/controls",
            "_model_module_version": "1.5.0",
            "_model_name": "DescriptionStyleModel",
            "_view_count": null,
            "_view_module": "@jupyter-widgets/base",
            "_view_module_version": "1.2.0",
            "_view_name": "StyleView",
            "description_width": ""
          }
        },
        "326c388c3aff4492a43f9b14844d87fe": {
          "model_module": "@jupyter-widgets/controls",
          "model_name": "HBoxModel",
          "model_module_version": "1.5.0",
          "state": {
            "_dom_classes": [],
            "_model_module": "@jupyter-widgets/controls",
            "_model_module_version": "1.5.0",
            "_model_name": "HBoxModel",
            "_view_count": null,
            "_view_module": "@jupyter-widgets/controls",
            "_view_module_version": "1.5.0",
            "_view_name": "HBoxView",
            "box_style": "",
            "children": [
              "IPY_MODEL_17af5433e14c4784aa5135f6704cdffa",
              "IPY_MODEL_097f09a06d2240289dca501e8ac6b800",
              "IPY_MODEL_b8eb90199a7947589d26fd058391d6af"
            ],
            "layout": "IPY_MODEL_d74abac915084bcfa351a8b1e9b86962"
          }
        },
        "17af5433e14c4784aa5135f6704cdffa": {
          "model_module": "@jupyter-widgets/controls",
          "model_name": "HTMLModel",
          "model_module_version": "1.5.0",
          "state": {
            "_dom_classes": [],
            "_model_module": "@jupyter-widgets/controls",
            "_model_module_version": "1.5.0",
            "_model_name": "HTMLModel",
            "_view_count": null,
            "_view_module": "@jupyter-widgets/controls",
            "_view_module_version": "1.5.0",
            "_view_name": "HTMLView",
            "description": "",
            "description_tooltip": null,
            "layout": "IPY_MODEL_24bfc281ff7d4c87955f0347fc63a54a",
            "placeholder": "​",
            "style": "IPY_MODEL_bf17a9d73a3f4aee8c94d31229b7cf06",
            "value": "100%"
          }
        },
        "097f09a06d2240289dca501e8ac6b800": {
          "model_module": "@jupyter-widgets/controls",
          "model_name": "FloatProgressModel",
          "model_module_version": "1.5.0",
          "state": {
            "_dom_classes": [],
            "_model_module": "@jupyter-widgets/controls",
            "_model_module_version": "1.5.0",
            "_model_name": "FloatProgressModel",
            "_view_count": null,
            "_view_module": "@jupyter-widgets/controls",
            "_view_module_version": "1.5.0",
            "_view_name": "ProgressView",
            "bar_style": "success",
            "description": "",
            "description_tooltip": null,
            "layout": "IPY_MODEL_9f6ab64093d6478fa49a8b158169b4de",
            "max": 25000,
            "min": 0,
            "orientation": "horizontal",
            "style": "IPY_MODEL_906dabd622304f32b3e04df564b876c4",
            "value": 25000
          }
        },
        "b8eb90199a7947589d26fd058391d6af": {
          "model_module": "@jupyter-widgets/controls",
          "model_name": "HTMLModel",
          "model_module_version": "1.5.0",
          "state": {
            "_dom_classes": [],
            "_model_module": "@jupyter-widgets/controls",
            "_model_module_version": "1.5.0",
            "_model_name": "HTMLModel",
            "_view_count": null,
            "_view_module": "@jupyter-widgets/controls",
            "_view_module_version": "1.5.0",
            "_view_name": "HTMLView",
            "description": "",
            "description_tooltip": null,
            "layout": "IPY_MODEL_d0d01665560648e9a997ccdf83d092a6",
            "placeholder": "​",
            "style": "IPY_MODEL_ec9ef080be904784808797e5c08616f1",
            "value": " 25000/25000 [00:04&lt;00:00, 6669.35it/s]"
          }
        },
        "d74abac915084bcfa351a8b1e9b86962": {
          "model_module": "@jupyter-widgets/base",
          "model_name": "LayoutModel",
          "model_module_version": "1.2.0",
          "state": {
            "_model_module": "@jupyter-widgets/base",
            "_model_module_version": "1.2.0",
            "_model_name": "LayoutModel",
            "_view_count": null,
            "_view_module": "@jupyter-widgets/base",
            "_view_module_version": "1.2.0",
            "_view_name": "LayoutView",
            "align_content": null,
            "align_items": null,
            "align_self": null,
            "border": null,
            "bottom": null,
            "display": null,
            "flex": null,
            "flex_flow": null,
            "grid_area": null,
            "grid_auto_columns": null,
            "grid_auto_flow": null,
            "grid_auto_rows": null,
            "grid_column": null,
            "grid_gap": null,
            "grid_row": null,
            "grid_template_areas": null,
            "grid_template_columns": null,
            "grid_template_rows": null,
            "height": null,
            "justify_content": null,
            "justify_items": null,
            "left": null,
            "margin": null,
            "max_height": null,
            "max_width": null,
            "min_height": null,
            "min_width": null,
            "object_fit": null,
            "object_position": null,
            "order": null,
            "overflow": null,
            "overflow_x": null,
            "overflow_y": null,
            "padding": null,
            "right": null,
            "top": null,
            "visibility": null,
            "width": null
          }
        },
        "24bfc281ff7d4c87955f0347fc63a54a": {
          "model_module": "@jupyter-widgets/base",
          "model_name": "LayoutModel",
          "model_module_version": "1.2.0",
          "state": {
            "_model_module": "@jupyter-widgets/base",
            "_model_module_version": "1.2.0",
            "_model_name": "LayoutModel",
            "_view_count": null,
            "_view_module": "@jupyter-widgets/base",
            "_view_module_version": "1.2.0",
            "_view_name": "LayoutView",
            "align_content": null,
            "align_items": null,
            "align_self": null,
            "border": null,
            "bottom": null,
            "display": null,
            "flex": null,
            "flex_flow": null,
            "grid_area": null,
            "grid_auto_columns": null,
            "grid_auto_flow": null,
            "grid_auto_rows": null,
            "grid_column": null,
            "grid_gap": null,
            "grid_row": null,
            "grid_template_areas": null,
            "grid_template_columns": null,
            "grid_template_rows": null,
            "height": null,
            "justify_content": null,
            "justify_items": null,
            "left": null,
            "margin": null,
            "max_height": null,
            "max_width": null,
            "min_height": null,
            "min_width": null,
            "object_fit": null,
            "object_position": null,
            "order": null,
            "overflow": null,
            "overflow_x": null,
            "overflow_y": null,
            "padding": null,
            "right": null,
            "top": null,
            "visibility": null,
            "width": null
          }
        },
        "bf17a9d73a3f4aee8c94d31229b7cf06": {
          "model_module": "@jupyter-widgets/controls",
          "model_name": "DescriptionStyleModel",
          "model_module_version": "1.5.0",
          "state": {
            "_model_module": "@jupyter-widgets/controls",
            "_model_module_version": "1.5.0",
            "_model_name": "DescriptionStyleModel",
            "_view_count": null,
            "_view_module": "@jupyter-widgets/base",
            "_view_module_version": "1.2.0",
            "_view_name": "StyleView",
            "description_width": ""
          }
        },
        "9f6ab64093d6478fa49a8b158169b4de": {
          "model_module": "@jupyter-widgets/base",
          "model_name": "LayoutModel",
          "model_module_version": "1.2.0",
          "state": {
            "_model_module": "@jupyter-widgets/base",
            "_model_module_version": "1.2.0",
            "_model_name": "LayoutModel",
            "_view_count": null,
            "_view_module": "@jupyter-widgets/base",
            "_view_module_version": "1.2.0",
            "_view_name": "LayoutView",
            "align_content": null,
            "align_items": null,
            "align_self": null,
            "border": null,
            "bottom": null,
            "display": null,
            "flex": null,
            "flex_flow": null,
            "grid_area": null,
            "grid_auto_columns": null,
            "grid_auto_flow": null,
            "grid_auto_rows": null,
            "grid_column": null,
            "grid_gap": null,
            "grid_row": null,
            "grid_template_areas": null,
            "grid_template_columns": null,
            "grid_template_rows": null,
            "height": null,
            "justify_content": null,
            "justify_items": null,
            "left": null,
            "margin": null,
            "max_height": null,
            "max_width": null,
            "min_height": null,
            "min_width": null,
            "object_fit": null,
            "object_position": null,
            "order": null,
            "overflow": null,
            "overflow_x": null,
            "overflow_y": null,
            "padding": null,
            "right": null,
            "top": null,
            "visibility": null,
            "width": null
          }
        },
        "906dabd622304f32b3e04df564b876c4": {
          "model_module": "@jupyter-widgets/controls",
          "model_name": "ProgressStyleModel",
          "model_module_version": "1.5.0",
          "state": {
            "_model_module": "@jupyter-widgets/controls",
            "_model_module_version": "1.5.0",
            "_model_name": "ProgressStyleModel",
            "_view_count": null,
            "_view_module": "@jupyter-widgets/base",
            "_view_module_version": "1.2.0",
            "_view_name": "StyleView",
            "bar_color": null,
            "description_width": ""
          }
        },
        "d0d01665560648e9a997ccdf83d092a6": {
          "model_module": "@jupyter-widgets/base",
          "model_name": "LayoutModel",
          "model_module_version": "1.2.0",
          "state": {
            "_model_module": "@jupyter-widgets/base",
            "_model_module_version": "1.2.0",
            "_model_name": "LayoutModel",
            "_view_count": null,
            "_view_module": "@jupyter-widgets/base",
            "_view_module_version": "1.2.0",
            "_view_name": "LayoutView",
            "align_content": null,
            "align_items": null,
            "align_self": null,
            "border": null,
            "bottom": null,
            "display": null,
            "flex": null,
            "flex_flow": null,
            "grid_area": null,
            "grid_auto_columns": null,
            "grid_auto_flow": null,
            "grid_auto_rows": null,
            "grid_column": null,
            "grid_gap": null,
            "grid_row": null,
            "grid_template_areas": null,
            "grid_template_columns": null,
            "grid_template_rows": null,
            "height": null,
            "justify_content": null,
            "justify_items": null,
            "left": null,
            "margin": null,
            "max_height": null,
            "max_width": null,
            "min_height": null,
            "min_width": null,
            "object_fit": null,
            "object_position": null,
            "order": null,
            "overflow": null,
            "overflow_x": null,
            "overflow_y": null,
            "padding": null,
            "right": null,
            "top": null,
            "visibility": null,
            "width": null
          }
        },
        "ec9ef080be904784808797e5c08616f1": {
          "model_module": "@jupyter-widgets/controls",
          "model_name": "DescriptionStyleModel",
          "model_module_version": "1.5.0",
          "state": {
            "_model_module": "@jupyter-widgets/controls",
            "_model_module_version": "1.5.0",
            "_model_name": "DescriptionStyleModel",
            "_view_count": null,
            "_view_module": "@jupyter-widgets/base",
            "_view_module_version": "1.2.0",
            "_view_name": "StyleView",
            "description_width": ""
          }
        },
        "f3828f38a30e4f23820a59e83cb8ca9c": {
          "model_module": "@jupyter-widgets/controls",
          "model_name": "HBoxModel",
          "model_module_version": "1.5.0",
          "state": {
            "_dom_classes": [],
            "_model_module": "@jupyter-widgets/controls",
            "_model_module_version": "1.5.0",
            "_model_name": "HBoxModel",
            "_view_count": null,
            "_view_module": "@jupyter-widgets/controls",
            "_view_module_version": "1.5.0",
            "_view_name": "HBoxView",
            "box_style": "",
            "children": [
              "IPY_MODEL_943267a96cf24cde885e7e5134d1be5e",
              "IPY_MODEL_aa6bbc11bc58461b903a247716a5cb26",
              "IPY_MODEL_d7d3f0284cc84a6286fa61534c8afca0"
            ],
            "layout": "IPY_MODEL_e7300af5dc9d4573bc537b34ae3f8713"
          }
        },
        "943267a96cf24cde885e7e5134d1be5e": {
          "model_module": "@jupyter-widgets/controls",
          "model_name": "HTMLModel",
          "model_module_version": "1.5.0",
          "state": {
            "_dom_classes": [],
            "_model_module": "@jupyter-widgets/controls",
            "_model_module_version": "1.5.0",
            "_model_name": "HTMLModel",
            "_view_count": null,
            "_view_module": "@jupyter-widgets/controls",
            "_view_module_version": "1.5.0",
            "_view_name": "HTMLView",
            "description": "",
            "description_tooltip": null,
            "layout": "IPY_MODEL_b4df8e88d9ec435b9ab0bbc2e0ba9f89",
            "placeholder": "​",
            "style": "IPY_MODEL_fd023d33ce2e41919b20818ab2e898bb",
            "value": "100%"
          }
        },
        "aa6bbc11bc58461b903a247716a5cb26": {
          "model_module": "@jupyter-widgets/controls",
          "model_name": "FloatProgressModel",
          "model_module_version": "1.5.0",
          "state": {
            "_dom_classes": [],
            "_model_module": "@jupyter-widgets/controls",
            "_model_module_version": "1.5.0",
            "_model_name": "FloatProgressModel",
            "_view_count": null,
            "_view_module": "@jupyter-widgets/controls",
            "_view_module_version": "1.5.0",
            "_view_name": "ProgressView",
            "bar_style": "success",
            "description": "",
            "description_tooltip": null,
            "layout": "IPY_MODEL_dbb09903df4b4d4b8389dc5f2ca981af",
            "max": 25000,
            "min": 0,
            "orientation": "horizontal",
            "style": "IPY_MODEL_e0b651b26f0f4431945326c12cc3fe31",
            "value": 25000
          }
        },
        "d7d3f0284cc84a6286fa61534c8afca0": {
          "model_module": "@jupyter-widgets/controls",
          "model_name": "HTMLModel",
          "model_module_version": "1.5.0",
          "state": {
            "_dom_classes": [],
            "_model_module": "@jupyter-widgets/controls",
            "_model_module_version": "1.5.0",
            "_model_name": "HTMLModel",
            "_view_count": null,
            "_view_module": "@jupyter-widgets/controls",
            "_view_module_version": "1.5.0",
            "_view_name": "HTMLView",
            "description": "",
            "description_tooltip": null,
            "layout": "IPY_MODEL_94aa433432104104b27e6ef478742c13",
            "placeholder": "​",
            "style": "IPY_MODEL_cbe2458d835e435d9b450b617e4f7da1",
            "value": " 25000/25000 [00:10&lt;00:00, 6443.58it/s]"
          }
        },
        "e7300af5dc9d4573bc537b34ae3f8713": {
          "model_module": "@jupyter-widgets/base",
          "model_name": "LayoutModel",
          "model_module_version": "1.2.0",
          "state": {
            "_model_module": "@jupyter-widgets/base",
            "_model_module_version": "1.2.0",
            "_model_name": "LayoutModel",
            "_view_count": null,
            "_view_module": "@jupyter-widgets/base",
            "_view_module_version": "1.2.0",
            "_view_name": "LayoutView",
            "align_content": null,
            "align_items": null,
            "align_self": null,
            "border": null,
            "bottom": null,
            "display": null,
            "flex": null,
            "flex_flow": null,
            "grid_area": null,
            "grid_auto_columns": null,
            "grid_auto_flow": null,
            "grid_auto_rows": null,
            "grid_column": null,
            "grid_gap": null,
            "grid_row": null,
            "grid_template_areas": null,
            "grid_template_columns": null,
            "grid_template_rows": null,
            "height": null,
            "justify_content": null,
            "justify_items": null,
            "left": null,
            "margin": null,
            "max_height": null,
            "max_width": null,
            "min_height": null,
            "min_width": null,
            "object_fit": null,
            "object_position": null,
            "order": null,
            "overflow": null,
            "overflow_x": null,
            "overflow_y": null,
            "padding": null,
            "right": null,
            "top": null,
            "visibility": null,
            "width": null
          }
        },
        "b4df8e88d9ec435b9ab0bbc2e0ba9f89": {
          "model_module": "@jupyter-widgets/base",
          "model_name": "LayoutModel",
          "model_module_version": "1.2.0",
          "state": {
            "_model_module": "@jupyter-widgets/base",
            "_model_module_version": "1.2.0",
            "_model_name": "LayoutModel",
            "_view_count": null,
            "_view_module": "@jupyter-widgets/base",
            "_view_module_version": "1.2.0",
            "_view_name": "LayoutView",
            "align_content": null,
            "align_items": null,
            "align_self": null,
            "border": null,
            "bottom": null,
            "display": null,
            "flex": null,
            "flex_flow": null,
            "grid_area": null,
            "grid_auto_columns": null,
            "grid_auto_flow": null,
            "grid_auto_rows": null,
            "grid_column": null,
            "grid_gap": null,
            "grid_row": null,
            "grid_template_areas": null,
            "grid_template_columns": null,
            "grid_template_rows": null,
            "height": null,
            "justify_content": null,
            "justify_items": null,
            "left": null,
            "margin": null,
            "max_height": null,
            "max_width": null,
            "min_height": null,
            "min_width": null,
            "object_fit": null,
            "object_position": null,
            "order": null,
            "overflow": null,
            "overflow_x": null,
            "overflow_y": null,
            "padding": null,
            "right": null,
            "top": null,
            "visibility": null,
            "width": null
          }
        },
        "fd023d33ce2e41919b20818ab2e898bb": {
          "model_module": "@jupyter-widgets/controls",
          "model_name": "DescriptionStyleModel",
          "model_module_version": "1.5.0",
          "state": {
            "_model_module": "@jupyter-widgets/controls",
            "_model_module_version": "1.5.0",
            "_model_name": "DescriptionStyleModel",
            "_view_count": null,
            "_view_module": "@jupyter-widgets/base",
            "_view_module_version": "1.2.0",
            "_view_name": "StyleView",
            "description_width": ""
          }
        },
        "dbb09903df4b4d4b8389dc5f2ca981af": {
          "model_module": "@jupyter-widgets/base",
          "model_name": "LayoutModel",
          "model_module_version": "1.2.0",
          "state": {
            "_model_module": "@jupyter-widgets/base",
            "_model_module_version": "1.2.0",
            "_model_name": "LayoutModel",
            "_view_count": null,
            "_view_module": "@jupyter-widgets/base",
            "_view_module_version": "1.2.0",
            "_view_name": "LayoutView",
            "align_content": null,
            "align_items": null,
            "align_self": null,
            "border": null,
            "bottom": null,
            "display": null,
            "flex": null,
            "flex_flow": null,
            "grid_area": null,
            "grid_auto_columns": null,
            "grid_auto_flow": null,
            "grid_auto_rows": null,
            "grid_column": null,
            "grid_gap": null,
            "grid_row": null,
            "grid_template_areas": null,
            "grid_template_columns": null,
            "grid_template_rows": null,
            "height": null,
            "justify_content": null,
            "justify_items": null,
            "left": null,
            "margin": null,
            "max_height": null,
            "max_width": null,
            "min_height": null,
            "min_width": null,
            "object_fit": null,
            "object_position": null,
            "order": null,
            "overflow": null,
            "overflow_x": null,
            "overflow_y": null,
            "padding": null,
            "right": null,
            "top": null,
            "visibility": null,
            "width": null
          }
        },
        "e0b651b26f0f4431945326c12cc3fe31": {
          "model_module": "@jupyter-widgets/controls",
          "model_name": "ProgressStyleModel",
          "model_module_version": "1.5.0",
          "state": {
            "_model_module": "@jupyter-widgets/controls",
            "_model_module_version": "1.5.0",
            "_model_name": "ProgressStyleModel",
            "_view_count": null,
            "_view_module": "@jupyter-widgets/base",
            "_view_module_version": "1.2.0",
            "_view_name": "StyleView",
            "bar_color": null,
            "description_width": ""
          }
        },
        "94aa433432104104b27e6ef478742c13": {
          "model_module": "@jupyter-widgets/base",
          "model_name": "LayoutModel",
          "model_module_version": "1.2.0",
          "state": {
            "_model_module": "@jupyter-widgets/base",
            "_model_module_version": "1.2.0",
            "_model_name": "LayoutModel",
            "_view_count": null,
            "_view_module": "@jupyter-widgets/base",
            "_view_module_version": "1.2.0",
            "_view_name": "LayoutView",
            "align_content": null,
            "align_items": null,
            "align_self": null,
            "border": null,
            "bottom": null,
            "display": null,
            "flex": null,
            "flex_flow": null,
            "grid_area": null,
            "grid_auto_columns": null,
            "grid_auto_flow": null,
            "grid_auto_rows": null,
            "grid_column": null,
            "grid_gap": null,
            "grid_row": null,
            "grid_template_areas": null,
            "grid_template_columns": null,
            "grid_template_rows": null,
            "height": null,
            "justify_content": null,
            "justify_items": null,
            "left": null,
            "margin": null,
            "max_height": null,
            "max_width": null,
            "min_height": null,
            "min_width": null,
            "object_fit": null,
            "object_position": null,
            "order": null,
            "overflow": null,
            "overflow_x": null,
            "overflow_y": null,
            "padding": null,
            "right": null,
            "top": null,
            "visibility": null,
            "width": null
          }
        },
        "cbe2458d835e435d9b450b617e4f7da1": {
          "model_module": "@jupyter-widgets/controls",
          "model_name": "DescriptionStyleModel",
          "model_module_version": "1.5.0",
          "state": {
            "_model_module": "@jupyter-widgets/controls",
            "_model_module_version": "1.5.0",
            "_model_name": "DescriptionStyleModel",
            "_view_count": null,
            "_view_module": "@jupyter-widgets/base",
            "_view_module_version": "1.2.0",
            "_view_name": "StyleView",
            "description_width": ""
          }
        },
        "6fd1720f137948f59d9841961f361e9d": {
          "model_module": "@jupyter-widgets/controls",
          "model_name": "HBoxModel",
          "model_module_version": "1.5.0",
          "state": {
            "_dom_classes": [],
            "_model_module": "@jupyter-widgets/controls",
            "_model_module_version": "1.5.0",
            "_model_name": "HBoxModel",
            "_view_count": null,
            "_view_module": "@jupyter-widgets/controls",
            "_view_module_version": "1.5.0",
            "_view_name": "HBoxView",
            "box_style": "",
            "children": [
              "IPY_MODEL_d5935dad2cc442889007ca272a02ef96",
              "IPY_MODEL_f316d95b83bb492dafb3554f6cc98bbf",
              "IPY_MODEL_8001ee50c2e84438a76f67ba5fc551c8"
            ],
            "layout": "IPY_MODEL_529b74d8c645482c968c0a2f891497c2"
          }
        },
        "d5935dad2cc442889007ca272a02ef96": {
          "model_module": "@jupyter-widgets/controls",
          "model_name": "HTMLModel",
          "model_module_version": "1.5.0",
          "state": {
            "_dom_classes": [],
            "_model_module": "@jupyter-widgets/controls",
            "_model_module_version": "1.5.0",
            "_model_name": "HTMLModel",
            "_view_count": null,
            "_view_module": "@jupyter-widgets/controls",
            "_view_module_version": "1.5.0",
            "_view_name": "HTMLView",
            "description": "",
            "description_tooltip": null,
            "layout": "IPY_MODEL_4bdfaee8e89042639397807a74677193",
            "placeholder": "​",
            "style": "IPY_MODEL_38775a660999486f81c40c14cb7b8e71",
            "value": "100%"
          }
        },
        "f316d95b83bb492dafb3554f6cc98bbf": {
          "model_module": "@jupyter-widgets/controls",
          "model_name": "FloatProgressModel",
          "model_module_version": "1.5.0",
          "state": {
            "_dom_classes": [],
            "_model_module": "@jupyter-widgets/controls",
            "_model_module_version": "1.5.0",
            "_model_name": "FloatProgressModel",
            "_view_count": null,
            "_view_module": "@jupyter-widgets/controls",
            "_view_module_version": "1.5.0",
            "_view_name": "ProgressView",
            "bar_style": "success",
            "description": "",
            "description_tooltip": null,
            "layout": "IPY_MODEL_1f66e3c09a264916a380bbf0854a9565",
            "max": 25000,
            "min": 0,
            "orientation": "horizontal",
            "style": "IPY_MODEL_0f6ae8c7e8474a568751c0acb07c2ab8",
            "value": 25000
          }
        },
        "8001ee50c2e84438a76f67ba5fc551c8": {
          "model_module": "@jupyter-widgets/controls",
          "model_name": "HTMLModel",
          "model_module_version": "1.5.0",
          "state": {
            "_dom_classes": [],
            "_model_module": "@jupyter-widgets/controls",
            "_model_module_version": "1.5.0",
            "_model_name": "HTMLModel",
            "_view_count": null,
            "_view_module": "@jupyter-widgets/controls",
            "_view_module_version": "1.5.0",
            "_view_name": "HTMLView",
            "description": "",
            "description_tooltip": null,
            "layout": "IPY_MODEL_9c0dd83a49814d1ab7e2db28cff00f2c",
            "placeholder": "​",
            "style": "IPY_MODEL_6a5be00c1d5641f997c9bd25676eaf92",
            "value": " 25000/25000 [00:11&lt;00:00, 3906.65it/s]"
          }
        },
        "529b74d8c645482c968c0a2f891497c2": {
          "model_module": "@jupyter-widgets/base",
          "model_name": "LayoutModel",
          "model_module_version": "1.2.0",
          "state": {
            "_model_module": "@jupyter-widgets/base",
            "_model_module_version": "1.2.0",
            "_model_name": "LayoutModel",
            "_view_count": null,
            "_view_module": "@jupyter-widgets/base",
            "_view_module_version": "1.2.0",
            "_view_name": "LayoutView",
            "align_content": null,
            "align_items": null,
            "align_self": null,
            "border": null,
            "bottom": null,
            "display": null,
            "flex": null,
            "flex_flow": null,
            "grid_area": null,
            "grid_auto_columns": null,
            "grid_auto_flow": null,
            "grid_auto_rows": null,
            "grid_column": null,
            "grid_gap": null,
            "grid_row": null,
            "grid_template_areas": null,
            "grid_template_columns": null,
            "grid_template_rows": null,
            "height": null,
            "justify_content": null,
            "justify_items": null,
            "left": null,
            "margin": null,
            "max_height": null,
            "max_width": null,
            "min_height": null,
            "min_width": null,
            "object_fit": null,
            "object_position": null,
            "order": null,
            "overflow": null,
            "overflow_x": null,
            "overflow_y": null,
            "padding": null,
            "right": null,
            "top": null,
            "visibility": null,
            "width": null
          }
        },
        "4bdfaee8e89042639397807a74677193": {
          "model_module": "@jupyter-widgets/base",
          "model_name": "LayoutModel",
          "model_module_version": "1.2.0",
          "state": {
            "_model_module": "@jupyter-widgets/base",
            "_model_module_version": "1.2.0",
            "_model_name": "LayoutModel",
            "_view_count": null,
            "_view_module": "@jupyter-widgets/base",
            "_view_module_version": "1.2.0",
            "_view_name": "LayoutView",
            "align_content": null,
            "align_items": null,
            "align_self": null,
            "border": null,
            "bottom": null,
            "display": null,
            "flex": null,
            "flex_flow": null,
            "grid_area": null,
            "grid_auto_columns": null,
            "grid_auto_flow": null,
            "grid_auto_rows": null,
            "grid_column": null,
            "grid_gap": null,
            "grid_row": null,
            "grid_template_areas": null,
            "grid_template_columns": null,
            "grid_template_rows": null,
            "height": null,
            "justify_content": null,
            "justify_items": null,
            "left": null,
            "margin": null,
            "max_height": null,
            "max_width": null,
            "min_height": null,
            "min_width": null,
            "object_fit": null,
            "object_position": null,
            "order": null,
            "overflow": null,
            "overflow_x": null,
            "overflow_y": null,
            "padding": null,
            "right": null,
            "top": null,
            "visibility": null,
            "width": null
          }
        },
        "38775a660999486f81c40c14cb7b8e71": {
          "model_module": "@jupyter-widgets/controls",
          "model_name": "DescriptionStyleModel",
          "model_module_version": "1.5.0",
          "state": {
            "_model_module": "@jupyter-widgets/controls",
            "_model_module_version": "1.5.0",
            "_model_name": "DescriptionStyleModel",
            "_view_count": null,
            "_view_module": "@jupyter-widgets/base",
            "_view_module_version": "1.2.0",
            "_view_name": "StyleView",
            "description_width": ""
          }
        },
        "1f66e3c09a264916a380bbf0854a9565": {
          "model_module": "@jupyter-widgets/base",
          "model_name": "LayoutModel",
          "model_module_version": "1.2.0",
          "state": {
            "_model_module": "@jupyter-widgets/base",
            "_model_module_version": "1.2.0",
            "_model_name": "LayoutModel",
            "_view_count": null,
            "_view_module": "@jupyter-widgets/base",
            "_view_module_version": "1.2.0",
            "_view_name": "LayoutView",
            "align_content": null,
            "align_items": null,
            "align_self": null,
            "border": null,
            "bottom": null,
            "display": null,
            "flex": null,
            "flex_flow": null,
            "grid_area": null,
            "grid_auto_columns": null,
            "grid_auto_flow": null,
            "grid_auto_rows": null,
            "grid_column": null,
            "grid_gap": null,
            "grid_row": null,
            "grid_template_areas": null,
            "grid_template_columns": null,
            "grid_template_rows": null,
            "height": null,
            "justify_content": null,
            "justify_items": null,
            "left": null,
            "margin": null,
            "max_height": null,
            "max_width": null,
            "min_height": null,
            "min_width": null,
            "object_fit": null,
            "object_position": null,
            "order": null,
            "overflow": null,
            "overflow_x": null,
            "overflow_y": null,
            "padding": null,
            "right": null,
            "top": null,
            "visibility": null,
            "width": null
          }
        },
        "0f6ae8c7e8474a568751c0acb07c2ab8": {
          "model_module": "@jupyter-widgets/controls",
          "model_name": "ProgressStyleModel",
          "model_module_version": "1.5.0",
          "state": {
            "_model_module": "@jupyter-widgets/controls",
            "_model_module_version": "1.5.0",
            "_model_name": "ProgressStyleModel",
            "_view_count": null,
            "_view_module": "@jupyter-widgets/base",
            "_view_module_version": "1.2.0",
            "_view_name": "StyleView",
            "bar_color": null,
            "description_width": ""
          }
        },
        "9c0dd83a49814d1ab7e2db28cff00f2c": {
          "model_module": "@jupyter-widgets/base",
          "model_name": "LayoutModel",
          "model_module_version": "1.2.0",
          "state": {
            "_model_module": "@jupyter-widgets/base",
            "_model_module_version": "1.2.0",
            "_model_name": "LayoutModel",
            "_view_count": null,
            "_view_module": "@jupyter-widgets/base",
            "_view_module_version": "1.2.0",
            "_view_name": "LayoutView",
            "align_content": null,
            "align_items": null,
            "align_self": null,
            "border": null,
            "bottom": null,
            "display": null,
            "flex": null,
            "flex_flow": null,
            "grid_area": null,
            "grid_auto_columns": null,
            "grid_auto_flow": null,
            "grid_auto_rows": null,
            "grid_column": null,
            "grid_gap": null,
            "grid_row": null,
            "grid_template_areas": null,
            "grid_template_columns": null,
            "grid_template_rows": null,
            "height": null,
            "justify_content": null,
            "justify_items": null,
            "left": null,
            "margin": null,
            "max_height": null,
            "max_width": null,
            "min_height": null,
            "min_width": null,
            "object_fit": null,
            "object_position": null,
            "order": null,
            "overflow": null,
            "overflow_x": null,
            "overflow_y": null,
            "padding": null,
            "right": null,
            "top": null,
            "visibility": null,
            "width": null
          }
        },
        "6a5be00c1d5641f997c9bd25676eaf92": {
          "model_module": "@jupyter-widgets/controls",
          "model_name": "DescriptionStyleModel",
          "model_module_version": "1.5.0",
          "state": {
            "_model_module": "@jupyter-widgets/controls",
            "_model_module_version": "1.5.0",
            "_model_name": "DescriptionStyleModel",
            "_view_count": null,
            "_view_module": "@jupyter-widgets/base",
            "_view_module_version": "1.2.0",
            "_view_name": "StyleView",
            "description_width": ""
          }
        },
        "6cf442db6f284fb5b8c45de407fa1835": {
          "model_module": "@jupyter-widgets/controls",
          "model_name": "HBoxModel",
          "model_module_version": "1.5.0",
          "state": {
            "_dom_classes": [],
            "_model_module": "@jupyter-widgets/controls",
            "_model_module_version": "1.5.0",
            "_model_name": "HBoxModel",
            "_view_count": null,
            "_view_module": "@jupyter-widgets/controls",
            "_view_module_version": "1.5.0",
            "_view_name": "HBoxView",
            "box_style": "",
            "children": [
              "IPY_MODEL_737bd7509cd6448fa7eb967ce59da923",
              "IPY_MODEL_4d10d2ae972b4bf1bf35cb37d2f6fbed",
              "IPY_MODEL_0b77b9c7c3f943cdaf8f70003692966b"
            ],
            "layout": "IPY_MODEL_bc3d306692bd4c5a9d135aabf566fce7"
          }
        },
        "737bd7509cd6448fa7eb967ce59da923": {
          "model_module": "@jupyter-widgets/controls",
          "model_name": "HTMLModel",
          "model_module_version": "1.5.0",
          "state": {
            "_dom_classes": [],
            "_model_module": "@jupyter-widgets/controls",
            "_model_module_version": "1.5.0",
            "_model_name": "HTMLModel",
            "_view_count": null,
            "_view_module": "@jupyter-widgets/controls",
            "_view_module_version": "1.5.0",
            "_view_name": "HTMLView",
            "description": "",
            "description_tooltip": null,
            "layout": "IPY_MODEL_3c703238b8d947b6af57c9e03a2629a4",
            "placeholder": "​",
            "style": "IPY_MODEL_3873fe0cf0974b2e8e234e5fc17936ed",
            "value": "100%"
          }
        },
        "4d10d2ae972b4bf1bf35cb37d2f6fbed": {
          "model_module": "@jupyter-widgets/controls",
          "model_name": "FloatProgressModel",
          "model_module_version": "1.5.0",
          "state": {
            "_dom_classes": [],
            "_model_module": "@jupyter-widgets/controls",
            "_model_module_version": "1.5.0",
            "_model_name": "FloatProgressModel",
            "_view_count": null,
            "_view_module": "@jupyter-widgets/controls",
            "_view_module_version": "1.5.0",
            "_view_name": "ProgressView",
            "bar_style": "success",
            "description": "",
            "description_tooltip": null,
            "layout": "IPY_MODEL_73a82b3f48d24890952b972ab03c88b5",
            "max": 25000,
            "min": 0,
            "orientation": "horizontal",
            "style": "IPY_MODEL_083e1f2e39884cf8bd93febe028f3fed",
            "value": 25000
          }
        },
        "0b77b9c7c3f943cdaf8f70003692966b": {
          "model_module": "@jupyter-widgets/controls",
          "model_name": "HTMLModel",
          "model_module_version": "1.5.0",
          "state": {
            "_dom_classes": [],
            "_model_module": "@jupyter-widgets/controls",
            "_model_module_version": "1.5.0",
            "_model_name": "HTMLModel",
            "_view_count": null,
            "_view_module": "@jupyter-widgets/controls",
            "_view_module_version": "1.5.0",
            "_view_name": "HTMLView",
            "description": "",
            "description_tooltip": null,
            "layout": "IPY_MODEL_83d6124865c847cba7f7acb9e0d6e2ba",
            "placeholder": "​",
            "style": "IPY_MODEL_3fc87de857c34791bfe2f5c7e2a1c274",
            "value": " 25000/25000 [00:06&lt;00:00, 3937.24it/s]"
          }
        },
        "bc3d306692bd4c5a9d135aabf566fce7": {
          "model_module": "@jupyter-widgets/base",
          "model_name": "LayoutModel",
          "model_module_version": "1.2.0",
          "state": {
            "_model_module": "@jupyter-widgets/base",
            "_model_module_version": "1.2.0",
            "_model_name": "LayoutModel",
            "_view_count": null,
            "_view_module": "@jupyter-widgets/base",
            "_view_module_version": "1.2.0",
            "_view_name": "LayoutView",
            "align_content": null,
            "align_items": null,
            "align_self": null,
            "border": null,
            "bottom": null,
            "display": null,
            "flex": null,
            "flex_flow": null,
            "grid_area": null,
            "grid_auto_columns": null,
            "grid_auto_flow": null,
            "grid_auto_rows": null,
            "grid_column": null,
            "grid_gap": null,
            "grid_row": null,
            "grid_template_areas": null,
            "grid_template_columns": null,
            "grid_template_rows": null,
            "height": null,
            "justify_content": null,
            "justify_items": null,
            "left": null,
            "margin": null,
            "max_height": null,
            "max_width": null,
            "min_height": null,
            "min_width": null,
            "object_fit": null,
            "object_position": null,
            "order": null,
            "overflow": null,
            "overflow_x": null,
            "overflow_y": null,
            "padding": null,
            "right": null,
            "top": null,
            "visibility": null,
            "width": null
          }
        },
        "3c703238b8d947b6af57c9e03a2629a4": {
          "model_module": "@jupyter-widgets/base",
          "model_name": "LayoutModel",
          "model_module_version": "1.2.0",
          "state": {
            "_model_module": "@jupyter-widgets/base",
            "_model_module_version": "1.2.0",
            "_model_name": "LayoutModel",
            "_view_count": null,
            "_view_module": "@jupyter-widgets/base",
            "_view_module_version": "1.2.0",
            "_view_name": "LayoutView",
            "align_content": null,
            "align_items": null,
            "align_self": null,
            "border": null,
            "bottom": null,
            "display": null,
            "flex": null,
            "flex_flow": null,
            "grid_area": null,
            "grid_auto_columns": null,
            "grid_auto_flow": null,
            "grid_auto_rows": null,
            "grid_column": null,
            "grid_gap": null,
            "grid_row": null,
            "grid_template_areas": null,
            "grid_template_columns": null,
            "grid_template_rows": null,
            "height": null,
            "justify_content": null,
            "justify_items": null,
            "left": null,
            "margin": null,
            "max_height": null,
            "max_width": null,
            "min_height": null,
            "min_width": null,
            "object_fit": null,
            "object_position": null,
            "order": null,
            "overflow": null,
            "overflow_x": null,
            "overflow_y": null,
            "padding": null,
            "right": null,
            "top": null,
            "visibility": null,
            "width": null
          }
        },
        "3873fe0cf0974b2e8e234e5fc17936ed": {
          "model_module": "@jupyter-widgets/controls",
          "model_name": "DescriptionStyleModel",
          "model_module_version": "1.5.0",
          "state": {
            "_model_module": "@jupyter-widgets/controls",
            "_model_module_version": "1.5.0",
            "_model_name": "DescriptionStyleModel",
            "_view_count": null,
            "_view_module": "@jupyter-widgets/base",
            "_view_module_version": "1.2.0",
            "_view_name": "StyleView",
            "description_width": ""
          }
        },
        "73a82b3f48d24890952b972ab03c88b5": {
          "model_module": "@jupyter-widgets/base",
          "model_name": "LayoutModel",
          "model_module_version": "1.2.0",
          "state": {
            "_model_module": "@jupyter-widgets/base",
            "_model_module_version": "1.2.0",
            "_model_name": "LayoutModel",
            "_view_count": null,
            "_view_module": "@jupyter-widgets/base",
            "_view_module_version": "1.2.0",
            "_view_name": "LayoutView",
            "align_content": null,
            "align_items": null,
            "align_self": null,
            "border": null,
            "bottom": null,
            "display": null,
            "flex": null,
            "flex_flow": null,
            "grid_area": null,
            "grid_auto_columns": null,
            "grid_auto_flow": null,
            "grid_auto_rows": null,
            "grid_column": null,
            "grid_gap": null,
            "grid_row": null,
            "grid_template_areas": null,
            "grid_template_columns": null,
            "grid_template_rows": null,
            "height": null,
            "justify_content": null,
            "justify_items": null,
            "left": null,
            "margin": null,
            "max_height": null,
            "max_width": null,
            "min_height": null,
            "min_width": null,
            "object_fit": null,
            "object_position": null,
            "order": null,
            "overflow": null,
            "overflow_x": null,
            "overflow_y": null,
            "padding": null,
            "right": null,
            "top": null,
            "visibility": null,
            "width": null
          }
        },
        "083e1f2e39884cf8bd93febe028f3fed": {
          "model_module": "@jupyter-widgets/controls",
          "model_name": "ProgressStyleModel",
          "model_module_version": "1.5.0",
          "state": {
            "_model_module": "@jupyter-widgets/controls",
            "_model_module_version": "1.5.0",
            "_model_name": "ProgressStyleModel",
            "_view_count": null,
            "_view_module": "@jupyter-widgets/base",
            "_view_module_version": "1.2.0",
            "_view_name": "StyleView",
            "bar_color": null,
            "description_width": ""
          }
        },
        "83d6124865c847cba7f7acb9e0d6e2ba": {
          "model_module": "@jupyter-widgets/base",
          "model_name": "LayoutModel",
          "model_module_version": "1.2.0",
          "state": {
            "_model_module": "@jupyter-widgets/base",
            "_model_module_version": "1.2.0",
            "_model_name": "LayoutModel",
            "_view_count": null,
            "_view_module": "@jupyter-widgets/base",
            "_view_module_version": "1.2.0",
            "_view_name": "LayoutView",
            "align_content": null,
            "align_items": null,
            "align_self": null,
            "border": null,
            "bottom": null,
            "display": null,
            "flex": null,
            "flex_flow": null,
            "grid_area": null,
            "grid_auto_columns": null,
            "grid_auto_flow": null,
            "grid_auto_rows": null,
            "grid_column": null,
            "grid_gap": null,
            "grid_row": null,
            "grid_template_areas": null,
            "grid_template_columns": null,
            "grid_template_rows": null,
            "height": null,
            "justify_content": null,
            "justify_items": null,
            "left": null,
            "margin": null,
            "max_height": null,
            "max_width": null,
            "min_height": null,
            "min_width": null,
            "object_fit": null,
            "object_position": null,
            "order": null,
            "overflow": null,
            "overflow_x": null,
            "overflow_y": null,
            "padding": null,
            "right": null,
            "top": null,
            "visibility": null,
            "width": null
          }
        },
        "3fc87de857c34791bfe2f5c7e2a1c274": {
          "model_module": "@jupyter-widgets/controls",
          "model_name": "DescriptionStyleModel",
          "model_module_version": "1.5.0",
          "state": {
            "_model_module": "@jupyter-widgets/controls",
            "_model_module_version": "1.5.0",
            "_model_name": "DescriptionStyleModel",
            "_view_count": null,
            "_view_module": "@jupyter-widgets/base",
            "_view_module_version": "1.2.0",
            "_view_name": "StyleView",
            "description_width": ""
          }
        }
      }
    },
    "accelerator": "GPU"
  },
  "nbformat": 4,
  "nbformat_minor": 5
}