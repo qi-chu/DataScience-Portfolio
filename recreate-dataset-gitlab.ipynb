{
 "cells": [
  {
   "cell_type": "markdown",
   "metadata": {},
   "source": [
    "# Re-create the BBB data \n",
    "\n",
    "Any dataset doesn't exist in companies in its raw form, someone has to create it first ... likely from different data sources!\n",
    "\n",
    "The goal of this project is to re-create the pandas data frame in bbb.pkl\n",
    "data EXACTLY from its components. Dea steps outlined below:\n",
    "\n",
    "1. Determine how to load the different file types (use pd.read_pickel, pd.read_csv,\n",
    "   pd.read_excel, and sqlite3.connect)\n",
    "2. Determine what data transformations are needed and how the data should be\n",
    "   combined into a data frame. You MUST name your re-created data frame 'bbb_rec'\n",
    "3. The final step will be to check that your code produces a data frame\n",
    "   identical to the pandas data frame in the bbb.pkl file, using pandas' \"equals\"\n",
    "   method shown below. \n",
    "4. Make sure to style the python code appropriately for easy readable"
   ]
  },
  {
   "cell_type": "code",
   "execution_count": 4,
   "metadata": {},
   "outputs": [],
   "source": [
    "import pandas as pd\n",
    "import sqlite3\n",
    "from datetime import date\n",
    "import pyrsm as rsm\n",
    "import urllib.request\n",
    "from tempfile import NamedTemporaryFile as tmpfile\n",
    "import os"
   ]
  },
  {
   "cell_type": "markdown",
   "metadata": {},
   "source": [
    "load the original bbb.pkl data frame from a Dropbox link"
   ]
  },
  {
   "cell_type": "code",
   "execution_count": 5,
   "metadata": {},
   "outputs": [],
   "source": [
    "bbb_file = tmpfile().name\n",
    "urllib.request.urlretrieve(\n",
    "    \"https://www.dropbox.com/s/6bulog0ij4pr52o/bbb.pkl?dl=1\", bbb_file\n",
    ")\n",
    "bbb = pd.read_pickle(bbb_file)"
   ]
  },
  {
   "cell_type": "markdown",
   "metadata": {},
   "source": [
    "view the data description of the original data to determine\n",
    "what needs to be re-created"
   ]
  },
  {
   "cell_type": "code",
   "execution_count": 6,
   "metadata": {},
   "outputs": [
    {
     "data": {
      "text/markdown": [
       "# BookBinders Book Club\n",
       "\n",
       "Information on purchasing history and demographics for 50,000 of the BookBinders Book Club's customers'. Variables included in the dataset are described below\n",
       "\n",
       "## Variables\n",
       "\n",
       "* acctnum: Customer account number\n",
       "* gender: Customer gender - M=male, F=female\n",
       "* state: State where customer lives (2-character abbreviation)\n",
       "* zip: ZIP code (5-digit)\n",
       "* zip3: First 3 digits of ZIP code\n",
       "* first: Number of months since first purchase\n",
       "* last: Number of months since most recent purchase\n",
       "* book: Total dollars spent on books\n",
       "* nonbook: Total dollars spent on non-book products\n",
       "* total: Total dollars spent\n",
       "* purch: Total number of books purchased\n",
       "* child: Total number of children's books purchased\n",
       "* youth: Total number of youth books purchased\n",
       "* cook: Total number of cook books purchased \n",
       "* do_it: Total number of do-it-yourself books purchased \n",
       "* reference: Total number of reference books purchased \n",
       "* art: Total number of art books purchased \n",
       "* geog: Total number of geography books purchased \n",
       "* buyer: Did the customer buy The Art History of Florence?  (yes, no)\n",
       "* training: Dummy variable that splits the dataset into a training (1) and validation (0) dataset"
      ],
      "text/plain": [
       "<IPython.core.display.Markdown object>"
      ]
     },
     "metadata": {},
     "output_type": "display_data"
    }
   ],
   "source": [
    "rsm.describe(bbb)"
   ]
  },
  {
   "cell_type": "markdown",
   "metadata": {},
   "source": [
    "Check that the working directory you are using is the same as the location of this file"
   ]
  },
  {
   "cell_type": "code",
   "execution_count": 284,
   "metadata": {
    "lines_to_next_cell": 1
   },
   "outputs": [
    {
     "data": {
      "text/plain": [
       "'/home/jovyan/rsm-mgta455-bbb-recreate-data'"
      ]
     },
     "execution_count": 284,
     "metadata": {},
     "output_type": "execute_result"
    }
   ],
   "source": [
    "os.getcwd()"
   ]
  },
  {
   "cell_type": "markdown",
   "metadata": {},
   "source": [
    "load demographics data from bbb_demographics.tsv"
   ]
  },
  {
   "cell_type": "code",
   "execution_count": 23,
   "metadata": {},
   "outputs": [],
   "source": [
    "bbb_demographics = pd.read_csv('./data/bbb_demographics.tsv',sep = '\\t')\n",
    "\n",
    "bbb_demographics = bbb_demographics.astype({\"zip\": str})\n"
   ]
  },
  {
   "cell_type": "code",
   "execution_count": 24,
   "metadata": {},
   "outputs": [
    {
     "data": {
      "text/html": [
       "<div>\n",
       "<style scoped>\n",
       "    .dataframe tbody tr th:only-of-type {\n",
       "        vertical-align: middle;\n",
       "    }\n",
       "\n",
       "    .dataframe tbody tr th {\n",
       "        vertical-align: top;\n",
       "    }\n",
       "\n",
       "    .dataframe thead th {\n",
       "        text-align: right;\n",
       "    }\n",
       "</style>\n",
       "<table border=\"1\" class=\"dataframe\">\n",
       "  <thead>\n",
       "    <tr style=\"text-align: right;\">\n",
       "      <th></th>\n",
       "      <th>acctnum</th>\n",
       "      <th>gender</th>\n",
       "      <th>state</th>\n",
       "      <th>zip</th>\n",
       "    </tr>\n",
       "  </thead>\n",
       "  <tbody>\n",
       "    <tr>\n",
       "      <th>0</th>\n",
       "      <td>10001</td>\n",
       "      <td>M</td>\n",
       "      <td>NY</td>\n",
       "      <td>10605</td>\n",
       "    </tr>\n",
       "    <tr>\n",
       "      <th>1</th>\n",
       "      <td>10002</td>\n",
       "      <td>M</td>\n",
       "      <td>NY</td>\n",
       "      <td>10960</td>\n",
       "    </tr>\n",
       "    <tr>\n",
       "      <th>2</th>\n",
       "      <td>10003</td>\n",
       "      <td>F</td>\n",
       "      <td>PA</td>\n",
       "      <td>19146</td>\n",
       "    </tr>\n",
       "    <tr>\n",
       "      <th>3</th>\n",
       "      <td>10004</td>\n",
       "      <td>F</td>\n",
       "      <td>NJ</td>\n",
       "      <td>7016</td>\n",
       "    </tr>\n",
       "    <tr>\n",
       "      <th>4</th>\n",
       "      <td>10005</td>\n",
       "      <td>F</td>\n",
       "      <td>NY</td>\n",
       "      <td>10804</td>\n",
       "    </tr>\n",
       "    <tr>\n",
       "      <th>...</th>\n",
       "      <td>...</td>\n",
       "      <td>...</td>\n",
       "      <td>...</td>\n",
       "      <td>...</td>\n",
       "    </tr>\n",
       "    <tr>\n",
       "      <th>49995</th>\n",
       "      <td>59996</td>\n",
       "      <td>F</td>\n",
       "      <td>NY</td>\n",
       "      <td>11967</td>\n",
       "    </tr>\n",
       "    <tr>\n",
       "      <th>49996</th>\n",
       "      <td>59997</td>\n",
       "      <td>F</td>\n",
       "      <td>NJ</td>\n",
       "      <td>8882</td>\n",
       "    </tr>\n",
       "    <tr>\n",
       "      <th>49997</th>\n",
       "      <td>59998</td>\n",
       "      <td>M</td>\n",
       "      <td>NJ</td>\n",
       "      <td>7410</td>\n",
       "    </tr>\n",
       "    <tr>\n",
       "      <th>49998</th>\n",
       "      <td>59999</td>\n",
       "      <td>M</td>\n",
       "      <td>NJ</td>\n",
       "      <td>7090</td>\n",
       "    </tr>\n",
       "    <tr>\n",
       "      <th>49999</th>\n",
       "      <td>60000</td>\n",
       "      <td>M</td>\n",
       "      <td>NY</td>\n",
       "      <td>11355</td>\n",
       "    </tr>\n",
       "  </tbody>\n",
       "</table>\n",
       "<p>50000 rows × 4 columns</p>\n",
       "</div>"
      ],
      "text/plain": [
       "       acctnum gender state    zip\n",
       "0        10001      M    NY  10605\n",
       "1        10002      M    NY  10960\n",
       "2        10003      F    PA  19146\n",
       "3        10004      F    NJ   7016\n",
       "4        10005      F    NY  10804\n",
       "...        ...    ...   ...    ...\n",
       "49995    59996      F    NY  11967\n",
       "49996    59997      F    NJ   8882\n",
       "49997    59998      M    NJ   7410\n",
       "49998    59999      M    NJ   7090\n",
       "49999    60000      M    NY  11355\n",
       "\n",
       "[50000 rows x 4 columns]"
      ]
     },
     "execution_count": 24,
     "metadata": {},
     "output_type": "execute_result"
    }
   ],
   "source": [
    "bbb_demographics"
   ]
  },
  {
   "cell_type": "code",
   "execution_count": 25,
   "metadata": {},
   "outputs": [],
   "source": [
    "bbb_demographics['zip'] = bbb_demographics['zip'].str.zfill(5)"
   ]
  },
  {
   "cell_type": "code",
   "execution_count": 26,
   "metadata": {},
   "outputs": [
    {
     "data": {
      "text/html": [
       "<div>\n",
       "<style scoped>\n",
       "    .dataframe tbody tr th:only-of-type {\n",
       "        vertical-align: middle;\n",
       "    }\n",
       "\n",
       "    .dataframe tbody tr th {\n",
       "        vertical-align: top;\n",
       "    }\n",
       "\n",
       "    .dataframe thead th {\n",
       "        text-align: right;\n",
       "    }\n",
       "</style>\n",
       "<table border=\"1\" class=\"dataframe\">\n",
       "  <thead>\n",
       "    <tr style=\"text-align: right;\">\n",
       "      <th></th>\n",
       "      <th>acctnum</th>\n",
       "      <th>gender</th>\n",
       "      <th>state</th>\n",
       "      <th>zip</th>\n",
       "    </tr>\n",
       "  </thead>\n",
       "  <tbody>\n",
       "    <tr>\n",
       "      <th>0</th>\n",
       "      <td>10001</td>\n",
       "      <td>M</td>\n",
       "      <td>NY</td>\n",
       "      <td>10605</td>\n",
       "    </tr>\n",
       "    <tr>\n",
       "      <th>1</th>\n",
       "      <td>10002</td>\n",
       "      <td>M</td>\n",
       "      <td>NY</td>\n",
       "      <td>10960</td>\n",
       "    </tr>\n",
       "    <tr>\n",
       "      <th>2</th>\n",
       "      <td>10003</td>\n",
       "      <td>F</td>\n",
       "      <td>PA</td>\n",
       "      <td>19146</td>\n",
       "    </tr>\n",
       "    <tr>\n",
       "      <th>3</th>\n",
       "      <td>10004</td>\n",
       "      <td>F</td>\n",
       "      <td>NJ</td>\n",
       "      <td>07016</td>\n",
       "    </tr>\n",
       "    <tr>\n",
       "      <th>4</th>\n",
       "      <td>10005</td>\n",
       "      <td>F</td>\n",
       "      <td>NY</td>\n",
       "      <td>10804</td>\n",
       "    </tr>\n",
       "    <tr>\n",
       "      <th>...</th>\n",
       "      <td>...</td>\n",
       "      <td>...</td>\n",
       "      <td>...</td>\n",
       "      <td>...</td>\n",
       "    </tr>\n",
       "    <tr>\n",
       "      <th>49995</th>\n",
       "      <td>59996</td>\n",
       "      <td>F</td>\n",
       "      <td>NY</td>\n",
       "      <td>11967</td>\n",
       "    </tr>\n",
       "    <tr>\n",
       "      <th>49996</th>\n",
       "      <td>59997</td>\n",
       "      <td>F</td>\n",
       "      <td>NJ</td>\n",
       "      <td>08882</td>\n",
       "    </tr>\n",
       "    <tr>\n",
       "      <th>49997</th>\n",
       "      <td>59998</td>\n",
       "      <td>M</td>\n",
       "      <td>NJ</td>\n",
       "      <td>07410</td>\n",
       "    </tr>\n",
       "    <tr>\n",
       "      <th>49998</th>\n",
       "      <td>59999</td>\n",
       "      <td>M</td>\n",
       "      <td>NJ</td>\n",
       "      <td>07090</td>\n",
       "    </tr>\n",
       "    <tr>\n",
       "      <th>49999</th>\n",
       "      <td>60000</td>\n",
       "      <td>M</td>\n",
       "      <td>NY</td>\n",
       "      <td>11355</td>\n",
       "    </tr>\n",
       "  </tbody>\n",
       "</table>\n",
       "<p>50000 rows × 4 columns</p>\n",
       "</div>"
      ],
      "text/plain": [
       "       acctnum gender state    zip\n",
       "0        10001      M    NY  10605\n",
       "1        10002      M    NY  10960\n",
       "2        10003      F    PA  19146\n",
       "3        10004      F    NJ  07016\n",
       "4        10005      F    NY  10804\n",
       "...        ...    ...   ...    ...\n",
       "49995    59996      F    NY  11967\n",
       "49996    59997      F    NJ  08882\n",
       "49997    59998      M    NJ  07410\n",
       "49998    59999      M    NJ  07090\n",
       "49999    60000      M    NY  11355\n",
       "\n",
       "[50000 rows x 4 columns]"
      ]
     },
     "execution_count": 26,
     "metadata": {},
     "output_type": "execute_result"
    }
   ],
   "source": [
    "bbb_demographics"
   ]
  },
  {
   "cell_type": "code",
   "execution_count": 288,
   "metadata": {},
   "outputs": [],
   "source": [
    "def cal(row):  \n",
    "    return row['zip'][:3]\n"
   ]
  },
  {
   "cell_type": "code",
   "execution_count": 27,
   "metadata": {},
   "outputs": [
    {
     "data": {
      "text/html": [
       "<div>\n",
       "<style scoped>\n",
       "    .dataframe tbody tr th:only-of-type {\n",
       "        vertical-align: middle;\n",
       "    }\n",
       "\n",
       "    .dataframe tbody tr th {\n",
       "        vertical-align: top;\n",
       "    }\n",
       "\n",
       "    .dataframe thead th {\n",
       "        text-align: right;\n",
       "    }\n",
       "</style>\n",
       "<table border=\"1\" class=\"dataframe\">\n",
       "  <thead>\n",
       "    <tr style=\"text-align: right;\">\n",
       "      <th></th>\n",
       "      <th>acctnum</th>\n",
       "      <th>gender</th>\n",
       "      <th>state</th>\n",
       "      <th>zip</th>\n",
       "      <th>zip3</th>\n",
       "    </tr>\n",
       "  </thead>\n",
       "  <tbody>\n",
       "    <tr>\n",
       "      <th>0</th>\n",
       "      <td>10001</td>\n",
       "      <td>M</td>\n",
       "      <td>NY</td>\n",
       "      <td>10605</td>\n",
       "      <td>106</td>\n",
       "    </tr>\n",
       "    <tr>\n",
       "      <th>1</th>\n",
       "      <td>10002</td>\n",
       "      <td>M</td>\n",
       "      <td>NY</td>\n",
       "      <td>10960</td>\n",
       "      <td>109</td>\n",
       "    </tr>\n",
       "    <tr>\n",
       "      <th>2</th>\n",
       "      <td>10003</td>\n",
       "      <td>F</td>\n",
       "      <td>PA</td>\n",
       "      <td>19146</td>\n",
       "      <td>191</td>\n",
       "    </tr>\n",
       "    <tr>\n",
       "      <th>3</th>\n",
       "      <td>10004</td>\n",
       "      <td>F</td>\n",
       "      <td>NJ</td>\n",
       "      <td>07016</td>\n",
       "      <td>070</td>\n",
       "    </tr>\n",
       "    <tr>\n",
       "      <th>4</th>\n",
       "      <td>10005</td>\n",
       "      <td>F</td>\n",
       "      <td>NY</td>\n",
       "      <td>10804</td>\n",
       "      <td>108</td>\n",
       "    </tr>\n",
       "  </tbody>\n",
       "</table>\n",
       "</div>"
      ],
      "text/plain": [
       "   acctnum gender state    zip zip3\n",
       "0    10001      M    NY  10605  106\n",
       "1    10002      M    NY  10960  109\n",
       "2    10003      F    PA  19146  191\n",
       "3    10004      F    NJ  07016  070\n",
       "4    10005      F    NY  10804  108"
      ]
     },
     "execution_count": 27,
     "metadata": {},
     "output_type": "execute_result"
    }
   ],
   "source": [
    "bbb_demographics['zip3'] = bbb_demographics.zip.str[:3]\n",
    "bbb_demographics.head()"
   ]
  },
  {
   "cell_type": "markdown",
   "metadata": {},
   "source": [
    "load nonbook aggregate spending from bbb_nonbook.xls"
   ]
  },
  {
   "cell_type": "code",
   "execution_count": 28,
   "metadata": {},
   "outputs": [],
   "source": [
    "bbb_nonbook = pd.read_excel('./data/bbb_nonbook.xls')"
   ]
  },
  {
   "cell_type": "code",
   "execution_count": 29,
   "metadata": {},
   "outputs": [
    {
     "data": {
      "text/html": [
       "<div>\n",
       "<style scoped>\n",
       "    .dataframe tbody tr th:only-of-type {\n",
       "        vertical-align: middle;\n",
       "    }\n",
       "\n",
       "    .dataframe tbody tr th {\n",
       "        vertical-align: top;\n",
       "    }\n",
       "\n",
       "    .dataframe thead th {\n",
       "        text-align: right;\n",
       "    }\n",
       "</style>\n",
       "<table border=\"1\" class=\"dataframe\">\n",
       "  <thead>\n",
       "    <tr style=\"text-align: right;\">\n",
       "      <th></th>\n",
       "      <th>acctnum</th>\n",
       "      <th>nonbook</th>\n",
       "    </tr>\n",
       "  </thead>\n",
       "  <tbody>\n",
       "    <tr>\n",
       "      <th>0</th>\n",
       "      <td>10001</td>\n",
       "      <td>248</td>\n",
       "    </tr>\n",
       "    <tr>\n",
       "      <th>1</th>\n",
       "      <td>10002</td>\n",
       "      <td>103</td>\n",
       "    </tr>\n",
       "    <tr>\n",
       "      <th>2</th>\n",
       "      <td>10003</td>\n",
       "      <td>147</td>\n",
       "    </tr>\n",
       "    <tr>\n",
       "      <th>3</th>\n",
       "      <td>10004</td>\n",
       "      <td>257</td>\n",
       "    </tr>\n",
       "    <tr>\n",
       "      <th>4</th>\n",
       "      <td>10005</td>\n",
       "      <td>134</td>\n",
       "    </tr>\n",
       "  </tbody>\n",
       "</table>\n",
       "</div>"
      ],
      "text/plain": [
       "   acctnum  nonbook\n",
       "0    10001      248\n",
       "1    10002      103\n",
       "2    10003      147\n",
       "3    10004      257\n",
       "4    10005      134"
      ]
     },
     "execution_count": 29,
     "metadata": {},
     "output_type": "execute_result"
    }
   ],
   "source": [
    "bbb_nonbook.head()"
   ]
  },
  {
   "cell_type": "markdown",
   "metadata": {},
   "source": [
    "load purchase and buy-no-buy information from bbb.sqlite\n",
    "hint: what data type is \"date\" in the database?\n",
    "hint: most systems record dates internally as the number\n",
    "of days since some origin. You can use the pd.to_datetime\n",
    "method to convert the number to a date with argument: origin = \"1-1-1970\""
   ]
  },
  {
   "cell_type": "code",
   "execution_count": 30,
   "metadata": {
    "lines_to_next_cell": 1
   },
   "outputs": [],
   "source": [
    "def db_list_tables(con):\n",
    "    \"\"\"Return all table names\"\"\"\n",
    "    cursor = con.cursor()\n",
    "    cursor.execute(\"select name from sqlite_master where type='table';\")\n",
    "    return [x[0] for x in cursor.fetchall()]\n",
    "\n",
    "\n",
    "def db_list_fields(con, tabel):\n",
    "    \"\"\"Return all column names for a specified table\"\"\"\n",
    "    cursor = con.cursor()\n",
    "    cursor.execute(f\"select * from {tabel} limit 1;\")\n",
    "    return [name[0] for name in cursor.description]"
   ]
  },
  {
   "cell_type": "code",
   "execution_count": 31,
   "metadata": {},
   "outputs": [
    {
     "name": "stdout",
     "output_type": "stream",
     "text": [
      "['buyer', 'purchase']\n"
     ]
    },
    {
     "data": {
      "text/plain": [
       "['acctnum', 'buyer', 'training']"
      ]
     },
     "execution_count": 31,
     "metadata": {},
     "output_type": "execute_result"
    }
   ],
   "source": [
    "con = sqlite3.connect(\"./data/bbb.sqlite\")\n",
    "a = db_list_tables(con)\n",
    "print(a)\n",
    "db_list_fields(con,a[0])"
   ]
  },
  {
   "cell_type": "code",
   "execution_count": 36,
   "metadata": {},
   "outputs": [
    {
     "data": {
      "text/html": [
       "<div>\n",
       "<style scoped>\n",
       "    .dataframe tbody tr th:only-of-type {\n",
       "        vertical-align: middle;\n",
       "    }\n",
       "\n",
       "    .dataframe tbody tr th {\n",
       "        vertical-align: top;\n",
       "    }\n",
       "\n",
       "    .dataframe thead th {\n",
       "        text-align: right;\n",
       "    }\n",
       "</style>\n",
       "<table border=\"1\" class=\"dataframe\">\n",
       "  <thead>\n",
       "    <tr style=\"text-align: right;\">\n",
       "      <th></th>\n",
       "      <th>acctnum</th>\n",
       "      <th>buyer</th>\n",
       "      <th>training</th>\n",
       "    </tr>\n",
       "  </thead>\n",
       "  <tbody>\n",
       "    <tr>\n",
       "      <th>0</th>\n",
       "      <td>10001</td>\n",
       "      <td>no</td>\n",
       "      <td>1</td>\n",
       "    </tr>\n",
       "    <tr>\n",
       "      <th>1</th>\n",
       "      <td>10002</td>\n",
       "      <td>no</td>\n",
       "      <td>1</td>\n",
       "    </tr>\n",
       "    <tr>\n",
       "      <th>2</th>\n",
       "      <td>10003</td>\n",
       "      <td>no</td>\n",
       "      <td>0</td>\n",
       "    </tr>\n",
       "    <tr>\n",
       "      <th>3</th>\n",
       "      <td>10004</td>\n",
       "      <td>no</td>\n",
       "      <td>0</td>\n",
       "    </tr>\n",
       "    <tr>\n",
       "      <th>4</th>\n",
       "      <td>10005</td>\n",
       "      <td>no</td>\n",
       "      <td>1</td>\n",
       "    </tr>\n",
       "    <tr>\n",
       "      <th>...</th>\n",
       "      <td>...</td>\n",
       "      <td>...</td>\n",
       "      <td>...</td>\n",
       "    </tr>\n",
       "    <tr>\n",
       "      <th>49995</th>\n",
       "      <td>59996</td>\n",
       "      <td>no</td>\n",
       "      <td>1</td>\n",
       "    </tr>\n",
       "    <tr>\n",
       "      <th>49996</th>\n",
       "      <td>59997</td>\n",
       "      <td>no</td>\n",
       "      <td>1</td>\n",
       "    </tr>\n",
       "    <tr>\n",
       "      <th>49997</th>\n",
       "      <td>59998</td>\n",
       "      <td>no</td>\n",
       "      <td>1</td>\n",
       "    </tr>\n",
       "    <tr>\n",
       "      <th>49998</th>\n",
       "      <td>59999</td>\n",
       "      <td>no</td>\n",
       "      <td>1</td>\n",
       "    </tr>\n",
       "    <tr>\n",
       "      <th>49999</th>\n",
       "      <td>60000</td>\n",
       "      <td>no</td>\n",
       "      <td>1</td>\n",
       "    </tr>\n",
       "  </tbody>\n",
       "</table>\n",
       "<p>50000 rows × 3 columns</p>\n",
       "</div>"
      ],
      "text/plain": [
       "      acctnum buyer  training\n",
       "0       10001    no         1\n",
       "1       10002    no         1\n",
       "2       10003    no         0\n",
       "3       10004    no         0\n",
       "4       10005    no         1\n",
       "...       ...   ...       ...\n",
       "49995   59996    no         1\n",
       "49996   59997    no         1\n",
       "49997   59998    no         1\n",
       "49998   59999    no         1\n",
       "49999   60000    no         1\n",
       "\n",
       "[50000 rows x 3 columns]"
      ]
     },
     "execution_count": 36,
     "metadata": {},
     "output_type": "execute_result"
    }
   ],
   "source": [
    "cursor = con.cursor()\n",
    "buyer_t = cursor.execute(f\"select * from {a[0]} ;\")\n",
    "buyer_t = pd.DataFrame(buyer_t,columns = db_list_fields(con,a[0]) )\n",
    "buyer_t"
   ]
  },
  {
   "cell_type": "code",
   "execution_count": 37,
   "metadata": {},
   "outputs": [
    {
     "data": {
      "text/html": [
       "<div>\n",
       "<style scoped>\n",
       "    .dataframe tbody tr th:only-of-type {\n",
       "        vertical-align: middle;\n",
       "    }\n",
       "\n",
       "    .dataframe tbody tr th {\n",
       "        vertical-align: top;\n",
       "    }\n",
       "\n",
       "    .dataframe thead th {\n",
       "        text-align: right;\n",
       "    }\n",
       "</style>\n",
       "<table border=\"1\" class=\"dataframe\">\n",
       "  <thead>\n",
       "    <tr style=\"text-align: right;\">\n",
       "      <th></th>\n",
       "      <th>acctnum</th>\n",
       "      <th>date</th>\n",
       "      <th>purchase</th>\n",
       "      <th>price</th>\n",
       "    </tr>\n",
       "  </thead>\n",
       "  <tbody>\n",
       "    <tr>\n",
       "      <th>0</th>\n",
       "      <td>10001</td>\n",
       "      <td>13187.0</td>\n",
       "      <td>geog</td>\n",
       "      <td>11.0</td>\n",
       "    </tr>\n",
       "    <tr>\n",
       "      <th>1</th>\n",
       "      <td>10001</td>\n",
       "      <td>13191.0</td>\n",
       "      <td>cook</td>\n",
       "      <td>11.0</td>\n",
       "    </tr>\n",
       "    <tr>\n",
       "      <th>2</th>\n",
       "      <td>10001</td>\n",
       "      <td>13266.0</td>\n",
       "      <td>youth</td>\n",
       "      <td>9.0</td>\n",
       "    </tr>\n",
       "    <tr>\n",
       "      <th>3</th>\n",
       "      <td>10001</td>\n",
       "      <td>13371.0</td>\n",
       "      <td>youth</td>\n",
       "      <td>9.0</td>\n",
       "    </tr>\n",
       "    <tr>\n",
       "      <th>4</th>\n",
       "      <td>10001</td>\n",
       "      <td>13457.0</td>\n",
       "      <td>child</td>\n",
       "      <td>10.0</td>\n",
       "    </tr>\n",
       "  </tbody>\n",
       "</table>\n",
       "</div>"
      ],
      "text/plain": [
       "  acctnum     date purchase  price\n",
       "0   10001  13187.0     geog   11.0\n",
       "1   10001  13191.0     cook   11.0\n",
       "2   10001  13266.0    youth    9.0\n",
       "3   10001  13371.0    youth    9.0\n",
       "4   10001  13457.0    child   10.0"
      ]
     },
     "execution_count": 37,
     "metadata": {},
     "output_type": "execute_result"
    }
   ],
   "source": [
    "purchase_t = cursor.execute(f\"select * from {a[1]} ;\")\n",
    "purchase_t = pd.DataFrame(purchase_t,columns = db_list_fields(con,a[1]) )\n",
    "purchase_t.head()"
   ]
  },
  {
   "cell_type": "code",
   "execution_count": 46,
   "metadata": {},
   "outputs": [
    {
     "data": {
      "text/html": [
       "<div>\n",
       "<style scoped>\n",
       "    .dataframe tbody tr th:only-of-type {\n",
       "        vertical-align: middle;\n",
       "    }\n",
       "\n",
       "    .dataframe tbody tr th {\n",
       "        vertical-align: top;\n",
       "    }\n",
       "\n",
       "    .dataframe thead th {\n",
       "        text-align: right;\n",
       "    }\n",
       "</style>\n",
       "<table border=\"1\" class=\"dataframe\">\n",
       "  <thead>\n",
       "    <tr style=\"text-align: right;\">\n",
       "      <th></th>\n",
       "      <th>acctnum</th>\n",
       "      <th>date</th>\n",
       "      <th>purchase</th>\n",
       "      <th>price</th>\n",
       "    </tr>\n",
       "  </thead>\n",
       "  <tbody>\n",
       "    <tr>\n",
       "      <th>0</th>\n",
       "      <td>10001</td>\n",
       "      <td>13187.0</td>\n",
       "      <td>geog</td>\n",
       "      <td>11.0</td>\n",
       "    </tr>\n",
       "    <tr>\n",
       "      <th>1</th>\n",
       "      <td>10001</td>\n",
       "      <td>13191.0</td>\n",
       "      <td>cook</td>\n",
       "      <td>11.0</td>\n",
       "    </tr>\n",
       "    <tr>\n",
       "      <th>2</th>\n",
       "      <td>10001</td>\n",
       "      <td>13266.0</td>\n",
       "      <td>youth</td>\n",
       "      <td>9.0</td>\n",
       "    </tr>\n",
       "    <tr>\n",
       "      <th>3</th>\n",
       "      <td>10001</td>\n",
       "      <td>13371.0</td>\n",
       "      <td>youth</td>\n",
       "      <td>9.0</td>\n",
       "    </tr>\n",
       "    <tr>\n",
       "      <th>4</th>\n",
       "      <td>10001</td>\n",
       "      <td>13457.0</td>\n",
       "      <td>child</td>\n",
       "      <td>10.0</td>\n",
       "    </tr>\n",
       "    <tr>\n",
       "      <th>...</th>\n",
       "      <td>...</td>\n",
       "      <td>...</td>\n",
       "      <td>...</td>\n",
       "      <td>...</td>\n",
       "    </tr>\n",
       "    <tr>\n",
       "      <th>194506</th>\n",
       "      <td>60000</td>\n",
       "      <td>13794.0</td>\n",
       "      <td>geog</td>\n",
       "      <td>9.0</td>\n",
       "    </tr>\n",
       "    <tr>\n",
       "      <th>194507</th>\n",
       "      <td>60000</td>\n",
       "      <td>13811.0</td>\n",
       "      <td>geog</td>\n",
       "      <td>14.0</td>\n",
       "    </tr>\n",
       "    <tr>\n",
       "      <th>194508</th>\n",
       "      <td>60000</td>\n",
       "      <td>14330.0</td>\n",
       "      <td>art</td>\n",
       "      <td>10.0</td>\n",
       "    </tr>\n",
       "    <tr>\n",
       "      <th>194509</th>\n",
       "      <td>60000</td>\n",
       "      <td>14616.0</td>\n",
       "      <td>child</td>\n",
       "      <td>14.0</td>\n",
       "    </tr>\n",
       "    <tr>\n",
       "      <th>194510</th>\n",
       "      <td>60000</td>\n",
       "      <td>14648.0</td>\n",
       "      <td>cook</td>\n",
       "      <td>13.0</td>\n",
       "    </tr>\n",
       "  </tbody>\n",
       "</table>\n",
       "<p>138714 rows × 4 columns</p>\n",
       "</div>"
      ],
      "text/plain": [
       "       acctnum     date purchase  price\n",
       "0        10001  13187.0     geog   11.0\n",
       "1        10001  13191.0     cook   11.0\n",
       "2        10001  13266.0    youth    9.0\n",
       "3        10001  13371.0    youth    9.0\n",
       "4        10001  13457.0    child   10.0\n",
       "...        ...      ...      ...    ...\n",
       "194506   60000  13794.0     geog    9.0\n",
       "194507   60000  13811.0     geog   14.0\n",
       "194508   60000  14330.0      art   10.0\n",
       "194509   60000  14616.0    child   14.0\n",
       "194510   60000  14648.0     cook   13.0\n",
       "\n",
       "[138714 rows x 4 columns]"
      ]
     },
     "execution_count": 46,
     "metadata": {},
     "output_type": "execute_result"
    }
   ],
   "source": [
    "purchase_l = purchase_t.groupby('acctnum')\n",
    "purchase_l.head()"
   ]
  },
  {
   "cell_type": "code",
   "execution_count": 48,
   "metadata": {},
   "outputs": [
    {
     "data": {
      "text/plain": [
       "acctnum\n",
       "10001    109.0\n",
       "10002     35.0\n",
       "10003     25.0\n",
       "10004     15.0\n",
       "10005     15.0\n",
       "         ...  \n",
       "59996     15.0\n",
       "59997     79.0\n",
       "59998     15.0\n",
       "59999     98.0\n",
       "60000     60.0\n",
       "Name: price, Length: 50000, dtype: float64"
      ]
     },
     "execution_count": 48,
     "metadata": {},
     "output_type": "execute_result"
    }
   ],
   "source": [
    "purchase_l.price.sum()"
   ]
  },
  {
   "cell_type": "code",
   "execution_count": 47,
   "metadata": {},
   "outputs": [
    {
     "data": {
      "text/plain": [
       "acctnum\n",
       "10001    13187.0\n",
       "10002    13490.0\n",
       "10003    14099.0\n",
       "10004    14464.0\n",
       "10005    14221.0\n",
       "          ...   \n",
       "59996    14403.0\n",
       "59997    13917.0\n",
       "59998    14586.0\n",
       "59999    13187.0\n",
       "60000    13794.0\n",
       "Name: date, Length: 50000, dtype: float64"
      ]
     },
     "execution_count": 47,
     "metadata": {},
     "output_type": "execute_result"
    }
   ],
   "source": [
    "purchase_l.date.first()"
   ]
  },
  {
   "cell_type": "code",
   "execution_count": null,
   "metadata": {},
   "outputs": [],
   "source": []
  },
  {
   "cell_type": "code",
   "execution_count": 297,
   "metadata": {},
   "outputs": [],
   "source": [
    "def newd(row):\n",
    "    return pd.to_datetime(\"1970-01-01\") + pd.DateOffset(days=row['date'])"
   ]
  },
  {
   "cell_type": "markdown",
   "metadata": {},
   "source": [
    "add the zip3 variable"
   ]
  },
  {
   "cell_type": "code",
   "execution_count": 298,
   "metadata": {},
   "outputs": [
    {
     "data": {
      "text/html": [
       "<div>\n",
       "<style scoped>\n",
       "    .dataframe tbody tr th:only-of-type {\n",
       "        vertical-align: middle;\n",
       "    }\n",
       "\n",
       "    .dataframe tbody tr th {\n",
       "        vertical-align: top;\n",
       "    }\n",
       "\n",
       "    .dataframe thead th {\n",
       "        text-align: right;\n",
       "    }\n",
       "</style>\n",
       "<table border=\"1\" class=\"dataframe\">\n",
       "  <thead>\n",
       "    <tr style=\"text-align: right;\">\n",
       "      <th></th>\n",
       "      <th>acctnum</th>\n",
       "      <th>date</th>\n",
       "      <th>purchase</th>\n",
       "      <th>price</th>\n",
       "      <th>new_date</th>\n",
       "    </tr>\n",
       "  </thead>\n",
       "  <tbody>\n",
       "    <tr>\n",
       "      <th>0</th>\n",
       "      <td>10001</td>\n",
       "      <td>13187.0</td>\n",
       "      <td>geog</td>\n",
       "      <td>11.0</td>\n",
       "      <td>2006-02-08</td>\n",
       "    </tr>\n",
       "    <tr>\n",
       "      <th>1</th>\n",
       "      <td>10001</td>\n",
       "      <td>13191.0</td>\n",
       "      <td>cook</td>\n",
       "      <td>11.0</td>\n",
       "      <td>2006-02-12</td>\n",
       "    </tr>\n",
       "    <tr>\n",
       "      <th>2</th>\n",
       "      <td>10001</td>\n",
       "      <td>13266.0</td>\n",
       "      <td>youth</td>\n",
       "      <td>9.0</td>\n",
       "      <td>2006-04-28</td>\n",
       "    </tr>\n",
       "    <tr>\n",
       "      <th>3</th>\n",
       "      <td>10001</td>\n",
       "      <td>13371.0</td>\n",
       "      <td>youth</td>\n",
       "      <td>9.0</td>\n",
       "      <td>2006-08-11</td>\n",
       "    </tr>\n",
       "    <tr>\n",
       "      <th>4</th>\n",
       "      <td>10001</td>\n",
       "      <td>13457.0</td>\n",
       "      <td>child</td>\n",
       "      <td>10.0</td>\n",
       "      <td>2006-11-05</td>\n",
       "    </tr>\n",
       "  </tbody>\n",
       "</table>\n",
       "</div>"
      ],
      "text/plain": [
       "  acctnum     date purchase  price   new_date\n",
       "0   10001  13187.0     geog   11.0 2006-02-08\n",
       "1   10001  13191.0     cook   11.0 2006-02-12\n",
       "2   10001  13266.0    youth    9.0 2006-04-28\n",
       "3   10001  13371.0    youth    9.0 2006-08-11\n",
       "4   10001  13457.0    child   10.0 2006-11-05"
      ]
     },
     "execution_count": 298,
     "metadata": {},
     "output_type": "execute_result"
    }
   ],
   "source": [
    "from datetime import timedelta, date\n",
    "\n",
    "purchase_t['new_date']= purchase_t.apply(lambda row: newd(row), axis=1)\n",
    "purchase_t.head()"
   ]
  },
  {
   "cell_type": "code",
   "execution_count": 299,
   "metadata": {},
   "outputs": [],
   "source": [
    "d = purchase_t.groupby(['acctnum'])['purchase'].value_counts()\n",
    "d = d.unstack(level = -1,fill_value = 0)"
   ]
  },
  {
   "cell_type": "code",
   "execution_count": 300,
   "metadata": {},
   "outputs": [],
   "source": [
    "d = d.reset_index()\n",
    "d= d.astype({\"acctnum\": int})"
   ]
  },
  {
   "cell_type": "code",
   "execution_count": 301,
   "metadata": {},
   "outputs": [
    {
     "data": {
      "text/plain": [
       "acctnum     int64\n",
       "gender     object\n",
       "state      object\n",
       "zip        object\n",
       "zip3       object\n",
       "dtype: object"
      ]
     },
     "execution_count": 301,
     "metadata": {},
     "output_type": "execute_result"
    }
   ],
   "source": [
    "last = purchase_t.groupby('acctnum')['new_date'].max()\n",
    "first =purchase_t.groupby('acctnum')['new_date'].min()\n",
    "bbb_demographics.astype({\"zip\": str})\n",
    "bbb_demographics.dtypes"
   ]
  },
  {
   "cell_type": "markdown",
   "metadata": {},
   "source": [
    "use the following reference date (i.e., \"today\" for the analysis)"
   ]
  },
  {
   "cell_type": "code",
   "execution_count": 302,
   "metadata": {},
   "outputs": [],
   "source": [
    "start_date = date(2010, 3, 8)\n",
    "\n",
    "\n",
    "def diff_months(date1, date2):\n",
    "    \"\"\"\n",
    "    This function calculates the difference in months between\n",
    "    date1 and date2 when a customer purchased a product\n",
    "    \"\"\"\n",
    "    y = date1.year - date2.year\n",
    "    m = date1.month - date2.month\n",
    "    return y * 12 + m"
   ]
  },
  {
   "cell_type": "markdown",
   "metadata": {},
   "source": [
    "generate the required code below for `first`, `last`, `book`, and `purch`,\n",
    "and add the purchase frequencies for the different book types\n",
    "hint: you can use pandas \"value_counts\" method here\n",
    "hint: check the help for pandas' `first` and `last` methods"
   ]
  },
  {
   "cell_type": "code",
   "execution_count": 303,
   "metadata": {},
   "outputs": [],
   "source": [
    "last_l = []\n",
    "for i in last:\n",
    "    diff = diff_months(start_date,i)\n",
    "    last_l.append(diff)"
   ]
  },
  {
   "cell_type": "code",
   "execution_count": 304,
   "metadata": {},
   "outputs": [],
   "source": [
    "first_l = []\n",
    "for i in first:\n",
    "    diff = diff_months(start_date,i)\n",
    "    first_l.append(diff)"
   ]
  },
  {
   "cell_type": "markdown",
   "metadata": {},
   "source": [
    "you may find the discussion below of interest at this point\n",
    "https://stackoverflow.com/questions/65067042/pandas-frequency-of-a-specific-value-per-group"
   ]
  },
  {
   "cell_type": "code",
   "execution_count": 305,
   "metadata": {},
   "outputs": [],
   "source": [
    "book_l = purchase_t.groupby('acctnum')['price'].sum()\n"
   ]
  },
  {
   "cell_type": "markdown",
   "metadata": {},
   "source": [
    "combine the different data frames using pandas' \"merge\" method"
   ]
  },
  {
   "cell_type": "code",
   "execution_count": 306,
   "metadata": {},
   "outputs": [
    {
     "data": {
      "text/plain": [
       "acctnum      int64\n",
       "gender      object\n",
       "state       object\n",
       "zip         object\n",
       "zip3        object\n",
       "first        int64\n",
       "last         int64\n",
       "book       float64\n",
       "nonbook      int64\n",
       "total      float64\n",
       "purch        int64\n",
       "dtype: object"
      ]
     },
     "execution_count": 306,
     "metadata": {},
     "output_type": "execute_result"
    }
   ],
   "source": [
    "bbb_demographics['first'] = first_l\n",
    "bbb_demographics['last'] = last_l\n",
    "bbb_demographics['book'] = list(book_l)\n",
    "bbb_demographics['nonbook'] = bbb_nonbook['nonbook']\n",
    "bbb_demographics['total'] = bbb_demographics['nonbook']+bbb_demographics['book']\n",
    "bbb_demographics['purch'] = list(purchase_l)\n",
    "bbb_demographics.dtypes"
   ]
  },
  {
   "cell_type": "code",
   "execution_count": 307,
   "metadata": {},
   "outputs": [],
   "source": [
    "bbb_rec = bbb_demographics.merge(d,on = 'acctnum',how = 'inner')\n",
    "bbb_rec['buyer'] = buyer_t['buyer']\n",
    "bbb_rec['training'] = buyer_t['training']\n",
    "bbb_rec = bbb_rec[['acctnum','gender','state','zip','zip3','first','last','book','nonbook','total','purch','child', 'youth', 'cook', 'do_it', 'reference','art','geog','buyer','training']]\n"
   ]
  },
  {
   "cell_type": "code",
   "execution_count": 308,
   "metadata": {},
   "outputs": [],
   "source": [
    "bbb_rec = bbb_rec.astype({\"acctnum\": str,\n",
    "                'gender' : \"category\",\n",
    "                   'state' : \"category\",\n",
    "                         'buyer' : \"category\"})"
   ]
  },
  {
   "cell_type": "code",
   "execution_count": 309,
   "metadata": {},
   "outputs": [],
   "source": [
    "bbb_rec = bbb_rec.astype({\"first\": \"int32\",\n",
    "                'last' : \"int32\",\n",
    "                   'book' : \"int32\",\n",
    "                         'nonbook' : \"int32\",\n",
    "                          'total' : \"int32\",\n",
    "                   'purch' : \"int32\",\n",
    "                         'child' : \"int32\",\n",
    "                          'youth' : \"int32\",\n",
    "                   'cook' : \"int32\",\n",
    "                         'do_it' : \"int32\",\n",
    "                          'reference' : \"int32\",\n",
    "                   'art' : \"int32\",\n",
    "                         'geog' : \"int32\",\n",
    "                          'training' :\"int32\"\n",
    "                          \n",
    "                         })"
   ]
  },
  {
   "cell_type": "markdown",
   "metadata": {},
   "source": [
    "check if the columns in bbb and bbb_rec are in the same order\n",
    "and are of the same type - fix as needed"
   ]
  },
  {
   "cell_type": "code",
   "execution_count": 310,
   "metadata": {},
   "outputs": [
    {
     "data": {
      "text/html": [
       "<div>\n",
       "<style scoped>\n",
       "    .dataframe tbody tr th:only-of-type {\n",
       "        vertical-align: middle;\n",
       "    }\n",
       "\n",
       "    .dataframe tbody tr th {\n",
       "        vertical-align: top;\n",
       "    }\n",
       "\n",
       "    .dataframe thead th {\n",
       "        text-align: right;\n",
       "    }\n",
       "</style>\n",
       "<table border=\"1\" class=\"dataframe\">\n",
       "  <thead>\n",
       "    <tr style=\"text-align: right;\">\n",
       "      <th></th>\n",
       "      <th>bbb_names</th>\n",
       "      <th>bbb_types</th>\n",
       "      <th>bbb_rec_names</th>\n",
       "      <th>bbb_rec_types</th>\n",
       "      <th>check_names</th>\n",
       "      <th>check_types</th>\n",
       "    </tr>\n",
       "  </thead>\n",
       "  <tbody>\n",
       "    <tr>\n",
       "      <th>acctnum</th>\n",
       "      <td>acctnum</td>\n",
       "      <td>object</td>\n",
       "      <td>acctnum</td>\n",
       "      <td>object</td>\n",
       "      <td>True</td>\n",
       "      <td>True</td>\n",
       "    </tr>\n",
       "    <tr>\n",
       "      <th>gender</th>\n",
       "      <td>gender</td>\n",
       "      <td>category</td>\n",
       "      <td>gender</td>\n",
       "      <td>category</td>\n",
       "      <td>True</td>\n",
       "      <td>True</td>\n",
       "    </tr>\n",
       "    <tr>\n",
       "      <th>state</th>\n",
       "      <td>state</td>\n",
       "      <td>category</td>\n",
       "      <td>state</td>\n",
       "      <td>category</td>\n",
       "      <td>True</td>\n",
       "      <td>True</td>\n",
       "    </tr>\n",
       "    <tr>\n",
       "      <th>zip</th>\n",
       "      <td>zip</td>\n",
       "      <td>object</td>\n",
       "      <td>zip</td>\n",
       "      <td>object</td>\n",
       "      <td>True</td>\n",
       "      <td>True</td>\n",
       "    </tr>\n",
       "    <tr>\n",
       "      <th>zip3</th>\n",
       "      <td>zip3</td>\n",
       "      <td>object</td>\n",
       "      <td>zip3</td>\n",
       "      <td>object</td>\n",
       "      <td>True</td>\n",
       "      <td>True</td>\n",
       "    </tr>\n",
       "    <tr>\n",
       "      <th>first</th>\n",
       "      <td>first</td>\n",
       "      <td>int32</td>\n",
       "      <td>first</td>\n",
       "      <td>int32</td>\n",
       "      <td>True</td>\n",
       "      <td>True</td>\n",
       "    </tr>\n",
       "    <tr>\n",
       "      <th>last</th>\n",
       "      <td>last</td>\n",
       "      <td>int32</td>\n",
       "      <td>last</td>\n",
       "      <td>int32</td>\n",
       "      <td>True</td>\n",
       "      <td>True</td>\n",
       "    </tr>\n",
       "    <tr>\n",
       "      <th>book</th>\n",
       "      <td>book</td>\n",
       "      <td>int32</td>\n",
       "      <td>book</td>\n",
       "      <td>int32</td>\n",
       "      <td>True</td>\n",
       "      <td>True</td>\n",
       "    </tr>\n",
       "    <tr>\n",
       "      <th>nonbook</th>\n",
       "      <td>nonbook</td>\n",
       "      <td>int32</td>\n",
       "      <td>nonbook</td>\n",
       "      <td>int32</td>\n",
       "      <td>True</td>\n",
       "      <td>True</td>\n",
       "    </tr>\n",
       "    <tr>\n",
       "      <th>total</th>\n",
       "      <td>total</td>\n",
       "      <td>int32</td>\n",
       "      <td>total</td>\n",
       "      <td>int32</td>\n",
       "      <td>True</td>\n",
       "      <td>True</td>\n",
       "    </tr>\n",
       "    <tr>\n",
       "      <th>purch</th>\n",
       "      <td>purch</td>\n",
       "      <td>int32</td>\n",
       "      <td>purch</td>\n",
       "      <td>int32</td>\n",
       "      <td>True</td>\n",
       "      <td>True</td>\n",
       "    </tr>\n",
       "    <tr>\n",
       "      <th>child</th>\n",
       "      <td>child</td>\n",
       "      <td>int32</td>\n",
       "      <td>child</td>\n",
       "      <td>int32</td>\n",
       "      <td>True</td>\n",
       "      <td>True</td>\n",
       "    </tr>\n",
       "    <tr>\n",
       "      <th>youth</th>\n",
       "      <td>youth</td>\n",
       "      <td>int32</td>\n",
       "      <td>youth</td>\n",
       "      <td>int32</td>\n",
       "      <td>True</td>\n",
       "      <td>True</td>\n",
       "    </tr>\n",
       "    <tr>\n",
       "      <th>cook</th>\n",
       "      <td>cook</td>\n",
       "      <td>int32</td>\n",
       "      <td>cook</td>\n",
       "      <td>int32</td>\n",
       "      <td>True</td>\n",
       "      <td>True</td>\n",
       "    </tr>\n",
       "    <tr>\n",
       "      <th>do_it</th>\n",
       "      <td>do_it</td>\n",
       "      <td>int32</td>\n",
       "      <td>do_it</td>\n",
       "      <td>int32</td>\n",
       "      <td>True</td>\n",
       "      <td>True</td>\n",
       "    </tr>\n",
       "    <tr>\n",
       "      <th>reference</th>\n",
       "      <td>reference</td>\n",
       "      <td>int32</td>\n",
       "      <td>reference</td>\n",
       "      <td>int32</td>\n",
       "      <td>True</td>\n",
       "      <td>True</td>\n",
       "    </tr>\n",
       "    <tr>\n",
       "      <th>art</th>\n",
       "      <td>art</td>\n",
       "      <td>int32</td>\n",
       "      <td>art</td>\n",
       "      <td>int32</td>\n",
       "      <td>True</td>\n",
       "      <td>True</td>\n",
       "    </tr>\n",
       "    <tr>\n",
       "      <th>geog</th>\n",
       "      <td>geog</td>\n",
       "      <td>int32</td>\n",
       "      <td>geog</td>\n",
       "      <td>int32</td>\n",
       "      <td>True</td>\n",
       "      <td>True</td>\n",
       "    </tr>\n",
       "    <tr>\n",
       "      <th>buyer</th>\n",
       "      <td>buyer</td>\n",
       "      <td>category</td>\n",
       "      <td>buyer</td>\n",
       "      <td>category</td>\n",
       "      <td>True</td>\n",
       "      <td>True</td>\n",
       "    </tr>\n",
       "    <tr>\n",
       "      <th>training</th>\n",
       "      <td>training</td>\n",
       "      <td>int32</td>\n",
       "      <td>training</td>\n",
       "      <td>int32</td>\n",
       "      <td>True</td>\n",
       "      <td>True</td>\n",
       "    </tr>\n",
       "  </tbody>\n",
       "</table>\n",
       "</div>"
      ],
      "text/plain": [
       "           bbb_names bbb_types bbb_rec_names bbb_rec_types  check_names  \\\n",
       "acctnum      acctnum    object       acctnum        object         True   \n",
       "gender        gender  category        gender      category         True   \n",
       "state          state  category         state      category         True   \n",
       "zip              zip    object           zip        object         True   \n",
       "zip3            zip3    object          zip3        object         True   \n",
       "first          first     int32         first         int32         True   \n",
       "last            last     int32          last         int32         True   \n",
       "book            book     int32          book         int32         True   \n",
       "nonbook      nonbook     int32       nonbook         int32         True   \n",
       "total          total     int32         total         int32         True   \n",
       "purch          purch     int32         purch         int32         True   \n",
       "child          child     int32         child         int32         True   \n",
       "youth          youth     int32         youth         int32         True   \n",
       "cook            cook     int32          cook         int32         True   \n",
       "do_it          do_it     int32         do_it         int32         True   \n",
       "reference  reference     int32     reference         int32         True   \n",
       "art              art     int32           art         int32         True   \n",
       "geog            geog     int32          geog         int32         True   \n",
       "buyer          buyer  category         buyer      category         True   \n",
       "training    training     int32      training         int32         True   \n",
       "\n",
       "           check_types  \n",
       "acctnum           True  \n",
       "gender            True  \n",
       "state             True  \n",
       "zip               True  \n",
       "zip3              True  \n",
       "first             True  \n",
       "last              True  \n",
       "book              True  \n",
       "nonbook           True  \n",
       "total             True  \n",
       "purch             True  \n",
       "child             True  \n",
       "youth             True  \n",
       "cook              True  \n",
       "do_it             True  \n",
       "reference         True  \n",
       "art               True  \n",
       "geog              True  \n",
       "buyer             True  \n",
       "training          True  "
      ]
     },
     "execution_count": 310,
     "metadata": {},
     "output_type": "execute_result"
    }
   ],
   "source": [
    "pd.DataFrame(\n",
    "    {\n",
    "        \"bbb_names\": bbb.columns,\n",
    "        \"bbb_types\": bbb.dtypes.astype(str).values,\n",
    "        \"bbb_rec_names\": bbb_rec.columns,\n",
    "        \"bbb_rec_types\": bbb_rec.dtypes.astype(str),\n",
    "        \"check_names\": bbb.columns == bbb_rec.columns,\n",
    "        \"check_types\": bbb.dtypes.astype(str).values == bbb_rec.dtypes.astype(str).values\n",
    "    }\n",
    ")"
   ]
  },
  {
   "cell_type": "markdown",
   "metadata": {},
   "source": [
    "add the description as metadata to bbb_rec (see data/bbb_description.txt)\n",
    "see https://stackoverflow.com/a/40514650/1974918 for more information"
   ]
  },
  {
   "cell_type": "code",
   "execution_count": 311,
   "metadata": {},
   "outputs": [
    {
     "data": {
      "text/plain": [
       "acctnum      1000110002100031000410005100061000710008100091...\n",
       "zip          1060510960191460701610804113660646008402074520...\n",
       "zip3         1061091910701081130640840740800880860100871250...\n",
       "first                                                  1283446\n",
       "last                                                    617908\n",
       "book                                                   2341520\n",
       "nonbook                                                8074396\n",
       "total                                                 10415916\n",
       "purch                                                   194511\n",
       "child                                                    42723\n",
       "youth                                                    19549\n",
       "cook                                                     46830\n",
       "do_it                                                    23153\n",
       "reference                                                15612\n",
       "art                                                      19296\n",
       "geog                                                     27348\n",
       "training                                                 35000\n",
       "dtype: object"
      ]
     },
     "execution_count": 311,
     "metadata": {},
     "output_type": "execute_result"
    }
   ],
   "source": [
    "bbb.sum()"
   ]
  },
  {
   "cell_type": "code",
   "execution_count": 312,
   "metadata": {},
   "outputs": [
    {
     "data": {
      "text/plain": [
       "acctnum      1000110002100031000410005100061000710008100091...\n",
       "zip          1060510960191460701610804113660646008402074520...\n",
       "zip3         1061091910701081130640840740800880860100871250...\n",
       "first                                                  1283446\n",
       "last                                                    617908\n",
       "book                                                   2341520\n",
       "nonbook                                                8074396\n",
       "total                                                 10415916\n",
       "purch                                                   194511\n",
       "child                                                    42723\n",
       "youth                                                    19549\n",
       "cook                                                     46830\n",
       "do_it                                                    23153\n",
       "reference                                                15612\n",
       "art                                                      19296\n",
       "geog                                                     27348\n",
       "training                                                 35000\n",
       "dtype: object"
      ]
     },
     "execution_count": 312,
     "metadata": {},
     "output_type": "execute_result"
    }
   ],
   "source": [
    "bbb_rec.sum()"
   ]
  },
  {
   "cell_type": "code",
   "execution_count": 313,
   "metadata": {},
   "outputs": [],
   "source": [
    "class SubclassedDataFrame(pd.DataFrame):\n",
    "    # normal properties\n",
    "    _metadata = ['description']\n",
    "\n",
    "    @property\n",
    "    def _constructor(self):\n",
    "        return SubclassedDataFrame\n",
    "\n",
    "\n",
    "bbb_rec = SubclassedDataFrame(bbb_rec)\n"
   ]
  },
  {
   "cell_type": "code",
   "execution_count": 314,
   "metadata": {},
   "outputs": [],
   "source": [
    "with open('./data/bbb_description.txt') as f:\n",
    "    contents = f.read()\n",
    "bbb_rec.description = contents"
   ]
  },
  {
   "cell_type": "markdown",
   "metadata": {},
   "source": [
    "check that you get the same output for both bbb and bbb_rec"
   ]
  },
  {
   "cell_type": "code",
   "execution_count": 315,
   "metadata": {},
   "outputs": [
    {
     "data": {
      "text/markdown": [
       "# BookBinders Book Club\n",
       "\n",
       "Information on purchasing history and demographics for 50,000 of the BookBinders Book Club's customers'. Variables included in the dataset are described below\n",
       "\n",
       "## Variables\n",
       "\n",
       "* acctnum: Customer account number\n",
       "* gender: Customer gender - M=male, F=female\n",
       "* state: State where customer lives (2-character abbreviation)\n",
       "* zip: ZIP code (5-digit)\n",
       "* zip3: First 3 digits of ZIP code\n",
       "* first: Number of months since first purchase\n",
       "* last: Number of months since most recent purchase\n",
       "* book: Total dollars spent on books\n",
       "* nonbook: Total dollars spent on non-book products\n",
       "* total: Total dollars spent\n",
       "* purch: Total number of books purchased\n",
       "* child: Total number of children's books purchased\n",
       "* youth: Total number of youth books purchased\n",
       "* cook: Total number of cook books purchased \n",
       "* do_it: Total number of do-it-yourself books purchased \n",
       "* reference: Total number of reference books purchased \n",
       "* art: Total number of art books purchased \n",
       "* geog: Total number of geography books purchased \n",
       "* buyer: Did the customer buy The Art History of Florence?  (yes, no)\n",
       "* training: Dummy variable that splits the dataset into a training (1) and validation (0) dataset"
      ],
      "text/plain": [
       "<IPython.core.display.Markdown object>"
      ]
     },
     "metadata": {},
     "output_type": "display_data"
    },
    {
     "data": {
      "text/markdown": [
       "# BookBinders Book Club\n",
       "\n",
       "Information on purchasing history and demographics for 50,000 of the BookBinders Book Club's customers'. Variables included in the dataset are described below\n",
       "\n",
       "## Variables\n",
       "\n",
       "* acctnum: Customer account number\n",
       "* gender: Customer gender - M=male, F=female\n",
       "* state: State where customer lives (2-character abbreviation)\n",
       "* zip: ZIP code (5-digit)\n",
       "* zip3: First 3 digits of ZIP code\n",
       "* first: Number of months since first purchase\n",
       "* last: Number of months since most recent purchase\n",
       "* book: Total dollars spent on books\n",
       "* nonbook: Total dollars spent on non-book products\n",
       "* total: Total dollars spent\n",
       "* purch: Total number of books purchased\n",
       "* child: Total number of children's books purchased\n",
       "* youth: Total number of youth books purchased\n",
       "* cook: Total number of cook books purchased \n",
       "* do_it: Total number of do-it-yourself books purchased \n",
       "* reference: Total number of reference books purchased \n",
       "* art: Total number of art books purchased \n",
       "* geog: Total number of geography books purchased \n",
       "* buyer: Did the customer buy The Art History of Florence?  (yes, no)\n",
       "* training: Dummy variable that splits the dataset into a training (1) and validation (0) dataset"
      ],
      "text/plain": [
       "<IPython.core.display.Markdown object>"
      ]
     },
     "metadata": {},
     "output_type": "display_data"
    }
   ],
   "source": [
    "rsm.describe(bbb_rec)\n",
    "rsm.describe(bbb)"
   ]
  },
  {
   "cell_type": "markdown",
   "metadata": {},
   "source": [
    "# DO NOT EDIT CODE BELOW THIS CELL\n",
    "# YOUR CODE MUST PASS THE TEST BELOW"
   ]
  },
  {
   "cell_type": "code",
   "execution_count": 316,
   "metadata": {},
   "outputs": [
    {
     "name": "stdout",
     "output_type": "stream",
     "text": [
      "Well done! Both tests passed!\n",
      "bbb_rec will now be written to the data directory\n"
     ]
    }
   ],
   "source": [
    "test1 = bbb_rec.equals(bbb)\n",
    "if hasattr(bbb_rec, \"description\"):\n",
    "    test2 = bbb_rec.description == bbb.description\n",
    "else:\n",
    "    test2 = False\n",
    "\n",
    "if test1 is True and test2 is True:\n",
    "    print(\"Well done! Both tests passed!\")\n",
    "    print(\"bbb_rec will now be written to the data directory\")\n",
    "    bbb_rec.to_pickle(\"data/bbb_rec.pkl\")\n",
    "else:\n",
    "    test = False\n",
    "    if test1 is False:\n",
    "        raise Exception(\n",
    "            \"\"\"Test of equality of data frames failed.\n",
    "            Use bbb.dtypes and bbb_rec.dtypes to check\n",
    "            for differences in types. Check the number\n",
    "            of mistakes per colmun using, for example,\n",
    "            (bbb_rec[\"book\"] == bbb[\"book\"]).sum()\"\"\"\n",
    "        )\n",
    "    if test2 is False:\n",
    "        raise Exception(\n",
    "            \"\"\"Add a description to the bbb_rec data frame.\n",
    "            Read the description from the txt file in the\n",
    "            data directory. See\n",
    "            https://stackoverflow.com/a/40514650/1974918\n",
    "            for more information\"\"\"\n",
    "        )"
   ]
  },
  {
   "cell_type": "code",
   "execution_count": null,
   "metadata": {},
   "outputs": [],
   "source": []
  }
 ],
 "metadata": {
  "jupytext": {
   "cell_metadata_filter": "-all",
   "main_language": "python",
   "notebook_metadata_filter": "-all"
  },
  "kernelspec": {
   "display_name": "Python 3",
   "language": "python",
   "name": "python3"
  },
  "language_info": {
   "codemirror_mode": {
    "name": "ipython",
    "version": 3
   },
   "file_extension": ".py",
   "mimetype": "text/x-python",
   "name": "python",
   "nbconvert_exporter": "python",
   "pygments_lexer": "ipython3",
   "version": "3.8.5"
  }
 },
 "nbformat": 4,
 "nbformat_minor": 4
}
