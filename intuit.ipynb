{
 "cells": [
  {
   "cell_type": "markdown",
   "metadata": {},
   "source": [
    "# Intuit Quickbooks Upgrade\n",
    "\n",
    "* Team-lead GitLab userid: qchu\n",
    "* Group name: WonderFourEver\n"
   ]
  },
  {
   "cell_type": "markdown",
   "metadata": {},
   "source": [
    "## 1. Introduction & Problem Identification"
   ]
  },
  {
   "cell_type": "markdown",
   "metadata": {},
   "source": [
    "QuickBooks is an accounting software that can provide powerful bookkeeping capabilities to small businesses. In 1995, Version 3 for QuickBooks was released and the company had already sent them out in the first wave mailing with an offer to upgrade to the latest version.\n",
    "In this project, we are asked to help Intuit determine which of the 22,500 businesses in the test set to mail in wave-2. The data we have contains 75,000 small businesses selected randomly from 801821 that were sent the wave-1 mailing. The models we use are RFM, Logistic regression, and Neural Network.\n"
   ]
  },
  {
   "cell_type": "markdown",
   "metadata": {},
   "source": [
    "## 2. Exploratory Data Analysis"
   ]
  },
  {
   "cell_type": "code",
   "execution_count": 1,
   "metadata": {},
   "outputs": [],
   "source": [
    "import matplotlib as mpl\n",
    "import matplotlib.pyplot as plt\n",
    "import numpy as np\n",
    "import pandas as pd\n",
    "import pyrsm as rsm\n",
    "import statsmodels.formula.api as smf\n",
    "from sklearn import preprocessing\n",
    "from statsmodels.genmod.families import Binomial\n",
    "from statsmodels.genmod.families.links import logit\n",
    "import seaborn as sns\n",
    "from scipy.stats import chisquare, chi2_contingency\n",
    "\n",
    "# increase plot resolution\n",
    "# mpl.rcParams[\"figure.dpi\"] = 100"
   ]
  },
  {
   "cell_type": "code",
   "execution_count": 2,
   "metadata": {},
   "outputs": [],
   "source": [
    "## loading the data - this dataset must NOT be changed\n",
    "intuit75k = pd.read_pickle(\"data/intuit75k.pkl\")\n",
    "intuit75k[\"res1_yes\"] = rsm.ifelse(intuit75k.res1 == \"Yes\", 1, 0)"
   ]
  },
  {
   "cell_type": "code",
   "execution_count": 3,
   "metadata": {},
   "outputs": [
    {
     "name": "stdout",
     "output_type": "stream",
     "text": [
      "<class 'pandas.core.frame.DataFrame'>\n",
      "RangeIndex: 75000 entries, 0 to 74999\n",
      "Data columns (total 15 columns):\n",
      " #   Column      Non-Null Count  Dtype   \n",
      "---  ------      --------------  -----   \n",
      " 0   id          75000 non-null  int32   \n",
      " 1   zip         75000 non-null  object  \n",
      " 2   zip_bins    75000 non-null  int32   \n",
      " 3   sex         75000 non-null  category\n",
      " 4   bizflag     75000 non-null  int32   \n",
      " 5   numords     75000 non-null  int32   \n",
      " 6   dollars     75000 non-null  float64 \n",
      " 7   last        75000 non-null  int32   \n",
      " 8   sincepurch  75000 non-null  int32   \n",
      " 9   version1    75000 non-null  int32   \n",
      " 10  owntaxprod  75000 non-null  int32   \n",
      " 11  upgraded    75000 non-null  int32   \n",
      " 12  res1        75000 non-null  category\n",
      " 13  training    75000 non-null  int32   \n",
      " 14  res1_yes    75000 non-null  int64   \n",
      "dtypes: category(2), float64(1), int32(10), int64(1), object(1)\n",
      "memory usage: 4.7+ MB\n"
     ]
    }
   ],
   "source": [
    "intuit75k.info()"
   ]
  },
  {
   "cell_type": "code",
   "execution_count": 4,
   "metadata": {},
   "outputs": [
    {
     "data": {
      "text/html": [
       "<div>\n",
       "<style scoped>\n",
       "    .dataframe tbody tr th:only-of-type {\n",
       "        vertical-align: middle;\n",
       "    }\n",
       "\n",
       "    .dataframe tbody tr th {\n",
       "        vertical-align: top;\n",
       "    }\n",
       "\n",
       "    .dataframe thead th {\n",
       "        text-align: right;\n",
       "    }\n",
       "</style>\n",
       "<table border=\"1\" class=\"dataframe\">\n",
       "  <thead>\n",
       "    <tr style=\"text-align: right;\">\n",
       "      <th></th>\n",
       "      <th>id</th>\n",
       "      <th>zip</th>\n",
       "      <th>zip_bins</th>\n",
       "      <th>sex</th>\n",
       "      <th>bizflag</th>\n",
       "      <th>numords</th>\n",
       "      <th>dollars</th>\n",
       "      <th>last</th>\n",
       "      <th>sincepurch</th>\n",
       "      <th>version1</th>\n",
       "      <th>owntaxprod</th>\n",
       "      <th>upgraded</th>\n",
       "      <th>res1</th>\n",
       "      <th>training</th>\n",
       "      <th>res1_yes</th>\n",
       "    </tr>\n",
       "  </thead>\n",
       "  <tbody>\n",
       "    <tr>\n",
       "      <th>0</th>\n",
       "      <td>1</td>\n",
       "      <td>94553</td>\n",
       "      <td>18</td>\n",
       "      <td>Male</td>\n",
       "      <td>0</td>\n",
       "      <td>2</td>\n",
       "      <td>109.5</td>\n",
       "      <td>5</td>\n",
       "      <td>12</td>\n",
       "      <td>0</td>\n",
       "      <td>0</td>\n",
       "      <td>0</td>\n",
       "      <td>No</td>\n",
       "      <td>1</td>\n",
       "      <td>0</td>\n",
       "    </tr>\n",
       "    <tr>\n",
       "      <th>1</th>\n",
       "      <td>2</td>\n",
       "      <td>53190</td>\n",
       "      <td>10</td>\n",
       "      <td>Unknown</td>\n",
       "      <td>0</td>\n",
       "      <td>1</td>\n",
       "      <td>69.5</td>\n",
       "      <td>4</td>\n",
       "      <td>3</td>\n",
       "      <td>0</td>\n",
       "      <td>0</td>\n",
       "      <td>0</td>\n",
       "      <td>No</td>\n",
       "      <td>0</td>\n",
       "      <td>0</td>\n",
       "    </tr>\n",
       "    <tr>\n",
       "      <th>2</th>\n",
       "      <td>3</td>\n",
       "      <td>37091</td>\n",
       "      <td>8</td>\n",
       "      <td>Male</td>\n",
       "      <td>0</td>\n",
       "      <td>4</td>\n",
       "      <td>93.0</td>\n",
       "      <td>14</td>\n",
       "      <td>29</td>\n",
       "      <td>0</td>\n",
       "      <td>0</td>\n",
       "      <td>1</td>\n",
       "      <td>No</td>\n",
       "      <td>0</td>\n",
       "      <td>0</td>\n",
       "    </tr>\n",
       "    <tr>\n",
       "      <th>3</th>\n",
       "      <td>4</td>\n",
       "      <td>02125</td>\n",
       "      <td>1</td>\n",
       "      <td>Male</td>\n",
       "      <td>0</td>\n",
       "      <td>1</td>\n",
       "      <td>22.0</td>\n",
       "      <td>17</td>\n",
       "      <td>1</td>\n",
       "      <td>0</td>\n",
       "      <td>0</td>\n",
       "      <td>0</td>\n",
       "      <td>No</td>\n",
       "      <td>1</td>\n",
       "      <td>0</td>\n",
       "    </tr>\n",
       "    <tr>\n",
       "      <th>4</th>\n",
       "      <td>5</td>\n",
       "      <td>60201</td>\n",
       "      <td>11</td>\n",
       "      <td>Male</td>\n",
       "      <td>0</td>\n",
       "      <td>1</td>\n",
       "      <td>24.5</td>\n",
       "      <td>2</td>\n",
       "      <td>3</td>\n",
       "      <td>0</td>\n",
       "      <td>0</td>\n",
       "      <td>0</td>\n",
       "      <td>No</td>\n",
       "      <td>0</td>\n",
       "      <td>0</td>\n",
       "    </tr>\n",
       "  </tbody>\n",
       "</table>\n",
       "</div>"
      ],
      "text/plain": [
       "   id    zip  zip_bins      sex  bizflag  numords  dollars  last  sincepurch  \\\n",
       "0   1  94553        18     Male        0        2    109.5     5          12   \n",
       "1   2  53190        10  Unknown        0        1     69.5     4           3   \n",
       "2   3  37091         8     Male        0        4     93.0    14          29   \n",
       "3   4  02125         1     Male        0        1     22.0    17           1   \n",
       "4   5  60201        11     Male        0        1     24.5     2           3   \n",
       "\n",
       "   version1  owntaxprod  upgraded res1  training  res1_yes  \n",
       "0         0           0         0   No         1         0  \n",
       "1         0           0         0   No         0         0  \n",
       "2         0           0         1   No         0         0  \n",
       "3         0           0         0   No         1         0  \n",
       "4         0           0         0   No         0         0  "
      ]
     },
     "execution_count": 4,
     "metadata": {},
     "output_type": "execute_result"
    }
   ],
   "source": [
    "intuit75k.head()"
   ]
  },
  {
   "cell_type": "markdown",
   "metadata": {},
   "source": [
    "### 2.1 Zip and zip_bins"
   ]
  },
  {
   "cell_type": "code",
   "execution_count": 5,
   "metadata": {},
   "outputs": [
    {
     "data": {
      "image/png": "[encoded data removed]",
      "text/plain": [
       "<Figure size 2160x576 with 3 Axes>"
      ]
     },
     "metadata": {
      "needs_background": "light"
     },
     "output_type": "display_data"
    }
   ],
   "source": [
    "df = intuit75k.groupby(['zip']).res1_yes.agg(['count','sum']).copy()\n",
    "df = df.sort_values(by=['count'],ascending = False).reset_index()[:50]\n",
    "df['rate'] = df['sum']/df['count']\n",
    "fig, axs = plt.subplots(1, 3, figsize = (30, 8))\n",
    "df2 = intuit75k.groupby(['zip_bins']).res1_yes.agg(['count','sum']).reset_index().copy()\n",
    "df2['conversion_rate'] = df2['sum']/df2['count']\n",
    "sns.barplot(x= 'zip_bins',y = 'conversion_rate',data = df2,color = 'slateblue', ax = axs[0])\n",
    "axs[0].axhline(0.04801333333333333,linestyle = '--')\n",
    "axs[0] = axs[0].set_title('Conversion_rate Based on Zip_bins')\n",
    "sns.barplot(x= 'zip',y = 'count',data = df,color = 'slateblue', ax = axs[1])\n",
    "axs[1].set_xticklabels(axs[1].get_xticklabels(),rotation = 60)\n",
    "axs[1].set_title('Number of Business Based on Zip')\n",
    "sns.barplot(x= 'zip',y = 'rate',data = df, color = 'slateblue', ax = axs[2])\n",
    "axs[2].set_xticklabels(axs[2].get_xticklabels(),rotation = 60)\n",
    "axs[2].axhline(0.04801333333333333,linestyle = '--')\n",
    "axs[2].set_title('Response Rate Based on Zip')\n",
    "plt.show()"
   ]
  },
  {
   "cell_type": "markdown",
   "metadata": {},
   "source": [
    "As we can see from the above barchart, zip_bin 1 has a conversion rate significantly higher than other zip_bins. \n",
    "\n",
    "Therefore, we take a further look at the exact frequency distribution of zipcode and the response rate within each zipcode. We found that zip code '00801' and '99999' have stronger presence in the dataset compared with other zipcodes. In terms of response rate, zip code '00801' and '00804' have response rates that are significantly higher than the average response rate of the dataset(the dash blue line). Based on research, 00801 and 00804 are all zip codes within the United States Virgin Islands. Forming a corporation in the US Virgin Islands (USVI) provides many benefits and one of the most important could be tax advantages. According to USVI EDA, qualifying companies are eligible for 90% reduction in corporate income tax, 90% reduction in personal income tax, 100% exemption on excise tax and etc. This implies that Zipbins could be an important variable for our model and businesses with heavier tax liabilities maybe more likely to respond.\n"
   ]
  },
  {
   "cell_type": "markdown",
   "metadata": {},
   "source": [
    "### 2.2 OwnTaxProd, Version1, Upgraded"
   ]
  },
  {
   "cell_type": "markdown",
   "metadata": {},
   "source": [
    "**OwnTaxProd**"
   ]
  },
  {
   "cell_type": "code",
   "execution_count": 6,
   "metadata": {},
   "outputs": [
    {
     "data": {
      "text/html": [
       "<div>\n",
       "<style scoped>\n",
       "    .dataframe tbody tr th:only-of-type {\n",
       "        vertical-align: middle;\n",
       "    }\n",
       "\n",
       "    .dataframe tbody tr th {\n",
       "        vertical-align: top;\n",
       "    }\n",
       "\n",
       "    .dataframe thead th {\n",
       "        text-align: right;\n",
       "    }\n",
       "</style>\n",
       "<table border=\"1\" class=\"dataframe\">\n",
       "  <thead>\n",
       "    <tr style=\"text-align: right;\">\n",
       "      <th></th>\n",
       "      <th>owntaxprod</th>\n",
       "      <th>res1_yes</th>\n",
       "      <th>total</th>\n",
       "      <th>res1_yes_prop</th>\n",
       "      <th>total_prop</th>\n",
       "      <th>res_rate</th>\n",
       "      <th>avg_res_rate</th>\n",
       "      <th>TGI</th>\n",
       "    </tr>\n",
       "  </thead>\n",
       "  <tbody>\n",
       "    <tr>\n",
       "      <th>0</th>\n",
       "      <td>1</td>\n",
       "      <td>181</td>\n",
       "      <td>2152</td>\n",
       "      <td>0.050264</td>\n",
       "      <td>0.028693</td>\n",
       "      <td>0.084108</td>\n",
       "      <td>0.048013</td>\n",
       "      <td>1.751759</td>\n",
       "    </tr>\n",
       "    <tr>\n",
       "      <th>1</th>\n",
       "      <td>0</td>\n",
       "      <td>3420</td>\n",
       "      <td>72848</td>\n",
       "      <td>0.949736</td>\n",
       "      <td>0.971307</td>\n",
       "      <td>0.046947</td>\n",
       "      <td>0.048013</td>\n",
       "      <td>0.977792</td>\n",
       "    </tr>\n",
       "  </tbody>\n",
       "</table>\n",
       "</div>"
      ],
      "text/plain": [
       "   owntaxprod  res1_yes  total  res1_yes_prop  total_prop  res_rate  \\\n",
       "0           1       181   2152       0.050264    0.028693  0.084108   \n",
       "1           0      3420  72848       0.949736    0.971307  0.046947   \n",
       "\n",
       "   avg_res_rate       TGI  \n",
       "0      0.048013  1.751759  \n",
       "1      0.048013  0.977792  "
      ]
     },
     "execution_count": 6,
     "metadata": {},
     "output_type": "execute_result"
    }
   ],
   "source": [
    "df = intuit75k.groupby(\"owntaxprod\").agg(res1_yes = (\"res1_yes\", np.sum), total = (\"res1_yes\", \"count\")).copy()\n",
    "df['res1_yes_prop'] = df.res1_yes / df.res1_yes.sum()\n",
    "df['total_prop'] = df.total / df.total.sum()\n",
    "df['res_rate'] = df.res1_yes / df.total\n",
    "df['avg_res_rate'] = df['res1_yes'].sum() / df['total'].sum()\n",
    "df['TGI'] = df.res1_yes_prop / df.total_prop\n",
    "df.sort_values(by='res_rate', ascending = False).reset_index()"
   ]
  },
  {
   "cell_type": "markdown",
   "metadata": {},
   "source": [
    "According to the table we can notice a significant difference in the response rate for customers whether they own a tax product or not. So we assume this variable could be important in our model."
   ]
  },
  {
   "cell_type": "markdown",
   "metadata": {},
   "source": [
    "**Veresion1**"
   ]
  },
  {
   "cell_type": "code",
   "execution_count": 7,
   "metadata": {},
   "outputs": [
    {
     "data": {
      "text/html": [
       "<div>\n",
       "<style scoped>\n",
       "    .dataframe tbody tr th:only-of-type {\n",
       "        vertical-align: middle;\n",
       "    }\n",
       "\n",
       "    .dataframe tbody tr th {\n",
       "        vertical-align: top;\n",
       "    }\n",
       "\n",
       "    .dataframe thead th {\n",
       "        text-align: right;\n",
       "    }\n",
       "</style>\n",
       "<table border=\"1\" class=\"dataframe\">\n",
       "  <thead>\n",
       "    <tr style=\"text-align: right;\">\n",
       "      <th></th>\n",
       "      <th>version1</th>\n",
       "      <th>res1_yes</th>\n",
       "      <th>total</th>\n",
       "      <th>res1_yes_prop</th>\n",
       "      <th>total_prop</th>\n",
       "      <th>res_rate</th>\n",
       "      <th>avg_res_rate</th>\n",
       "      <th>TGI</th>\n",
       "    </tr>\n",
       "  </thead>\n",
       "  <tbody>\n",
       "    <tr>\n",
       "      <th>0</th>\n",
       "      <td>1</td>\n",
       "      <td>1058</td>\n",
       "      <td>16050</td>\n",
       "      <td>0.293807</td>\n",
       "      <td>0.214</td>\n",
       "      <td>0.065919</td>\n",
       "      <td>0.048013</td>\n",
       "      <td>1.372931</td>\n",
       "    </tr>\n",
       "    <tr>\n",
       "      <th>1</th>\n",
       "      <td>0</td>\n",
       "      <td>2543</td>\n",
       "      <td>58950</td>\n",
       "      <td>0.706193</td>\n",
       "      <td>0.786</td>\n",
       "      <td>0.043138</td>\n",
       "      <td>0.048013</td>\n",
       "      <td>0.898464</td>\n",
       "    </tr>\n",
       "  </tbody>\n",
       "</table>\n",
       "</div>"
      ],
      "text/plain": [
       "   version1  res1_yes  total  res1_yes_prop  total_prop  res_rate  \\\n",
       "0         1      1058  16050       0.293807       0.214  0.065919   \n",
       "1         0      2543  58950       0.706193       0.786  0.043138   \n",
       "\n",
       "   avg_res_rate       TGI  \n",
       "0      0.048013  1.372931  \n",
       "1      0.048013  0.898464  "
      ]
     },
     "execution_count": 7,
     "metadata": {},
     "output_type": "execute_result"
    }
   ],
   "source": [
    "df = intuit75k.groupby(\"version1\").agg(res1_yes = (\"res1_yes\", np.sum), total = (\"res1_yes\", \"count\")).copy()\n",
    "df['res1_yes_prop'] = df.res1_yes / df.res1_yes.sum()\n",
    "df['total_prop'] = df.total / df.total.sum()\n",
    "df['res_rate'] = df.res1_yes / df.total\n",
    "df['avg_res_rate'] = df['res1_yes'].sum() / df['total'].sum()\n",
    "df['TGI'] = df.res1_yes_prop / df.total_prop\n",
    "df.sort_values(by='res_rate', ascending = False).reset_index()"
   ]
  },
  {
   "cell_type": "markdown",
   "metadata": {},
   "source": [
    "As we can see in the above bar chart, compared with businesses that are currently using version 2 of Quickbooks, businesses currently using version 1 have a much higher response rate."
   ]
  },
  {
   "cell_type": "markdown",
   "metadata": {},
   "source": [
    "**Upgraded**"
   ]
  },
  {
   "cell_type": "code",
   "execution_count": 8,
   "metadata": {},
   "outputs": [
    {
     "data": {
      "text/html": [
       "<div>\n",
       "<style scoped>\n",
       "    .dataframe tbody tr th:only-of-type {\n",
       "        vertical-align: middle;\n",
       "    }\n",
       "\n",
       "    .dataframe tbody tr th {\n",
       "        vertical-align: top;\n",
       "    }\n",
       "\n",
       "    .dataframe thead th {\n",
       "        text-align: right;\n",
       "    }\n",
       "</style>\n",
       "<table border=\"1\" class=\"dataframe\">\n",
       "  <thead>\n",
       "    <tr style=\"text-align: right;\">\n",
       "      <th></th>\n",
       "      <th>upgraded</th>\n",
       "      <th>res1_yes</th>\n",
       "      <th>total</th>\n",
       "      <th>res1_yes_prop</th>\n",
       "      <th>total_prop</th>\n",
       "      <th>res_rate</th>\n",
       "      <th>avg_res_rate</th>\n",
       "      <th>TGI</th>\n",
       "    </tr>\n",
       "  </thead>\n",
       "  <tbody>\n",
       "    <tr>\n",
       "      <th>0</th>\n",
       "      <td>1</td>\n",
       "      <td>1185</td>\n",
       "      <td>15629</td>\n",
       "      <td>0.329075</td>\n",
       "      <td>0.208387</td>\n",
       "      <td>0.075821</td>\n",
       "      <td>0.048013</td>\n",
       "      <td>1.579157</td>\n",
       "    </tr>\n",
       "    <tr>\n",
       "      <th>1</th>\n",
       "      <td>0</td>\n",
       "      <td>2416</td>\n",
       "      <td>59371</td>\n",
       "      <td>0.670925</td>\n",
       "      <td>0.791613</td>\n",
       "      <td>0.040693</td>\n",
       "      <td>0.048013</td>\n",
       "      <td>0.847541</td>\n",
       "    </tr>\n",
       "  </tbody>\n",
       "</table>\n",
       "</div>"
      ],
      "text/plain": [
       "   upgraded  res1_yes  total  res1_yes_prop  total_prop  res_rate  \\\n",
       "0         1      1185  15629       0.329075    0.208387  0.075821   \n",
       "1         0      2416  59371       0.670925    0.791613  0.040693   \n",
       "\n",
       "   avg_res_rate       TGI  \n",
       "0      0.048013  1.579157  \n",
       "1      0.048013  0.847541  "
      ]
     },
     "execution_count": 8,
     "metadata": {},
     "output_type": "execute_result"
    }
   ],
   "source": [
    "df = intuit75k.groupby(\"upgraded\").agg(res1_yes = (\"res1_yes\", np.sum), total = (\"res1_yes\", \"count\")).copy()\n",
    "df['res1_yes_prop'] = df.res1_yes / df.res1_yes.sum()\n",
    "df['total_prop'] = df.total / df.total.sum()\n",
    "df['res_rate'] = df.res1_yes / df.total\n",
    "df['avg_res_rate'] = df['res1_yes'].sum() / df['total'].sum()\n",
    "df['TGI'] = df.res1_yes_prop / df.total_prop\n",
    "df.sort_values(by='res_rate', ascending = False).reset_index()"
   ]
  },
  {
   "cell_type": "markdown",
   "metadata": {},
   "source": [
    "As we can see in the above bar chart, compared with businesses that did not upgrade from version1 to version2, businesses that have upgraded have a much higher response rate. "
   ]
  },
  {
   "cell_type": "markdown",
   "metadata": {},
   "source": [
    "### 2.3 Interactions among OwnTaxProd, Version1, Upgraded"
   ]
  },
  {
   "cell_type": "markdown",
   "metadata": {},
   "source": [
    "The previous analysis exhibits that the variables “Owntaxprod”, “Version1” and “Upgrade” have a positive impact on the response rate. To examine the inherent possible relationships among these variables, we ran a Chi-Squared Test and pivot table analysis to find out the most impactful predictor and potential interactions."
   ]
  },
  {
   "cell_type": "code",
   "execution_count": 9,
   "metadata": {},
   "outputs": [
    {
     "data": {
      "text/html": [
       "<div>\n",
       "<style scoped>\n",
       "    .dataframe tbody tr th:only-of-type {\n",
       "        vertical-align: middle;\n",
       "    }\n",
       "\n",
       "    .dataframe tbody tr th {\n",
       "        vertical-align: top;\n",
       "    }\n",
       "\n",
       "    .dataframe thead th {\n",
       "        text-align: right;\n",
       "    }\n",
       "</style>\n",
       "<table border=\"1\" class=\"dataframe\">\n",
       "  <thead>\n",
       "    <tr style=\"text-align: right;\">\n",
       "      <th></th>\n",
       "      <th>variables</th>\n",
       "      <th>Chi-squared</th>\n",
       "      <th>p-value</th>\n",
       "      <th>Degree of freedom</th>\n",
       "    </tr>\n",
       "  </thead>\n",
       "  <tbody>\n",
       "    <tr>\n",
       "      <th>0</th>\n",
       "      <td>version1, owntaxprod</td>\n",
       "      <td>538.2691</td>\n",
       "      <td>0.0</td>\n",
       "      <td>1</td>\n",
       "    </tr>\n",
       "    <tr>\n",
       "      <th>1</th>\n",
       "      <td>version1, upgraded</td>\n",
       "      <td>5373.7748</td>\n",
       "      <td>0.0</td>\n",
       "      <td>1</td>\n",
       "    </tr>\n",
       "    <tr>\n",
       "      <th>2</th>\n",
       "      <td>upgraded, owntaxprod</td>\n",
       "      <td>571.8548</td>\n",
       "      <td>0.0</td>\n",
       "      <td>1</td>\n",
       "    </tr>\n",
       "  </tbody>\n",
       "</table>\n",
       "</div>"
      ],
      "text/plain": [
       "              variables  Chi-squared  p-value  Degree of freedom\n",
       "0  version1, owntaxprod     538.2691      0.0                  1\n",
       "1    version1, upgraded    5373.7748      0.0                  1\n",
       "2  upgraded, owntaxprod     571.8548      0.0                  1"
      ]
     },
     "execution_count": 9,
     "metadata": {},
     "output_type": "execute_result"
    }
   ],
   "source": [
    "variables = []\n",
    "cs = []\n",
    "ps = []\n",
    "dofs = []\n",
    "\n",
    "variables.append('version1, owntaxprod')\n",
    "ct = pd.crosstab(intuit75k['version1'], intuit75k['owntaxprod'])\n",
    "c, p, dof, expected = chi2_contingency(ct)\n",
    "cs.append(c)\n",
    "ps.append(p)\n",
    "dofs.append(dof)\n",
    "\n",
    "variables.append('version1, upgraded')\n",
    "ct = pd.crosstab(intuit75k['version1'], intuit75k['upgraded'])\n",
    "c, p, dof, expected = chi2_contingency(ct)\n",
    "cs.append(c)\n",
    "ps.append(p)\n",
    "dofs.append(dof)\n",
    "\n",
    "variables.append('upgraded, owntaxprod')\n",
    "ct = pd.crosstab(intuit75k['upgraded'], intuit75k['owntaxprod'])\n",
    "c, p, dof, expected = chi2_contingency(ct)\n",
    "cs.append(c)\n",
    "ps.append(p)\n",
    "dofs.append(dof)\n",
    "\n",
    "pd.DataFrame(zip(variables, cs, ps, dofs), columns = ['variables', 'Chi-squared', 'p-value', 'Degree of freedom']).round(4)"
   ]
  },
  {
   "cell_type": "markdown",
   "metadata": {},
   "source": [
    "From the Chi-squared test above, we can see that the p-values are all smaller than .001, therefore we should reject the null hypotheses that these three are independent of each other. "
   ]
  },
  {
   "cell_type": "markdown",
   "metadata": {},
   "source": [
    "**Upgraded X Version1**"
   ]
  },
  {
   "cell_type": "code",
   "execution_count": 10,
   "metadata": {},
   "outputs": [
    {
     "data": {
      "text/html": [
       "<div>\n",
       "<style scoped>\n",
       "    .dataframe tbody tr th:only-of-type {\n",
       "        vertical-align: middle;\n",
       "    }\n",
       "\n",
       "    .dataframe tbody tr th {\n",
       "        vertical-align: top;\n",
       "    }\n",
       "\n",
       "    .dataframe thead th {\n",
       "        text-align: right;\n",
       "    }\n",
       "</style>\n",
       "<table border=\"1\" class=\"dataframe\">\n",
       "  <thead>\n",
       "    <tr style=\"text-align: right;\">\n",
       "      <th></th>\n",
       "      <th>upgraded</th>\n",
       "      <th>version1</th>\n",
       "      <th>res1_yes</th>\n",
       "      <th>total</th>\n",
       "      <th>res1_yes_prop</th>\n",
       "      <th>total_prop</th>\n",
       "      <th>res_rate</th>\n",
       "      <th>avg_res_rate</th>\n",
       "      <th>TGI</th>\n",
       "    </tr>\n",
       "  </thead>\n",
       "  <tbody>\n",
       "    <tr>\n",
       "      <th>2</th>\n",
       "      <td>1</td>\n",
       "      <td>0</td>\n",
       "      <td>1185</td>\n",
       "      <td>15629</td>\n",
       "      <td>0.3291</td>\n",
       "      <td>0.2084</td>\n",
       "      <td>0.0758</td>\n",
       "      <td>0.048</td>\n",
       "      <td>157.9157</td>\n",
       "    </tr>\n",
       "    <tr>\n",
       "      <th>1</th>\n",
       "      <td>0</td>\n",
       "      <td>1</td>\n",
       "      <td>1058</td>\n",
       "      <td>16050</td>\n",
       "      <td>0.2938</td>\n",
       "      <td>0.2140</td>\n",
       "      <td>0.0659</td>\n",
       "      <td>0.048</td>\n",
       "      <td>137.2931</td>\n",
       "    </tr>\n",
       "    <tr>\n",
       "      <th>0</th>\n",
       "      <td>0</td>\n",
       "      <td>0</td>\n",
       "      <td>1358</td>\n",
       "      <td>43321</td>\n",
       "      <td>0.3771</td>\n",
       "      <td>0.5776</td>\n",
       "      <td>0.0313</td>\n",
       "      <td>0.048</td>\n",
       "      <td>65.2889</td>\n",
       "    </tr>\n",
       "  </tbody>\n",
       "</table>\n",
       "</div>"
      ],
      "text/plain": [
       "   upgraded  version1  res1_yes  total  res1_yes_prop  total_prop  res_rate  \\\n",
       "2         1         0      1185  15629         0.3291      0.2084    0.0758   \n",
       "1         0         1      1058  16050         0.2938      0.2140    0.0659   \n",
       "0         0         0      1358  43321         0.3771      0.5776    0.0313   \n",
       "\n",
       "   avg_res_rate       TGI  \n",
       "2         0.048  157.9157  \n",
       "1         0.048  137.2931  \n",
       "0         0.048   65.2889  "
      ]
     },
     "execution_count": 10,
     "metadata": {},
     "output_type": "execute_result"
    }
   ],
   "source": [
    "df = intuit75k.groupby(['upgraded', 'version1']).agg(res1_yes = (\"res1_yes\", \"sum\"), total = (\"res1_yes\", \"count\")).reset_index()\n",
    "df['res1_yes_prop'] = df.res1_yes / df.res1_yes.sum()\n",
    "df['total_prop'] = df.total / df.total.sum()\n",
    "df['res_rate'] = df.res1_yes / df.total\n",
    "df['avg_res_rate'] = intuit75k.res1_yes.sum() / intuit75k.res1_yes.count()\n",
    "df['TGI'] = df.res1_yes_prop / df.total_prop * 100\n",
    "df.sort_values(by = \"res_rate\", ascending = False, inplace = True)\n",
    "df = df.round(4)\n",
    "df"
   ]
  },
  {
   "cell_type": "markdown",
   "metadata": {},
   "source": [
    "From the pivot table, we could see that no businesses which are currently using version1 have upgraded. Among the rest of the three types, people who have upgraded from version1 and currently are using version2(upgraded = 1 & version1 = 0) have the highest response rate(7.58% compared to an average of 4.8%). The second likely to respond are those who are currently using version1 and haven’t upgraded since their purchase(upgraded = 0 & version1 = 1), their response rate is 6.59% and is much higher than the average response rate(4.8%). People who are currently using version2(upgraded = 0 & version1 = 0) are less likely to respond.(response rate of 3.13%, avg = 4.8%)"
   ]
  },
  {
   "cell_type": "markdown",
   "metadata": {},
   "source": [
    "**OwnTaxProd X Version1**"
   ]
  },
  {
   "cell_type": "code",
   "execution_count": 11,
   "metadata": {},
   "outputs": [
    {
     "data": {
      "text/html": [
       "<div>\n",
       "<style scoped>\n",
       "    .dataframe tbody tr th:only-of-type {\n",
       "        vertical-align: middle;\n",
       "    }\n",
       "\n",
       "    .dataframe tbody tr th {\n",
       "        vertical-align: top;\n",
       "    }\n",
       "\n",
       "    .dataframe thead th {\n",
       "        text-align: right;\n",
       "    }\n",
       "</style>\n",
       "<table border=\"1\" class=\"dataframe\">\n",
       "  <thead>\n",
       "    <tr style=\"text-align: right;\">\n",
       "      <th></th>\n",
       "      <th>owntaxprod</th>\n",
       "      <th>version1</th>\n",
       "      <th>res1_yes</th>\n",
       "      <th>total</th>\n",
       "      <th>res1_yes_prop</th>\n",
       "      <th>total_prop</th>\n",
       "      <th>res_rate</th>\n",
       "      <th>avg_res_rate</th>\n",
       "      <th>TGI</th>\n",
       "    </tr>\n",
       "  </thead>\n",
       "  <tbody>\n",
       "    <tr>\n",
       "      <th>2</th>\n",
       "      <td>1</td>\n",
       "      <td>0</td>\n",
       "      <td>180</td>\n",
       "      <td>2127</td>\n",
       "      <td>0.0500</td>\n",
       "      <td>0.0284</td>\n",
       "      <td>0.0846</td>\n",
       "      <td>0.048</td>\n",
       "      <td>176.2557</td>\n",
       "    </tr>\n",
       "    <tr>\n",
       "      <th>1</th>\n",
       "      <td>0</td>\n",
       "      <td>1</td>\n",
       "      <td>1057</td>\n",
       "      <td>16025</td>\n",
       "      <td>0.2935</td>\n",
       "      <td>0.2137</td>\n",
       "      <td>0.0660</td>\n",
       "      <td>0.048</td>\n",
       "      <td>137.3773</td>\n",
       "    </tr>\n",
       "    <tr>\n",
       "      <th>0</th>\n",
       "      <td>0</td>\n",
       "      <td>0</td>\n",
       "      <td>2363</td>\n",
       "      <td>56823</td>\n",
       "      <td>0.6562</td>\n",
       "      <td>0.7576</td>\n",
       "      <td>0.0416</td>\n",
       "      <td>0.048</td>\n",
       "      <td>86.6119</td>\n",
       "    </tr>\n",
       "    <tr>\n",
       "      <th>3</th>\n",
       "      <td>1</td>\n",
       "      <td>1</td>\n",
       "      <td>1</td>\n",
       "      <td>25</td>\n",
       "      <td>0.0003</td>\n",
       "      <td>0.0003</td>\n",
       "      <td>0.0400</td>\n",
       "      <td>0.048</td>\n",
       "      <td>83.3102</td>\n",
       "    </tr>\n",
       "  </tbody>\n",
       "</table>\n",
       "</div>"
      ],
      "text/plain": [
       "   owntaxprod  version1  res1_yes  total  res1_yes_prop  total_prop  res_rate  \\\n",
       "2           1         0       180   2127         0.0500      0.0284    0.0846   \n",
       "1           0         1      1057  16025         0.2935      0.2137    0.0660   \n",
       "0           0         0      2363  56823         0.6562      0.7576    0.0416   \n",
       "3           1         1         1     25         0.0003      0.0003    0.0400   \n",
       "\n",
       "   avg_res_rate       TGI  \n",
       "2         0.048  176.2557  \n",
       "1         0.048  137.3773  \n",
       "0         0.048   86.6119  \n",
       "3         0.048   83.3102  "
      ]
     },
     "execution_count": 11,
     "metadata": {},
     "output_type": "execute_result"
    }
   ],
   "source": [
    "df = intuit75k.groupby(['owntaxprod', 'version1']).agg(res1_yes = (\"res1_yes\", \"sum\"), total = (\"res1_yes\", \"count\")).reset_index()\n",
    "df['res1_yes_prop'] = df.res1_yes / df.res1_yes.sum()\n",
    "df['total_prop'] = df.total / df.total.sum()\n",
    "df['res_rate'] = df.res1_yes / df.total\n",
    "df['avg_res_rate'] = intuit75k.res1_yes.sum() / intuit75k.res1_yes.count()\n",
    "df['TGI'] = df.res1_yes_prop / df.total_prop * 100\n",
    "df.sort_values(by = \"res_rate\", ascending = False, inplace = True)\n",
    "df = df.round(4)\n",
    "df"
   ]
  },
  {
   "cell_type": "markdown",
   "metadata": {},
   "source": [
    "We see from the below table that people who own tax products and are using version2(owntaxprod = 1 & version1 = 0) or the vice vesera(owntaxprod = 0 & version1 = 0) have a response rate higher than the average. Interactions between owntaxprod and version1 might exist but given that the total number of businesses belong to this category are too smal(total = 25), the analysis result might not be statistically significant to reveal useful information."
   ]
  },
  {
   "cell_type": "markdown",
   "metadata": {},
   "source": [
    "**OwnTaxProd X Version1**"
   ]
  },
  {
   "cell_type": "code",
   "execution_count": 12,
   "metadata": {},
   "outputs": [
    {
     "data": {
      "text/html": [
       "<div>\n",
       "<style scoped>\n",
       "    .dataframe tbody tr th:only-of-type {\n",
       "        vertical-align: middle;\n",
       "    }\n",
       "\n",
       "    .dataframe tbody tr th {\n",
       "        vertical-align: top;\n",
       "    }\n",
       "\n",
       "    .dataframe thead th {\n",
       "        text-align: right;\n",
       "    }\n",
       "</style>\n",
       "<table border=\"1\" class=\"dataframe\">\n",
       "  <thead>\n",
       "    <tr style=\"text-align: right;\">\n",
       "      <th></th>\n",
       "      <th>owntaxprod</th>\n",
       "      <th>version1</th>\n",
       "      <th>res1_yes</th>\n",
       "      <th>total</th>\n",
       "      <th>res1_yes_prop</th>\n",
       "      <th>total_prop</th>\n",
       "      <th>res_rate</th>\n",
       "      <th>avg_res_rate</th>\n",
       "      <th>TGI</th>\n",
       "    </tr>\n",
       "  </thead>\n",
       "  <tbody>\n",
       "    <tr>\n",
       "      <th>2</th>\n",
       "      <td>1</td>\n",
       "      <td>0</td>\n",
       "      <td>180</td>\n",
       "      <td>2127</td>\n",
       "      <td>0.0500</td>\n",
       "      <td>0.0284</td>\n",
       "      <td>0.0846</td>\n",
       "      <td>0.048</td>\n",
       "      <td>176.2557</td>\n",
       "    </tr>\n",
       "    <tr>\n",
       "      <th>1</th>\n",
       "      <td>0</td>\n",
       "      <td>1</td>\n",
       "      <td>1057</td>\n",
       "      <td>16025</td>\n",
       "      <td>0.2935</td>\n",
       "      <td>0.2137</td>\n",
       "      <td>0.0660</td>\n",
       "      <td>0.048</td>\n",
       "      <td>137.3773</td>\n",
       "    </tr>\n",
       "    <tr>\n",
       "      <th>0</th>\n",
       "      <td>0</td>\n",
       "      <td>0</td>\n",
       "      <td>2363</td>\n",
       "      <td>56823</td>\n",
       "      <td>0.6562</td>\n",
       "      <td>0.7576</td>\n",
       "      <td>0.0416</td>\n",
       "      <td>0.048</td>\n",
       "      <td>86.6119</td>\n",
       "    </tr>\n",
       "    <tr>\n",
       "      <th>3</th>\n",
       "      <td>1</td>\n",
       "      <td>1</td>\n",
       "      <td>1</td>\n",
       "      <td>25</td>\n",
       "      <td>0.0003</td>\n",
       "      <td>0.0003</td>\n",
       "      <td>0.0400</td>\n",
       "      <td>0.048</td>\n",
       "      <td>83.3102</td>\n",
       "    </tr>\n",
       "  </tbody>\n",
       "</table>\n",
       "</div>"
      ],
      "text/plain": [
       "   owntaxprod  version1  res1_yes  total  res1_yes_prop  total_prop  res_rate  \\\n",
       "2           1         0       180   2127         0.0500      0.0284    0.0846   \n",
       "1           0         1      1057  16025         0.2935      0.2137    0.0660   \n",
       "0           0         0      2363  56823         0.6562      0.7576    0.0416   \n",
       "3           1         1         1     25         0.0003      0.0003    0.0400   \n",
       "\n",
       "   avg_res_rate       TGI  \n",
       "2         0.048  176.2557  \n",
       "1         0.048  137.3773  \n",
       "0         0.048   86.6119  \n",
       "3         0.048   83.3102  "
      ]
     },
     "execution_count": 12,
     "metadata": {},
     "output_type": "execute_result"
    }
   ],
   "source": [
    "df = intuit75k.groupby(['owntaxprod', 'version1']).agg(res1_yes = (\"res1_yes\", \"sum\"), total = (\"res1_yes\", \"count\")).reset_index()\n",
    "df['res1_yes_prop'] = df.res1_yes / df.res1_yes.sum()\n",
    "df['total_prop'] = df.total / df.total.sum()\n",
    "df['res_rate'] = df.res1_yes / df.total\n",
    "df['avg_res_rate'] = intuit75k.res1_yes.sum() / intuit75k.res1_yes.count()\n",
    "df['TGI'] = df.res1_yes_prop / df.total_prop * 100\n",
    "df.sort_values(by = \"res_rate\", ascending = False, inplace = True)\n",
    "df = df.round(4)\n",
    "df"
   ]
  },
  {
   "cell_type": "markdown",
   "metadata": {},
   "source": [
    "From the table, we can see that the variable “upgraded” is very impactful to the response rate, and people who purchased tax products and have upgraded have the highest response rate than the others. Interactions between these two variables might exist. "
   ]
  },
  {
   "cell_type": "markdown",
   "metadata": {},
   "source": [
    "Therefore, we can conclude from the above analysis that:\n",
    "- The three variables are not independent from each other: Interaction between owntaxprod and upgraded exists and might have a predictive impact on the response rate. \n",
    "- Businesses either are using verson1 or have upgraded have an above-average response rate. \n",
    "- Upgraded and owntaxprod could be variables that are more impactful."
   ]
  },
  {
   "cell_type": "markdown",
   "metadata": {},
   "source": [
    "**Summary**"
   ]
  },
  {
   "cell_type": "markdown",
   "metadata": {},
   "source": [
    "Based on the EDA, we could infer that businesses in zip code '00801' and '00804' (or zip_bin 1),purchased tax products previously, upgraded from quickbooks version1 and currently are using version2 are more likely to upgrade.\n",
    "\n",
    "These variables indicate certain characteristics of business. Businesses that have heavier tax liabilities or accounting needs are more likely to upgrade since the quickbook can be a critical tool for their business. Businesses that used quickbook for a longer time and previously upgraded are more likely to upgrade this time as they could be our loyal customers.\n"
   ]
  },
  {
   "cell_type": "markdown",
   "metadata": {},
   "source": [
    "## 3. Model Design & Feature Engineering"
   ]
  },
  {
   "cell_type": "markdown",
   "metadata": {},
   "source": [
    "### 3.1 Model Assumption"
   ]
  },
  {
   "cell_type": "markdown",
   "metadata": {},
   "source": [
    "- **Breakeven rate**: \n",
    "    Based on the financial information provided in the case(mail costs of \\\\$1.41 and margin of each responder $60), we calculated the breakeven to be 0.0235.\n",
    "- **Customer behavior**:\n",
    "    We assume that purchase behaviors of customers remain the same for wave1 and wave2 campaign, therefore we could predict response probability of businesses based on the data of the wave1.\n",
    "- **Wave2 response rate**: \n",
    "    Given the cusomter behavior assumption, we assume every response probability in wave-2 is only 50% of the response probability we predict for that business based on\n",
    "the wave-1 response data. We would compare the wave2 response rate with the breakeven rate above to determine whether to mail during wave2 campaign.\n"
   ]
  },
  {
   "cell_type": "markdown",
   "metadata": {},
   "source": [
    "## 3.2 Feature Engineering"
   ]
  },
  {
   "cell_type": "markdown",
   "metadata": {},
   "source": [
    "### 3.2.1 New Variables"
   ]
  },
  {
   "cell_type": "markdown",
   "metadata": {},
   "source": [
    "Based on the exploratory data analysis(EDA) above and the models we are going to apply(RFM, Logistic Regression, and Neural Network), we could add a few variables to our model:"
   ]
  },
  {
   "cell_type": "markdown",
   "metadata": {},
   "source": [
    "<table class='table table-condensed table-hover' style='width:100%;'>\n",
    " <thead>\n",
    "     <tr>\n",
    "   <th style=\"text-align:left;\"> Variables </th>\n",
    "   <th style=\"text-align:left;\"> Definition </th>\n",
    "   <th style=\"text-align:left;\"> Explanation </th>\n",
    "      </tr>\n",
    " </thead>\n",
    "<tbody>\n",
    "  <tr>\n",
    "   <td style=\"text-align:left;\"> avg_dollar</td>\n",
    "   <td style=\"text-align:left;\"> dollar / numords </td>\n",
    "   <td style=\"text-align:left;\"> Average dollar value of each order </td>\n",
    "  </tr>\n",
    "    \n",
    "   <tr>\n",
    "   <td style=\"text-align:left;\"> version1_upgraded</td>\n",
    "   <td style=\"text-align:left;\"> version1 + upgraded</td>\n",
    "   <td style=\"text-align:left;\"> From the EDA, we know that either people who have upgraded or are using version1 are more likely to respond. This variable is intended to capture this information. </td>\n",
    "  </tr>\n",
    "\n",
    "  <tr>\n",
    "   <td style=\"text-align:left;\"> zipbins_yes</td>\n",
    "   <td style=\"text-align:left;\"> ifelse(zip_bins == 1, 1, 0) </td>\n",
    "   <td style=\"text-align:left;\"> From the EDA, we noticed that zipbins 1 has largest response rate. </td>\n",
    "  </tr>\n",
    "    \n",
    "   <tr>\n",
    "   <td style=\"text-align:left;\"> zip_yes</td>\n",
    "   <td style=\"text-align:left;\"> ifelse(zip == ‘00801’,1, 0) </td>\n",
    "   <td style=\"text-align:left;\"> From the EDA, we discovered that business that has a zip code of 00801 has the highest response rate.</td>\n",
    "  </tr>\n",
    "    \n",
    "<tr>\n",
    "   <td style=\"text-align:left;\"> recency_tile</td>\n",
    "   <td style=\"text-align:left;\"> xtile of last </td>\n",
    "   <td style=\"text-align:left;\">For RFM analysis </td>\n",
    "  </tr>\n",
    "\n",
    "    \n",
    "   <tr>\n",
    "   <td style=\"text-align:left;\"> frequency_tile</td>\n",
    "   <td style=\"text-align:left;\"> xtile of numords </td>\n",
    "   <td style=\"text-align:left;\"> For RFM analysis </td>\n",
    "  </tr>\n",
    "    \n",
    "   <tr>\n",
    "   <td style=\"text-align:left;\"> monetary_tile</td>\n",
    "   <td style=\"text-align:left;\"> xtile of dollars / avg_dollar </td>\n",
    "   <td style=\"text-align:left;\"> For RFM analysis </td>\n",
    "  </tr>\n",
    "    \n",
    "</tbody>\n",
    "</table>"
   ]
  },
  {
   "cell_type": "markdown",
   "metadata": {},
   "source": [
    "### 3.2.2 Preprocessing Technique"
   ]
  },
  {
   "cell_type": "markdown",
   "metadata": {},
   "source": [
    "Normally, different models require different types of preprocessing. The one we will be using for our models are listed and discussed as below:\n",
    "- **Data Type Tranformation**\n",
    "\n",
    "    This applies to all the models. Besides the four numeric variables(numords, dollars, last, sincepurch), we transfer all the categorical variables to data type of category.\n",
    "- **Onehot Encoding**\n",
    "\n",
    "    The model we will be using is RFM, Logistic Regression(LR) and Neural Networks(NN). The latter two will take the categorical data as input. Since our categorical variables are not ordinal, and LR and NN do not have the tree model’s processing ability of categorical data, we should transform the categorical data using onehot encoding.\n",
    "- **Scaling**\n",
    "    \n",
    "    Scaling helps models converge faster and is good for interpretation. The scaling technique we will be using is minmax normalization and standardization, depending on the model."
   ]
  },
  {
   "cell_type": "markdown",
   "metadata": {},
   "source": [
    "#### Feature Table"
   ]
  },
  {
   "cell_type": "markdown",
   "metadata": {},
   "source": [
    "<table class='table table-condensed table-hover' style='width:100%;'>\n",
    " <thead>\n",
    "     <tr>\n",
    "   <th style=\"text-align:left;\"> Category </th>\n",
    "   <th style=\"text-align:left;\"> Variable </th>\n",
    "   <th style=\"text-align:left;\"> Type </th>\n",
    "      </tr>\n",
    " </thead>\n",
    "<tbody>\n",
    "  <tr>\n",
    "   <td style=\"text-align:left;\"> Demographics</td>\n",
    "   <td style=\"text-align:left;\"> zip </td>\n",
    "   <td style=\"text-align:left;\"> category </td>\n",
    "  </tr>\n",
    "    \n",
    "  <tr>\n",
    "   <td style=\"text-align:left;\"> </td>\n",
    "   <td style=\"text-align:left;\"> zip_bins </td>\n",
    "   <td style=\"text-align:left;\"> category </td>\n",
    "  </tr>\n",
    "\n",
    "   <tr>\n",
    "   <td style=\"text-align:left;\"> </td>\n",
    "   <td style=\"text-align:left;\"> sex </td>\n",
    "   <td style=\"text-align:left;\"> category </td>\n",
    "  </tr>\n",
    "\n",
    "  <tr>\n",
    "   <td style=\"text-align:left;\"> </td>\n",
    "   <td style=\"text-align:left;\"> bizflag </td>\n",
    "   <td style=\"text-align:left;\"> category </td>\n",
    "  </tr>\n",
    "  <tr>\n",
    "   <td style=\"text-align:left;\"> Purchase Behavior(RFM Related)</td>\n",
    "   <td style=\"text-align:left;\"> numords </td>\n",
    "   <td style=\"text-align:left;\"> numeric </td>\n",
    "  </tr>    \n",
    "  <tr>\n",
    "   <td style=\"text-align:left;\"> </td>\n",
    "   <td style=\"text-align:left;\"> dollars </td>\n",
    "   <td style=\"text-align:left;\"> numeric </td>\n",
    "  </tr>        \n",
    "   <tr>\n",
    "   <td style=\"text-align:left;\"> </td>\n",
    "   <td style=\"text-align:left;\"> last </td>\n",
    "   <td style=\"text-align:left;\"> numeric </td>\n",
    "  </tr>\n",
    "    <tr>\n",
    "   <td style=\"text-align:left;\"> </td>\n",
    "   <td style=\"text-align:left;\"> sincepurch </td>\n",
    "   <td style=\"text-align:left;\"> numeric </td>\n",
    "  </tr>\n",
    "  <tr>\n",
    "   <td style=\"text-align:left;\"> New Variables</td>\n",
    "   <td style=\"text-align:left;\"> avg_dollar</td>\n",
    "   <td style=\"text-align:left;\"> numeric</tr>    \n",
    "   <tr>\n",
    "   <td style=\"text-align:left;\"> </td>\n",
    "   <td style=\"text-align:left;\"> version1_upgraded</td>\n",
    "   <td style=\"text-align:left;\"> category</tr>\n",
    "<tr>\n",
    "   <td style=\"text-align:left;\"> </td>\n",
    "   <td style=\"text-align:left;\"> zipbins_yes </td>\n",
    "   <td style=\"text-align:left;\"> category</td>\n",
    "  </tr>\n",
    "<tr>\n",
    "   <td style=\"text-align:left;\"> </td>\n",
    "   <td style=\"text-align:left;\"> zip_yes </td>\n",
    "   <td style=\"text-align:left;\"> category</td>\n",
    "  </tr>\n",
    "    \n",
    "<tr>\n",
    "   <td style=\"text-align:left;\"> </td>\n",
    "   <td style=\"text-align:left;\"> recency_tile</td>\n",
    "   <td style=\"text-align:left;\"> category</td>\n",
    "  </tr>\n",
    "\n",
    "    \n",
    "   <tr>\n",
    "   <td style=\"text-align:left;\"> </td>\n",
    "   <td style=\"text-align:left;\"> frequency_title</td>\n",
    "   <td style=\"text-align:left;\"> category </td>\n",
    "  </tr>\n",
    "    \n",
    "   <tr>\n",
    "   <td style=\"text-align:left;\"> </td>\n",
    "   <td style=\"text-align:left;\"> monetary_title(avg_dollar) </td>\n",
    "   <td style=\"text-align:left;\"> category </td>\n",
    "  </tr>\n",
    "    \n",
    "</tbody>\n",
    "</table>"
   ]
  },
  {
   "cell_type": "markdown",
   "metadata": {},
   "source": [
    "## 3.3 Model Design"
   ]
  },
  {
   "cell_type": "markdown",
   "metadata": {},
   "source": [
    "### 3.3.1 RFM"
   ]
  },
  {
   "cell_type": "markdown",
   "metadata": {},
   "source": [
    "Traditionally, the variables in the RFM (Recency, Frequency, Monetary) model refer to \"last\", \"numords\" and \"dollars\" variables in this dataset. Since we discovered a correlation of 0.58 between “dollars” and “numborders” and in order to prevent recency, frequency and monetary term in the model from capturing the same underlying behavioral characteristic, we divide the variable “dollar” by the “numords to get the average dollar per order and use it as the Monetary term in RFM analysis.\n",
    "\n",
    "we created 4 different types of RFM group (Independent RFM,Sequential RFM, Independent RFM with adjusted standard error of response rate, Sequential RFM with adjusted standard error) based on the total dataset and calculated their corresponding response rate based on train data. Later in the testset, we only mail to businesses within RFM groups that have a response rate higher than the breakeven rate and calculate w1 profits based on it. \t"
   ]
  },
  {
   "cell_type": "markdown",
   "metadata": {},
   "source": [
    "### 3.3.2 Logistic Regression"
   ]
  },
  {
   "cell_type": "markdown",
   "metadata": {},
   "source": [
    "Firstly, we performed data preprocessing. For five variables(‘numords’, ‘dollars’, ‘last’ , ‘sincepurch’), we did standardization. For categorical variables, we transformed their data type to be ‘category’. Then we fitted the logit model with all explanatory variables and utilized odds-ratios and p-values to find out insignificant or unimportant variables and tried re-fitting logit models that excluded these variables. \n",
    "\n",
    "Additionally, we utilized L1-regularization(lasso) in sklearn for variable selection. For lasso, we used grid search and cross validation to find out the best regularization strength parameter. For parameters tuning, we self-defined a profit_score function(TP * margin - FP * cost) to be our performance evaluation to choose the best parameter. After that, we re-fitted a logit model with the selected variables using statsmodels."
   ]
  },
  {
   "cell_type": "markdown",
   "metadata": {},
   "source": [
    "### 3.3.3 Neural Networks"
   ]
  },
  {
   "cell_type": "markdown",
   "metadata": {},
   "source": [
    "We will be using both the sklearn and keras packages to implement the neural network. The Multi-layer Perception from sklearn is used for searching and narrowing down the range of the hyper-parameters. The more flexible neural network by keras will be fine-tuning the hyper-parameters to try to get better performance.\n",
    "\n",
    "In feature engineering, we will adopt all the variables mentioned above. The RFM xtitle we will be using comes from the sequential model, which outperforms the others. For numeric data, we will adopt the min-max normalization to scale all the variables between 0 and 1 to help the model converge faster. For categorical variables, we adopt onehot encoding technique to help the model better understand the data.\n",
    "\n",
    "In tuning the model of sklearn neural netwrok, we will be using the profit function(defined by profit = tp * margin - fp * cost) to evaluate the model and search for suitable hyperparameters. Since it’s inconclusive what’s the best design of hidden layer size, we will compare the model using the one getting from GridSearchCV and the empirical experience. The empirical experience rules of hidden layer size can be denoted:\n",
    "\n",
    "$$ (1)\\ h = log_2n $$\n",
    "\n",
    "$$ (2)\\ h = \\sqrt{m+n}+a, \\ a \\in I and \\ a \\in [1, 10] $$\n",
    "\n",
    "$$ (3)\\ h = 2 \\times n + 1, \\ a \\in I and \\ a \\in [1, 10] $$\n",
    "\n",
    "where $h$ equals to the size of the hidden layer, $n$ denotes the dimension of inputs, $m$ denotes the dimension of the output.\n",
    "\n",
    "Then with the best parameters, we will apply them in the keras neural network to fine-tuning the model. \n",
    "\n",
    "To avoid overfitting, we will use 10% of the training dataset as validation dataset and apply early stopping when the loss function does not improve after 10 iterations in sklearn model. In keras mode, we use 10% as batch size and 100 as number of epochs and  20% of the training as the validation. We also add two dropout layers into the structure. \n",
    "\n",
    "To deal with the cold-start problem, we tried a few kernel initializers and decided to use “normal” in the end.\n"
   ]
  },
  {
   "cell_type": "markdown",
   "metadata": {},
   "source": [
    "## 4. Model Performance & Analysis"
   ]
  },
  {
   "cell_type": "markdown",
   "metadata": {},
   "source": [
    "### 4.1 Evaluation Metrics"
   ]
  },
  {
   "cell_type": "markdown",
   "metadata": {},
   "source": [
    "- Profit:  Revenue from responders - mailing cost of customers we targeted, means the amount of money made from the campaign.\n",
    "- ROME: Profit / mailing costs, measures the efficiency of the targeting campaign.\n",
    "- F1-score: 2 * precision * recall / (precision + recall), focus on both precision and recall. Recall measures the ability to find all potentially responded customers.  \n",
    "- Precision: TP / (TP + FP), represents the targeting accuracy for responded customers."
   ]
  },
  {
   "cell_type": "markdown",
   "metadata": {},
   "source": [
    "### 4.2 Model Evaluation"
   ]
  },
  {
   "cell_type": "markdown",
   "metadata": {},
   "source": [
    "#### 4.2.1 RFM"
   ]
  },
  {
   "cell_type": "code",
   "execution_count": 13,
   "metadata": {},
   "outputs": [],
   "source": [
    "%run ./sub-notebooks/rfm.ipynb"
   ]
  },
  {
   "cell_type": "code",
   "execution_count": 14,
   "metadata": {},
   "outputs": [
    {
     "data": {
      "text/html": [
       "<div>\n",
       "<style scoped>\n",
       "    .dataframe tbody tr th:only-of-type {\n",
       "        vertical-align: middle;\n",
       "    }\n",
       "\n",
       "    .dataframe tbody tr th {\n",
       "        vertical-align: top;\n",
       "    }\n",
       "\n",
       "    .dataframe thead th {\n",
       "        text-align: right;\n",
       "    }\n",
       "</style>\n",
       "<table border=\"1\" class=\"dataframe\">\n",
       "  <thead>\n",
       "    <tr style=\"text-align: right;\">\n",
       "      <th></th>\n",
       "      <th>i_quantiles</th>\n",
       "      <th>predictor</th>\n",
       "      <th>TP</th>\n",
       "      <th>FP</th>\n",
       "      <th>TN</th>\n",
       "      <th>FN</th>\n",
       "      <th>total</th>\n",
       "      <th>TPR</th>\n",
       "      <th>TNR</th>\n",
       "      <th>precision</th>\n",
       "      <th>Fscore</th>\n",
       "      <th>accuracy</th>\n",
       "      <th>kappa</th>\n",
       "      <th>profit</th>\n",
       "      <th>index</th>\n",
       "      <th>ROME</th>\n",
       "      <th>contact</th>\n",
       "      <th>AUC</th>\n",
       "      <th>i_quantiles</th>\n",
       "    </tr>\n",
       "  </thead>\n",
       "  <tbody>\n",
       "    <tr>\n",
       "      <th>0</th>\n",
       "      <td>5</td>\n",
       "      <td>iq_rate</td>\n",
       "      <td>994</td>\n",
       "      <td>17480</td>\n",
       "      <td>3917</td>\n",
       "      <td>109</td>\n",
       "      <td>22500</td>\n",
       "      <td>0.901</td>\n",
       "      <td>0.183</td>\n",
       "      <td>0.054</td>\n",
       "      <td>0.102</td>\n",
       "      <td>0.218</td>\n",
       "      <td>0.010</td>\n",
       "      <td>33591.66</td>\n",
       "      <td>1.0</td>\n",
       "      <td>1.290</td>\n",
       "      <td>0.821</td>\n",
       "      <td>0.650</td>\n",
       "      <td>5</td>\n",
       "    </tr>\n",
       "    <tr>\n",
       "      <th>0</th>\n",
       "      <td>5</td>\n",
       "      <td>sq_rate</td>\n",
       "      <td>994</td>\n",
       "      <td>17546</td>\n",
       "      <td>3851</td>\n",
       "      <td>109</td>\n",
       "      <td>22500</td>\n",
       "      <td>0.901</td>\n",
       "      <td>0.180</td>\n",
       "      <td>0.054</td>\n",
       "      <td>0.101</td>\n",
       "      <td>0.215</td>\n",
       "      <td>0.010</td>\n",
       "      <td>33498.60</td>\n",
       "      <td>1.0</td>\n",
       "      <td>1.281</td>\n",
       "      <td>0.824</td>\n",
       "      <td>0.649</td>\n",
       "      <td>5</td>\n",
       "    </tr>\n",
       "    <tr>\n",
       "      <th>0</th>\n",
       "      <td>6</td>\n",
       "      <td>iq_rate</td>\n",
       "      <td>999</td>\n",
       "      <td>17940</td>\n",
       "      <td>3457</td>\n",
       "      <td>104</td>\n",
       "      <td>22500</td>\n",
       "      <td>0.906</td>\n",
       "      <td>0.162</td>\n",
       "      <td>0.053</td>\n",
       "      <td>0.100</td>\n",
       "      <td>0.198</td>\n",
       "      <td>0.008</td>\n",
       "      <td>33236.01</td>\n",
       "      <td>1.0</td>\n",
       "      <td>1.245</td>\n",
       "      <td>0.842</td>\n",
       "      <td>0.643</td>\n",
       "      <td>6</td>\n",
       "    </tr>\n",
       "    <tr>\n",
       "      <th>0</th>\n",
       "      <td>6</td>\n",
       "      <td>sq_rate</td>\n",
       "      <td>984</td>\n",
       "      <td>17365</td>\n",
       "      <td>4032</td>\n",
       "      <td>119</td>\n",
       "      <td>22500</td>\n",
       "      <td>0.892</td>\n",
       "      <td>0.188</td>\n",
       "      <td>0.054</td>\n",
       "      <td>0.101</td>\n",
       "      <td>0.223</td>\n",
       "      <td>0.010</td>\n",
       "      <td>33167.91</td>\n",
       "      <td>1.0</td>\n",
       "      <td>1.282</td>\n",
       "      <td>0.816</td>\n",
       "      <td>0.639</td>\n",
       "      <td>6</td>\n",
       "    </tr>\n",
       "    <tr>\n",
       "      <th>0</th>\n",
       "      <td>7</td>\n",
       "      <td>iq_rate</td>\n",
       "      <td>985</td>\n",
       "      <td>17356</td>\n",
       "      <td>4041</td>\n",
       "      <td>118</td>\n",
       "      <td>22500</td>\n",
       "      <td>0.893</td>\n",
       "      <td>0.189</td>\n",
       "      <td>0.054</td>\n",
       "      <td>0.101</td>\n",
       "      <td>0.223</td>\n",
       "      <td>0.010</td>\n",
       "      <td>33239.19</td>\n",
       "      <td>1.0</td>\n",
       "      <td>1.285</td>\n",
       "      <td>0.815</td>\n",
       "      <td>0.636</td>\n",
       "      <td>7</td>\n",
       "    </tr>\n",
       "    <tr>\n",
       "      <th>0</th>\n",
       "      <td>7</td>\n",
       "      <td>sq_rate</td>\n",
       "      <td>995</td>\n",
       "      <td>17635</td>\n",
       "      <td>3762</td>\n",
       "      <td>108</td>\n",
       "      <td>22500</td>\n",
       "      <td>0.902</td>\n",
       "      <td>0.176</td>\n",
       "      <td>0.053</td>\n",
       "      <td>0.101</td>\n",
       "      <td>0.211</td>\n",
       "      <td>0.009</td>\n",
       "      <td>33431.70</td>\n",
       "      <td>1.0</td>\n",
       "      <td>1.273</td>\n",
       "      <td>0.828</td>\n",
       "      <td>0.630</td>\n",
       "      <td>7</td>\n",
       "    </tr>\n",
       "  </tbody>\n",
       "</table>\n",
       "</div>"
      ],
      "text/plain": [
       "   i_quantiles predictor   TP     FP    TN   FN  total    TPR    TNR  \\\n",
       "0            5   iq_rate  994  17480  3917  109  22500  0.901  0.183   \n",
       "0            5   sq_rate  994  17546  3851  109  22500  0.901  0.180   \n",
       "0            6   iq_rate  999  17940  3457  104  22500  0.906  0.162   \n",
       "0            6   sq_rate  984  17365  4032  119  22500  0.892  0.188   \n",
       "0            7   iq_rate  985  17356  4041  118  22500  0.893  0.189   \n",
       "0            7   sq_rate  995  17635  3762  108  22500  0.902  0.176   \n",
       "\n",
       "   precision  Fscore  accuracy  kappa    profit  index   ROME  contact    AUC  \\\n",
       "0      0.054   0.102     0.218  0.010  33591.66    1.0  1.290    0.821  0.650   \n",
       "0      0.054   0.101     0.215  0.010  33498.60    1.0  1.281    0.824  0.649   \n",
       "0      0.053   0.100     0.198  0.008  33236.01    1.0  1.245    0.842  0.643   \n",
       "0      0.054   0.101     0.223  0.010  33167.91    1.0  1.282    0.816  0.639   \n",
       "0      0.054   0.101     0.223  0.010  33239.19    1.0  1.285    0.815  0.636   \n",
       "0      0.053   0.101     0.211  0.009  33431.70    1.0  1.273    0.828  0.630   \n",
       "\n",
       "   i_quantiles  \n",
       "0            5  \n",
       "0            5  \n",
       "0            6  \n",
       "0            6  \n",
       "0            7  \n",
       "0            7  "
      ]
     },
     "execution_count": 14,
     "metadata": {},
     "output_type": "execute_result"
    }
   ],
   "source": [
    "output_df_rfm"
   ]
  },
  {
   "cell_type": "markdown",
   "metadata": {},
   "source": [
    "We experiment various quantiles, 5 quantiles still has the best profit and AUC performance compared with others. Since the profit difference between Independent RFM and Sequential RFM is relatively small, we choose the sequential RFM since it generates a more even distribution of RFM group if given a dataset."
   ]
  },
  {
   "cell_type": "markdown",
   "metadata": {},
   "source": [
    "#### 4.2.2 Logistic Regression"
   ]
  },
  {
   "cell_type": "code",
   "execution_count": 15,
   "metadata": {},
   "outputs": [
    {
     "data": {
      "image/png": "[encoded data removed]",
      "text/plain": [
       "<Figure size 864x576 with 1 Axes>"
      ]
     },
     "metadata": {
      "needs_background": "light"
     },
     "output_type": "display_data"
    }
   ],
   "source": [
    "%run ./sub-notebooks/Logit.ipynb"
   ]
  },
  {
   "cell_type": "code",
   "execution_count": 16,
   "metadata": {},
   "outputs": [
    {
     "data": {
      "text/html": [
       "<div>\n",
       "<style scoped>\n",
       "    .dataframe tbody tr th:only-of-type {\n",
       "        vertical-align: middle;\n",
       "    }\n",
       "\n",
       "    .dataframe tbody tr th {\n",
       "        vertical-align: top;\n",
       "    }\n",
       "\n",
       "    .dataframe thead th {\n",
       "        text-align: right;\n",
       "    }\n",
       "</style>\n",
       "<table border=\"1\" class=\"dataframe\">\n",
       "  <thead>\n",
       "    <tr style=\"text-align: right;\">\n",
       "      <th></th>\n",
       "      <th>Feature_selection</th>\n",
       "      <th>profit</th>\n",
       "      <th>ROME</th>\n",
       "    </tr>\n",
       "  </thead>\n",
       "  <tbody>\n",
       "    <tr>\n",
       "      <th>0</th>\n",
       "      <td>Odds_ratios</td>\n",
       "      <td>38665.98</td>\n",
       "      <td>1.914724</td>\n",
       "    </tr>\n",
       "    <tr>\n",
       "      <th>0</th>\n",
       "      <td>Lasso</td>\n",
       "      <td>38657.52</td>\n",
       "      <td>1.913504</td>\n",
       "    </tr>\n",
       "  </tbody>\n",
       "</table>\n",
       "</div>"
      ],
      "text/plain": [
       "  Feature_selection    profit      ROME\n",
       "0       Odds_ratios  38665.98  1.914724\n",
       "0             Lasso  38657.52  1.913504"
      ]
     },
     "execution_count": 16,
     "metadata": {},
     "output_type": "execute_result"
    }
   ],
   "source": [
    "lr[['Feature_selection', 'profit', 'ROME']]"
   ]
  },
  {
   "cell_type": "markdown",
   "metadata": {},
   "source": [
    "After getting two models obtained by using two feature selection methods, we compared the wave-1 profit and ROME on the test set. We found that the model of selecting features based on odds-ratios has both higher profits and ROME. Therefore, we selected that one to be our best logit model. The best model is: \"res1_yes ~ zip_bins + bizflag + numords + dollars + last + version1 + owntaxprod + upgraded\". We deleted ‘sincepur’ and ‘sex’ since they are the most insignificant and unimportant variables."
   ]
  },
  {
   "cell_type": "markdown",
   "metadata": {},
   "source": [
    "#### 4.2.3 Neural Networks"
   ]
  },
  {
   "cell_type": "markdown",
   "metadata": {},
   "source": [
    "**sklearn**"
   ]
  },
  {
   "cell_type": "code",
   "execution_count": 17,
   "metadata": {},
   "outputs": [],
   "source": [
    "%run ./sub-notebooks/sklearn_MLP.ipynb"
   ]
  },
  {
   "cell_type": "code",
   "execution_count": 18,
   "metadata": {},
   "outputs": [
    {
     "data": {
      "text/html": [
       "<div>\n",
       "<style scoped>\n",
       "    .dataframe tbody tr th:only-of-type {\n",
       "        vertical-align: middle;\n",
       "    }\n",
       "\n",
       "    .dataframe tbody tr th {\n",
       "        vertical-align: top;\n",
       "    }\n",
       "\n",
       "    .dataframe thead th {\n",
       "        text-align: right;\n",
       "    }\n",
       "</style>\n",
       "<table border=\"1\" class=\"dataframe\">\n",
       "  <thead>\n",
       "    <tr style=\"text-align: right;\">\n",
       "      <th></th>\n",
       "      <th>Type</th>\n",
       "      <th>predictor</th>\n",
       "      <th>TP</th>\n",
       "      <th>FP</th>\n",
       "      <th>TN</th>\n",
       "      <th>FN</th>\n",
       "      <th>total</th>\n",
       "      <th>TPR</th>\n",
       "      <th>TNR</th>\n",
       "      <th>precision</th>\n",
       "      <th>Fscore</th>\n",
       "      <th>accuracy</th>\n",
       "      <th>kappa</th>\n",
       "      <th>profit</th>\n",
       "      <th>index</th>\n",
       "      <th>ROME</th>\n",
       "      <th>contact</th>\n",
       "      <th>AUC</th>\n",
       "    </tr>\n",
       "  </thead>\n",
       "  <tbody>\n",
       "    <tr>\n",
       "      <th>0</th>\n",
       "      <td>All</td>\n",
       "      <td>exp_params</td>\n",
       "      <td>970</td>\n",
       "      <td>13125</td>\n",
       "      <td>8272</td>\n",
       "      <td>133</td>\n",
       "      <td>22500</td>\n",
       "      <td>0.879</td>\n",
       "      <td>0.387</td>\n",
       "      <td>0.069</td>\n",
       "      <td>0.128</td>\n",
       "      <td>0.411</td>\n",
       "      <td>0.040</td>\n",
       "      <td>38326.05</td>\n",
       "      <td>1.0</td>\n",
       "      <td>1.928</td>\n",
       "      <td>0.626</td>\n",
       "      <td>0.760</td>\n",
       "    </tr>\n",
       "    <tr>\n",
       "      <th>0</th>\n",
       "      <td>All</td>\n",
       "      <td>best_params</td>\n",
       "      <td>986</td>\n",
       "      <td>14338</td>\n",
       "      <td>7059</td>\n",
       "      <td>117</td>\n",
       "      <td>22500</td>\n",
       "      <td>0.894</td>\n",
       "      <td>0.330</td>\n",
       "      <td>0.064</td>\n",
       "      <td>0.120</td>\n",
       "      <td>0.358</td>\n",
       "      <td>0.031</td>\n",
       "      <td>37553.16</td>\n",
       "      <td>1.0</td>\n",
       "      <td>1.738</td>\n",
       "      <td>0.681</td>\n",
       "      <td>0.758</td>\n",
       "    </tr>\n",
       "  </tbody>\n",
       "</table>\n",
       "</div>"
      ],
      "text/plain": [
       "  Type    predictor   TP     FP    TN   FN  total    TPR    TNR  precision  \\\n",
       "0  All   exp_params  970  13125  8272  133  22500  0.879  0.387      0.069   \n",
       "0  All  best_params  986  14338  7059  117  22500  0.894  0.330      0.064   \n",
       "\n",
       "   Fscore  accuracy  kappa    profit  index   ROME  contact    AUC  \n",
       "0   0.128     0.411  0.040  38326.05    1.0  1.928    0.626  0.760  \n",
       "0   0.120     0.358  0.031  37553.16    1.0  1.738    0.681  0.758  "
      ]
     },
     "execution_count": 18,
     "metadata": {},
     "output_type": "execute_result"
    }
   ],
   "source": [
    "sklearn_eval = pd.concat([exp_params, best_params_df])\n",
    "sklearn_eval['predictor'] = ['exp_params', 'best_params']\n",
    "sklearn_eval"
   ]
  },
  {
   "cell_type": "markdown",
   "metadata": {},
   "source": [
    "Experience Params Feature Permutation Importance"
   ]
  },
  {
   "cell_type": "markdown",
   "metadata": {},
   "source": [
    "![Feature Importance Exp](images/Feature_Importances_exp_clf.png)\n"
   ]
  },
  {
   "cell_type": "markdown",
   "metadata": {},
   "source": [
    "Best GridSearchCV Params Feature Permutation Importance"
   ]
  },
  {
   "cell_type": "markdown",
   "metadata": {},
   "source": [
    "![Feature Importance CV](images/Feature_Importances_cv_best_clf.png)"
   ]
  },
  {
   "cell_type": "markdown",
   "metadata": {},
   "source": [
    "- From the evaluation table below, we could see that the two mlp classifiers from the sklearn have very similar performances in profit. The experiment params model slightly outperform the other in most evaluation metrics. \n",
    "\n",
    "- When we examine the feature importance using the permutation importance, we notice that the latter one(best gridsearchcv model) has a higher model complexity and a higher cost in model explaining.\n",
    "\n",
    "- Given the above reason, we decided that the experience params mlp model is the better one."
   ]
  },
  {
   "cell_type": "markdown",
   "metadata": {},
   "source": [
    "**Keras**"
   ]
  },
  {
   "cell_type": "code",
   "execution_count": 19,
   "metadata": {},
   "outputs": [],
   "source": [
    "%run ./sub-notebooks/keras_MLP.ipynb"
   ]
  },
  {
   "cell_type": "code",
   "execution_count": 20,
   "metadata": {},
   "outputs": [
    {
     "name": "stdout",
     "output_type": "stream",
     "text": [
      "Evaluation can be shown using the below table and plots: \n"
     ]
    },
    {
     "data": {
      "text/html": [
       "<div>\n",
       "<style scoped>\n",
       "    .dataframe tbody tr th:only-of-type {\n",
       "        vertical-align: middle;\n",
       "    }\n",
       "\n",
       "    .dataframe tbody tr th {\n",
       "        vertical-align: top;\n",
       "    }\n",
       "\n",
       "    .dataframe thead th {\n",
       "        text-align: right;\n",
       "    }\n",
       "</style>\n",
       "<table border=\"1\" class=\"dataframe\">\n",
       "  <thead>\n",
       "    <tr style=\"text-align: right;\">\n",
       "      <th></th>\n",
       "      <th>Type</th>\n",
       "      <th>predictor</th>\n",
       "      <th>TP</th>\n",
       "      <th>FP</th>\n",
       "      <th>TN</th>\n",
       "      <th>FN</th>\n",
       "      <th>total</th>\n",
       "      <th>TPR</th>\n",
       "      <th>TNR</th>\n",
       "      <th>precision</th>\n",
       "      <th>Fscore</th>\n",
       "      <th>accuracy</th>\n",
       "      <th>kappa</th>\n",
       "      <th>profit</th>\n",
       "      <th>index</th>\n",
       "      <th>ROME</th>\n",
       "      <th>contact</th>\n",
       "      <th>AUC</th>\n",
       "    </tr>\n",
       "  </thead>\n",
       "  <tbody>\n",
       "    <tr>\n",
       "      <th>0</th>\n",
       "      <td>All</td>\n",
       "      <td>ypred</td>\n",
       "      <td>961</td>\n",
       "      <td>12866</td>\n",
       "      <td>8531</td>\n",
       "      <td>142</td>\n",
       "      <td>22500</td>\n",
       "      <td>0.871</td>\n",
       "      <td>0.399</td>\n",
       "      <td>0.07</td>\n",
       "      <td>0.129</td>\n",
       "      <td>0.422</td>\n",
       "      <td>0.042</td>\n",
       "      <td>38163.93</td>\n",
       "      <td>1.0</td>\n",
       "      <td>1.958</td>\n",
       "      <td>0.615</td>\n",
       "      <td>0.764</td>\n",
       "    </tr>\n",
       "  </tbody>\n",
       "</table>\n",
       "</div>"
      ],
      "text/plain": [
       "  Type predictor   TP     FP    TN   FN  total    TPR    TNR  precision  \\\n",
       "0  All     ypred  961  12866  8531  142  22500  0.871  0.399       0.07   \n",
       "\n",
       "   Fscore  accuracy  kappa    profit  index   ROME  contact    AUC  \n",
       "0   0.129     0.422  0.042  38163.93    1.0  1.958    0.615  0.764  "
      ]
     },
     "execution_count": 20,
     "metadata": {},
     "output_type": "execute_result"
    }
   ],
   "source": [
    "print(\"Evaluation can be shown using the below table and plots: \")\n",
    "best_keras_eval"
   ]
  },
  {
   "cell_type": "markdown",
   "metadata": {},
   "source": [
    "![Loss](images/Loss_Keras_NN.png)"
   ]
  },
  {
   "cell_type": "markdown",
   "metadata": {},
   "source": [
    "![Keras Perforamnce](images/Performance_Keras_NN.png)"
   ]
  },
  {
   "cell_type": "markdown",
   "metadata": {},
   "source": [
    "The training progress can be visualized and presented as the plot shown above. We can see that after around 20 epochs, the profit on the test dataset improved significantly and became stable after approximately 100 epochs."
   ]
  },
  {
   "cell_type": "markdown",
   "metadata": {},
   "source": [
    "We also compute the permutation feature importance and found a bit hard to explain of the mlp model."
   ]
  },
  {
   "cell_type": "markdown",
   "metadata": {},
   "source": [
    "![Feature Importance keras](images/Permutation_Imporatances_Keras_NN.png)"
   ]
  },
  {
   "cell_type": "markdown",
   "metadata": {},
   "source": [
    "Given that the profit of the keras is less than the sklearn experience params model and the its cost of model explanation is higher as well. we would adopt the experience parameters as the best MLP model to be compared to other models."
   ]
  },
  {
   "cell_type": "markdown",
   "metadata": {},
   "source": [
    "### 4.3 Model Comparison"
   ]
  },
  {
   "cell_type": "code",
   "execution_count": 21,
   "metadata": {},
   "outputs": [],
   "source": [
    "intuit75k_test = intuit75k[intuit75k['training'] == 0][['id', 'res1_yes', 'res1']].copy()\n",
    "intuit75k_test['res_rfm'] = res_rfm['res_rfm']\n",
    "intuit75k_test['res_logit'] = res_logit['pred_logit']\n",
    "res_mlp.index = intuit75k_test.index\n",
    "intuit75k_test['res_mlp'] = res_mlp['res_mlp']\n",
    "rfm_evalbin = rsm.evalbin(df = intuit75k_test, rvar = 'res1_yes', lev = 1, pred = 'res_rfm', cost = 1.41, margin = 60, dec=3)\n",
    "logit_evalbin = rsm.evalbin(df = intuit75k_test, rvar = 'res1_yes', lev = 1, pred = 'res_logit', cost = 1.41, margin = 60, dec=3)\n",
    "nn_evalbin = rsm.evalbin(df = intuit75k_test, rvar = 'res1_yes', lev = 1, pred = 'res_mlp', cost = 1.41, margin = 60, dec=3)\n",
    "\n",
    "final_result = pd.concat([rfm_evalbin, logit_evalbin, nn_evalbin])\n",
    "final_result['predictor'] = ['RFM', 'Logit', 'NN_MLP']\n",
    "final_result['recall'] = final_result['TP'] / (final_result['TP'] + final_result['FN'])\n",
    "final_result = final_result.reset_index()"
   ]
  },
  {
   "cell_type": "code",
   "execution_count": 22,
   "metadata": {},
   "outputs": [
    {
     "data": {
      "image/png": "[encoded data removed]",
      "text/plain": [
       "<Figure size 1440x1728 with 6 Axes>"
      ]
     },
     "metadata": {
      "needs_background": "light"
     },
     "output_type": "display_data"
    }
   ],
   "source": [
    "#Profit plot:\n",
    "plot_data = final_result.copy()\n",
    "fig, ((ax1, ax2), (ax3, ax4), (ax5, ax6)) = plt.subplots(3, 2, figsize = (20, 24))\n",
    "sns.barplot(x=\"predictor\", y=\"profit\", color=\"slateblue\", data=plot_data, ax = ax1)\n",
    "ax1.set(xlabel=\"model\", ylabel=\"profit\")\n",
    "ax1.set(ylim=(30000, 40000))\n",
    "ax1.set_title(\"Profit Comparison Of Models\")\n",
    "for index, row in plot_data.iterrows():\n",
    "    ax1.text(\n",
    "        row.name, row.profit - 700, f\"{int(row.profit):,}\", ha=\"center\", color=\"white\"\n",
    "    )\n",
    "sns.barplot(x=\"predictor\", y=\"ROME\", color=\"slateblue\", data=plot_data, ax = ax2)\n",
    "ax2.set(xlabel=\"model\", ylabel=\"ROME\")\n",
    "ax2.set(ylim=(1, 2))\n",
    "ax2.set_title(\"ROME Comparison Of Models\")\n",
    "for index, row in plot_data.iterrows():\n",
    "    ax2.text(\n",
    "        row.name, row.ROME-0.07, f\"{round(row.ROME, 3)}\", ha=\"center\", color=\"white\"\n",
    "    )\n",
    "intuit75k_test = intuit75k_test.rename(columns = {'res_rfm':'RFM', 'res_logit': 'Logit', 'res_mlp': 'NN_MLP'})\n",
    "rsm.profit_plot(df = intuit75k_test, rvar = 'res1_yes', lev = 1, pred = ['RFM', 'Logit', 'NN_MLP'], cost = 1.41, margin = 60, ax = ax3)\n",
    "rsm.ROME_plot(df = intuit75k_test, rvar = 'res1_yes', lev = 1, pred = ['RFM', 'Logit', 'NN_MLP'], cost = 1.41, margin = 60, ax = ax4)\n",
    "rsm.lift_plot(df = intuit75k_test, rvar = 'res1', lev = 'Yes', pred = ['RFM', 'Logit', 'NN_MLP'], ax = ax5)\n",
    "rsm.gains_plot(df = intuit75k_test, rvar = 'res1', lev = 'Yes', pred = ['RFM', 'Logit', 'NN_MLP'], ax = ax6)\n",
    "ax3.set_title(\"Cumulative Profit\")\n",
    "ax4.set_title(\"Cumulative ROME\")\n",
    "ax5.set_title(\"Cumulative Lift\")\n",
    "ax6.set_title(\"Cumulative Gains\")\n",
    "plt.show()"
   ]
  },
  {
   "cell_type": "code",
   "execution_count": 23,
   "metadata": {},
   "outputs": [
    {
     "data": {
      "text/html": [
       "<div>\n",
       "<style scoped>\n",
       "    .dataframe tbody tr th:only-of-type {\n",
       "        vertical-align: middle;\n",
       "    }\n",
       "\n",
       "    .dataframe tbody tr th {\n",
       "        vertical-align: top;\n",
       "    }\n",
       "\n",
       "    .dataframe thead th {\n",
       "        text-align: right;\n",
       "    }\n",
       "</style>\n",
       "<table border=\"1\" class=\"dataframe\">\n",
       "  <thead>\n",
       "    <tr style=\"text-align: right;\">\n",
       "      <th></th>\n",
       "      <th>predictor</th>\n",
       "      <th>contact</th>\n",
       "      <th>profit</th>\n",
       "      <th>ROME</th>\n",
       "      <th>Fscore</th>\n",
       "      <th>precision</th>\n",
       "      <th>TP</th>\n",
       "      <th>TN</th>\n",
       "      <th>FP</th>\n",
       "      <th>FN</th>\n",
       "    </tr>\n",
       "  </thead>\n",
       "  <tbody>\n",
       "    <tr>\n",
       "      <th>1</th>\n",
       "      <td>Logit</td>\n",
       "      <td>0.637</td>\n",
       "      <td>38665.98</td>\n",
       "      <td>1.915</td>\n",
       "      <td>0.127</td>\n",
       "      <td>0.068</td>\n",
       "      <td>981</td>\n",
       "      <td>8056</td>\n",
       "      <td>13341</td>\n",
       "      <td>122</td>\n",
       "    </tr>\n",
       "    <tr>\n",
       "      <th>2</th>\n",
       "      <td>NN_MLP</td>\n",
       "      <td>0.626</td>\n",
       "      <td>38326.05</td>\n",
       "      <td>1.928</td>\n",
       "      <td>0.128</td>\n",
       "      <td>0.069</td>\n",
       "      <td>970</td>\n",
       "      <td>8272</td>\n",
       "      <td>13125</td>\n",
       "      <td>133</td>\n",
       "    </tr>\n",
       "    <tr>\n",
       "      <th>0</th>\n",
       "      <td>RFM</td>\n",
       "      <td>0.828</td>\n",
       "      <td>33431.70</td>\n",
       "      <td>1.273</td>\n",
       "      <td>0.101</td>\n",
       "      <td>0.053</td>\n",
       "      <td>995</td>\n",
       "      <td>3762</td>\n",
       "      <td>17635</td>\n",
       "      <td>108</td>\n",
       "    </tr>\n",
       "  </tbody>\n",
       "</table>\n",
       "</div>"
      ],
      "text/plain": [
       "  predictor  contact    profit   ROME  Fscore  precision   TP    TN     FP  \\\n",
       "1     Logit    0.637  38665.98  1.915   0.127      0.068  981  8056  13341   \n",
       "2    NN_MLP    0.626  38326.05  1.928   0.128      0.069  970  8272  13125   \n",
       "0       RFM    0.828  33431.70  1.273   0.101      0.053  995  3762  17635   \n",
       "\n",
       "    FN  \n",
       "1  122  \n",
       "2  133  \n",
       "0  108  "
      ]
     },
     "execution_count": 23,
     "metadata": {},
     "output_type": "execute_result"
    }
   ],
   "source": [
    "final_result.sort_values(by = \"profit\", ascending = False, inplace = True)\n",
    "final_result[['predictor','contact', 'profit', 'ROME', 'Fscore', 'precision', 'TP', 'TN', 'FP', 'FN']]"
   ]
  },
  {
   "cell_type": "markdown",
   "metadata": {},
   "source": [
    "- **Profit** is the most important metric in this case. Therefore, we would adopt profit to choose our best model. Here, we consider $$Actual\\ Profit(wave1) = TP \\times margin - (TP + FP)\\times cost$$ Based on this calculation, Logistic Regression outperforms the other by giving out the highest wave1 actual profit. \n",
    "    \n",
    "- Because the actual profit seen in the table are rather similar to each other, we would examine the efficiency aspect as well. Based on the cumulative plots of profit, ROME, Lift and Gains, they indicate that Neural Network model is better at ranking the most-likely responded business. The top 40% customers generates a higher profit and efficiency in wielding money.\n",
    "\n",
    "- Besides financial metrics, we would also take a look at the ML evaluation metric of Fscore and precision. Fscore put emphasis on both precision and recall of the model. A higher precision indicates we are good at targeting the respond customers, and a higher recall indicates that we are good at finding all potential-respond customers. To maximize the efficiency of wielding our money resources, we would want a higher Fscore. We can see that logistic regression and neural networks have very similar F1 and precision score from the table. Considering the principle of Occam's Razor, we would still go for the logistic model due to its simplicity and better interpretive power."
   ]
  },
  {
   "cell_type": "markdown",
   "metadata": {},
   "source": [
    "### 4.4 Wave2 Profit Estimation"
   ]
  },
  {
   "cell_type": "markdown",
   "metadata": {},
   "source": [
    "$Profit\\space=Total\\ Margin -Total\\ Cost$\n",
    "\n",
    "$Total\\ Margin = Total\\ *Estimated\\ Contact\\ Rate \\times\\ Estimated\\ Conversion\\ Rate\\times Margin$\n",
    "\n",
    "$Total\\ Cost = Total\\ *Estimated\\ Contact\\ Rate \\times\\ Cost$\n",
    "\n",
    "* Estimated Contact Rate = The percentage of test set we choose to contact, using the predicted wave2 response probability\n",
    "* Estimated Conversion Rate = The percentage of actual respondents among our contacts based on the predicted wave1 response probability. "
   ]
  },
  {
   "cell_type": "code",
   "execution_count": 24,
   "metadata": {},
   "outputs": [
    {
     "data": {
      "text/plain": [
       "635739.9241812226"
      ]
     },
     "execution_count": 24,
     "metadata": {},
     "output_type": "execute_result"
    }
   ],
   "source": [
    "margin = 60\n",
    "cost = 1.41\n",
    "intuit75k_test['res_wave_2'] = 0.5 * intuit75k_test['Logit']\n",
    "estimated_contact_rate = intuit75k_test[intuit75k_test['res_wave_2'] >= breakeven].shape[0] / intuit75k_test.shape[0]\n",
    "estimated_conversion_rate = intuit75k_test[intuit75k_test['Logit'] >= breakeven]['res1_yes'].sum() / intuit75k_test[intuit75k_test['Logit'] >= breakeven].shape[0]\n",
    "total = 801821 - 38487\n",
    "total_margin = total * estimated_contact_rate * estimated_conversion_rate * margin\n",
    "total_cost = total * estimated_contact_rate * cost\n",
    "scaled_profit = total_margin - total_cost\n",
    "scaled_profit"
   ]
  },
  {
   "cell_type": "code",
   "execution_count": 25,
   "metadata": {},
   "outputs": [
    {
     "name": "stdout",
     "output_type": "stream",
     "text": [
      "\n",
      "Using the logistic regression to predict the total profit of the wave2 campaign, we should contact 30.85% (i.e. 235,480 businesses) with an estiamted conversion rate of 6.85%.\n",
      "That would gives us an estiamted profit of $635,740.\n",
      "\n"
     ]
    }
   ],
   "source": [
    "print(f'''\n",
    "Using the logistic regression to predict the total profit of the wave2 campaign, we should contact {round(estimated_contact_rate * 100, 2)}% (i.e. {round(total * estimated_contact_rate):,} businesses) with an estiamted conversion rate of {round(estimated_conversion_rate * 100, 2)}%.\n",
    "That would gives us an estiamted profit of ${round(scaled_profit):,}.\n",
    "''')"
   ]
  },
  {
   "cell_type": "markdown",
   "metadata": {},
   "source": [
    "## 5. Conclusion"
   ]
  },
  {
   "cell_type": "markdown",
   "metadata": {},
   "source": [
    "Through exploratory analysis and model development, we found that businesses that have heavier tax liabilities or accounting needs are more likely to upgrade since the quickbook can be a critical tool for their business. Businesses that used quickbook for a longer time and previously upgraded are more likely to upgrade this time as they could be our loyal customers.\n",
    "\n",
    "Among RFM, Logistic Regression and Neural Networks, we used features of zip_bins, bizflag, numords, dollars, last, version1, owntaxprod, upgraded to get the best model of logistic regression with best performance on test set of \\\\$38665.98 profit. Using the estimated contact rate and conversion rate derived from the model, we scale the profit to the total of 763,334 businesses that didn't respond in wave1. The estimated profit of wave2 compagin is $635,740. "
   ]
  },
  {
   "cell_type": "markdown",
   "metadata": {},
   "source": [
    "## Appendix: Export the mail list on test dataset"
   ]
  },
  {
   "cell_type": "markdown",
   "metadata": {},
   "source": [
    "We multiply the best model's predicted response probability for wave-1 by 0.5 to get its estimated response probability for wave-2. \n",
    "\n",
    "And if the business's estimated response probability for wave-2 is larger than breakeven and also it did not respond in wave-1, we will mail in wave-2."
   ]
  },
  {
   "cell_type": "code",
   "execution_count": 26,
   "metadata": {},
   "outputs": [],
   "source": [
    "intuit75k_test[\"mailto_wave2\"] = rsm.ifelse((intuit75k_test.res1 != \"Yes\") & (intuit75k_test.res_wave_2 > breakeven), True, False)\n",
    "intuit75k_test[['id', 'mailto_wave2']].to_csv('Xinshu_Qi_Chenyuan_Xiangyu_WonderFourEver.csv', index = False)"
   ]
  },
  {
   "cell_type": "code",
   "execution_count": null,
   "metadata": {},
   "outputs": [],
   "source": []
  }
 ],
 "metadata": {
  "kernelspec": {
   "display_name": "Python 3",
   "language": "python",
   "name": "python3"
  },
  "language_info": {
   "codemirror_mode": {
    "name": "ipython",
    "version": 3
   },
   "file_extension": ".py",
   "mimetype": "text/x-python",
   "name": "python",
   "nbconvert_exporter": "python",
   "pygments_lexer": "ipython3",
   "version": "3.8.5"
  }
 },
 "nbformat": 4,
 "nbformat_minor": 4
}
