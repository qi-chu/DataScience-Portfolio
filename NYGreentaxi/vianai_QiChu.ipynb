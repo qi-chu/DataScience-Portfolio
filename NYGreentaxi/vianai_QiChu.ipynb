{
 "cells": [
  {
   "cell_type": "markdown",
   "id": "56e1ab13-b5b6-4ee9-9a22-f0291b58a285",
   "metadata": {
    "tags": []
   },
   "source": [
    "# Data science exercise - Qi Chu"
   ]
  },
  {
   "cell_type": "code",
   "execution_count": 1,
   "id": "d3716c38-1838-4f78-b74f-25e546a4d636",
   "metadata": {},
   "outputs": [],
   "source": [
    "### import related package\n",
    "import pandas as pd\n",
    "import matplotlib.pyplot as plt\n",
    "import numpy as np\n",
    "from datetime import datetime\n",
    "import seaborn as sns\n",
    "import os"
   ]
  },
  {
   "cell_type": "code",
   "execution_count": 2,
   "id": "c1557b1d-a0a4-451f-a096-f7a0c46a51d1",
   "metadata": {},
   "outputs": [],
   "source": [
    "data = pd.read_csv(r'green_tripdata_2016-12.csv')"
   ]
  },
  {
   "cell_type": "markdown",
   "id": "23a95716-6a09-44bc-9276-5b11078a4666",
   "metadata": {
    "tags": []
   },
   "source": [
    "## 1.Data Quality"
   ]
  },
  {
   "cell_type": "markdown",
   "id": "aff4652e-7090-4454-bb7f-d038c68cc715",
   "metadata": {},
   "source": [
    "There are 1,048,575 observations and 19 variables in the imported data set. <br>\n",
    "There are 32 duplicated record within it. The field of `ehail_fee` has no value and other fields do not have missing values."
   ]
  },
  {
   "cell_type": "code",
   "execution_count": 3,
   "id": "03309e4c-e36a-44bc-91fc-66baef2185aa",
   "metadata": {},
   "outputs": [
    {
     "name": "stdout",
     "output_type": "stream",
     "text": [
      "1048575\n",
      "19\n"
     ]
    }
   ],
   "source": [
    "print(len(data))\n",
    "print(len(data.columns))"
   ]
  },
  {
   "cell_type": "code",
   "execution_count": 4,
   "id": "c4f9b34b-fdf9-4f07-87b7-f2ca733c9812",
   "metadata": {},
   "outputs": [
    {
     "data": {
      "text/plain": [
       "1048574"
      ]
     },
     "execution_count": 4,
     "metadata": {},
     "output_type": "execute_result"
    }
   ],
   "source": [
    "data = data.dropna(how='all')\n",
    "len(data)"
   ]
  },
  {
   "cell_type": "code",
   "execution_count": 5,
   "id": "f3fb8850-37e6-4fce-90d6-6f7e29e77654",
   "metadata": {},
   "outputs": [
    {
     "data": {
      "text/plain": [
       "32"
      ]
     },
     "execution_count": 5,
     "metadata": {},
     "output_type": "execute_result"
    }
   ],
   "source": [
    "sum(data.duplicated())"
   ]
  },
  {
   "cell_type": "code",
   "execution_count": 6,
   "id": "aa38a2e9-8633-4e8f-808b-ffe121c76af9",
   "metadata": {},
   "outputs": [
    {
     "data": {
      "text/plain": [
       "1048542"
      ]
     },
     "execution_count": 6,
     "metadata": {},
     "output_type": "execute_result"
    }
   ],
   "source": [
    "data = data.drop_duplicates()\n",
    "len(data)"
   ]
  },
  {
   "cell_type": "code",
   "execution_count": 7,
   "id": "b9a3fcb8-d054-44fb-934b-904b07c76c7e",
   "metadata": {},
   "outputs": [
    {
     "data": {
      "text/html": [
       "<div>\n",
       "<style scoped>\n",
       "    .dataframe tbody tr th:only-of-type {\n",
       "        vertical-align: middle;\n",
       "    }\n",
       "\n",
       "    .dataframe tbody tr th {\n",
       "        vertical-align: top;\n",
       "    }\n",
       "\n",
       "    .dataframe thead th {\n",
       "        text-align: right;\n",
       "    }\n",
       "</style>\n",
       "<table border=\"1\" class=\"dataframe\">\n",
       "  <thead>\n",
       "    <tr style=\"text-align: right;\">\n",
       "      <th></th>\n",
       "      <th>VendorID</th>\n",
       "      <th>lpep_pickup_datetime</th>\n",
       "      <th>lpep_dropoff_datetime</th>\n",
       "      <th>store_and_fwd_flag</th>\n",
       "      <th>RatecodeID</th>\n",
       "      <th>PULocationID</th>\n",
       "      <th>DOLocationID</th>\n",
       "      <th>passenger_count</th>\n",
       "      <th>trip_distance</th>\n",
       "      <th>fare_amount</th>\n",
       "      <th>extra</th>\n",
       "      <th>mta_tax</th>\n",
       "      <th>tip_amount</th>\n",
       "      <th>tolls_amount</th>\n",
       "      <th>ehail_fee</th>\n",
       "      <th>improvement_surcharge</th>\n",
       "      <th>total_amount</th>\n",
       "      <th>payment_type</th>\n",
       "      <th>trip_type</th>\n",
       "    </tr>\n",
       "  </thead>\n",
       "  <tbody>\n",
       "    <tr>\n",
       "      <th>1</th>\n",
       "      <td>2.0</td>\n",
       "      <td>12/1/16 0:00</td>\n",
       "      <td>12/1/16 0:06</td>\n",
       "      <td>N</td>\n",
       "      <td>1.0</td>\n",
       "      <td>92.0</td>\n",
       "      <td>192.0</td>\n",
       "      <td>1.0</td>\n",
       "      <td>1.29</td>\n",
       "      <td>6.5</td>\n",
       "      <td>0.5</td>\n",
       "      <td>0.5</td>\n",
       "      <td>0.00</td>\n",
       "      <td>0.0</td>\n",
       "      <td>NaN</td>\n",
       "      <td>0.3</td>\n",
       "      <td>7.80</td>\n",
       "      <td>2.0</td>\n",
       "      <td>1.0</td>\n",
       "    </tr>\n",
       "    <tr>\n",
       "      <th>2</th>\n",
       "      <td>2.0</td>\n",
       "      <td>12/1/16 0:52</td>\n",
       "      <td>12/1/16 0:54</td>\n",
       "      <td>N</td>\n",
       "      <td>1.0</td>\n",
       "      <td>92.0</td>\n",
       "      <td>171.0</td>\n",
       "      <td>1.0</td>\n",
       "      <td>0.64</td>\n",
       "      <td>4.0</td>\n",
       "      <td>0.5</td>\n",
       "      <td>0.5</td>\n",
       "      <td>1.06</td>\n",
       "      <td>0.0</td>\n",
       "      <td>NaN</td>\n",
       "      <td>0.3</td>\n",
       "      <td>6.36</td>\n",
       "      <td>1.0</td>\n",
       "      <td>1.0</td>\n",
       "    </tr>\n",
       "    <tr>\n",
       "      <th>3</th>\n",
       "      <td>2.0</td>\n",
       "      <td>12/1/16 0:10</td>\n",
       "      <td>12/1/16 0:14</td>\n",
       "      <td>N</td>\n",
       "      <td>1.0</td>\n",
       "      <td>75.0</td>\n",
       "      <td>238.0</td>\n",
       "      <td>2.0</td>\n",
       "      <td>0.89</td>\n",
       "      <td>5.5</td>\n",
       "      <td>0.5</td>\n",
       "      <td>0.5</td>\n",
       "      <td>1.70</td>\n",
       "      <td>0.0</td>\n",
       "      <td>NaN</td>\n",
       "      <td>0.3</td>\n",
       "      <td>8.50</td>\n",
       "      <td>1.0</td>\n",
       "      <td>1.0</td>\n",
       "    </tr>\n",
       "    <tr>\n",
       "      <th>4</th>\n",
       "      <td>2.0</td>\n",
       "      <td>12/1/16 0:12</td>\n",
       "      <td>12/1/16 0:15</td>\n",
       "      <td>N</td>\n",
       "      <td>1.0</td>\n",
       "      <td>166.0</td>\n",
       "      <td>151.0</td>\n",
       "      <td>1.0</td>\n",
       "      <td>0.66</td>\n",
       "      <td>4.5</td>\n",
       "      <td>0.5</td>\n",
       "      <td>0.5</td>\n",
       "      <td>1.74</td>\n",
       "      <td>0.0</td>\n",
       "      <td>NaN</td>\n",
       "      <td>0.3</td>\n",
       "      <td>7.54</td>\n",
       "      <td>1.0</td>\n",
       "      <td>1.0</td>\n",
       "    </tr>\n",
       "    <tr>\n",
       "      <th>5</th>\n",
       "      <td>2.0</td>\n",
       "      <td>12/1/16 0:29</td>\n",
       "      <td>12/1/16 0:39</td>\n",
       "      <td>N</td>\n",
       "      <td>1.0</td>\n",
       "      <td>166.0</td>\n",
       "      <td>42.0</td>\n",
       "      <td>1.0</td>\n",
       "      <td>2.15</td>\n",
       "      <td>9.5</td>\n",
       "      <td>0.5</td>\n",
       "      <td>0.5</td>\n",
       "      <td>2.16</td>\n",
       "      <td>0.0</td>\n",
       "      <td>NaN</td>\n",
       "      <td>0.3</td>\n",
       "      <td>12.96</td>\n",
       "      <td>1.0</td>\n",
       "      <td>1.0</td>\n",
       "    </tr>\n",
       "  </tbody>\n",
       "</table>\n",
       "</div>"
      ],
      "text/plain": [
       "   VendorID lpep_pickup_datetime lpep_dropoff_datetime store_and_fwd_flag  \\\n",
       "1       2.0         12/1/16 0:00          12/1/16 0:06                  N   \n",
       "2       2.0         12/1/16 0:52          12/1/16 0:54                  N   \n",
       "3       2.0         12/1/16 0:10          12/1/16 0:14                  N   \n",
       "4       2.0         12/1/16 0:12          12/1/16 0:15                  N   \n",
       "5       2.0         12/1/16 0:29          12/1/16 0:39                  N   \n",
       "\n",
       "   RatecodeID  PULocationID  DOLocationID  passenger_count  trip_distance  \\\n",
       "1         1.0          92.0         192.0              1.0           1.29   \n",
       "2         1.0          92.0         171.0              1.0           0.64   \n",
       "3         1.0          75.0         238.0              2.0           0.89   \n",
       "4         1.0         166.0         151.0              1.0           0.66   \n",
       "5         1.0         166.0          42.0              1.0           2.15   \n",
       "\n",
       "   fare_amount  extra  mta_tax  tip_amount  tolls_amount  ehail_fee  \\\n",
       "1          6.5    0.5      0.5        0.00           0.0        NaN   \n",
       "2          4.0    0.5      0.5        1.06           0.0        NaN   \n",
       "3          5.5    0.5      0.5        1.70           0.0        NaN   \n",
       "4          4.5    0.5      0.5        1.74           0.0        NaN   \n",
       "5          9.5    0.5      0.5        2.16           0.0        NaN   \n",
       "\n",
       "   improvement_surcharge  total_amount  payment_type  trip_type  \n",
       "1                    0.3          7.80           2.0        1.0  \n",
       "2                    0.3          6.36           1.0        1.0  \n",
       "3                    0.3          8.50           1.0        1.0  \n",
       "4                    0.3          7.54           1.0        1.0  \n",
       "5                    0.3         12.96           1.0        1.0  "
      ]
     },
     "execution_count": 7,
     "metadata": {},
     "output_type": "execute_result"
    }
   ],
   "source": [
    "data.head()"
   ]
  },
  {
   "cell_type": "code",
   "execution_count": 8,
   "id": "6c6f6e83-e754-4804-8362-3d0ee8cddd76",
   "metadata": {},
   "outputs": [
    {
     "data": {
      "text/plain": [
       "VendorID                     2\n",
       "lpep_pickup_datetime     37357\n",
       "lpep_dropoff_datetime    37485\n",
       "store_and_fwd_flag           2\n",
       "RatecodeID                   6\n",
       "PULocationID               239\n",
       "DOLocationID               260\n",
       "passenger_count             10\n",
       "trip_distance             2975\n",
       "fare_amount                820\n",
       "extra                        9\n",
       "mta_tax                      3\n",
       "tip_amount                1777\n",
       "tolls_amount               113\n",
       "ehail_fee                    0\n",
       "improvement_surcharge        3\n",
       "total_amount              5574\n",
       "payment_type                 5\n",
       "trip_type                    2\n",
       "dtype: int64"
      ]
     },
     "execution_count": 8,
     "metadata": {},
     "output_type": "execute_result"
    }
   ],
   "source": [
    "# number of unique values within each field\n",
    "data.nunique()"
   ]
  },
  {
   "cell_type": "code",
   "execution_count": 9,
   "id": "202b1e66-d61c-4d2b-aad0-61d1732ee2ad",
   "metadata": {},
   "outputs": [
    {
     "data": {
      "text/html": [
       "<div>\n",
       "<style scoped>\n",
       "    .dataframe tbody tr th:only-of-type {\n",
       "        vertical-align: middle;\n",
       "    }\n",
       "\n",
       "    .dataframe tbody tr th {\n",
       "        vertical-align: top;\n",
       "    }\n",
       "\n",
       "    .dataframe thead th {\n",
       "        text-align: right;\n",
       "    }\n",
       "</style>\n",
       "<table border=\"1\" class=\"dataframe\">\n",
       "  <thead>\n",
       "    <tr style=\"text-align: right;\">\n",
       "      <th></th>\n",
       "      <th>count</th>\n",
       "      <th>mean</th>\n",
       "      <th>std</th>\n",
       "      <th>min</th>\n",
       "      <th>25%</th>\n",
       "      <th>50%</th>\n",
       "      <th>75%</th>\n",
       "      <th>max</th>\n",
       "    </tr>\n",
       "  </thead>\n",
       "  <tbody>\n",
       "    <tr>\n",
       "      <th>VendorID</th>\n",
       "      <td>1048542.0</td>\n",
       "      <td>1.799032</td>\n",
       "      <td>0.400724</td>\n",
       "      <td>1.00</td>\n",
       "      <td>2.00</td>\n",
       "      <td>2.0</td>\n",
       "      <td>2.00</td>\n",
       "      <td>2.00</td>\n",
       "    </tr>\n",
       "    <tr>\n",
       "      <th>RatecodeID</th>\n",
       "      <td>1048542.0</td>\n",
       "      <td>1.085169</td>\n",
       "      <td>0.565989</td>\n",
       "      <td>1.00</td>\n",
       "      <td>1.00</td>\n",
       "      <td>1.0</td>\n",
       "      <td>1.00</td>\n",
       "      <td>6.00</td>\n",
       "    </tr>\n",
       "    <tr>\n",
       "      <th>PULocationID</th>\n",
       "      <td>1048542.0</td>\n",
       "      <td>113.442571</td>\n",
       "      <td>76.278443</td>\n",
       "      <td>1.00</td>\n",
       "      <td>49.00</td>\n",
       "      <td>83.0</td>\n",
       "      <td>173.00</td>\n",
       "      <td>265.00</td>\n",
       "    </tr>\n",
       "    <tr>\n",
       "      <th>DOLocationID</th>\n",
       "      <td>1048542.0</td>\n",
       "      <td>129.290820</td>\n",
       "      <td>77.163537</td>\n",
       "      <td>1.00</td>\n",
       "      <td>61.00</td>\n",
       "      <td>129.0</td>\n",
       "      <td>193.00</td>\n",
       "      <td>265.00</td>\n",
       "    </tr>\n",
       "    <tr>\n",
       "      <th>passenger_count</th>\n",
       "      <td>1048542.0</td>\n",
       "      <td>1.362153</td>\n",
       "      <td>1.037782</td>\n",
       "      <td>0.00</td>\n",
       "      <td>1.00</td>\n",
       "      <td>1.0</td>\n",
       "      <td>1.00</td>\n",
       "      <td>9.00</td>\n",
       "    </tr>\n",
       "    <tr>\n",
       "      <th>trip_distance</th>\n",
       "      <td>1048542.0</td>\n",
       "      <td>2.624623</td>\n",
       "      <td>2.818996</td>\n",
       "      <td>0.00</td>\n",
       "      <td>0.98</td>\n",
       "      <td>1.7</td>\n",
       "      <td>3.20</td>\n",
       "      <td>147.50</td>\n",
       "    </tr>\n",
       "    <tr>\n",
       "      <th>fare_amount</th>\n",
       "      <td>1048542.0</td>\n",
       "      <td>11.669026</td>\n",
       "      <td>9.847180</td>\n",
       "      <td>-499.00</td>\n",
       "      <td>6.00</td>\n",
       "      <td>9.0</td>\n",
       "      <td>14.00</td>\n",
       "      <td>700.00</td>\n",
       "    </tr>\n",
       "    <tr>\n",
       "      <th>extra</th>\n",
       "      <td>1048542.0</td>\n",
       "      <td>0.358869</td>\n",
       "      <td>0.390185</td>\n",
       "      <td>-4.50</td>\n",
       "      <td>0.00</td>\n",
       "      <td>0.5</td>\n",
       "      <td>0.50</td>\n",
       "      <td>4.50</td>\n",
       "    </tr>\n",
       "    <tr>\n",
       "      <th>mta_tax</th>\n",
       "      <td>1048542.0</td>\n",
       "      <td>0.487279</td>\n",
       "      <td>0.085050</td>\n",
       "      <td>-0.50</td>\n",
       "      <td>0.50</td>\n",
       "      <td>0.5</td>\n",
       "      <td>0.50</td>\n",
       "      <td>0.50</td>\n",
       "    </tr>\n",
       "    <tr>\n",
       "      <th>tip_amount</th>\n",
       "      <td>1048542.0</td>\n",
       "      <td>1.158554</td>\n",
       "      <td>2.240871</td>\n",
       "      <td>-10.56</td>\n",
       "      <td>0.00</td>\n",
       "      <td>0.0</td>\n",
       "      <td>1.89</td>\n",
       "      <td>250.70</td>\n",
       "    </tr>\n",
       "    <tr>\n",
       "      <th>tolls_amount</th>\n",
       "      <td>1048542.0</td>\n",
       "      <td>0.096591</td>\n",
       "      <td>0.894089</td>\n",
       "      <td>-8.54</td>\n",
       "      <td>0.00</td>\n",
       "      <td>0.0</td>\n",
       "      <td>0.00</td>\n",
       "      <td>297.98</td>\n",
       "    </tr>\n",
       "    <tr>\n",
       "      <th>ehail_fee</th>\n",
       "      <td>0.0</td>\n",
       "      <td>NaN</td>\n",
       "      <td>NaN</td>\n",
       "      <td>NaN</td>\n",
       "      <td>NaN</td>\n",
       "      <td>NaN</td>\n",
       "      <td>NaN</td>\n",
       "      <td>NaN</td>\n",
       "    </tr>\n",
       "    <tr>\n",
       "      <th>improvement_surcharge</th>\n",
       "      <td>1048542.0</td>\n",
       "      <td>0.292540</td>\n",
       "      <td>0.050623</td>\n",
       "      <td>-0.30</td>\n",
       "      <td>0.30</td>\n",
       "      <td>0.3</td>\n",
       "      <td>0.30</td>\n",
       "      <td>0.30</td>\n",
       "    </tr>\n",
       "    <tr>\n",
       "      <th>total_amount</th>\n",
       "      <td>1048542.0</td>\n",
       "      <td>14.103024</td>\n",
       "      <td>11.223127</td>\n",
       "      <td>-499.00</td>\n",
       "      <td>7.80</td>\n",
       "      <td>10.8</td>\n",
       "      <td>16.62</td>\n",
       "      <td>712.38</td>\n",
       "    </tr>\n",
       "    <tr>\n",
       "      <th>payment_type</th>\n",
       "      <td>1048542.0</td>\n",
       "      <td>1.526172</td>\n",
       "      <td>0.524343</td>\n",
       "      <td>1.00</td>\n",
       "      <td>1.00</td>\n",
       "      <td>2.0</td>\n",
       "      <td>2.00</td>\n",
       "      <td>5.00</td>\n",
       "    </tr>\n",
       "    <tr>\n",
       "      <th>trip_type</th>\n",
       "      <td>1048542.0</td>\n",
       "      <td>1.019725</td>\n",
       "      <td>0.139052</td>\n",
       "      <td>1.00</td>\n",
       "      <td>1.00</td>\n",
       "      <td>1.0</td>\n",
       "      <td>1.00</td>\n",
       "      <td>2.00</td>\n",
       "    </tr>\n",
       "  </tbody>\n",
       "</table>\n",
       "</div>"
      ],
      "text/plain": [
       "                           count        mean        std     min    25%    50%  \\\n",
       "VendorID               1048542.0    1.799032   0.400724    1.00   2.00    2.0   \n",
       "RatecodeID             1048542.0    1.085169   0.565989    1.00   1.00    1.0   \n",
       "PULocationID           1048542.0  113.442571  76.278443    1.00  49.00   83.0   \n",
       "DOLocationID           1048542.0  129.290820  77.163537    1.00  61.00  129.0   \n",
       "passenger_count        1048542.0    1.362153   1.037782    0.00   1.00    1.0   \n",
       "trip_distance          1048542.0    2.624623   2.818996    0.00   0.98    1.7   \n",
       "fare_amount            1048542.0   11.669026   9.847180 -499.00   6.00    9.0   \n",
       "extra                  1048542.0    0.358869   0.390185   -4.50   0.00    0.5   \n",
       "mta_tax                1048542.0    0.487279   0.085050   -0.50   0.50    0.5   \n",
       "tip_amount             1048542.0    1.158554   2.240871  -10.56   0.00    0.0   \n",
       "tolls_amount           1048542.0    0.096591   0.894089   -8.54   0.00    0.0   \n",
       "ehail_fee                    0.0         NaN        NaN     NaN    NaN    NaN   \n",
       "improvement_surcharge  1048542.0    0.292540   0.050623   -0.30   0.30    0.3   \n",
       "total_amount           1048542.0   14.103024  11.223127 -499.00   7.80   10.8   \n",
       "payment_type           1048542.0    1.526172   0.524343    1.00   1.00    2.0   \n",
       "trip_type              1048542.0    1.019725   0.139052    1.00   1.00    1.0   \n",
       "\n",
       "                          75%     max  \n",
       "VendorID                 2.00    2.00  \n",
       "RatecodeID               1.00    6.00  \n",
       "PULocationID           173.00  265.00  \n",
       "DOLocationID           193.00  265.00  \n",
       "passenger_count          1.00    9.00  \n",
       "trip_distance            3.20  147.50  \n",
       "fare_amount             14.00  700.00  \n",
       "extra                    0.50    4.50  \n",
       "mta_tax                  0.50    0.50  \n",
       "tip_amount               1.89  250.70  \n",
       "tolls_amount             0.00  297.98  \n",
       "ehail_fee                 NaN     NaN  \n",
       "improvement_surcharge    0.30    0.30  \n",
       "total_amount            16.62  712.38  \n",
       "payment_type             2.00    5.00  \n",
       "trip_type                1.00    2.00  "
      ]
     },
     "execution_count": 9,
     "metadata": {},
     "output_type": "execute_result"
    }
   ],
   "source": [
    "# Basic Statistic of each field\n",
    "data.describe().transpose()"
   ]
  },
  {
   "cell_type": "markdown",
   "id": "a6c360ae-6cb5-4b6e-a07b-c0c5321d1203",
   "metadata": {},
   "source": [
    "Based on the above statistic summary of each field, some of the numbers draws my attention:\n",
    "- maximum trip_distance - 147.50 miles ? this is really high\n",
    "- minimum trip_distance - 0 miles ? \n",
    "- some amounts have negative value (fare_amount,extra,mta_tax,tip_amount,tolls_amount).What does negative amount mean here ?  will need to dive deeper to see the proportion of negative amount.\n",
    "- some amounts are really higher - maximum fare_amount of 700.00\n",
    "\n",
    "Overall speaking, this is a decent dataset with good amount of records and not many missing values, but data cleaning is definitely require to avoid noise and perform analysis."
   ]
  },
  {
   "cell_type": "code",
   "execution_count": 10,
   "id": "65c28568-7e05-4463-a5e6-c9bb356c5a74",
   "metadata": {},
   "outputs": [],
   "source": [
    "zone = pd.read_csv('taxi+_zone_lookup.csv')\n",
    "total_data = pd.merge(data, zone[['LocationID','Borough','service_zone']],left_on= \"DOLocationID\", right_on = \"LocationID\")"
   ]
  },
  {
   "cell_type": "markdown",
   "id": "6a165dca-1133-47f2-b4d9-f5af4cc79935",
   "metadata": {},
   "source": [
    "### Data Cleaning\n",
    "Based on the above findings of some abnormal data points, I first performed the data cleaning. I also add several derived fields for future analysis."
   ]
  },
  {
   "cell_type": "code",
   "execution_count": 12,
   "id": "deb418db-02ff-4f23-940c-b712fcc2861e",
   "metadata": {},
   "outputs": [],
   "source": [
    "# Convert certain datatypes and derived several new fields\n",
    "total_data[\"hour\"] = pd.to_datetime(total_data.lpep_pickup_datetime).dt.hour"
   ]
  },
  {
   "cell_type": "code",
   "execution_count": 13,
   "id": "551e1e40-ac76-40ae-b5b7-453340c7dd0f",
   "metadata": {},
   "outputs": [],
   "source": [
    "total_data['weekday'] = pd.to_datetime(total_data.lpep_pickup_datetime).dt.dayofweek\n",
    "total_data['weekend'] = np.where(total_data['weekday'] >4,1,0)"
   ]
  },
  {
   "cell_type": "code",
   "execution_count": 14,
   "id": "ec15fb85-ef16-4b8e-936a-6bda7122831a",
   "metadata": {},
   "outputs": [],
   "source": [
    "total_data['duration'] = pd.to_datetime(total_data.lpep_dropoff_datetime) - pd.to_datetime(total_data.lpep_pickup_datetime)\n",
    "total_data['mins'] = round(total_data['duration'].dt.seconds/60,2)\n",
    "total_data['speed_mph'] = total_data['trip_distance']/(total_data['mins']/60)\n",
    "total_data['additional_fee'] = total_data['extra']+ total_data['mta_tax']+ total_data['improvement_surcharge']"
   ]
  },
  {
   "cell_type": "code",
   "execution_count": 15,
   "id": "77284c6b-c2b0-4886-9654-3f179bf505be",
   "metadata": {},
   "outputs": [],
   "source": [
    "clean_data = total_data.copy()\n",
    "#exclude records with implausible distance\n",
    "clean_data = clean_data[(clean_data['trip_distance'] > 0.0) & (clean_data['trip_distance'] <=100.0)]\n",
    "#exclude records with implausible fare amount, initial charge of NYC green taxi is $2.5\n",
    "clean_data = clean_data[(clean_data['fare_amount'] >= 2.5) & (clean_data['fare_amount'] <= 250)]\n",
    "#exclude records with implausible speed\n",
    "clean_data = clean_data[(clean_data['speed_mph'] >= 1) & (clean_data['speed_mph'] <= 200)]\n",
    "#exclude records with implausible duration\n",
    "clean_data = clean_data[(clean_data['mins'] > 0) & (clean_data['mins'] <= 120)]"
   ]
  },
  {
   "cell_type": "code",
   "execution_count": 16,
   "id": "2b0fb206-374c-4739-a231-39384f20bcfa",
   "metadata": {},
   "outputs": [
    {
     "data": {
      "text/plain": [
       "1018617"
      ]
     },
     "execution_count": 16,
     "metadata": {},
     "output_type": "execute_result"
    }
   ],
   "source": [
    "# number of records after removing certain data anomolies\n",
    "len(clean_data)"
   ]
  },
  {
   "cell_type": "markdown",
   "id": "a7a01b8e-e0a5-4790-a5cd-20710ad1268c",
   "metadata": {},
   "source": [
    "## 2.Data Exploratory and Visualization\n",
    "### Categorical Variable"
   ]
  },
  {
   "cell_type": "markdown",
   "id": "27d48486-fc6c-425a-9269-462136bba014",
   "metadata": {},
   "source": [
    "- **VendorID**\n",
    "    - A code indicating the LPEP provider that provided the record.\n",
    "    - Categorical variable (2 classes, 1= Creative Mobile Technologies, LLC; 2= VeriFone Inc.)\n",
    "    - VeriFone provide 80% record\n",
    "    \n",
    "- **passenger_count**\n",
    "    - The number of passengers in the vehicle (driver-entered value)\n",
    "    - Discrete value\n",
    "    - The accuracy of this field worth consideration\n",
    "\n",
    "- **PULocationID/DOLocationID**\n",
    "    - TLC Taxi Zone in which the taximeter was engaged/disengaged\n",
    "    - Categorical variable, but have lots of classes\n",
    "    - There are more pickups in some area than others. Area 74&41 have high pickups and area 71&42 have high dropoffs. There is another csv contains details location information of each area code, more exploration could be done with this field.\n",
    "    \n",
    "- **RatecodeID**\n",
    "    - The final rate code in effect at the end of the trip.\n",
    "    - Categorical variable (6 classes)\n",
    "    - 99% are standard rate. \n",
    "- **store_and_fwd_flag**\n",
    "    - This flag indicates whether the trip record was held in vehicle memory before sending to the vendor, aka “store and forward,” because the vehicle did not have a connection to the server\n",
    "    - Categorical variable , The above bar chart shows that over 99% are ‘N’.\n",
    "    \n",
    "- **payment_type**\n",
    "    - A numeric code signifying how the passenger paid for the trip.\n",
    "    - Categorical variable (6 classes, Credit card, Cash, No charge, Dispute, Unknown, Voided trip).\n",
    "\n",
    "- **trip_type**\n",
    "    - A code indicating whether the trip was a street-hail or a dispatch that is automatically assigned based on the metered rate in use but can be altered by the driver.\n",
    "    - Categorical variable (2 classes, Street-hail, Dispatch)."
   ]
  },
  {
   "cell_type": "code",
   "execution_count": 17,
   "id": "1ffd85ba-a703-408b-85d0-953bff9a1df3",
   "metadata": {},
   "outputs": [
    {
     "data": {
      "image/png": "[encoded data removed]",
      "text/plain": [
       "<Figure size 720x288 with 1 Axes>"
      ]
     },
     "metadata": {
      "needs_background": "light"
     },
     "output_type": "display_data"
    },
    {
     "data": {
      "image/png": "[encoded data removed]",
      "text/plain": [
       "<Figure size 720x288 with 1 Axes>"
      ]
     },
     "metadata": {
      "needs_background": "light"
     },
     "output_type": "display_data"
    },
    {
     "data": {
      "image/png": "[encoded data removed]",
      "text/plain": [
       "<Figure size 720x288 with 1 Axes>"
      ]
     },
     "metadata": {
      "needs_background": "light"
     },
     "output_type": "display_data"
    },
    {
     "data": {
      "image/png": "[encoded data removed]",
      "text/plain": [
       "<Figure size 720x288 with 1 Axes>"
      ]
     },
     "metadata": {
      "needs_background": "light"
     },
     "output_type": "display_data"
    },
    {
     "data": {
      "image/png": "[encoded data removed]",
      "text/plain": [
       "<Figure size 720x288 with 1 Axes>"
      ]
     },
     "metadata": {
      "needs_background": "light"
     },
     "output_type": "display_data"
    },
    {
     "data": {
      "image/png": "[encoded data removed]",
      "text/plain": [
       "<Figure size 720x288 with 1 Axes>"
      ]
     },
     "metadata": {
      "needs_background": "light"
     },
     "output_type": "display_data"
    },
    {
     "data": {
      "image/png": "[encoded data removed]",
      "text/plain": [
       "<Figure size 720x288 with 1 Axes>"
      ]
     },
     "metadata": {
      "needs_background": "light"
     },
     "output_type": "display_data"
    },
    {
     "data": {
      "image/png": "[encoded data removed]",
      "text/plain": [
       "<Figure size 720x288 with 1 Axes>"
      ]
     },
     "metadata": {
      "needs_background": "light"
     },
     "output_type": "display_data"
    }
   ],
   "source": [
    "import seaborn as sns\n",
    "categorical = ['VendorID','passenger_count','PULocationID','DOLocationID','RatecodeID','store_and_fwd_flag','payment_type','trip_type']\n",
    "\n",
    "for i in categorical:\n",
    "    fig, ax = plt.subplots(1,1, figsize=(10, 4))\n",
    "    subset = round(clean_data.groupby(i)['VendorID'].count()/len(clean_data),3)\n",
    "    subset = subset.sort_values(ascending = False).head(15)\n",
    "    ax = subset.plot(kind='bar', title='Proportion across various '+i, xlabel=i)\n",
    "    ax.bar_label(ax.containers[0], label_type='edge')\n",
    "    #plt.xlabel('Category of '+i , fontsize=13)\n",
    "    plt.xticks(rotation = 360)\n",
    "    plt.ylabel('Proportion')\n",
    "    plt.yticks(fontsize=13)\n",
    "    plt.box(False)"
   ]
  },
  {
   "cell_type": "markdown",
   "id": "b250e1ee-a8e9-47ac-8763-cc338e36286d",
   "metadata": {},
   "source": [
    "### Continuous Variable"
   ]
  },
  {
   "cell_type": "markdown",
   "id": "2d09c645-30d2-47cc-b63f-44e99edab7f3",
   "metadata": {},
   "source": [
    "- **lpep_pickup_datetime /lpep_dropoff_datetime**\n",
    "    - The date and time when the meter was engaged/disengaged\n",
    "    - could derive features based on it, ex: hours of the day, weekday vs weekend, trip duration, daytime vs nighttime etc\n",
    "\n",
    "\n",
    "- **trip_distance**\n",
    "    - The elapsed trip distance in miles reported by the taximeter.\n",
    "    - maybe a good feature to add to the the model for tipPercentage prediction\n",
    "\n",
    "- **fare_amount**\n",
    "    - The time-and-distance fare calculated by the meter.\n",
    "    - Continuous variable.\n",
    "- **extra**\n",
    "    - Miscellaneous extras and surchages. Currently, this only includes the `$0.50` and `$1` rush hour and overnight charges.\n",
    "    - Continuous variable.\n",
    "\n",
    "- **mta_tax**\n",
    "    - $0.50 MTA tax that is automatically triggered based on the metered rate in use.\n",
    "\n",
    "\n",
    "- **tip_amount**\n",
    "    - This field is automatically populated for credit card tips. Cash tips are not included.\n",
    "    - Continuous variable.\n",
    "\n",
    "- **improvement_surchage**\n",
    "    - $0.30 improvement surchage assessed on hailed trips at the flag drop.\n",
    " \n",
    "- **total_amount**\n",
    "    - The total amount charged to passengers. Does not include cash tips.\n",
    "    - total_amount = fare_amount + extra + mta_tax + tolls_amount + tip_amount + improvement_surcharge\n",
    "    - Continuous variable.\n"
   ]
  },
  {
   "cell_type": "code",
   "execution_count": 18,
   "id": "7019be14-abfb-4d28-bb4a-0563c07519c0",
   "metadata": {},
   "outputs": [
    {
     "data": {
      "image/png": "[encoded data removed]",
      "text/plain": [
       "<Figure size 432x288 with 1 Axes>"
      ]
     },
     "metadata": {
      "needs_background": "light"
     },
     "output_type": "display_data"
    }
   ],
   "source": [
    "#histogram of Trip Distance\n",
    "figsize=(30, 10)\n",
    "data.trip_distance.plot.hist(bins = 30,alpha=0.5)\n",
    "plt.title(\"Trip Distance Distribution With Outliers\")\n",
    "plt.xlabel(\"Trip Distance in miles\")\n",
    "plt.show()"
   ]
  },
  {
   "cell_type": "code",
   "execution_count": 19,
   "id": "9dad32f2-768f-4ae4-bf55-ba11a01fe211",
   "metadata": {},
   "outputs": [
    {
     "name": "stderr",
     "output_type": "stream",
     "text": [
      "/opt/conda/lib/python3.9/site-packages/seaborn/_decorators.py:36: FutureWarning: Pass the following variable as a keyword arg: x. From version 0.12, the only valid positional argument will be `data`, and passing other arguments without an explicit keyword will result in an error or misinterpretation.\n",
      "  warnings.warn(\n"
     ]
    },
    {
     "data": {
      "text/plain": [
       "<AxesSubplot:xlabel='trip_distance'>"
      ]
     },
     "execution_count": 19,
     "metadata": {},
     "output_type": "execute_result"
    },
    {
     "data": {
      "image/png": "[encoded data removed]",
      "text/plain": [
       "<Figure size 720x144 with 1 Axes>"
      ]
     },
     "metadata": {
      "needs_background": "light"
     },
     "output_type": "display_data"
    }
   ],
   "source": [
    "plt.figure(figsize=[10,2])\n",
    "sns.boxplot(data['trip_distance'])"
   ]
  },
  {
   "cell_type": "code",
   "execution_count": 20,
   "id": "82943c28-f8ac-4a82-b250-cade0fb9e94f",
   "metadata": {},
   "outputs": [
    {
     "data": {
      "image/png": "[encoded data removed]",
      "text/plain": [
       "<Figure size 432x288 with 1 Axes>"
      ]
     },
     "metadata": {
      "needs_background": "light"
     },
     "output_type": "display_data"
    }
   ],
   "source": [
    "figsize=(30, 10)\n",
    "clean_data.trip_distance.plot.hist(bins = 30,alpha=0.5,range = [0,25])\n",
    "plt.title(\"Trip Distance Distribution Without Outliers\")\n",
    "plt.xlabel(\"Trip Distance in miles\")\n",
    "plt.show()"
   ]
  },
  {
   "cell_type": "markdown",
   "id": "eb143745-be4b-43e2-b9ba-f8d1e04b68e7",
   "metadata": {},
   "source": [
    "Based on the first histogram we can see that the distribution is right skewed. Based on the boxplot, it is evident that there are many outliers in the distance field of the dataset. <br>\n",
    "When only looking at range between 0 and 25 miles, we could see that distance travelled by the green taxis is mostly short distance trips between 0 to 5 miles."
   ]
  },
  {
   "cell_type": "code",
   "execution_count": 21,
   "id": "f6b530b3-65fb-4bf7-86c6-9315a0c86b9e",
   "metadata": {},
   "outputs": [
    {
     "data": {
      "image/png": "[encoded data removed]",
      "text/plain": [
       "<Figure size 432x288 with 1 Axes>"
      ]
     },
     "metadata": {
      "needs_background": "light"
     },
     "output_type": "display_data"
    }
   ],
   "source": [
    "figsize=(30, 10)\n",
    "data.tip_amount.plot.hist(bins = 30,alpha=0.5)\n",
    "plt.title(\"Tip Amount Distribution\")\n",
    "plt.xlabel(\"Tips amount\")\n",
    "plt.show()"
   ]
  },
  {
   "cell_type": "code",
   "execution_count": 22,
   "id": "7506b635-6033-4822-958d-78fc16303941",
   "metadata": {},
   "outputs": [
    {
     "name": "stderr",
     "output_type": "stream",
     "text": [
      "/opt/conda/lib/python3.9/site-packages/seaborn/_decorators.py:36: FutureWarning: Pass the following variable as a keyword arg: x. From version 0.12, the only valid positional argument will be `data`, and passing other arguments without an explicit keyword will result in an error or misinterpretation.\n",
      "  warnings.warn(\n"
     ]
    },
    {
     "data": {
      "text/plain": [
       "<AxesSubplot:xlabel='tip_amount'>"
      ]
     },
     "execution_count": 22,
     "metadata": {},
     "output_type": "execute_result"
    },
    {
     "data": {
      "image/png": "[encoded data removed]",
      "text/plain": [
       "<Figure size 720x144 with 1 Axes>"
      ]
     },
     "metadata": {
      "needs_background": "light"
     },
     "output_type": "display_data"
    }
   ],
   "source": [
    "plt.figure(figsize=[10,2])\n",
    "sns.boxplot(data['tip_amount'])"
   ]
  },
  {
   "cell_type": "code",
   "execution_count": 23,
   "id": "68c1254f-6aa1-4632-855f-f5af9f1aef24",
   "metadata": {},
   "outputs": [
    {
     "data": {
      "image/png": "[encoded data removed]",
      "text/plain": [
       "<Figure size 432x288 with 1 Axes>"
      ]
     },
     "metadata": {
      "needs_background": "light"
     },
     "output_type": "display_data"
    }
   ],
   "source": [
    "figsize=(30, 10)\n",
    "clean_data.tip_amount.plot.hist(bins = 30,alpha=0.5, range = [0,10])\n",
    "plt.title(\"Tip Amount Distribution without outliers\")\n",
    "plt.xlabel(\"Tips amount\")\n",
    "plt.show()"
   ]
  },
  {
   "cell_type": "markdown",
   "id": "85b960ed-3028-44e9-b317-715ab1b5f012",
   "metadata": {},
   "source": [
    "Based on the first histogram we can see that the distribution of tip amount is right skewed. Based on the boxplot, it is evident that there are many outliers in the tip-amount field of the dataset. <br>\n",
    "When only looking at amount between `$0` and `$10`, we could see that tip_amoun is mostly within `[$0 - $5]` range."
   ]
  },
  {
   "cell_type": "markdown",
   "id": "e5cf7f72-d458-4132-b6a1-53d8df973bdf",
   "metadata": {},
   "source": [
    "## 3. Find interesting trip statistics grouped by hour"
   ]
  },
  {
   "cell_type": "code",
   "execution_count": 24,
   "id": "7fcf82ea-9294-4f2e-bb72-ab7b9fae59df",
   "metadata": {},
   "outputs": [
    {
     "data": {
      "text/plain": [
       "Text(0, 0.5, 'Number of Trips')"
      ]
     },
     "execution_count": 24,
     "metadata": {},
     "output_type": "execute_result"
    },
    {
     "data": {
      "image/png": "[encoded data removed]",
      "text/plain": [
       "<Figure size 432x288 with 1 Axes>"
      ]
     },
     "metadata": {
      "needs_background": "light"
     },
     "output_type": "display_data"
    }
   ],
   "source": [
    "clean_data.groupby('hour')['VendorID'].count().plot(kind='bar')\n",
    "plt.title(\"Number of Trips vs Hour of day\")\n",
    "plt.xlabel(\"Hour of Day\")\n",
    "plt.ylabel(\"Number of Trips\")"
   ]
  },
  {
   "cell_type": "code",
   "execution_count": 25,
   "id": "0e20f734-fb54-4ae4-b368-2827533a86c0",
   "metadata": {},
   "outputs": [
    {
     "data": {
      "text/plain": [
       "Text(0, 0.5, 'Median Trip Distance (miles)')"
      ]
     },
     "execution_count": 25,
     "metadata": {},
     "output_type": "execute_result"
    },
    {
     "data": {
      "image/png": "[encoded data removed]",
      "text/plain": [
       "<Figure size 432x288 with 1 Axes>"
      ]
     },
     "metadata": {
      "needs_background": "light"
     },
     "output_type": "display_data"
    }
   ],
   "source": [
    "# median trip distance per hour of day\n",
    "clean_data.groupby('hour')['trip_distance'].median().plot(kind='bar')\n",
    "plt.title(\"Median Trip Distance vs Hour of day\")\n",
    "plt.xlabel(\"Hour of Day\")\n",
    "plt.ylabel(\"Median Trip Distance (miles)\")"
   ]
  },
  {
   "cell_type": "code",
   "execution_count": 26,
   "id": "dea0ed51-d088-4744-87b2-a28ff7345644",
   "metadata": {},
   "outputs": [
    {
     "data": {
      "text/plain": [
       "Text(0, 0.5, 'Median Tip amount Distance (miles)')"
      ]
     },
     "execution_count": 26,
     "metadata": {},
     "output_type": "execute_result"
    },
    {
     "data": {
      "image/png": "[encoded data removed]",
      "text/plain": [
       "<Figure size 432x288 with 1 Axes>"
      ]
     },
     "metadata": {
      "needs_background": "light"
     },
     "output_type": "display_data"
    }
   ],
   "source": [
    "# median trip distance per hour of day\n",
    "clean_data.groupby('hour')['tip_amount'].mean().plot(kind='bar')\n",
    "plt.title(\"Median Tip amount vs Hour of day\")\n",
    "plt.xlabel(\"Hour of Day\")\n",
    "plt.ylabel(\"Median Tip amount Distance (miles)\")"
   ]
  },
  {
   "cell_type": "markdown",
   "id": "8a82271a-4aef-466e-9252-48d1a08cb6b9",
   "metadata": {},
   "source": [
    "### Findings"
   ]
  },
  {
   "cell_type": "markdown",
   "id": "73106858-ab70-4966-914c-abbee7d6d6a4",
   "metadata": {},
   "source": [
    "From the above graph we can say that \n",
    "- Based on the number of trips across hours of the day, Green Taxis cover more trips during day time compared with late night hours. Majority of the trips happens between 8am - 20pm,this is the timeframe when most people commute to work, travel in the city during the day and commute back home after work.  Several reasons to explain less trips during late night hours maybe : \n",
    "    - less demand during night hours \n",
    "    - less Green Taxi driver available during night hours \n",
    "    - people prefer uber/lyft etc. regarding safety concerns\n",
    "- Median trip distance reaches the highest during the morning hours (5,6am). People usually get up early to travel long distance in green taxis for work or going to airport etc.\n",
    "- Median tip amount also reaches the highest during the morning hours (5,6am). Maybe there is a decent relation between trip distance and tip amount and we could consider add to the model.\n"
   ]
  },
  {
   "cell_type": "markdown",
   "id": "9aea87a4-e091-4a17-b0bf-4de46aa57c92",
   "metadata": {},
   "source": [
    "## 4. The taxi drivers want to know what kind of trip yields better tips. Can you build a model for them and explain the model?"
   ]
  },
  {
   "cell_type": "markdown",
   "id": "734be08d-2635-425d-becc-6865890dbd0a",
   "metadata": {},
   "source": [
    "Better tips not only means higher tip amount, but also relatively higher proportion when compared with total_fee of a trip. Therefore, I derived the tip_percentage variable as `tip_amount * 100 /total_amount` and use it as the response variable of the model. <br>\n",
    "Since the response variable is continuous, I will build a Multivariable linear regression model to solve this problem.<br>\n",
    "Since the tip of cash payment is not included (unknown) in this dataset, I will remove those records with a payment code of 2. The total data records available for prediction model is 500,402\n"
   ]
  },
  {
   "cell_type": "code",
   "execution_count": 30,
   "id": "bfcebc26-ae6b-47bc-862b-9058d50b226b",
   "metadata": {},
   "outputs": [],
   "source": [
    "clean_data['tip_p'] = clean_data['tip_amount']*100/clean_data['total_amount']"
   ]
  },
  {
   "cell_type": "code",
   "execution_count": 31,
   "id": "d21da8f2-f402-49f6-939d-75c47b2e3193",
   "metadata": {},
   "outputs": [],
   "source": [
    "inputdata = clean_data.copy()\n",
    "inputdata = inputdata[(inputdata['payment_type'] != 2)]"
   ]
  },
  {
   "cell_type": "code",
   "execution_count": 32,
   "id": "8515da97-6a5b-45d9-a55a-789e6817ad8b",
   "metadata": {},
   "outputs": [
    {
     "data": {
      "text/plain": [
       "500402"
      ]
     },
     "execution_count": 32,
     "metadata": {},
     "output_type": "execute_result"
    }
   ],
   "source": [
    "len(inputdata)"
   ]
  },
  {
   "cell_type": "markdown",
   "id": "cd54e4b7-4e91-409b-8c85-26b85ff485bb",
   "metadata": {},
   "source": [
    "For this tip_amount prediction model, all features in the dataset were considered candidate features for the model, except for `total_amount` and `tip_amount` since the response variable is derived based on them\n",
    "- `ehail_fee` contains null values for all records and `store_and_fwd_flag` is irrelevant to tip percentage,therefore removed from the input data"
   ]
  },
  {
   "cell_type": "code",
   "execution_count": 33,
   "id": "ca0a2683-5da7-412f-9a62-4a9f215b2f63",
   "metadata": {},
   "outputs": [],
   "source": [
    "inputdata.drop(columns=['store_and_fwd_flag', 'ehail_fee'],inplace = True)"
   ]
  },
  {
   "cell_type": "code",
   "execution_count": 34,
   "id": "175702dc-ed85-4358-a281-cb734a92f37b",
   "metadata": {},
   "outputs": [],
   "source": [
    "from sklearn.model_selection import train_test_split\n",
    "train, test = train_test_split(inputdata,test_size=0.3)"
   ]
  },
  {
   "cell_type": "code",
   "execution_count": 35,
   "id": "18db3b52-f7ef-4bb3-861b-2c25a4482bd3",
   "metadata": {},
   "outputs": [
    {
     "data": {
      "text/html": [
       "<style type=\"text/css\">\n",
       "#T_bc9c5_row0_col0, #T_bc9c5_row1_col1, #T_bc9c5_row2_col2, #T_bc9c5_row3_col3, #T_bc9c5_row4_col4 {\n",
       "  background-color: #b40426;\n",
       "  color: #f1f1f1;\n",
       "}\n",
       "#T_bc9c5_row0_col1, #T_bc9c5_row1_col0 {\n",
       "  background-color: #c83836;\n",
       "  color: #f1f1f1;\n",
       "}\n",
       "#T_bc9c5_row0_col2 {\n",
       "  background-color: #abc8fd;\n",
       "  color: #000000;\n",
       "}\n",
       "#T_bc9c5_row0_col3, #T_bc9c5_row1_col3 {\n",
       "  background-color: #3c4ec2;\n",
       "  color: #f1f1f1;\n",
       "}\n",
       "#T_bc9c5_row0_col4 {\n",
       "  background-color: #b1cbfc;\n",
       "  color: #000000;\n",
       "}\n",
       "#T_bc9c5_row1_col2 {\n",
       "  background-color: #b3cdfb;\n",
       "  color: #000000;\n",
       "}\n",
       "#T_bc9c5_row1_col4, #T_bc9c5_row4_col1 {\n",
       "  background-color: #dfdbd9;\n",
       "  color: #000000;\n",
       "}\n",
       "#T_bc9c5_row2_col0 {\n",
       "  background-color: #aac7fd;\n",
       "  color: #000000;\n",
       "}\n",
       "#T_bc9c5_row2_col1 {\n",
       "  background-color: #b2ccfb;\n",
       "  color: #000000;\n",
       "}\n",
       "#T_bc9c5_row2_col3, #T_bc9c5_row3_col0, #T_bc9c5_row3_col1, #T_bc9c5_row3_col2, #T_bc9c5_row3_col4, #T_bc9c5_row4_col3 {\n",
       "  background-color: #3b4cc0;\n",
       "  color: #f1f1f1;\n",
       "}\n",
       "#T_bc9c5_row2_col4, #T_bc9c5_row4_col2 {\n",
       "  background-color: #799cf8;\n",
       "  color: #f1f1f1;\n",
       "}\n",
       "#T_bc9c5_row4_col0 {\n",
       "  background-color: #afcafc;\n",
       "  color: #000000;\n",
       "}\n",
       "</style>\n",
       "<table id=\"T_bc9c5\">\n",
       "  <thead>\n",
       "    <tr>\n",
       "      <th class=\"blank level0\" >&nbsp;</th>\n",
       "      <th id=\"T_bc9c5_level0_col0\" class=\"col_heading level0 col0\" >fare_amount</th>\n",
       "      <th id=\"T_bc9c5_level0_col1\" class=\"col_heading level0 col1\" >trip_distance</th>\n",
       "      <th id=\"T_bc9c5_level0_col2\" class=\"col_heading level0 col2\" >tolls_amount</th>\n",
       "      <th id=\"T_bc9c5_level0_col3\" class=\"col_heading level0 col3\" >passenger_count</th>\n",
       "      <th id=\"T_bc9c5_level0_col4\" class=\"col_heading level0 col4\" >speed_mph</th>\n",
       "    </tr>\n",
       "  </thead>\n",
       "  <tbody>\n",
       "    <tr>\n",
       "      <th id=\"T_bc9c5_level0_row0\" class=\"row_heading level0 row0\" >fare_amount</th>\n",
       "      <td id=\"T_bc9c5_row0_col0\" class=\"data row0 col0\" >1.000000</td>\n",
       "      <td id=\"T_bc9c5_row0_col1\" class=\"data row0 col1\" >0.942113</td>\n",
       "      <td id=\"T_bc9c5_row0_col2\" class=\"data row0 col2\" >0.338407</td>\n",
       "      <td id=\"T_bc9c5_row0_col3\" class=\"data row0 col3\" >0.003868</td>\n",
       "      <td id=\"T_bc9c5_row0_col4\" class=\"data row0 col4\" >0.352350</td>\n",
       "    </tr>\n",
       "    <tr>\n",
       "      <th id=\"T_bc9c5_level0_row1\" class=\"row_heading level0 row1\" >trip_distance</th>\n",
       "      <td id=\"T_bc9c5_row1_col0\" class=\"data row1 col0\" >0.942113</td>\n",
       "      <td id=\"T_bc9c5_row1_col1\" class=\"data row1 col1\" >1.000000</td>\n",
       "      <td id=\"T_bc9c5_row1_col2\" class=\"data row1 col2\" >0.360400</td>\n",
       "      <td id=\"T_bc9c5_row1_col3\" class=\"data row1 col3\" >0.003339</td>\n",
       "      <td id=\"T_bc9c5_row1_col4\" class=\"data row1 col4\" >0.510952</td>\n",
       "    </tr>\n",
       "    <tr>\n",
       "      <th id=\"T_bc9c5_level0_row2\" class=\"row_heading level0 row2\" >tolls_amount</th>\n",
       "      <td id=\"T_bc9c5_row2_col0\" class=\"data row2 col0\" >0.338407</td>\n",
       "      <td id=\"T_bc9c5_row2_col1\" class=\"data row2 col1\" >0.360400</td>\n",
       "      <td id=\"T_bc9c5_row2_col2\" class=\"data row2 col2\" >1.000000</td>\n",
       "      <td id=\"T_bc9c5_row2_col3\" class=\"data row2 col3\" >-0.002029</td>\n",
       "      <td id=\"T_bc9c5_row2_col4\" class=\"data row2 col4\" >0.193325</td>\n",
       "    </tr>\n",
       "    <tr>\n",
       "      <th id=\"T_bc9c5_level0_row3\" class=\"row_heading level0 row3\" >passenger_count</th>\n",
       "      <td id=\"T_bc9c5_row3_col0\" class=\"data row3 col0\" >0.003868</td>\n",
       "      <td id=\"T_bc9c5_row3_col1\" class=\"data row3 col1\" >0.003339</td>\n",
       "      <td id=\"T_bc9c5_row3_col2\" class=\"data row3 col2\" >-0.002029</td>\n",
       "      <td id=\"T_bc9c5_row3_col3\" class=\"data row3 col3\" >1.000000</td>\n",
       "      <td id=\"T_bc9c5_row3_col4\" class=\"data row3 col4\" >0.000549</td>\n",
       "    </tr>\n",
       "    <tr>\n",
       "      <th id=\"T_bc9c5_level0_row4\" class=\"row_heading level0 row4\" >speed_mph</th>\n",
       "      <td id=\"T_bc9c5_row4_col0\" class=\"data row4 col0\" >0.352350</td>\n",
       "      <td id=\"T_bc9c5_row4_col1\" class=\"data row4 col1\" >0.510952</td>\n",
       "      <td id=\"T_bc9c5_row4_col2\" class=\"data row4 col2\" >0.193325</td>\n",
       "      <td id=\"T_bc9c5_row4_col3\" class=\"data row4 col3\" >0.000549</td>\n",
       "      <td id=\"T_bc9c5_row4_col4\" class=\"data row4 col4\" >1.000000</td>\n",
       "    </tr>\n",
       "  </tbody>\n",
       "</table>\n"
      ],
      "text/plain": [
       "<pandas.io.formats.style.Styler at 0xffff602e80d0>"
      ]
     },
     "execution_count": 35,
     "metadata": {},
     "output_type": "execute_result"
    }
   ],
   "source": [
    "## create a correlation matrix based on selected columns to avoid multicollinearity\n",
    "inputdata[['fare_amount','trip_distance','tolls_amount','passenger_count','speed_mph']].corr().style.background_gradient(cmap='coolwarm')"
   ]
  },
  {
   "cell_type": "code",
   "execution_count": 36,
   "id": "d17b80dc-5532-4f64-af74-d29eb1973ce2",
   "metadata": {},
   "outputs": [
    {
     "data": {
      "text/html": [
       "<table class=\"simpletable\">\n",
       "<caption>OLS Regression Results</caption>\n",
       "<tr>\n",
       "  <th>Dep. Variable:</th>          <td>tip_p</td>      <th>  R-squared:         </th>  <td>   0.057</td>  \n",
       "</tr>\n",
       "<tr>\n",
       "  <th>Model:</th>                   <td>OLS</td>       <th>  Adj. R-squared:    </th>  <td>   0.057</td>  \n",
       "</tr>\n",
       "<tr>\n",
       "  <th>Method:</th>             <td>Least Squares</td>  <th>  F-statistic:       </th>  <td>   1066.</td>  \n",
       "</tr>\n",
       "<tr>\n",
       "  <th>Date:</th>             <td>Sun, 01 May 2022</td> <th>  Prob (F-statistic):</th>   <td>  0.00</td>   \n",
       "</tr>\n",
       "<tr>\n",
       "  <th>Time:</th>                 <td>22:54:34</td>     <th>  Log-Likelihood:    </th> <td>-1.1863e+06</td>\n",
       "</tr>\n",
       "<tr>\n",
       "  <th>No. Observations:</th>      <td>350281</td>      <th>  AIC:               </th>  <td>2.373e+06</td> \n",
       "</tr>\n",
       "<tr>\n",
       "  <th>Df Residuals:</th>          <td>350260</td>      <th>  BIC:               </th>  <td>2.373e+06</td> \n",
       "</tr>\n",
       "<tr>\n",
       "  <th>Df Model:</th>              <td>    20</td>      <th>                     </th>      <td> </td>     \n",
       "</tr>\n",
       "<tr>\n",
       "  <th>Covariance Type:</th>      <td>nonrobust</td>    <th>                     </th>      <td> </td>     \n",
       "</tr>\n",
       "</table>\n",
       "<table class=\"simpletable\">\n",
       "<tr>\n",
       "               <td></td>                  <th>coef</th>     <th>std err</th>      <th>t</th>      <th>P>|t|</th>  <th>[0.025</th>    <th>0.975]</th>  \n",
       "</tr>\n",
       "<tr>\n",
       "  <th>Intercept</th>                   <td>    9.9039</td> <td>    0.079</td> <td>  124.717</td> <td> 0.000</td> <td>    9.748</td> <td>   10.059</td>\n",
       "</tr>\n",
       "<tr>\n",
       "  <th>C(VendorID)[T.2.0]</th>          <td>   -0.2703</td> <td>    0.031</td> <td>   -8.784</td> <td> 0.000</td> <td>   -0.331</td> <td>   -0.210</td>\n",
       "</tr>\n",
       "<tr>\n",
       "  <th>C(payment_type)[T.3.0]</th>      <td>  -14.2918</td> <td>    0.184</td> <td>  -77.824</td> <td> 0.000</td> <td>  -14.652</td> <td>  -13.932</td>\n",
       "</tr>\n",
       "<tr>\n",
       "  <th>C(payment_type)[T.4.0]</th>      <td>  -13.9645</td> <td>    0.205</td> <td>  -68.282</td> <td> 0.000</td> <td>  -14.365</td> <td>  -13.564</td>\n",
       "</tr>\n",
       "<tr>\n",
       "  <th>C(payment_type)[T.5.0]</th>      <td>  -14.2135</td> <td>    1.329</td> <td>  -10.694</td> <td> 0.000</td> <td>  -16.819</td> <td>  -11.608</td>\n",
       "</tr>\n",
       "<tr>\n",
       "  <th>C(RatecodeID)[T.2.0]</th>        <td>    1.3410</td> <td>    0.237</td> <td>    5.659</td> <td> 0.000</td> <td>    0.877</td> <td>    1.806</td>\n",
       "</tr>\n",
       "<tr>\n",
       "  <th>C(RatecodeID)[T.3.0]</th>        <td>   -2.1932</td> <td>    0.584</td> <td>   -3.752</td> <td> 0.000</td> <td>   -3.339</td> <td>   -1.048</td>\n",
       "</tr>\n",
       "<tr>\n",
       "  <th>C(RatecodeID)[T.4.0]</th>        <td>   -0.6502</td> <td>    0.538</td> <td>   -1.208</td> <td> 0.227</td> <td>   -1.705</td> <td>    0.405</td>\n",
       "</tr>\n",
       "<tr>\n",
       "  <th>C(RatecodeID)[T.5.0]</th>        <td>   -5.1099</td> <td>    0.157</td> <td>  -32.617</td> <td> 0.000</td> <td>   -5.417</td> <td>   -4.803</td>\n",
       "</tr>\n",
       "<tr>\n",
       "  <th>C(RatecodeID)[T.6.0]</th>        <td>    4.3930</td> <td>    7.158</td> <td>    0.614</td> <td> 0.539</td> <td>   -9.637</td> <td>   18.423</td>\n",
       "</tr>\n",
       "<tr>\n",
       "  <th>C(Borough)[T.Brooklyn]</th>      <td>    5.5631</td> <td>    0.071</td> <td>   78.811</td> <td> 0.000</td> <td>    5.425</td> <td>    5.701</td>\n",
       "</tr>\n",
       "<tr>\n",
       "  <th>C(Borough)[T.EWR]</th>           <td>    7.9425</td> <td>    0.588</td> <td>   13.517</td> <td> 0.000</td> <td>    6.791</td> <td>    9.094</td>\n",
       "</tr>\n",
       "<tr>\n",
       "  <th>C(Borough)[T.Manhattan]</th>     <td>    4.3814</td> <td>    0.070</td> <td>   62.677</td> <td> 0.000</td> <td>    4.244</td> <td>    4.518</td>\n",
       "</tr>\n",
       "<tr>\n",
       "  <th>C(Borough)[T.Queens]</th>        <td>    4.7581</td> <td>    0.072</td> <td>   66.191</td> <td> 0.000</td> <td>    4.617</td> <td>    4.899</td>\n",
       "</tr>\n",
       "<tr>\n",
       "  <th>C(Borough)[T.Staten Island]</th> <td>    2.2439</td> <td>    0.653</td> <td>    3.439</td> <td> 0.001</td> <td>    0.965</td> <td>    3.523</td>\n",
       "</tr>\n",
       "<tr>\n",
       "  <th>C(Borough)[T.Unknown]</th>       <td>    3.9069</td> <td>    0.275</td> <td>   14.196</td> <td> 0.000</td> <td>    3.367</td> <td>    4.446</td>\n",
       "</tr>\n",
       "<tr>\n",
       "  <th>C(weekend)[T.1]</th>             <td>    0.2050</td> <td>    0.026</td> <td>    7.820</td> <td> 0.000</td> <td>    0.154</td> <td>    0.256</td>\n",
       "</tr>\n",
       "<tr>\n",
       "  <th>fare_amount</th>                 <td>   -0.0437</td> <td>    0.001</td> <td>  -29.709</td> <td> 0.000</td> <td>   -0.047</td> <td>   -0.041</td>\n",
       "</tr>\n",
       "<tr>\n",
       "  <th>tolls_amount</th>                <td>    0.0924</td> <td>    0.014</td> <td>    6.504</td> <td> 0.000</td> <td>    0.065</td> <td>    0.120</td>\n",
       "</tr>\n",
       "<tr>\n",
       "  <th>speed_mph</th>                   <td>    0.0090</td> <td>    0.002</td> <td>    4.085</td> <td> 0.000</td> <td>    0.005</td> <td>    0.013</td>\n",
       "</tr>\n",
       "<tr>\n",
       "  <th>passenger_count</th>             <td>    0.0505</td> <td>    0.012</td> <td>    4.335</td> <td> 0.000</td> <td>    0.028</td> <td>    0.073</td>\n",
       "</tr>\n",
       "</table>\n",
       "<table class=\"simpletable\">\n",
       "<tr>\n",
       "  <th>Omnibus:</th>       <td>32380.137</td> <th>  Durbin-Watson:     </th>  <td>   1.999</td> \n",
       "</tr>\n",
       "<tr>\n",
       "  <th>Prob(Omnibus):</th>  <td> 0.000</td>   <th>  Jarque-Bera (JB):  </th> <td>192903.886</td>\n",
       "</tr>\n",
       "<tr>\n",
       "  <th>Skew:</th>           <td>-0.236</td>   <th>  Prob(JB):          </th>  <td>    0.00</td> \n",
       "</tr>\n",
       "<tr>\n",
       "  <th>Kurtosis:</th>       <td> 6.605</td>   <th>  Cond. No.          </th>  <td>1.20e+04</td> \n",
       "</tr>\n",
       "</table><br/><br/>Notes:<br/>[1] Standard Errors assume that the covariance matrix of the errors is correctly specified.<br/>[2] The condition number is large, 1.2e+04. This might indicate that there are<br/>strong multicollinearity or other numerical problems."
      ],
      "text/plain": [
       "<class 'statsmodels.iolib.summary.Summary'>\n",
       "\"\"\"\n",
       "                            OLS Regression Results                            \n",
       "==============================================================================\n",
       "Dep. Variable:                  tip_p   R-squared:                       0.057\n",
       "Model:                            OLS   Adj. R-squared:                  0.057\n",
       "Method:                 Least Squares   F-statistic:                     1066.\n",
       "Date:                Sun, 01 May 2022   Prob (F-statistic):               0.00\n",
       "Time:                        22:54:34   Log-Likelihood:            -1.1863e+06\n",
       "No. Observations:              350281   AIC:                         2.373e+06\n",
       "Df Residuals:                  350260   BIC:                         2.373e+06\n",
       "Df Model:                          20                                         \n",
       "Covariance Type:            nonrobust                                         \n",
       "===============================================================================================\n",
       "                                  coef    std err          t      P>|t|      [0.025      0.975]\n",
       "-----------------------------------------------------------------------------------------------\n",
       "Intercept                       9.9039      0.079    124.717      0.000       9.748      10.059\n",
       "C(VendorID)[T.2.0]             -0.2703      0.031     -8.784      0.000      -0.331      -0.210\n",
       "C(payment_type)[T.3.0]        -14.2918      0.184    -77.824      0.000     -14.652     -13.932\n",
       "C(payment_type)[T.4.0]        -13.9645      0.205    -68.282      0.000     -14.365     -13.564\n",
       "C(payment_type)[T.5.0]        -14.2135      1.329    -10.694      0.000     -16.819     -11.608\n",
       "C(RatecodeID)[T.2.0]            1.3410      0.237      5.659      0.000       0.877       1.806\n",
       "C(RatecodeID)[T.3.0]           -2.1932      0.584     -3.752      0.000      -3.339      -1.048\n",
       "C(RatecodeID)[T.4.0]           -0.6502      0.538     -1.208      0.227      -1.705       0.405\n",
       "C(RatecodeID)[T.5.0]           -5.1099      0.157    -32.617      0.000      -5.417      -4.803\n",
       "C(RatecodeID)[T.6.0]            4.3930      7.158      0.614      0.539      -9.637      18.423\n",
       "C(Borough)[T.Brooklyn]          5.5631      0.071     78.811      0.000       5.425       5.701\n",
       "C(Borough)[T.EWR]               7.9425      0.588     13.517      0.000       6.791       9.094\n",
       "C(Borough)[T.Manhattan]         4.3814      0.070     62.677      0.000       4.244       4.518\n",
       "C(Borough)[T.Queens]            4.7581      0.072     66.191      0.000       4.617       4.899\n",
       "C(Borough)[T.Staten Island]     2.2439      0.653      3.439      0.001       0.965       3.523\n",
       "C(Borough)[T.Unknown]           3.9069      0.275     14.196      0.000       3.367       4.446\n",
       "C(weekend)[T.1]                 0.2050      0.026      7.820      0.000       0.154       0.256\n",
       "fare_amount                    -0.0437      0.001    -29.709      0.000      -0.047      -0.041\n",
       "tolls_amount                    0.0924      0.014      6.504      0.000       0.065       0.120\n",
       "speed_mph                       0.0090      0.002      4.085      0.000       0.005       0.013\n",
       "passenger_count                 0.0505      0.012      4.335      0.000       0.028       0.073\n",
       "==============================================================================\n",
       "Omnibus:                    32380.137   Durbin-Watson:                   1.999\n",
       "Prob(Omnibus):                  0.000   Jarque-Bera (JB):           192903.886\n",
       "Skew:                          -0.236   Prob(JB):                         0.00\n",
       "Kurtosis:                       6.605   Cond. No.                     1.20e+04\n",
       "==============================================================================\n",
       "\n",
       "Notes:\n",
       "[1] Standard Errors assume that the covariance matrix of the errors is correctly specified.\n",
       "[2] The condition number is large, 1.2e+04. This might indicate that there are\n",
       "strong multicollinearity or other numerical problems.\n",
       "\"\"\""
      ]
     },
     "execution_count": 36,
     "metadata": {},
     "output_type": "execute_result"
    }
   ],
   "source": [
    "from statsmodels.formula.api import ols\n",
    "lm = ols('tip_p ~ C(VendorID) + C(payment_type) +fare_amount + C(RatecodeID)+ C(Borough) + tolls_amount + speed_mph + C(weekend)+ passenger_count', data=train).fit() \n",
    "lm.summary()"
   ]
  },
  {
   "cell_type": "code",
   "execution_count": 37,
   "id": "76b14836-71eb-40fa-844d-dde17c7db7a1",
   "metadata": {},
   "outputs": [
    {
     "name": "stdout",
     "output_type": "stream",
     "text": [
      "7.205656858718702\n"
     ]
    }
   ],
   "source": [
    "from statsmodels.tools.eval_measures import rmse\n",
    "predict_y =  lm.predict(test.iloc[: , :-1])\n",
    "rmse = rmse(test['tip_p'], predict_y)\n",
    "print(rmse)"
   ]
  },
  {
   "cell_type": "markdown",
   "id": "4eacfb4a-18d1-434d-97dc-05cc05ddbefa",
   "metadata": {},
   "source": [
    "I choose the above model as the final model for tip percentage prediction after going through a series of feature selections. I only include a subset of all available features to achieve a good balance between explanatory power and model simplicity.<br>\n",
    "Based on the above model summary, we can see that almost all variables are statistically significant. The p value of the model is also small and we could reject the null hypothesis and declear that this model is statistically significant. <br>\n",
    "The train test ratio is 7:3 and the model achieved a r2 of 5.7% and RMSE of 7 (meaning on average the predicted tip percentage will be ±7% of the actual percentage)<br>\n",
    "Based on the coefficient of variables, there are several characteristic of trips could generate higher tip percentage:\n",
    "- shorter distance/less fare_amount\n",
    "- more passengers\n",
    "- relatively higher speed_mph\n",
    "- picked up within Borough of Brooklyn or Newark Airport\n",
    "- happened during the weekend\n",
    "- more passengers\n",
    "- higher toll fee\n",
    "- have Creative Mobile Technologies meter\n"
   ]
  },
  {
   "cell_type": "markdown",
   "id": "4645ddfc-fa04-487c-b278-9988d6a8417c",
   "metadata": {},
   "source": [
    "## 5. Find an anomaly in the data and explain your findings."
   ]
  },
  {
   "cell_type": "markdown",
   "id": "e1cae6e2-5300-4b7c-8a9e-2dae9bd9e2a3",
   "metadata": {},
   "source": [
    "Some of the anomalies within the dataset I have already talked about during the data cleaning phase.\n",
    "for example : extremely long duration trip, high total-amount, some negative fee amount etc"
   ]
  },
  {
   "cell_type": "markdown",
   "id": "ce6698b5-ab30-44a5-821b-090ee7939179",
   "metadata": {},
   "source": [
    "One additional anomaly that I find on top of it is that: for green taxis (also known as Boro taxis), theoretically they are only allowed to pick up customers in outer boroughs (excluding John F. Kennedy International Airport and LaGuardia Airport unless arranged in advance) and in Manhattan above East 96th and West 110th Streets. Everywhere else is for “Yellow Taxis”. Also, Green taxis can drop passengers off anywhere, but can’t pick people from the yellow zones. <BR>\n",
    "\n",
    "However when I looked at the dataset, there are records that indicates pick-up locations within Yellow Zone and that accounts for of `23.9%` of the cleaned dataset.\n"
   ]
  },
  {
   "cell_type": "code",
   "execution_count": 39,
   "id": "d1048d3f-37bd-4e9b-ba58-f23d58112ced",
   "metadata": {},
   "outputs": [
    {
     "data": {
      "image/png": "[encoded data removed]",
      "text/plain": [
       "<Figure size 432x288 with 1 Axes>"
      ]
     },
     "metadata": {
      "needs_background": "light"
     },
     "output_type": "display_data"
    }
   ],
   "source": [
    "subset = round(inputdata.groupby('service_zone')['VendorID'].count()/len(inputdata),3)\n",
    "ax = subset.plot(kind='bar', title='Proportion across various pick-up zones', xlabel=i)\n",
    "ax.bar_label(ax.containers[0], label_type='edge')\n",
    "#plt.xlabel('Category of '+i , fontsize=13)\n",
    "plt.xticks(rotation = 360)\n",
    "plt.ylabel('Proportion')\n",
    "plt.yticks(fontsize=13)\n",
    "plt.box(False)"
   ]
  },
  {
   "cell_type": "markdown",
   "id": "c174e0b0-85f2-48d7-b456-09dc2511036d",
   "metadata": {},
   "source": [
    "It is probably because when Green taxi drivers drop passengers around lower manhattan, they probably want to pick up someone to go back up north and earn money instead of directly driving back to green zone."
   ]
  },
  {
   "cell_type": "markdown",
   "id": "6e423547-1e6a-4a1a-84b8-7edd50089988",
   "metadata": {},
   "source": [
    "## 6. Limitations and future directions\n",
    "- The Multivariable regression model does not achieve a satisfactory performance as measured by R2 and RMSE.Therefore, this model is not recommended to handle predictive tasks. However, beta coefficients could help educate taxi drivers and gain more tips.\n",
    "- Some extreme values disrupt the distribution. As I showed in the histogram of tip amount, a great proportion of passengers pay $0 tips. These 0 values greatly contribute to prediction errors and maybe driven by data quality issue - for example: tips paid in cash are not recorded \n",
    "- In this study I only leveraged the data of December 2016. Hence seasonality effects are not taken into consideration. At the same time, other information that are helpful for tip prediction is missing for example :demographic information about the passenger, past tipping history of the passenger, driver's rating, car condition etc"
   ]
  }
 ],
 "metadata": {
  "kernelspec": {
   "display_name": "Python 3 (ipykernel)",
   "language": "python",
   "name": "python3"
  },
  "language_info": {
   "codemirror_mode": {
    "name": "ipython",
    "version": 3
   },
   "file_extension": ".py",
   "mimetype": "text/x-python",
   "name": "python",
   "nbconvert_exporter": "python",
   "pygments_lexer": "ipython3",
   "version": "3.9.10"
  }
 },
 "nbformat": 4,
 "nbformat_minor": 5
}
